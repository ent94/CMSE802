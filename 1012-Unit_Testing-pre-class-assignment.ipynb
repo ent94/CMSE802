{
 "cells": [
  {
   "cell_type": "markdown",
   "metadata": {},
   "source": [
    "In order to successfully complete this assignment you must do the required reading, watch the provided videos and complete all instructions.  The embedded Google form must be entirely filled out and submitted on or before **11:59pm on Monday October 12**.  Students must come to class the next day prepared to discuss the material covered in this assignment. answer"
   ]
  },
  {
   "cell_type": "markdown",
   "metadata": {},
   "source": [
    "# Pre-class assignment: Unit Testing\n"
   ]
  },
  {
   "cell_type": "markdown",
   "metadata": {},
   "source": [
    "### Goals for today's pre-class assignment \n",
    "\n",
    "\n",
    "1. [2D Array Indexing](#2D_Array_Indexing)\n",
    "2. [Introduction to Unit Testing](#Introduction_to_Unit_Testing)\n"
   ]
  },
  {
   "cell_type": "markdown",
   "metadata": {},
   "source": [
    "---\n",
    "\n",
    "<a name=\"2D_Array_Indexing\"></a>\n",
    "\n",
    "# 1. 2D Array Indexing\n",
    "\n",
    "All memory in a computer is stored linearly with each location in memory given a sequential address.  I want you to think for a moment to understand how we take a linear list of numbers and turn it into a 2D array:\n",
    "\n",
    "In the following image you can see the relationship between a linear index and a imposed structure that we give it to represent the row and column of the array. We will set up the problem similar to a checker board, such that each grid has a linear label, an index of row, and an index of column. \n",
    "\n",
    "<img src=\"https://lh5.googleusercontent.com/tpc1tFPULkPDt1q03E1nPkllHRO60jYyL-rZWmiJLM0AQtVkm1-EF6Pf0yKrm6S5ifVxJ1knHLpVRv7Fsu_pP-rzrauVa2dp2DLrAx2iya9Jbqs2gRWJJ3J-uBqE=w740\" alt = \"Visual relationship between linear index and a 2D index\" width=600 />\n",
    "\n",
    "First, we will make functions that convert the incremental label of a grid point to it's corresponding row and column index. For example, in the above ($99 \\times 49$) grid the 99-th item is at row = 2 and col = 1 . "
   ]
  },
  {
   "cell_type": "markdown",
   "metadata": {},
   "source": [
    "&#9989; **<font color=red>DO THIS:</font>** Write a function named ```LabelToIndex``` which takes in three arguments (Number of rows, Number of column and the linear index).  The function should then return the row and column for that index. The following is a stub function to get you started:"
   ]
  },
  {
   "cell_type": "code",
   "execution_count": null,
   "metadata": {},
   "outputs": [],
   "source": [
    "def LabelToIndices(n_row, n_col, lab):\n",
    "    \"\"\"function for converting linear label of grid to indices of row and column\n",
    "    \n",
    "    Run the function with number of rows, number of columns and the index as input:\n",
    "    \n",
    "    Usage: \n",
    "    \n",
    "    >>> LabelToIndices(99, 49, 3675)\n",
    "    (75, 0)\n",
    "    \"\"\" \n",
    "    if (isinstance(n_row, int) == False or n_row < 0):\n",
    "        raise TypeError(\"The number of rows must be a positive integer\")\n",
    "    if (isinstance(n_col, int) == False or n_col < 0):\n",
    "        raise TypeError(\"The number of columns must be a positive integer\")\n",
    "    if (isinstance(lab, int) == False or lab < 0):\n",
    "        raise TypeError(\"The label must be a positive integer\")\n",
    "    if lab > ((n_row*n_col)-1):\n",
    "        raise ValueError(\"The label you have given is not within the bounds of the number of rows and columns you specified\")\n",
    "    return divmod(lab,n_col)"
   ]
  },
  {
   "cell_type": "code",
   "execution_count": null,
   "metadata": {},
   "outputs": [],
   "source": [
    "help(LabelToIndices)"
   ]
  },
  {
   "cell_type": "markdown",
   "metadata": {},
   "source": [
    "Let's test the ```LabelToIndices``` function for 3675-th grid. Print the index of row and column."
   ]
  },
  {
   "cell_type": "code",
   "execution_count": null,
   "metadata": {},
   "outputs": [],
   "source": [
    "LabelToIndices(99, 49, 3675)"
   ]
  },
  {
   "cell_type": "markdown",
   "metadata": {},
   "source": [
    "&#9989; **<font color=red>DO THIS:</font>** Using the following stub function as a guild write a function named ```LabelToIndex``` that converts the indices of row and column of a grid to the linear label. For example, the grid at row = 2 and col = 1 is labeled as the 99-th point."
   ]
  },
  {
   "cell_type": "code",
   "execution_count": null,
   "metadata": {},
   "outputs": [],
   "source": [
    "def IndicesToLabel(n_row, n_col, row, col):\n",
    "    \"\"\"function for converting row and column indices of a grid to linear label\n",
    "    \n",
    "    Usage:\n",
    "    \n",
    "    >>> IndicesToLabel(99, 49, 2,1)\n",
    "    99\n",
    "    \"\"\"\n",
    "    if (isinstance(n_row, int) == False or n_row < 0):\n",
    "        raise TypeError(\"The number of rows must be an integer\")\n",
    "    if (isinstance(n_col, int) == False or n_col < 0):\n",
    "        raise TypeError(\"The number of columns must be an integer\")\n",
    "    if (isinstance(col, int) == False or col < 0):\n",
    "        raise TypeError(\"The column location must be an integer\")\n",
    "    if (isinstance(row, int) == False or row < 0):\n",
    "        raise TypeError(\"The row location must be an integer\")\n",
    "    if row > n_row:\n",
    "        raise ValueError(\"The row given is larger than the number of rows specified\")\n",
    "    if col > n_col:\n",
    "        raise ValueError(\"The column given is larger than the number of columns specified\")\n",
    "    return (row*n_col)+col"
   ]
  },
  {
   "cell_type": "code",
   "execution_count": null,
   "metadata": {},
   "outputs": [],
   "source": [
    "IndicesToLabel(99, 49, 75, 0)"
   ]
  },
  {
   "cell_type": "markdown",
   "metadata": {},
   "source": [
    "---\n",
    "\n",
    "<a name=\"Introduction_to_Unit_Testing\"></a>\n",
    "\n",
    "# 2. Introduction to Unit Testing\n",
    "\n",
    "Unit tests are small tests of individual parts of your code.  Effective unit testing is absolutely necessary to grow a project past a few developers.  Ideally unit tests run after every major/minor change and provide a reality check that nothing is broken.  Good unit tests are hard to do and can take practice and time (which is not often where you want to spend your time).  That being said, if you know the basic format/syntax of some of the most common testing programs you can format your code to be ready for unit testing.  \n",
    "\n",
    "## unittest\n",
    "Lets start with the most basic unit test program built with python; ```unittest```. "
   ]
  },
  {
   "cell_type": "code",
   "execution_count": null,
   "metadata": {},
   "outputs": [],
   "source": [
    "import unittest\n",
    "# help(unittest)"
   ]
  },
  {
   "cell_type": "code",
   "execution_count": null,
   "metadata": {
    "scrolled": true
   },
   "outputs": [],
   "source": [
    "from IPython.display import YouTubeVideo\n",
    "YouTubeVideo(\"1Lfv5tUGsn8\",width=640,height=360, cc_load_policy=True)"
   ]
  },
  {
   "cell_type": "markdown",
   "metadata": {},
   "source": [
    "The following are a couple of unit tests for the ```LabelToIndices``` and ```LabelToIndices``` functions. **Note:** It is standard practice to name a unit test ```test_ + <function being tested>```. This naming standard allows for automated test using some libraries.\n",
    "\n",
    "\n",
    "&#9989; **<font color=red>DO THIS:</font>** Modify the code to add a few more tests.\n",
    "\n",
    "\n",
    "&#9989; **<font color=red>DO THIS:</font>** Temporarily modify the code to make a test fail."
   ]
  },
  {
   "cell_type": "code",
   "execution_count": null,
   "metadata": {},
   "outputs": [],
   "source": [
    "import unittest\n",
    "\n",
    "# Create a test case\n",
    "class TestLableToIndices(unittest.TestCase):\n",
    "    # Create the unit test\n",
    "    def test_LabelToIndices(self):\n",
    "        self.assertEqual((6,2), LabelToIndices(10, 20,  122))\n",
    "        self.assertEqual((75,0),LabelToIndices(99,49,3675))\n",
    "        self.assertEqual((2,1),LabelToIndices(99,49,99))\n",
    "    def test_IndicesToLabel(self):\n",
    "        # Test if 99,49,63,23 equals the output of 3110\n",
    "        self.assertEqual(3110, IndicesToLabel(99, 49, 63, 23))        \n",
    "        self.assertEqual(3675, IndicesToLabel(99,49,75,0))\n",
    "        self.assertEqual(99, IndicesToLabel(99,49,2,1))\n",
    "    def test_values(self):\n",
    "        self.assertRaises(ValueError,LabelToIndices,2,4,300)\n",
    "        self.assertRaises(ValueError,IndicesToLabel,1,2,10,1)\n",
    "        self.assertRaises(ValueError,IndicesToLabel,10,2,8,75)\n",
    "    def test_types(self):\n",
    "        self.assertRaises(TypeError,LabelToIndices,[12.2,12,8])\n",
    "        self.assertRaises(TypeError,LabelToIndices,[4,\"Things\",9])\n",
    "        self.assertRaises(TypeError,LabelToIndices,[6,7,(8,9)])\n",
    "        self.assertRaises(TypeError,IndicesToLabel,[\"Wooooo\",8,9])\n",
    "        self.assertRaises(TypeError,IndicesToLabel,[0,-6,9])\n",
    "        self.assertRaises(TypeError,IndicesToLabel,[0,1,[2,3,4,5]])"
   ]
  },
  {
   "cell_type": "markdown",
   "metadata": {},
   "source": [
    "We can run all of the unittests in a notebook using the following command:"
   ]
  },
  {
   "cell_type": "code",
   "execution_count": null,
   "metadata": {
    "scrolled": true
   },
   "outputs": [],
   "source": [
    "\n",
    "if __name__ == '__main__':\n",
    "    unittest.main(argv=['first-arg-is-ignored'], exit=False)"
   ]
  },
  {
   "cell_type": "markdown",
   "metadata": {},
   "source": [
    "## doctest\n",
    "\n",
    "Another type of unit tester is ```doctest```.  This is a clever solution that includes the tests inside a function's docstring.  See the docstrings for ```LabelToIndices``` and ```LabelToIndices``` and note the \"usage\" section is one such test. The usage section, indicated by '>>>' at the beginning of the line, defines the function name and parameters used for test. Line below 'usage' line defines expected return values from the function.\n",
    "\n",
    "We can run all of the tests in a jupyter notebook using the following command:"
   ]
  },
  {
   "cell_type": "code",
   "execution_count": null,
   "metadata": {},
   "outputs": [],
   "source": [
    "import doctest\n",
    "doctest.testmod(verbose=True)"
   ]
  },
  {
   "cell_type": "markdown",
   "metadata": {},
   "source": [
    "&#9989; **<font color=red>DO THIS:</font>** Modify the docstrings for ```makeSchellingGrid``` and ```visualizeGrid``` functions to include some unit testing.  "
   ]
  },
  {
   "cell_type": "markdown",
   "metadata": {},
   "source": [
    "## pytest\n",
    "\n",
    "There are many (Many!) other unit testers out there. Fortunately, most of them work nicely together.  One of the best is ```pytest```. Unfortunately, I have not found a clean way to get ```pytest``` to work inside a jupyter notebook.  The options include:\n",
    "\n",
    "- Export the ipynb as a py file and run pytest on the resulting file.\n",
    "- Use one of the many jupyter plug-ins to enable pytest in jupyter (requires an install). \n",
    "\n",
    "Here is an brief introduction video to ```pytest``` (included with anaconda) to give you a basic idea. \n"
   ]
  },
  {
   "cell_type": "code",
   "execution_count": null,
   "metadata": {},
   "outputs": [],
   "source": [
    "from IPython.display import YouTubeVideo\n",
    "YouTubeVideo(\"_xoCujgdFgk\",width=640,height=360, start=14, cc_load_policy=True)"
   ]
  },
  {
   "cell_type": "markdown",
   "metadata": {},
   "source": [
    "Although it dosn't work great with Jupyter notebooks PyTest is my prefered unit testing platform and should be used for your class projects. "
   ]
  },
  {
   "cell_type": "markdown",
   "metadata": {},
   "source": [
    "----\n",
    "<a name=\"T5\"></a>\n",
    "# 5. Assignment wrap-up\n",
    "\n",
    "Please fill out the form that appears when you run the code below.  **You must completely fill this out in order to receive credit for the assignment!**\n",
    "\n",
    "[Direct Link to Google Form](https://cmse.msu.edu/cmse802-pc-survey)\n",
    "\n",
    "\n",
    "If you have trouble with the embedded form, please make sure you log on with your MSU google account at [googleapps.msu.edu](https://googleapps.msu.edu) and then click on the direct link above."
   ]
  },
  {
   "cell_type": "markdown",
   "metadata": {},
   "source": [
    "&#9989; **<font color=red>Assignment-Specific QUESTION:</font>** What are the pros/cons for using unittest, doctest and pytest?  Does it make sense to use more than one in your project?"
   ]
  },
  {
   "cell_type": "markdown",
   "metadata": {},
   "source": [
    "Put your answer to the above question here"
   ]
  },
  {
   "cell_type": "markdown",
   "metadata": {},
   "source": [
    "&#9989; **<font color=red>QUESTION:</font>**  Summarize what you did in this assignment."
   ]
  },
  {
   "cell_type": "markdown",
   "metadata": {},
   "source": [
    "Put your answer to the above question here"
   ]
  },
  {
   "cell_type": "markdown",
   "metadata": {},
   "source": [
    "&#9989; **<font color=red>QUESTION:</font>**  What questions do you have, if any, about any of the topics discussed in this assignment after working through the jupyter notebook?"
   ]
  },
  {
   "cell_type": "markdown",
   "metadata": {},
   "source": [
    "Put your answer to the above question here"
   ]
  },
  {
   "cell_type": "markdown",
   "metadata": {},
   "source": [
    "&#9989; **<font color=red>QUESTION:</font>**  How well do you feel this assignment helped you to achieve a better understanding of the above mentioned topic(s)?"
   ]
  },
  {
   "cell_type": "markdown",
   "metadata": {},
   "source": [
    "Put your answer to the above question here"
   ]
  },
  {
   "cell_type": "markdown",
   "metadata": {},
   "source": [
    "&#9989; **<font color=red>QUESTION:</font>** What was the **most** challenging part of this assignment for you? "
   ]
  },
  {
   "cell_type": "markdown",
   "metadata": {},
   "source": [
    "Put your answer to the above question here"
   ]
  },
  {
   "cell_type": "markdown",
   "metadata": {},
   "source": [
    "&#9989; **<font color=red>QUESTION:</font>** What was the **least** challenging part of this assignment for you? "
   ]
  },
  {
   "cell_type": "markdown",
   "metadata": {},
   "source": [
    "Put your answer to the above question here"
   ]
  },
  {
   "cell_type": "markdown",
   "metadata": {},
   "source": [
    "&#9989; **<font color=red>QUESTION:</font>**  What kind of additional questions or support, if any, do you feel you need to have a better understanding of the content in this assignment?"
   ]
  },
  {
   "cell_type": "markdown",
   "metadata": {},
   "source": [
    "Put your answer to the above question here"
   ]
  },
  {
   "cell_type": "markdown",
   "metadata": {},
   "source": [
    "&#9989; **<font color=red>QUESTION:</font>**  Do you have any further questions or comments about this material, or anything else that's going on in class?"
   ]
  },
  {
   "cell_type": "markdown",
   "metadata": {},
   "source": [
    "Put your answer to the above question here"
   ]
  },
  {
   "cell_type": "markdown",
   "metadata": {},
   "source": [
    "&#9989; **<font color=red>QUESTION:</font>** Approximately how long did this pre-class assignment take?"
   ]
  },
  {
   "cell_type": "markdown",
   "metadata": {},
   "source": [
    "Put your answer to the above question here"
   ]
  },
  {
   "cell_type": "code",
   "execution_count": null,
   "metadata": {},
   "outputs": [],
   "source": [
    "from IPython.display import HTML\n",
    "HTML(\n",
    "\"\"\"\n",
    "<iframe \n",
    "\tsrc=\"https://cmse.msu.edu/cmse802-pc-survey?embedded=true\" \n",
    "\twidth=\"100%\" \n",
    "\theight=\"1200px\" \n",
    "\tframeborder=\"0\" \n",
    "\tmarginheight=\"0\" \n",
    "\tmarginwidth=\"0\">\n",
    "\tLoading...\n",
    "</iframe>\n",
    "\"\"\"\n",
    ")"
   ]
  },
  {
   "cell_type": "markdown",
   "metadata": {},
   "source": [
    "---------\n",
    "### Congratulations, we're done!\n",
    "\n",
    "To get credit for this assignment you must fill out and submit the above Google From on or before the assignment due date."
   ]
  },
  {
   "cell_type": "markdown",
   "metadata": {},
   "source": [
    "### Course Resources:\n",
    "\n",
    "\n",
    "- [Website](https://msu-cmse-courses.github.io/cmse802-f20-student/)\n",
    "- [ZOOM](https://msu.zoom.us/j/97272546850)\n",
    "- [Syllabus](https://docs.google.com/document/d/e/2PACX-1vT9Wn11y0ECI_NAUl_2NA8V5jcD8dXKJkqUSWXjlawgqr2gU5hII3IsE0S8-CPd3W4xsWIlPAg2YW7D/pub)\n",
    "- [Schedule](https://docs.google.com/spreadsheets/d/e/2PACX-1vQRAm1mqJPQs1YSLPT9_41ABtywSV2f3EWPon9szguL6wvWqWsqaIzqkuHkSk7sea8ZIcIgZmkKJvwu/pubhtml?gid=2142090757&single=true)\n",
    "\n"
   ]
  },
  {
   "cell_type": "markdown",
   "metadata": {},
   "source": [
    "Written by Dirk Colbry, Michigan State University\n",
    "<a rel=\"license\" href=\"http://creativecommons.org/licenses/by-nc/4.0/\"><img alt=\"Creative Commons License\" style=\"border-width:0\" src=\"https://i.creativecommons.org/l/by-nc/4.0/88x31.png\" /></a><br />This work is licensed under a <a rel=\"license\" href=\"http://creativecommons.org/licenses/by-nc/4.0/\">Creative Commons Attribution-NonCommercial 4.0 International License</a>."
   ]
  },
  {
   "cell_type": "markdown",
   "metadata": {},
   "source": [
    "----"
   ]
  }
 ],
 "metadata": {
  "kernelspec": {
   "display_name": "Python 3",
   "language": "python",
   "name": "python3"
  },
  "language_info": {
   "codemirror_mode": {
    "name": "ipython",
    "version": 3
   },
   "file_extension": ".py",
   "mimetype": "text/x-python",
   "name": "python",
   "nbconvert_exporter": "python",
   "pygments_lexer": "ipython3",
   "version": "3.8.3"
  }
 },
 "nbformat": 4,
 "nbformat_minor": 4
}
