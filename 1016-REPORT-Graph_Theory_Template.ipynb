{
 "cells": [
  {
   "cell_type": "markdown",
   "metadata": {},
   "source": [
    "# <center>Using Graph Theory in Chemistry Education Research</center>\n",
    "\n",
    "<center>by Emily Thomas</center>"
   ]
  },
  {
   "cell_type": "markdown",
   "metadata": {},
   "source": [
    "---"
   ]
  },
  {
   "cell_type": "markdown",
   "metadata": {},
   "source": [
    "Graph theory can take an interesting form when applied to studying how people learn by studying their social networks. These studies can examine how the network graphs change over time in a classroom and persist across semesters in different classes. When looking at groups of people, we can start to see networks of how people interact with each other. Tracking how students are interacting with each other can reveal insightful information about the relation between student performance and the networks they participate in. Social networks, the mapping of relations between nodes, provide valuable information about interactions and behaviors within a group$.^{1}$ While social network analysis (SNA) can be used in many fields, this type of study can be used to gain a deeper understanding of study habits and learning trends in the classroom$.^{2}$ Social interactions have a weighty impact on student behavior and studying these interactions sheds light on how student interactions change over time and students influence each other’s behavior$.^{3}$ This study specifically looks at the ties between students in a small general chemistry course over the course of a semester. Through a self-reporting survey administered twice during the semester, students stated who whom they were studying and how often they were studying for class with this other person$.^{3}$ The students were also asked to report on how much time they spent studying alone, with classmates, and with others who were not registered for the course, like instructors, graduate assistants, undergraduate assistants, tutors, etc. Using SNA methods, this data unlocks information about how networks change over time and how students influence each other’s study habits.  \n",
    "### Longitudinal Network Studies ###\n",
    "When comparing a social network of students at the beginning of the semester versus at the end, the network can be exceedingly different. Factors including number of ties, density, and actor degree can be used to examine the empirical differences in the networks. These factors tell how well a student is connected individually, how connected the network is as a whole, and how many nominations were made.4 Most data collected about a network can be used to describe it in a numerical fashion. Ideally, a network of students studying together would grow in ties over time and these ties would become stronger. Students would therefore be studying with more classmates, more often which is generally better for student understanding as a whole.  \n",
    "Networks can also be compared in a more qualitative manner by using a sociogram. A sociogram visually depicts the students and their nominated study partners$.^{1}$ Sociograms can be modified to emphasize different attributes of the data at both the node and edge levels$.^{5}$ Nodes can be modified in shape, color, outline, label, etc. to show characteristics of the actors. For instance, it may be helpful to show the section of each student by matching a section with a color of node. Edges can also be modified to show information about the strength or direction of ties. There may be some piece of data collected that may serve well as a weight for how strong the ties are and this can be represented by the width of the edge$.^{5}$ It can also be useful to note who nominated who in the network as well using arrowheads on the edges to represent a directional tie. Using these visual cues helps the reader to follow along with key features of the data in an easy to manage manner.  \n",
    "### Bridge Courses in STEM ###  \n",
    "In STEM majors, students can often feel alone or disconnected from their peers with a strong sense of make it or break it competition, especially when they already feel under prepared for a course. This often causes students who do not feel connected to their peers or major to leave their chosen STEM field for another area$.^{6}$ To help students better prepare for their futures in STEM, schools will often add a bridge course to help students transition from high school learning to the college environment. These courses not only help the students to bridge their knowledge from high school to college, but also help the students to build study groups and connections with their peers that can often carry over throughout their STEM learning. Deeper connections are often cited by students as a reason they choose to stay in STEM even if they have other reservations about their major or educational chances in STEM$.^{6}$ If a strong bond can be cultivated between students early in their time at university, they will be more likely to remain in STEM and choose to graduate in a STEM related field.  \n",
    "    Network analysis is the perfect methodological tool to study this phenomenon because it can inform the researcher about what bonds form and change over time. Monitoring network development across a semester can help an instructor understand their classroom and help to build those deep connections between students to keep them interested and feeling at home in their STEM majors. By looking at the number of connections the students make along with how strong those connections are, instructors can cultivate a culture that will support the formation of student bonds. Network methods may also be used to see how students are influencing each other and taking advantage of the connections they have made in class.  \n",
    "### An Example ###  \n",
    "I have done some preliminary work in this area and thought it might be interesting to share my previous work. Two sociograms showing the students’ study networks over time are shown below."
   ]
  },
  {
   "attachments": {},
   "cell_type": "markdown",
   "metadata": {},
   "source": [
    "<img src=\"https://ibb.co/T0yvQGZ\" width=\"100%\">\n",
    "Image from: https://ibb.co/T0yvQGZ"
   ]
  },
  {
   "cell_type": "markdown",
   "metadata": {},
   "source": [
    "The size of the nodes represents the number of study partners and the warmer the color the longer the student reported they spent studying for their chemistry class. Each grey arrow shows a reported study partner with the arrow showing the direction of the nomination. The arrows are also weighted for the thickness to represent the strength of the nomination as the frequency with which it was reported the students studied together. (However, this is hard to see on the small scale as these sociograms were produced to be used on a poster where they were blown up and this information was visible.)  \n",
    "At the end of the semester, in a very qualitative manner, you can see that there are more grey lines demonstrating more connections between students at the end of the semester which would generally be expected as well as the average strength of the connection increases as well. The students were all generally studying more and reporting more study partners at the end of the semester. An interesting find in this data is how students influence each other’s study habits. When taking into consideration prior study behaviors and student’s reported connections and weights as exposure, students seemingly strongly influence each other’s study habits. This model is made to predict the students total study time at the end of the semester, $y_{it}$, using the summative values of the students' interactions at the beginning of the semester weighted by the strength of the nomination. This means that the model takes into account the belief of the nominated study partner at $t-1$ and weights it using the reported strength of nomination. These values are then summed for each student, taking into consideration that students are affected by all of those around them, not just an average interaction, to get an exposure term. This term is considered the exposure of each student. This value is then correlated with the student’s study behavior at time $t-1$ to predict the level of influence a student experiences from their peers.\n",
    "  \n",
    "$$y_{it}= 0.4383\\sum_{i'=1}^{n}w_{ii'_{t-1\\rightarrow t}}y_{i'_{t-1}}+0.262y_{i_{t-1}}+0.445$$\n",
    "<center> Equation 1. Influence model for predicting total study time of students.</center>  \n",
    "    \n",
    "Following the model as shown as Equation 1 below, it can be seen that when students are reporting their total amount of study time, it fits into a statistically significant, $p=0.0003954$, influence model where students who study more often are likely to influence their peers to do so as well. This is shown in the values seen as coefficients of the exposure and prior behavior terms. The ratio of exposure to prior behavior in this case $1.67$ which is highly unusual for adults. Often this ratio is below one, but here the ratio is much higher suggesting a high level of influence between the students encouraging each other to study. When deciding on this model, other factors like: section, gender, ethnicity, in degree, out degree, GPA, and course grade, were tested to see if they decreased the error and improved the statistical significance, but each of these models did not work as well as the simple model using just the exposure and prior behavior. Combinations of these values were added into the model and again did not perform as well as the model presented in this paper. It seems that students are simply likely to influence each other to study."
   ]
  },
  {
   "cell_type": "markdown",
   "metadata": {},
   "source": [
    "---\n",
    "# References\n",
    "1. Kadushin, C., Understanding Social Networks: Theories, Concepts, and Findings  Oxford  2012.\n",
    "2. Grunspan, D. Z.; Wiggins, B. L.; Goodreau, S. M., Understanding Classrooms through Social Network Analysis: A Primer for Social Network Analysis in Education Research. CBE—Life Sciences Education 2014, 13 (2), 167-178.\n",
    "3. Bruun, J.; Brewe, E., Talking and learning physics: Predicting future grades from network measures and Force Concept Inventory pretest scores. Physical Review Special Topics - Physics Education Research 2013, 9 (2), 020109.\n",
    "4. Yousefi Nooraie, R.; Sale, J. E. M.; Marin, A.; Ross, L. E., Social Network Analysis: An Example of Fusion Between Quantitative and Qualitative Methods. Journal of Mixed Methods Research 2018, 14 (1), 110-124.\n",
    "5. Borgatti, S. P.; Mehra, A.; Brass, D. J.; Labianca, G., Network Analysis in the Social Sciences. Science 2009, 323 (5916), 892-895.\n",
    "6. Seymour, E.; Hunter, A.-B., Talking about Leaving Revisited  Springer International Publishing: 2019; p 528.\n"
   ]
  },
  {
   "cell_type": "markdown",
   "metadata": {},
   "source": [
    "---"
   ]
  }
 ],
 "metadata": {
  "anaconda-cloud": {},
  "kernelspec": {
   "display_name": "Python 3",
   "language": "python",
   "name": "python3"
  },
  "language_info": {
   "codemirror_mode": {
    "name": "ipython",
    "version": 3
   },
   "file_extension": ".py",
   "mimetype": "text/x-python",
   "name": "python",
   "nbconvert_exporter": "python",
   "pygments_lexer": "ipython3",
   "version": "3.7.2"
  }
 },
 "nbformat": 4,
 "nbformat_minor": 1
}
