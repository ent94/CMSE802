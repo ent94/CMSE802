{
 "cells": [
  {
   "cell_type": "markdown",
   "metadata": {},
   "source": [
    "In order to successfully complete this assignment you need to participate both individually and in groups during class on **Thursday October 29**."
   ]
  },
  {
   "cell_type": "markdown",
   "metadata": {},
   "source": [
    "# In-Class Assignment: Instructor template\n",
    "\n",
    "\n",
    "<img alt=\"Flow diagram of thypical classification workflow\" src=\"https://www.researchgate.net/profile/Inigo_Goiri/publication/221561415/figure/fig1/AS:393974662615051@1470942287791/Supervised-Machine-Learning-Schema.png\">\n",
    "\n",
    "Figure From: https://www.researchgate.net/publication/221561415_Towards_energy-aware_scheduling_in_data_centers_using_machine_learning"
   ]
  },
  {
   "cell_type": "markdown",
   "metadata": {},
   "source": [
    "### Agenda for today's class (80 minutes)\n",
    "\n",
    "1. [(20 minutes) Pre-class Assignment Review](#class_Assignment_Review)\n",
    "2. [(20 minutes) Machine Learning Rules of thumb](#Machine_Learning_Rules_of_thumb)\n",
    "3. [(40 minutes) Example Application: The Skin Cancer data set](#The_cancer_data_set)"
   ]
  },
  {
   "cell_type": "markdown",
   "metadata": {},
   "source": [
    "----\n",
    "<a name=\"Pre-class_Assignment_Review\"></a>\n",
    "# 1. Pre-class Assignment Review\n",
    "\n",
    "\n",
    "* [1028--ML-pre-class-assignment](1028--ML-pre-class-assignment.ipynb)\n"
   ]
  },
  {
   "cell_type": "markdown",
   "metadata": {},
   "source": [
    "---\n",
    "<a name=\"Machine_Learning_Rules_of_thumb\"></a>\n",
    "\n",
    "\n",
    "# 2. Machine Learning Rules of thumb\n",
    "\n",
    "- [Ugly duckling Theorem](https://en.wikipedia.org/wiki/Ugly_duckling_theorem)\n",
    "- [Curse of Dimentionality](https://en.wikipedia.org/wiki/Curse_of_dimensionality)\n"
   ]
  },
  {
   "cell_type": "markdown",
   "metadata": {},
   "source": [
    "&#9989; **<font color=red>DO THIS:</font>** The above two properties can dominate how machine learning can be used. Briefly review both and discuss with your group how you think they relate to Machine Learning. Be prepaired to discuss with the rest of the class. "
   ]
  },
  {
   "cell_type": "markdown",
   "metadata": {},
   "source": [
    "I think the ugly duckling theory is actually really interesting! It is an easy to understand way to see the flaw in potential groupings and to remember that there can be nothing unbiased. No matter what you do there is a bias in science, which chemists have a hard time admitting lol, and this helps to acknowldge that."
   ]
  },
  {
   "cell_type": "markdown",
   "metadata": {},
   "source": [
    "---\n",
    "<a name=\"The_cancer_data_set\"></a>\n",
    "\n",
    "# 4. Example Application: The Skin Cancer data set\n",
    "\n",
    "In this example we will do the same calculation steps as in the pre-class assignment but using different dataset provided by scikit learn called the \"cancer\" dataset.  \n",
    "\n",
    "\n",
    "The following commands loads a dataset of measurements computed from a digitized image of a fine needle aspirate (FNA) of a breast mass.  "
   ]
  },
  {
   "cell_type": "code",
   "execution_count": null,
   "metadata": {},
   "outputs": [],
   "source": [
    "%matplotlib inline \n",
    "import matplotlib.pylab as plt\n",
    "import numpy as np\n",
    "import sympy as sym\n",
    "sym.init_printing()"
   ]
  },
  {
   "cell_type": "code",
   "execution_count": null,
   "metadata": {},
   "outputs": [],
   "source": [
    "from sklearn.datasets import load_breast_cancer\n",
    "cancer = load_breast_cancer()\n",
    "data = cancer.data\n",
    "target = cancer.target\n",
    "data.shape\n",
    "\n",
    "# Variables used for plotting\n",
    "labels=cancer.target\n",
    "cdict={0:'red',1:'green'}\n",
    "labl={0:'Malignant',1:'Benign'}\n",
    "marker={0:'*',1:'o'}\n",
    "alpha={0:.5, 1:.5}"
   ]
  },
  {
   "cell_type": "code",
   "execution_count": null,
   "metadata": {
    "scrolled": false
   },
   "outputs": [],
   "source": [
    "#print(cancer.DESCR)"
   ]
  },
  {
   "cell_type": "markdown",
   "metadata": {},
   "source": [
    "## Step A: Feature Extraction\n",
    "\n",
    "The Following is a plot of just the first two features:"
   ]
  },
  {
   "cell_type": "code",
   "execution_count": null,
   "metadata": {},
   "outputs": [],
   "source": [
    "plt.scatter(data[:,0],data[:,1], c=labels, s=30, cmap=plt.cm.rainbow);"
   ]
  },
  {
   "cell_type": "code",
   "execution_count": null,
   "metadata": {},
   "outputs": [],
   "source": [
    "dir(cancer)"
   ]
  },
  {
   "cell_type": "markdown",
   "metadata": {},
   "source": [
    "## Step B: Splitting the dataset for model into training and testing sets\n",
    "&#9989; **<font color=red>DO THIS:</font>** Split the iris data into a training and testing set like we did in the previous example:"
   ]
  },
  {
   "cell_type": "code",
   "execution_count": null,
   "metadata": {},
   "outputs": [],
   "source": [
    "from sklearn.model_selection import train_test_split\n",
    "\n",
    "feature_vectors = cancer.data\n",
    "class_labels = cancer.target\n",
    "\n",
    "train_vectors, test_vectors, train_labels, test_labels = train_test_split(feature_vectors, class_labels, test_size=0.25)\n",
    "\n",
    "print(len(train_vectors))\n",
    "print(len(test_vectors))"
   ]
  },
  {
   "cell_type": "markdown",
   "metadata": {},
   "source": [
    "## Step C: Select and train a Classifier using the training dataset\n",
    "\n",
    "&#9989; **<font color=red>DO THIS:</font>** Use the train_vectors set and train_labels to train a Support Vector Machine. *Hint:* You should be able to use the same code and parameters we used in the previous example: \n"
   ]
  },
  {
   "cell_type": "code",
   "execution_count": null,
   "metadata": {},
   "outputs": [],
   "source": [
    "from sklearn.model_selection import GridSearchCV\n",
    "from sklearn.svm import SVC\n",
    "\n",
    "print(\"Fitting the classifier to the training set\")\n",
    "param_grid = {'C': [1e3, 5e3, 1e4, 5e4, 1e5],\n",
    "              'gamma': [0.0001, 0.0005, 0.001, 0.005, 0.01, 0.1], }\n",
    "clf = GridSearchCV(SVC(kernel='rbf', class_weight='balanced'), param_grid)\n",
    "clf = clf.fit(train_vectors, train_labels)\n",
    "print(\"Best estimator found by grid search:\")\n",
    "print(clf.best_estimator_)"
   ]
  },
  {
   "cell_type": "markdown",
   "metadata": {},
   "source": [
    "## Step D. Show the results of the classification on the testing dataset\n",
    "\n",
    "&#9989; **<font color=red>DO THIS:</font>** Test the predictive capabilities of your SVM using the test_vectors and compare the predicted labels to the actual labels. "
   ]
  },
  {
   "cell_type": "code",
   "execution_count": null,
   "metadata": {},
   "outputs": [],
   "source": [
    "pred_labels = clf.predict(test_vectors)"
   ]
  },
  {
   "cell_type": "code",
   "execution_count": null,
   "metadata": {},
   "outputs": [],
   "source": [
    "feature_vectors = cancer.data\n",
    "class_labels = cancer.target\n",
    "percents=[]\n",
    "for j in range(100):\n",
    "    train_vectors, test_vectors, train_labels, test_labels = train_test_split(feature_vectors, class_labels, test_size=0.25)\n",
    "    param_grid = {'C': [1e3, 5e3, 1e4, 5e4, 1e5],'gamma': [0.0001, 0.0005, 0.001, 0.005, 0.01, 0.1], }\n",
    "    clf = GridSearchCV(SVC(kernel='rbf', class_weight='balanced'), param_grid)\n",
    "    clf = clf.fit(train_vectors, train_labels)\n",
    "    pred_labels = clf.predict(test_vectors)\n",
    "    tot=0\n",
    "    for i in range(len(pred_labels)):\n",
    "        if pred_labels[i] == test_labels[i]:\n",
    "            tot+=1\n",
    "        else:\n",
    "            continue\n",
    "    percents.append(tot/len(pred_labels)*100)\n",
    "    print(\"The percentage of correct labels for training set number \",j,\" is:\",tot/len(pred_labels)*100)\n",
    "print(sum(percents)/len(percents))"
   ]
  },
  {
   "cell_type": "markdown",
   "metadata": {},
   "source": [
    "-----\n",
    "### Congratulations, we're done!"
   ]
  },
  {
   "cell_type": "markdown",
   "metadata": {},
   "source": [
    "### Course Resources:\n",
    "\n",
    "\n",
    "- [Website](https://msu-cmse-courses.github.io/cmse802-f20-student/)\n",
    "- [ZOOM](https://msu.zoom.us/j/97272546850)\n",
    "- [Syllabus](https://docs.google.com/document/d/e/2PACX-1vT9Wn11y0ECI_NAUl_2NA8V5jcD8dXKJkqUSWXjlawgqr2gU5hII3IsE0S8-CPd3W4xsWIlPAg2YW7D/pub)\n",
    "- [Schedule](https://docs.google.com/spreadsheets/d/e/2PACX-1vQRAm1mqJPQs1YSLPT9_41ABtywSV2f3EWPon9szguL6wvWqWsqaIzqkuHkSk7sea8ZIcIgZmkKJvwu/pubhtml?gid=2142090757&single=true)\n",
    "\n",
    "\n"
   ]
  },
  {
   "cell_type": "markdown",
   "metadata": {},
   "source": [
    "Written by Dirk Colbry, Michigan State University\n",
    "<a rel=\"license\" href=\"http://creativecommons.org/licenses/by-nc/4.0/\"><img alt=\"Creative Commons License\" style=\"border-width:0\" src=\"https://i.creativecommons.org/l/by-nc/4.0/88x31.png\" /></a><br />This work is licensed under a <a rel=\"license\" href=\"http://creativecommons.org/licenses/by-nc/4.0/\">Creative Commons Attribution-NonCommercial 4.0 International License</a>."
   ]
  },
  {
   "cell_type": "markdown",
   "metadata": {},
   "source": [
    "----"
   ]
  }
 ],
 "metadata": {
  "kernelspec": {
   "display_name": "Python 3",
   "language": "python",
   "name": "python3"
  },
  "language_info": {
   "codemirror_mode": {
    "name": "ipython",
    "version": 3
   },
   "file_extension": ".py",
   "mimetype": "text/x-python",
   "name": "python",
   "nbconvert_exporter": "python",
   "pygments_lexer": "ipython3",
   "version": "3.8.3"
  }
 },
 "nbformat": 4,
 "nbformat_minor": 2
}
