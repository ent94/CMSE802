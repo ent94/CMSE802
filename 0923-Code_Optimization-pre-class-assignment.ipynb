{
 "cells": [
  {
   "cell_type": "markdown",
   "metadata": {},
   "source": [
    "In order to successfully complete this assignment you must do the required reading, watch the provided videos and complete all instructions.  The embedded survey form must be entirely filled out and submitted on or before **11:59pm on Wednesday September 23**.  Students must come to class the next day prepared to discuss the material covered in this assignment. answer"
   ]
  },
  {
   "cell_type": "markdown",
   "metadata": {},
   "source": [
    "# Pre-Class Assignment: Code Optimization\n",
    "\n",
    "## a.k.a. making your research go faster!!!"
   ]
  },
  {
   "cell_type": "markdown",
   "metadata": {},
   "source": [
    "# Goals for today's pre-class assignment \n",
    "\n",
    "</p>\n",
    "\n",
    "1. [Matrix Multiply Example](#Matrix_Multiply_Example)\n",
    "1. [How to build a Supercomputer](#How_to_build_a_Supercomputer)\n",
    "1. [Install required software](#Install_required_software)\n",
    "1. [Logging onto the HPCC](#Logging_onto_the_HPCC)\n",
    "1. [Using git on the HPCC](#Using_git_on_the_HPCC)\n",
    "1. [Assignment Wrap-up](#Assignment_wrap-up)"
   ]
  },
  {
   "cell_type": "markdown",
   "metadata": {},
   "source": [
    "---\n",
    "<a name=\"Matrix_Multiply_Example\"></a>\n",
    "# 1. Matrix Multiply Example\n",
    "\n",
    " The following is a simple implementation of a matrix multiply. Review the code try to understand what it is doing."
   ]
  },
  {
   "cell_type": "code",
   "execution_count": 1,
   "metadata": {},
   "outputs": [],
   "source": [
    "%matplotlib inline\n",
    "import matplotlib.pylab as plt\n",
    "import numpy as np\n",
    "import sympy as sp\n",
    "import random\n",
    "import time\n",
    "sp.init_printing(use_unicode=True)"
   ]
  },
  {
   "cell_type": "code",
   "execution_count": 2,
   "metadata": {},
   "outputs": [],
   "source": [
    "#simple matrix multiply (no numpy)\n",
    "def multiply(m1,m2):\n",
    "    m = len(m1)\n",
    "    d = len(m2)\n",
    "    n = len(m2[0])\n",
    "    if len(m1[0]) != d:\n",
    "        print(\"ERROR - inner dimentions not equal\")\n",
    "    result = [[0 for i in range(m)] for j in range(n)]\n",
    "    for i in range(0,m):\n",
    "        for j in range(0,n):\n",
    "            for k in range(0,d):\n",
    "                result[i][j] = result[i][j] + m1[i][k] * m2[k][j]\n",
    "    return result"
   ]
  },
  {
   "cell_type": "code",
   "execution_count": 3,
   "metadata": {},
   "outputs": [],
   "source": [
    "# Random generated 2d lists of lists that can be multiplied \n",
    "m = 4\n",
    "d = 10\n",
    "n = 4\n",
    "\n",
    "A = [[random.random() for i in range(d)] for j in range(m)]\n",
    "B = [[random.random() for i in range(n)] for j in range(d)]"
   ]
  },
  {
   "cell_type": "code",
   "execution_count": 4,
   "metadata": {
    "scrolled": true
   },
   "outputs": [
    {
     "name": "stdout",
     "output_type": "stream",
     "text": [
      "simple_answer = 0.00016021728515625 seconds\n"
     ]
    }
   ],
   "source": [
    "#Compute matrix multiply using your function\n",
    "start = time.time()\n",
    "\n",
    "simple_answer = multiply(A, B)\n",
    "simple_time = time.time()-start\n",
    "\n",
    "print('simple_answer =',simple_time,'seconds')"
   ]
  },
  {
   "cell_type": "markdown",
   "metadata": {},
   "source": [
    "Lets compare this to the numpy result:"
   ]
  },
  {
   "cell_type": "code",
   "execution_count": 5,
   "metadata": {},
   "outputs": [
    {
     "name": "stdout",
     "output_type": "stream",
     "text": [
      "np_answer = 0.0030455589294433594 seconds\n"
     ]
    }
   ],
   "source": [
    "#Compare to numpy result\n",
    "start = time.time()\n",
    "\n",
    "np_answer = np.matrix(A)*np.matrix(B)\n",
    "np_time = time.time()-start\n",
    "\n",
    "print('np_answer =',np_time,'seconds')\n"
   ]
  },
  {
   "cell_type": "markdown",
   "metadata": {},
   "source": [
    "For this example, numpy result are most likely slower than the simple result.  Think about why this might be.  We will discuss this later. "
   ]
  },
  {
   "cell_type": "markdown",
   "metadata": {},
   "source": [
    "&#9989; **<font color=red>DO THIS:</font>**  See if you can write a loop to do a scaling study for the above code.  Loop over the value of $n$ such that $n$ is 4, 16, 32, 64, 128 and 256.  For each iteration generate two random matrices (as above) with $m = d = n$. Then time the matrix multiply for the provided function and again for the numpy function. Graph the results as size of $n$ vs time.  "
   ]
  },
  {
   "cell_type": "code",
   "execution_count": 6,
   "metadata": {},
   "outputs": [
    {
     "name": "stdout",
     "output_type": "stream",
     "text": [
      "n 4\n",
      "simple_answer = 3.147125244140625e-05 seconds\n",
      "np_answer = 0.0003025531768798828 seconds\n",
      "n 16\n",
      "simple_answer = 0.0012805461883544922 seconds\n",
      "np_answer = 0.00010704994201660156 seconds\n",
      "n 32\n",
      "simple_answer = 0.009999275207519531 seconds\n",
      "np_answer = 0.0004210472106933594 seconds\n",
      "n 64\n",
      "simple_answer = 0.07521200180053711 seconds\n",
      "np_answer = 0.0005955696105957031 seconds\n",
      "n 128\n",
      "simple_answer = 0.6044666767120361 seconds\n",
      "np_answer = 0.0019345283508300781 seconds\n",
      "n 256\n",
      "simple_answer = 4.807276010513306 seconds\n",
      "np_answer = 0.008601188659667969 seconds\n"
     ]
    },
    {
     "data": {
      "image/png": "[encoded data removed]",
      "text/plain": [
       "<Figure size 432x288 with 1 Axes>"
      ]
     },
     "metadata": {
      "needs_background": "light"
     },
     "output_type": "display_data"
    }
   ],
   "source": [
    "my_times = []\n",
    "np_times = []\n",
    "for n in [4,16,32,64,128,256]:\n",
    "    A = [[random.random() for i in range(n)] for j in range(n)]\n",
    "    B = [[random.random() for i in range(n)] for j in range(n)]\n",
    "    start = time.time()\n",
    "    simple_answer = multiply(A, B)\n",
    "    simple_time = time.time()-start\n",
    "    my_times.append(simple_time)\n",
    "    start = time.time()\n",
    "    np_answer = np.matrix(A)*np.matrix(B)\n",
    "    np_time = time.time()-start\n",
    "    np_times.append(np_time)\n",
    "    print('n',n)\n",
    "    print('simple_answer =',simple_time,'seconds')\n",
    "    print('np_answer =',np_time,'seconds')\n",
    "    \n",
    "    \n",
    "en = [4,16,32,64,128,256]\n",
    "plt.title('Timing Study')\n",
    "plt.plot(en,my_times,label='My Function')\n",
    "plt.plot(en,np_times,label='Numpy Function')\n",
    "plt.xlabel('n value')\n",
    "plt.xticks(en)\n",
    "plt.ylabel('Time (s)')\n",
    "plt.legend()\n",
    "plt.show()"
   ]
  },
  {
   "cell_type": "markdown",
   "metadata": {},
   "source": [
    "&#9989; **<font color=red>DO THIS:</font>**  Explore the Internet for ways to speed up Python (There are a lot of them).  Save some of your search results in the cell below and come to class prepaired to discuss what you found."
   ]
  },
  {
   "cell_type": "markdown",
   "metadata": {},
   "source": [
    "https://wiki.python.org/moin/PythonSpeed/PerformanceTips"
   ]
  },
  {
   "cell_type": "markdown",
   "metadata": {},
   "source": [
    "----\n",
    "<a name=\"How_to_build_a_Supercomputer\"></a>\n",
    "# 2. How to build a Supercomputer\n",
    "In addition to making your code go faster we can use a faster computer...\n",
    "\n",
    "\n",
    "Your instructor submitted a request to get you an account on the MSU High Performance Computer (HPC).  The following videos try to explain the system and how to gain access.  We will be using these accounts in class. See if you can log in."
   ]
  },
  {
   "cell_type": "code",
   "execution_count": 7,
   "metadata": {
    "scrolled": false
   },
   "outputs": [
    {
     "data": {
      "image/jpeg": "[encoded data removed]",
      "text/html": [
       "\n",
       "        <iframe\n",
       "            width=\"640\"\n",
       "            height=\"360\"\n",
       "            src=\"https://www.youtube.com/embed/6oyoS-ddUH0?cc_load_policy=True\"\n",
       "            frameborder=\"0\"\n",
       "            allowfullscreen\n",
       "        ></iframe>\n",
       "        "
      ],
      "text/plain": [
       "<IPython.lib.display.YouTubeVideo at 0x2afb3bc4ae20>"
      ]
     },
     "execution_count": 7,
     "metadata": {},
     "output_type": "execute_result"
    }
   ],
   "source": [
    "from IPython.display import YouTubeVideo\n",
    "YouTubeVideo(\"6oyoS-ddUH0\",width=640,height=360, cc_load_policy=True)"
   ]
  },
  {
   "cell_type": "markdown",
   "metadata": {},
   "source": [
    "----\n",
    "<a name=\"Install_required_software\"></a>\n",
    "\n",
    "# 3. Install required software\n",
    "\n",
    "Normally, you need special software to log onto the MSU HPCC.  Sometimes this software is pre-installed on your computer, and sometimes it is not.  Fortunately the HPCC has a new interface called [OpenOnDemand](http://ondemand.hpcc.msu.edu/).  You can log into OpenOnDemand using your MSU netid and password (using Google MSU account) and you will get to a website interface that has everything you need to work on the HPCC.  Here is a video introducing you to OpenOnDemand:"
   ]
  },
  {
   "cell_type": "code",
   "execution_count": 8,
   "metadata": {
    "scrolled": true
   },
   "outputs": [
    {
     "data": {
      "image/jpeg": "[encoded data removed]",
      "text/html": [
       "\n",
       "        <iframe\n",
       "            width=\"640\"\n",
       "            height=\"360\"\n",
       "            src=\"https://www.youtube.com/embed/FMxa72hg3PA?cc_load_policy=True\"\n",
       "            frameborder=\"0\"\n",
       "            allowfullscreen\n",
       "        ></iframe>\n",
       "        "
      ],
      "text/plain": [
       "<IPython.lib.display.YouTubeVideo at 0x2afb63413760>"
      ]
     },
     "execution_count": 8,
     "metadata": {},
     "output_type": "execute_result"
    }
   ],
   "source": [
    "from IPython.display import YouTubeVideo\n",
    "YouTubeVideo(\"FMxa72hg3PA\",width=640,height=360, cc_load_policy=True)"
   ]
  },
  {
   "cell_type": "markdown",
   "metadata": {},
   "source": [
    "If you are at a university without OpenOnDemand you will have to install the software the \"old fasioned way\".  In order to access the HPC you would need an SSH client and optionally an X11 client (For graphics).\n",
    "\n",
    "- SSH and SCP client - pre-installed on Mac/Linux, Lots of options for Windows. Ex: [MobaXterm](https://mobaxterm.mobatek.net/) - \n",
    "- X11 client - [XQuartz](https://www.xquartz.org/) on Mac, pre-installed on Linux, Lots of options for Windows. Ex [MobaXterm](https://mobaxterm.mobatek.net/)\n",
    "/\n",
    "Note, there are a lot of options here. It is the responsibility of the student to make sure their software is running properly."
   ]
  },
  {
   "cell_type": "markdown",
   "metadata": {},
   "source": [
    "&#9989; **<font color=red>QUESTION:</font>** Are you able to log on to the HPCC and if not, where did you get stuck?"
   ]
  },
  {
   "cell_type": "markdown",
   "metadata": {},
   "source": [
    "Yes I am"
   ]
  },
  {
   "cell_type": "markdown",
   "metadata": {},
   "source": [
    "----\n",
    "\n",
    "<a name=\"Using_git_on_the_HPCC\"></a>\n",
    "# 5. Using git and Jupyter on the HPCC\n",
    "\n",
    "## Step 1:\n",
    "Log into one of the developer nodes using OpenOnDemand and clone the course git repository:\n",
    "\n",
    "```\n",
    "git clone https://gitlab.msu.edu/cmse802-f20/cmse802-f20\n",
    "\n",
    "```\n",
    "\n",
    "## Step 2:\n",
    "Go to the \"Interactive Applications\" and select \"Jupyter NOtebooks\".  For now just use the default settings and hit \"Launch\".  \n",
    "\n",
    "## Step 3:\n",
    "WHen the connection is made, click on the link for the Jupyter Notebook, navigate to the course website and open up todays assignment."
   ]
  },
  {
   "cell_type": "markdown",
   "metadata": {},
   "source": [
    "----\n",
    "<a name=\"Assignment_wrap-up\"></a>\n",
    "# 6. Assignment wrap-up\n",
    "\n",
    "Please fill out the form that appears when you run the code below.  **You must completely fill this out in order to receive credit for the assignment!**\n",
    "\n",
    "[Direct Link to Google Form](https://cmse.msu.edu/cmse802-pc-survey)\n",
    "\n",
    "\n",
    "If you have trouble with the embedded form, please make sure you log on with your MSU google account at [googleapps.msu.edu](https://googleapps.msu.edu) and then click on the direct link above."
   ]
  },
  {
   "cell_type": "markdown",
   "metadata": {},
   "source": [
    "&#9989; **<font color=red>Assignment-Specific QUESTION:</font>** Are you able to log on to the HPCC using OpenOnDemand , get the course repository cloned and open up a jupyter notebook?  If not, where did you get stuck?"
   ]
  },
  {
   "cell_type": "markdown",
   "metadata": {},
   "source": [
    "Put your answer to the above question here"
   ]
  },
  {
   "cell_type": "markdown",
   "metadata": {},
   "source": [
    "&#9989; **<font color=red>QUESTION:</font>**  Summarize what you did in this assignment."
   ]
  },
  {
   "cell_type": "markdown",
   "metadata": {},
   "source": [
    "Put your answer to the above question here"
   ]
  },
  {
   "cell_type": "markdown",
   "metadata": {},
   "source": [
    "&#9989; **<font color=red>QUESTION:</font>**  What questions do you have, if any, about any of the topics discussed in this assignment after working through the jupyter notebook?"
   ]
  },
  {
   "cell_type": "markdown",
   "metadata": {},
   "source": [
    "Put your answer to the above question here"
   ]
  },
  {
   "cell_type": "markdown",
   "metadata": {},
   "source": [
    "&#9989; **<font color=red>QUESTION:</font>**  How well do you feel this assignment helped you to achieve a better understanding of the above mentioned topic(s)?"
   ]
  },
  {
   "cell_type": "markdown",
   "metadata": {},
   "source": [
    "Put your answer to the above question here"
   ]
  },
  {
   "cell_type": "markdown",
   "metadata": {},
   "source": [
    "&#9989; **<font color=red>QUESTION:</font>** What was the **most** challenging part of this assignment for you? "
   ]
  },
  {
   "cell_type": "markdown",
   "metadata": {},
   "source": [
    "Put your answer to the above question here"
   ]
  },
  {
   "cell_type": "markdown",
   "metadata": {},
   "source": [
    "&#9989; **<font color=red>QUESTION:</font>** What was the **least** challenging part of this assignment for you? "
   ]
  },
  {
   "cell_type": "markdown",
   "metadata": {},
   "source": [
    "Put your answer to the above question here"
   ]
  },
  {
   "cell_type": "markdown",
   "metadata": {},
   "source": [
    "&#9989; **<font color=red>QUESTION:</font>**  What kind of additional questions or support, if any, do you feel you need to have a better understanding of the content in this assignment?"
   ]
  },
  {
   "cell_type": "markdown",
   "metadata": {},
   "source": [
    "Put your answer to the above question here"
   ]
  },
  {
   "cell_type": "markdown",
   "metadata": {},
   "source": [
    "&#9989; **<font color=red>QUESTION:</font>**  Do you have any further questions or comments about this material, or anything else that's going on in class?"
   ]
  },
  {
   "cell_type": "markdown",
   "metadata": {},
   "source": [
    "Put your answer to the above question here"
   ]
  },
  {
   "cell_type": "markdown",
   "metadata": {},
   "source": [
    "&#9989; **<font color=red>QUESTION:</font>** Approximately how long did this pre-class assignment take?"
   ]
  },
  {
   "cell_type": "markdown",
   "metadata": {},
   "source": [
    "Put your answer to the above question here"
   ]
  },
  {
   "cell_type": "code",
   "execution_count": 9,
   "metadata": {},
   "outputs": [
    {
     "data": {
      "text/html": [
       "\n",
       "<iframe \n",
       "\tsrc=\"https://cmse.msu.edu/cmse802-pc-survey?embedded=true\" \n",
       "\twidth=\"100%\" \n",
       "\theight=\"1200px\" \n",
       "\tframeborder=\"0\" \n",
       "\tmarginheight=\"0\" \n",
       "\tmarginwidth=\"0\">\n",
       "\tLoading...\n",
       "</iframe>\n"
      ],
      "text/plain": [
       "<IPython.core.display.HTML object>"
      ]
     },
     "execution_count": 9,
     "metadata": {},
     "output_type": "execute_result"
    }
   ],
   "source": [
    "from IPython.display import HTML\n",
    "HTML(\n",
    "\"\"\"\n",
    "<iframe \n",
    "\tsrc=\"https://cmse.msu.edu/cmse802-pc-survey?embedded=true\" \n",
    "\twidth=\"100%\" \n",
    "\theight=\"1200px\" \n",
    "\tframeborder=\"0\" \n",
    "\tmarginheight=\"0\" \n",
    "\tmarginwidth=\"0\">\n",
    "\tLoading...\n",
    "</iframe>\n",
    "\"\"\"\n",
    ")"
   ]
  },
  {
   "cell_type": "markdown",
   "metadata": {},
   "source": [
    "---------\n",
    "### Congratulations, we're done!\n",
    "\n",
    "To get credit for this assignment you must fill out and submit the above survey form on or before the assignment due date."
   ]
  },
  {
   "cell_type": "markdown",
   "metadata": {},
   "source": [
    "### Course Resources:\n",
    "\n",
    "\n",
    "- [Website](https://msu-cmse-courses.github.io/cmse802-f20-student/)\n",
    "- [ZOOM](https://msu.zoom.us/j/97272546850)\n",
    "- [Syllabus](https://docs.google.com/document/d/e/2PACX-1vT9Wn11y0ECI_NAUl_2NA8V5jcD8dXKJkqUSWXjlawgqr2gU5hII3IsE0S8-CPd3W4xsWIlPAg2YW7D/pub)\n",
    "- [Schedule](https://docs.google.com/spreadsheets/d/e/2PACX-1vQRAm1mqJPQs1YSLPT9_41ABtywSV2f3EWPon9szguL6wvWqWsqaIzqkuHkSk7sea8ZIcIgZmkKJvwu/pubhtml?gid=2142090757&single=true)\n",
    "\n"
   ]
  },
  {
   "cell_type": "markdown",
   "metadata": {},
   "source": [
    "Written by Dirk Colbry, Michigan State University\n",
    "<a rel=\"license\" href=\"http://creativecommons.org/licenses/by-nc/4.0/\"><img alt=\"Creative Commons License\" style=\"border-width:0\" src=\"https://i.creativecommons.org/l/by-nc/4.0/88x31.png\" /></a><br />This work is licensed under a <a rel=\"license\" href=\"http://creativecommons.org/licenses/by-nc/4.0/\">Creative Commons Attribution-NonCommercial 4.0 International License</a>."
   ]
  }
 ],
 "metadata": {
  "anaconda-cloud": {},
  "kernelspec": {
   "display_name": "Python 3",
   "language": "python",
   "name": "python3"
  },
  "language_info": {
   "codemirror_mode": {
    "name": "ipython",
    "version": 3
   },
   "file_extension": ".py",
   "mimetype": "text/x-python",
   "name": "python",
   "nbconvert_exporter": "python",
   "pygments_lexer": "ipython3",
   "version": "3.8.3"
  }
 },
 "nbformat": 4,
 "nbformat_minor": 2
}
