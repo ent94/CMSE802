{
 "cells": [
  {
   "cell_type": "markdown",
   "metadata": {},
   "source": [
    "In order to successfully complete this assignment you need to participate both individually and in groups during class on **Tuesday November 10**.\n",
    "\n"
   ]
  },
  {
   "cell_type": "markdown",
   "metadata": {},
   "source": [
    "# In-Class Assignment: Tensorflow\n",
    "\n",
    "<img src=\"https://upload.wikimedia.org/wikipedia/commons/thumb/1/11/TensorFlowLogo.svg/2000px-TensorFlowLogo.svg.png\" width=50%>"
   ]
  },
  {
   "cell_type": "markdown",
   "metadata": {},
   "source": [
    "### Agenda for today's class (80 minutes)\n",
    "\n",
    "</p>\n",
    "\n",
    "1. [(20 minutes) Pre-class Review](#Pre-class_Review)\n",
    "1. [(10 minutes) GetExamples](#GetExamples)\n",
    "1. [(20 minutes) Understanding your PATH](#Understanding_the_PATH)\n",
    "2. [(20 minutes) Installing Tensorflow](#Installing_Tensorflow)\n"
   ]
  },
  {
   "cell_type": "markdown",
   "metadata": {},
   "source": [
    "---\n",
    "<a name=\"Pre-class_Review\"></a>\n",
    "# 1. Pre-class Review\n",
    "\n",
    "\n",
    "[1109--HPC_Software-pre-class-assignment](1109--HPC_Software-pre-class-assignment.ipynb)\n",
    "\n",
    "Where you able to get Anaconda installed?  Where did you get stuck?  How do you know if it worked?\n",
    "\n",
    "* Try listing the contents of your home directory and see if you have an ```anaconda``` folder?\n",
    "* Try using the ```which python``` command\n",
    "* Use the ```cat .bashrc``` command to see if it is modifying your system ```PATH``` variable.\n",
    "\n",
    "Talk to the other people at your table and help each other out getting anaconda python to install.\n",
    "\n",
    "**NOTE:** Software installation is a bit of an art.  Practice helps so we will do a few examples. "
   ]
  },
  {
   "cell_type": "markdown",
   "metadata": {},
   "source": [
    "---\n",
    "<a name=\"GetExamples\"></a>\n",
    "\n",
    "# 2. GetExamples\n",
    "\n",
    "On a development node, execute the following commands:\n",
    "\n",
    "```\n",
    "moudle load powertools\n",
    "getexample\n",
    "```\n",
    "\n",
    "This should create a list of examples installed ont the HPC.  \n",
    "\n",
    "\n",
    "&#9989; **<font color=red>DO THIS:</font>**  Find an example for some software you may want to use and run the following command to load the example into your current directory:\n",
    "\n",
    "```\n",
    "getexample EXAMPLE_NAME\n",
    "```\n",
    "\n",
    "this will create a directory based on the EXAMPLE_NAME. Now you just change to that directory and look for a readme file to tell you how to get the example up and running.\n",
    "\n",
    "\n",
    "**NOTE:** the ```getexample``` command is specific to the MSU HPC. You will likely not find this command on other systems.  \n",
    "\n"
   ]
  },
  {
   "cell_type": "markdown",
   "metadata": {},
   "source": [
    "---\n",
    "<a name=\"Understanding_the_PATH\"></a>\n",
    "# 3. Understanding the PATH\n",
    "\n",
    "It is always important to know which python you are using.  You can always check your system ```PATH```. We may load files by modules or we may use something different. "
   ]
  },
  {
   "cell_type": "markdown",
   "metadata": {},
   "source": [
    "&#9989; **<font color=red>DO THIS:</font>**   Use the `which` and ```python --version``` command to figure out which python installation you are currently using on the HPC."
   ]
  },
  {
   "cell_type": "markdown",
   "metadata": {},
   "source": [
    "&#9989; **<font color=red>QUESTION:</font>**  Did you get your anaconda install working? Is"
   ]
  },
  {
   "cell_type": "markdown",
   "metadata": {},
   "source": [
    "Command we may use:\n",
    "\n",
    "```\n",
    "which python\n",
    "python --version\n",
    "module spider python\n",
    "virtualenv\n",
    "module load python\n",
    "```"
   ]
  },
  {
   "cell_type": "markdown",
   "metadata": {},
   "source": [
    "conda init bash\n",
    "exit\n",
    "ssh dev-intel16\n",
    "conda activate ./tensorflow_env"
   ]
  },
  {
   "cell_type": "markdown",
   "metadata": {},
   "source": [
    "---\n",
    "<a name=\"Installing_Tensorflow\"></a>\n",
    "\n",
    "# 4.  Installing Tensorflow\n",
    "\n",
    "The following instructions can be used to install tensorflow on the HPCC (Similar instructions can be used on your local machine).  To install tensorflow we are going use a conda environment. These instructions assume we already have anaconda python installed in our home directory.  We are also going to use the \"GPU\" Version of Tensorflow\n",
    "\n",
    "1. Log into the HPCC and ssh to a development node (ex. dev-intel14-k40)\n",
    "2. Run the following commands to create the conda environment\n",
    "```bash\n",
    "conda create --prefix ./tensorflow_env tensorflow-gpu keras pytorch\n",
    "conda init bash\n",
    "exit\n",
    "```\n",
    "\n",
    "\n"
   ]
  },
  {
   "cell_type": "markdown",
   "metadata": {},
   "source": [
    "\n",
    "## Testing Tensorflow\n",
    "\n",
    "Lets now try to see if we use the above "
   ]
  },
  {
   "cell_type": "markdown",
   "metadata": {},
   "source": [
    "The final step is to see if this thing works:\n",
    "\n",
    "```bash\n",
    "cp /mnt/scratch/colbrydi/convolutional.py .\n",
    "conda activate ./tensorflow-env\n",
    "module load CUDA\n",
    "time python convolutional.py\n",
    "```"
   ]
  },
  {
   "cell_type": "markdown",
   "metadata": {},
   "source": [
    "-----\n",
    "### Congratulations, we're done!"
   ]
  },
  {
   "cell_type": "markdown",
   "metadata": {},
   "source": [
    "### Course Resources:\n",
    "\n",
    "\n",
    "- [Website](https://msu-cmse-courses.github.io/cmse802-f20-student/)\n",
    "- [ZOOM](https://msu.zoom.us/j/97272546850)\n",
    "- [Syllabus](https://docs.google.com/document/d/e/2PACX-1vT9Wn11y0ECI_NAUl_2NA8V5jcD8dXKJkqUSWXjlawgqr2gU5hII3IsE0S8-CPd3W4xsWIlPAg2YW7D/pub)\n",
    "- [Schedule](https://docs.google.com/spreadsheets/d/e/2PACX-1vQRAm1mqJPQs1YSLPT9_41ABtywSV2f3EWPon9szguL6wvWqWsqaIzqkuHkSk7sea8ZIcIgZmkKJvwu/pubhtml?gid=2142090757&single=true)\n",
    "\n"
   ]
  },
  {
   "cell_type": "markdown",
   "metadata": {},
   "source": [
    "Written by Dirk Colbry, Michigan State University\n",
    "<a rel=\"license\" href=\"http://creativecommons.org/licenses/by-nc/4.0/\"><img alt=\"Creative Commons License\" style=\"border-width:0\" src=\"https://i.creativecommons.org/l/by-nc/4.0/88x31.png\" /></a><br />This work is licensed under a <a rel=\"license\" href=\"http://creativecommons.org/licenses/by-nc/4.0/\">Creative Commons Attribution-NonCommercial 4.0 International License</a>."
   ]
  },
  {
   "cell_type": "markdown",
   "metadata": {},
   "source": [
    "----"
   ]
  }
 ],
 "metadata": {
  "kernelspec": {
   "display_name": "Python 3",
   "language": "python",
   "name": "python3"
  },
  "language_info": {
   "codemirror_mode": {
    "name": "ipython",
    "version": 3
   },
   "file_extension": ".py",
   "mimetype": "text/x-python",
   "name": "python",
   "nbconvert_exporter": "python",
   "pygments_lexer": "ipython3",
   "version": "3.8.3"
  }
 },
 "nbformat": 4,
 "nbformat_minor": 2
}
