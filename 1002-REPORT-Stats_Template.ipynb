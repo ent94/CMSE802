{
 "cells": [
  {
   "cell_type": "markdown",
   "metadata": {},
   "source": [
    "# <center>Using Statistical Models in Chemistry Education</center>\n",
    "\n",
    "<center>by Emily Thomas</center>"
   ]
  },
  {
   "cell_type": "markdown",
   "metadata": {},
   "source": [
    "---\n",
    "Statistical models in chemistry are often used to model the motion of molecules and this gives a good entry space for students into using statistical models in chemistry. Students are introduced to the idea of the motion of molecules early on. To justify why chemical reactions happen, we talk about how molecules move around in solution and collide in the right orientation to shift and form new molecules. The motion of molecules is essential to chemistry and modeling this is important to understanding our world. Chemists often use statistical models to talk about how molecules relate to each other in terms of motion. While eventually the big goal is to be able to model complex reaction systems that we do not know much about so that we can predict outcomes before experimentation, right now we’re only able to model the general motion of large molecular systems or very small, simple chemical reactions based on the limitations of current technology.  \n",
    "These models could be introduced to students in terms of reaction kinetics. It is not always certain that molecules will collide with enough energy let alone at the right angles to force a chemical reaction to occur so this is where the statistical modeling comes in. Again, this is not news to your average chemistry student so it is easy to introduce the idea of statistical modeling in this lesson. People, in general, are much more familiar with the concept of probability so this is a little easier to introduce sooner to students. With general chemistry students, it could be brought up as a point of current research that scientists are working to use complex statistical models to try to predict the outcome of a reaction. They take a reaction that they know the outcome of and use different methods to try to match the known outcome. Once they have tested it thoroughly, they can try to apply the model to a system they do not have a known outcome for to see what they can predict. After giving students an early introduction to statistical models, the information will only build from there as they move into the higher levels of chemistry. Physical chemistry is all based on statistical modeling so they will get their fill soon enough. If a student is interested enough, they could even base a PhD in this area and still have a broad range of choices in the molecular dynamics research arena to choose from. Students will often encounter statistical models in chemistry and the sooner the idea of how they are worked with and created can be introduced to them, the more familiar they will be with the concept when it comes up in a more complex scenario.\n"
   ]
  },
  {
   "cell_type": "markdown",
   "metadata": {},
   "source": [
    "---\n",
    "# References\n",
    "\n",
    "Statistical models of chemical kinetics in liquids: https://doi.org/10.1016/0895-7177(89)90122-2  \n",
    "Molecular dynamics: https://dasher.wustl.edu/chem478/reading/md-intro-1.pdf  \n",
    "Modeling and simulation of polymers: a road map: https://pubs.acs.org/doi/pdf/10.1021/acs.macromol.8b01836"
   ]
  }
 ],
 "metadata": {
  "anaconda-cloud": {},
  "kernelspec": {
   "display_name": "Python 3",
   "language": "python",
   "name": "python3"
  },
  "language_info": {
   "codemirror_mode": {
    "name": "ipython",
    "version": 3
   },
   "file_extension": ".py",
   "mimetype": "text/x-python",
   "name": "python",
   "nbconvert_exporter": "python",
   "pygments_lexer": "ipython3",
   "version": "3.7.3"
  }
 },
 "nbformat": 4,
 "nbformat_minor": 1
}
