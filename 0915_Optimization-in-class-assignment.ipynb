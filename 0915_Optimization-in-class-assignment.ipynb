{
 "cells": [
  {
   "cell_type": "markdown",
   "metadata": {},
   "source": [
    "In order to successfully complete this assignment you need to demonstrate progress by showing this notebook to an instructor at the end of class on **Monday September 14**.  If you are participating asyncronosly in the class you must attempt to complete the notebook and turn in a copy to the D2L Dropbox no later than 11:50pm on **Monday September 14**."
   ]
  },
  {
   "cell_type": "markdown",
   "metadata": {},
   "source": [
    "# I understand what is supposed to happen here, but I am not going to bog myself down working throught this code..."
   ]
  },
  {
   "cell_type": "markdown",
   "metadata": {},
   "source": [
    "# In-Class Assignment: Portfolio Optimization\n",
    "\n",
    "\n",
    "\n",
    "\n",
    "<img alt=\"Quote from Harry Markowitz - A good portfolio ism ore than a long list of good stocks and bonds. It is a balanced whole, providing the investor with protections and opportunities with respect to a wide range of contingencies\" src=\"https://www.azquotes.com/picture-quotes/quote-a-good-portfolio-is-more-than-a-long-list-of-good-stocks-and-bonds-it-is-a-balanced-harry-markowitz-79-24-14.jpg\">\n",
    "\n",
    "\n",
    "In today's assignment we are going to pretend that we are new members of a lab that need to redo some optimization experiments.  We have inherited this jupyter notebook and our adviser asked us to get it working.  \n",
    "\n",
    "Unfortunately, for us it has been a few years and the dependencies for this project have changed.  We need to see if we can get it working despite these changes. \n",
    "\n",
    "\n",
    "**NOTE:** The instructor did not get this working on his own.  It has been left \"as is\" to demonstrate a \"real world\" problem with getting other peoples code.  For this reason, we do not know how long it will take to fix the bugs or what we will learn. If we get done early we can explore turning this code into a python script. "
   ]
  },
  {
   "cell_type": "markdown",
   "metadata": {},
   "source": [
    "### Agenda for today's class (80 minutes)\n",
    "\n",
    "1. [(20 minutes) CVXPY (optimization package)](#CVXPY)\n",
    "2. [(?? minutes) Portfolio Optimization](#Portfolio_Optimization)\n",
    "1. [(?? minutes) Portfolio Constraints](#Portfolio_Constraints)\n",
    "1. [(?? minutes) Portfolio Example with Real Data](#Portfolio_Example_with_Real_Data)"
   ]
  },
  {
   "cell_type": "markdown",
   "metadata": {},
   "source": [
    "----\n",
    "<a name=\"CVXPY\"></a>\n",
    "# 1. Optimization Package\n",
    "\n",
    "The following example uses the [CVXPY optimization package](http://www.cvxpy.org/).  \n",
    "\n",
    "An optimization has one objective, which is to maximize/minimize one fuction, subject to some constraints. CVXPY is a python package for convex optimization. In this in-class assignment, we will try to get an example CVXPY to solve the portfolio optimization problem.\n",
    "\n",
    "1. Install the package\n",
    "2. Review the math\n",
    "3. Debug the code\n",
    "4. Introduction example\n"
   ]
  },
  {
   "cell_type": "markdown",
   "metadata": {},
   "source": [
    "## Step 1. Install the package. \n",
    "\n",
    "\n",
    "The following code should install the pacage as a local folder. "
   ]
  },
  {
   "cell_type": "code",
   "execution_count": null,
   "metadata": {},
   "outputs": [],
   "source": [
    "!mkdir -p ./packages/"
   ]
  },
  {
   "cell_type": "code",
   "execution_count": null,
   "metadata": {},
   "outputs": [],
   "source": [
    "!pip install -t ./packages/ cvxpy"
   ]
  },
  {
   "cell_type": "code",
   "execution_count": null,
   "metadata": {},
   "outputs": [],
   "source": [
    "import sys\n",
    "sys.path.append('./packages/')"
   ]
  },
  {
   "cell_type": "code",
   "execution_count": null,
   "metadata": {},
   "outputs": [],
   "source": [
    "sys.path"
   ]
  },
  {
   "cell_type": "markdown",
   "metadata": {},
   "source": [
    "## Step 2. Review the math\n",
    "\n",
    "&#9989; **<font color=red>DO THIS:</font>** Read the following example. Make comments in the code and answer the question after the code. You may need to refer to http://www.cvxpy.org/en/latest/tutorial/functions/index.html for the functions in the package.\n",
    " \n",
    "**Least Squares**\n",
    "$$|| AX - b ||^2$$\n",
    "\n",
    "in cvxpy this would be:\n",
    "\n",
    "```sum_squares(A*x - b)```\n",
    "\n",
    "** Lets do some math.** Note: this may be magic for some/all of you. Please take Dr. Colbry's Class in the fall on Numerical Linear Algibra \n",
    "$$ = (AX - b)^T (AX-b) $$\n",
    "\n",
    "$$ = X^TA^TAX - b^TAX - (AX)^Tb + b^Tb$$\n",
    "\n",
    "$$ = X^TA^TAX - 2(A^Tb)^TX + b^Tb$$\n",
    "\n",
    "in cvxpy this would be:\n",
    "\n",
    "```quad_form(x, AtA) - 2*Atb.T*x + b.T.dot(b)```\n"
   ]
  },
  {
   "cell_type": "markdown",
   "metadata": {},
   "source": [
    "## Step 3. Debug the code\n",
    "&#9989; **<font color=red>DO THIS:</font>**Assuming the above installation worked, get the following simple example to work. Note, this code worked a few months ago but is not working now. Lets work as a team to see if we can get this example working again and run the optimization:"
   ]
  },
  {
   "cell_type": "code",
   "execution_count": null,
   "metadata": {
    "scrolled": false
   },
   "outputs": [],
   "source": [
    "import cvxpy as cp\n",
    "import numpy as np"
   ]
  },
  {
   "cell_type": "code",
   "execution_count": null,
   "metadata": {},
   "outputs": [],
   "source": [
    "# The following code is modified from http://www.cvxpy.org/en/latest/ ###\n",
    "#from cvxpy import *\n",
    "#import numpy as np\n",
    "\n",
    "# Problem data.\n",
    "m = 10\n",
    "n = 5\n",
    "np.random.seed(1)\n",
    "A = np.random.randn(m, n)\n",
    "b = np.random.randn(m,1)\n",
    "Atb = A.T.dot(b)\n",
    "AtA = A.T.dot(A)\n",
    "# Construct the problem.\n",
    "x = cp.Variable(n)\n",
    "\n",
    "objective = cp.Minimize(cp.quad_form(x, AtA) - 2*Atb.T*x + b.T.dot(b))\n",
    "constraints = [0 <= x, x <= 1]\n",
    "prob = cp.Problem(objective, constraints)\n",
    "\n",
    "# The optimal objective is returned by prob.solve().\n",
    "result = prob.solve()\n",
    "# The optimal value for x is stored in x.value.\n",
    "print(\"status:\", prob.status)\n",
    "print(\"optimal value\", prob.value)\n",
    "print(\"optimal var\", x.value)"
   ]
  },
  {
   "cell_type": "markdown",
   "metadata": {},
   "source": [
    "&#9989; **<font color=red>QUESTION:</font>** Where you able to get the example to work?  What does this code do?  "
   ]
  },
  {
   "cell_type": "markdown",
   "metadata": {},
   "source": [
    "The code is minimizing the bottom point (can't remember the name, inflection point?) of a convex quadratic equatoin generated by the random numbers in A and b."
   ]
  },
  {
   "cell_type": "markdown",
   "metadata": {},
   "source": [
    "----\n",
    "<a name=\"Portfolio_Optimization\"></a>\n",
    "# 2. Portfolio Optimization\n",
    " \n",
    "&#9989; **<font color=red>DO THIS:</font>** Now see if you can get the following example working.  This may require some trial and error."
   ]
  },
  {
   "cell_type": "markdown",
   "metadata": {},
   "source": [
    "### Classical (Markowitz) portfolio optimization\n",
    "Remember that we have some amount of money to invest in $n$ different assets. \n",
    "We choose what fraction $w_i$ of our money to invest in each asset $i$, $i=1, \\ldots, n$.\n",
    "Classical portfolio optimization solves the optimization problem\n",
    "\n",
    "\\begin{array}{ll} \\mbox{maximize} & \\mu^T w - \\gamma w^T\\Sigma w\\\\\n",
    "\\mbox{subject to} & {\\bf 1}^T w = 1, \\quad w_i\\geq 0,\n",
    "\\end{array}\n",
    "\n",
    "where $w \\in {\\bf R}^n$ is portfolio that we want to find and $\\gamma >0$ is the *risk aversion parameter*.\n",
    "\n",
    "The objective $\\mu^Tw - \\gamma w^T\\Sigma w$ is the *risk-adjusted return*. Varying $\\gamma$ gives the optimal *risk-return trade-off*. \n",
    "We can get the same risk-return trade-off by fixing return and minimizing risk."
   ]
  },
  {
   "cell_type": "code",
   "execution_count": null,
   "metadata": {},
   "outputs": [],
   "source": [
    "%matplotlib inline\n",
    "import matplotlib.pyplot as plt\n",
    "import pandas as pd\n",
    "import numpy as np"
   ]
  },
  {
   "cell_type": "markdown",
   "metadata": {},
   "source": [
    " &#9989; **To Do:** Finish the following code to creat a CVX problem for the portfolio optimization."
   ]
  },
  {
   "cell_type": "code",
   "execution_count": null,
   "metadata": {},
   "outputs": [],
   "source": [
    "# Long only portfolio optimization.\n",
    "np.random.seed(2017)\n",
    "n_assets = 10\n",
    "mu    = np.abs(np.random.randn(n_assets, 1))\n",
    "Sigma = np.random.randn(n_assets, n_assets)\n",
    "Sigma = Sigma.T.dot(Sigma)\n",
    "gamma = cp.Parameter(nonneg=True)\n",
    "################################################\n",
    "##   Finish this part for w, objective and constraints\n",
    "w \n",
    "objective = cp.Maximize()\n",
    "constraints \n",
    "################################################\n",
    "prob  = cp.Problem(objective, constraints)"
   ]
  },
  {
   "cell_type": "markdown",
   "metadata": {},
   "source": [
    "# Eventhough he gave us the answer block here in the code, it's still wrong so I'm not going to waste my time."
   ]
  },
  {
   "cell_type": "code",
   "execution_count": null,
   "metadata": {},
   "outputs": [],
   "source": [
    "# Long only portfolio optimization.\n",
    "np.random.seed(2017)\n",
    "n_assets = 10\n",
    "mu    = np.abs(np.random.randn(n_assets, 1))\n",
    "Sigma = np.random.randn(n_assets, n_assets)\n",
    "Sigma = Sigma.T.dot(Sigma)\n",
    "gamma = cp.Parameter(nonneg=True)\n",
    "##ANSWER##\n",
    "w     = cp.Variable(n_assets)\n",
    "objective = cp.Maximize(mu.T * w - gamma*cp.quad_form(w, Sigma))\n",
    "constraints = [sum_entries(w) == 1, w >= 0]\n",
    "##ANSWER##\n",
    "prob  = cp.Problem(objective, constraints)"
   ]
  },
  {
   "cell_type": "code",
   "execution_count": null,
   "metadata": {},
   "outputs": [],
   "source": [
    "# Compute trade-off curve.\n",
    "SAMPLES     = 100\n",
    "risk_data_o = np.zeros(SAMPLES)\n",
    "ret_data_o  = np.zeros(SAMPLES)\n",
    "gamma_vals  = np.logspace(-2, 3, num=SAMPLES)\n",
    "for i in range(SAMPLES):  \n",
    "    gamma.value = gamma_vals[i]\n",
    "    prob.solve()\n",
    "    risk_data_o[i] = np.sqrt(w.value.T * Sigma * w.value)\n",
    "    ret_data_o[i]  = mu.T * w.value"
   ]
  },
  {
   "cell_type": "markdown",
   "metadata": {},
   "source": [
    "The following code is used to plot the curve for the output. The portfolio optimization is a bi-objective optimization: high return and low risk. In order to solve this problem using only one objective, we will need to find a balancing parameter $\\gamma$. By changing the parameter $\\gamma$, we put different weights on the two objectives. E.g., some greedy people may choose high return and does not care about the risk, so they will choose a small $\\gamma$; some other conservative people may choose low risk but still can make profit, so they will choose a large $\\gamma$ (minimize the risk is equivalent to maximize $-\\gamma\\times$ risk). "
   ]
  },
  {
   "cell_type": "code",
   "execution_count": null,
   "metadata": {},
   "outputs": [],
   "source": [
    "# Plot long only trade-off curve.\n",
    "import matplotlib.pyplot as plt\n",
    "%config InlineBackend.figure_format = 'svg'\n",
    "\n",
    "markers_on = [29, 40]\n",
    "fig = plt.figure()\n",
    "ax = fig.add_subplot(111)\n",
    "plt.plot(risk_data_o, ret_data_o, 'g-')\n",
    "for marker in markers_on:\n",
    "    plt.plot(risk_data_o[marker], ret_data_o[marker], 'bs')\n",
    "    ax.annotate(r\"$\\gamma = %.2f$\" % gamma_vals[marker], xy=(risk_data_o[marker]+.008, ret_data_o[marker]-.003))\n",
    "for i in range(n_assets):\n",
    "    plt.plot(sqrt(Sigma[i,i]).value, mu[i], 'ro')\n",
    "plt.xlabel('Risk')\n",
    "plt.ylabel('Return')\n",
    "plt.show()"
   ]
  },
  {
   "cell_type": "markdown",
   "metadata": {},
   "source": [
    "The following code plot the distribution of the two points in the previous graph. We can see that when $\\gamma=0.29$ (greedy one), the distribution of the return is more spreadout. However, when $\\gamma=1.05$ (conservative one), the distribution is more centralized. "
   ]
  },
  {
   "cell_type": "code",
   "execution_count": null,
   "metadata": {},
   "outputs": [],
   "source": [
    "# Plot return distributions for two points on the trade-off curve.\n",
    "import matplotlib.mlab as mlab\n",
    "plt.figure()\n",
    "for midx, idx in enumerate(markers_on):\n",
    "    gamma.value = gamma_vals[idx]\n",
    "    prob.solve()\n",
    "    x = np.linspace(-2, 5, 1000)\n",
    "    plt.plot(x, mlab.normpdf(x, ret_data_o[idx], risk_data_o[idx]), label=r\"$\\gamma = %.2f$\" % gamma.value)\n",
    "\n",
    "plt.xlabel('Return')\n",
    "plt.ylabel('Density')\n",
    "plt.legend(loc='upper right')\n",
    "plt.show()"
   ]
  },
  {
   "cell_type": "code",
   "execution_count": null,
   "metadata": {},
   "outputs": [],
   "source": [
    "# Compute solution for different risk limits.\n",
    "risk_vals = [0.8, 2, 4]\n",
    "w_vals = []\n",
    "\n",
    "# Portfolio optimization with a bound on risk.\n",
    "risk_max    = Parameter()\n",
    "\n",
    "constraints = [sum_entries(w) == 1, w >= 0, quad_form(w, Sigma) <= risk_max]\n",
    "objective = Maximize(mu.T * w)\n",
    "\n",
    "prob = Problem(objective, constraints)\n",
    "for k, risk_val in enumerate(risk_vals):\n",
    "    risk_max.value = risk_val\n",
    "    prob.solve()\n",
    "    w_vals.append( w.value )"
   ]
  },
  {
   "cell_type": "code",
   "execution_count": null,
   "metadata": {
    "scrolled": true
   },
   "outputs": [],
   "source": [
    "# Plot bar graph of holdings for different risk limits.\n",
    "colors = ['b', 'g', 'r']\n",
    "indices = np.argsort(mu.flatten())\n",
    "legend_list = []\n",
    "for idx, risk_val in enumerate(risk_vals):\n",
    "    plt.bar(np.arange(1,n_assets+1) + 0.25*idx - 0.375, w_vals[idx][indices], color=colors[idx], width = 0.25)\n",
    "    legend_list.append(r\"$risk^{\\max}$ = %2.1f\" % risk_val)\n",
    "        \n",
    "plt.ylabel(r\"$w_i$\", fontsize=16)\n",
    "plt.xlabel(r\"$i$\", fontsize=16)\n",
    "plt.xlim([1-0.375, 10+.375])\n",
    "plt.xticks(np.arange(1,n_assets+1))\n",
    "plt.legend(legend_list)\n",
    "plt.show()"
   ]
  },
  {
   "cell_type": "markdown",
   "metadata": {},
   "source": [
    "&#9989; **<font color=red>QUESTION:</font>** Where you able to get this second example to work?  What does this code do?  "
   ]
  },
  {
   "cell_type": "markdown",
   "metadata": {},
   "source": [
    "Put your answer to the above question here."
   ]
  },
  {
   "cell_type": "markdown",
   "metadata": {},
   "source": [
    "----\n",
    "<a name=\"Portfolio_Constraints\"></a>\n",
    "# 3. Portfolio Constraints\n",
    "\n",
    "In the previous case, we assume that $w_i\\geq0$. This is a *long only* portfolio, and it means that we can not borrow shares of assets to sell now that we must replace later. \n",
    "\n",
    "Now we consider also the *short* portfolio, i.e., we remove the constraint of $w_i\\geq1$.\n",
    "What happens for the solution?"
   ]
  },
  {
   "cell_type": "markdown",
   "metadata": {},
   "source": [
    "The quantity\n",
    "$$ \\|w \\|_1 = {\\mathbf 1}^T w_+ + {\\mathbf 1}^T w_- $$\n",
    "is known as *leverage*.\n",
    "We will look in detail at a *leverage limit*, or the constraint that $\\|w \\|_1 \\leq L^\\mathrm{max}$."
   ]
  },
  {
   "cell_type": "code",
   "execution_count": null,
   "metadata": {},
   "outputs": [],
   "source": [
    "# Portfolio optimization with leverage limit.\n",
    "Lmax = Parameter()\n",
    "constraints = [sum_entries(w) == 1, norm(w, 1) <= Lmax]\n",
    "prob = Problem(objective, constraints)"
   ]
  },
  {
   "cell_type": "code",
   "execution_count": null,
   "metadata": {},
   "outputs": [],
   "source": [
    "# Compute trade-off curve for each leverage limit.\n",
    "L_vals = [1, 2, 4]\n",
    "SAMPLES = 100\n",
    "risk_data = np.zeros((len(L_vals), SAMPLES))\n",
    "ret_data = np.zeros((len(L_vals), SAMPLES))\n",
    "gamma_vals = np.logspace(-2, 3, num=SAMPLES)\n",
    "w_vals = []\n",
    "for k, L_val in enumerate(L_vals):\n",
    "    for i in range(SAMPLES):\n",
    "        Lmax.value = L_val\n",
    "        gamma.value = gamma_vals[i]\n",
    "        prob.solve()\n",
    "        risk_data[k, i] = np.sqrt(w.value.T * Sigma * w.value)\n",
    "        ret_data[k, i] = mu.T * w.value"
   ]
  },
  {
   "cell_type": "code",
   "execution_count": null,
   "metadata": {
    "scrolled": false
   },
   "outputs": [],
   "source": [
    "# Plot trade-off curves for each leverage limit.\n",
    "for idx, L_val in enumerate(L_vals):\n",
    "    plt.plot(risk_data[idx,:], ret_data[idx,:], label=r\"$L^{\\max}$ = %d\" % L_val)\n",
    "for w_val in w_vals:\n",
    "    w.value = w_val\n",
    "    plt.plot(sqrt(risk).value, ret.value, 'bs')\n",
    "plt.xlabel('Standard deviation')\n",
    "plt.ylabel('Return')\n",
    "plt.legend(loc='lower right')\n",
    "plt.show()"
   ]
  },
  {
   "cell_type": "code",
   "execution_count": null,
   "metadata": {
    "scrolled": true
   },
   "outputs": [],
   "source": [
    "A = np.matrix([[5, -2, 2], [4, -3, 4], [4,-6,7]])\n",
    "sym.Matrix(A)"
   ]
  },
  {
   "cell_type": "markdown",
   "metadata": {},
   "source": [
    "&#9989; **<font color=red>QUESTION:</font>** Where you able to get this third example to work?  What does this code do?  "
   ]
  },
  {
   "cell_type": "markdown",
   "metadata": {},
   "source": [
    "Put your answer to the above question here."
   ]
  },
  {
   "cell_type": "markdown",
   "metadata": {},
   "source": [
    "----\n",
    "<a name=\"Portfolio_Example_with_Real_Data\"></a>\n",
    "# 5. Portfolio Example with Real Data\n"
   ]
  },
  {
   "cell_type": "markdown",
   "metadata": {},
   "source": [
    "The following downloads stock data information from yahoo."
   ]
  },
  {
   "cell_type": "code",
   "execution_count": null,
   "metadata": {
    "scrolled": true
   },
   "outputs": [],
   "source": [
    "import pandas as pd\n",
    "import pandas.io.data as web   # Package and modules for importing data; this code may change depending on pandas version\n",
    "import datetime\n",
    "import numpy as np\n",
    " \n",
    "# We will look at stock prices over the past year, starting at March 20, 2016\n",
    "start = datetime.datetime(2017,1,20)\n",
    "end = datetime.datetime(2017,3,23)\n",
    " \n",
    "# Let's get Apple stock data; Apple's ticker symbol is AAPL\n",
    "# First argument is the series we want, second is the source (\"yahoo\" for Yahoo! Finance), third is the start date, fourth is the end date\n",
    "apple = web.DataReader(\"AAPL\", \"yahoo\", start, end)\n",
    "microsoft = web.DataReader(\"MSFT\", \"yahoo\", start, end)\n",
    "google = web.DataReader(\"GOOG\", \"yahoo\", start, end)\n",
    " \n",
    "# Below I create a DataFrame consisting of the adjusted closing price of these stocks, \n",
    "# first by making a list of these objects and using the join method\n",
    "stocks = pd.DataFrame({\"AAPL\": apple[\"Adj Close\"],\n",
    "                      \"MSFT\": microsoft[\"Adj Close\"],\n",
    "                      \"GOOG\": google[\"Adj Close\"]})"
   ]
  },
  {
   "cell_type": "markdown",
   "metadata": {},
   "source": [
    "There is a package finance in matplotlib that you can use to plot a lot of information in the graph. Run the following code and view the result. You have to just know that there are tools available for this. We will not use this in the course."
   ]
  },
  {
   "cell_type": "code",
   "execution_count": null,
   "metadata": {
    "scrolled": true
   },
   "outputs": [],
   "source": [
    "import pandas_candlestick\n",
    "pandas_candlestick.pandas_candlestick_ohlc(apple)"
   ]
  },
  {
   "cell_type": "code",
   "execution_count": null,
   "metadata": {},
   "outputs": [],
   "source": [
    "import sys\n",
    "sys.path.append('./packages/')"
   ]
  },
  {
   "cell_type": "code",
   "execution_count": null,
   "metadata": {},
   "outputs": [],
   "source": [
    "import pandas as pd\n",
    "import pandas.io.data as web   # Package and modules for importing data; this code may change depending on pandas version\n",
    "import datetime\n",
    "import numpy as np\n",
    " \n",
    "# We will look at stock prices over the past year, starting at March 20, 2016\n",
    "start = datetime.datetime(2017,1,20)\n",
    "end = datetime.datetime(2017,3,23)\n",
    " \n",
    "# Let's get Apple stock data; Apple's ticker symbol is AAPL\n",
    "# First argument is the series we want, second is the source (\"yahoo\" for Yahoo! Finance), third is the start date, fourth is the end date\n",
    "apple = web.DataReader(\"AAPL\", \"yahoo\", start, end)\n",
    "microsoft = web.DataReader(\"MSFT\", \"yahoo\", start, end)\n",
    "google = web.DataReader(\"GOOG\", \"yahoo\", start, end)\n",
    " \n",
    "# Below I create a DataFrame consisting of the adjusted closing price of these stocks, \n",
    "# first by making a list of these objects and using the join method\n",
    "stocks = pd.DataFrame({\"AAPL\": apple[\"Adj Close\"],\n",
    "                      \"MSFT\": microsoft[\"Adj Close\"],\n",
    "                      \"GOOG\": google[\"Adj Close\"]})"
   ]
  },
  {
   "cell_type": "code",
   "execution_count": null,
   "metadata": {
    "scrolled": true
   },
   "outputs": [],
   "source": [
    "# df.apply(arg) will apply the function arg to each column in df, and return a DataFrame with the result\n",
    "# Recall that lambda x is an anonymous function accepting parameter x; in this case, x will be a pandas Series object\n",
    "stock_return = stocks.apply(lambda x: x / x[0])\n",
    "stock_return.head()"
   ]
  },
  {
   "cell_type": "code",
   "execution_count": null,
   "metadata": {},
   "outputs": [],
   "source": [
    "import matplotlib.pyplot as plt   # Import matplotlib\n",
    "# This line is necessary for the plot to appear in a Jupyter notebook\n",
    "%matplotlib inline\n",
    "stock_return.plot(grid = True).axhline(y = 1, color = \"black\", lw = 2)"
   ]
  },
  {
   "cell_type": "markdown",
   "metadata": {},
   "source": [
    "How are we going to find the trends? From the privous figure, we can see that return rate of three stocks for the last 2 months starting Jan 20th 2017 (since the new president). How do we find the trend of these stocks (expected return rate for the next day and the covariance of the return for the next day). \n",
    "\n",
    "Think about the 17a-pre-class assignment, we have the realization of return rates for the four assets. In this case, we are not given this. Thus, we have to get the realization of the returns from the given stock data. Then we can apply the portfolio optimization to solve the problem.\n"
   ]
  },
  {
   "cell_type": "code",
   "execution_count": null,
   "metadata": {},
   "outputs": [],
   "source": [
    "# write you code here.\n",
    "sr = np.asmatrix(stocks.apply(lambda x: x ))"
   ]
  },
  {
   "cell_type": "code",
   "execution_count": null,
   "metadata": {
    "scrolled": true
   },
   "outputs": [],
   "source": [
    "return_vec = np.zeros(sr.shape)\n",
    "for i in range(1,len(sr)):\n",
    "    prev = sr[i-1,:]\n",
    "    for s in range(3):\n",
    "        return_vec[i,s] = (sr[i,s] - sr[i-1,s])/sr[i-1,s]\n",
    "plt.plot(return_vec)"
   ]
  },
  {
   "cell_type": "code",
   "execution_count": null,
   "metadata": {},
   "outputs": [],
   "source": [
    "return_vec = return_vec.T"
   ]
  },
  {
   "cell_type": "code",
   "execution_count": null,
   "metadata": {
    "scrolled": true
   },
   "outputs": [],
   "source": [
    "def property_portfolio(returns):\n",
    "    ''' Returns the expected return rate and covariance of return rates for the four random portfolios returns_vec'''\n",
    "    mu = np.mean(returns, axis=1)\n",
    "    Sigma = np.cov(returns)\n",
    "    return mu, Sigma\n",
    "\n",
    "def rand_weights(n):\n",
    "    ''' Produces n random weights that sum to 1 '''\n",
    "    k = np.random.rand(n)\n",
    "    return k / sum(k)\n",
    "\n",
    "def random_portfolio(returns, n_portfolio):\n",
    "    \n",
    "    ret_data  = np.zeros((n_portfolio,1))\n",
    "    risk_data = np.zeros((n_portfolio,1))\n",
    "    \n",
    "    mu, Sigma = property_portfolio(returns)\n",
    "    print(mu)\n",
    "    print(Sigma)\n",
    "    for i in range(n_portfolio):\n",
    "        '''consider the long only portfolio'''\n",
    "        w         = rand_weights(returns.shape[0])  \n",
    "        ret_data[i]     = np.dot(w, mu)\n",
    "        risk_data[i]    = np.sqrt(np.dot(np.matmul(w, Sigma), w))\n",
    "\n",
    "    return ret_data, risk_data\n",
    "\n",
    "n_portfolios = 1000\n",
    "ret_data, risk_data = random_portfolio(return_vec, n_portfolios)\n",
    "\n",
    "plt.plot(risk_data,ret_data, 'o', markersize=2)\n",
    "plt.xlabel('risk')\n",
    "plt.ylabel('return')\n",
    "plt.title('expected return and risk of randomly generated portfolios')"
   ]
  },
  {
   "cell_type": "code",
   "execution_count": null,
   "metadata": {},
   "outputs": [],
   "source": [
    "import cvxpy as cvx\n",
    "import numpy as np"
   ]
  },
  {
   "cell_type": "code",
   "execution_count": null,
   "metadata": {},
   "outputs": [],
   "source": [
    "return_vec.shape"
   ]
  },
  {
   "cell_type": "code",
   "execution_count": null,
   "metadata": {
    "scrolled": true
   },
   "outputs": [],
   "source": [
    "#Stuff from 18a in-clas\n",
    "\n",
    "# Long only portfolio optimization.\n",
    "np.random.seed(2017)\n",
    "n_assets = return_vec.shape[0]\n",
    "mu,Sigma    = property_portfolio(return_vec)\n",
    "\n",
    "gamma = cvx.Parameter(sign='positive')\n",
    "################################################\n",
    "##   Finish this part for w, objective and constraints\n",
    "w = cvx.Variable(n_assets)\n",
    "ret = mu.T*w \n",
    "risk = cvx.quad_form(w, Sigma)\n",
    "constraints = [cvx.sum_entries(w) == 1,  w >= 0]\n",
    "objective = cvx.Maximize(ret - gamma*risk)\n",
    "################################################\n",
    "prob  = cvx.Problem(objective, constraints)\n",
    "\n",
    "# Compute trade-off curve.\n",
    "SAMPLES     = 100\n",
    "risk_data_o = np.zeros(SAMPLES)\n",
    "ret_data_o  = np.zeros(SAMPLES)\n",
    "gamma_vals  = np.logspace(-2, 3, num=SAMPLES)\n",
    "for i in range(SAMPLES):\n",
    "    gamma.value = gamma_vals[i]\n",
    "    prob.solve()\n",
    "    risk_data_o[i] = cvx.sqrt(risk).value\n",
    "    ret_data_o[i] = ret.value\n",
    "    "
   ]
  },
  {
   "cell_type": "code",
   "execution_count": null,
   "metadata": {},
   "outputs": [],
   "source": [
    "%config InlineBackend.figure_format = 'svg'\n",
    "# Plot long only trade-off curve.\n",
    "import matplotlib.pyplot as plt\n",
    "\n",
    "markers_on = [29, 40]\n",
    "fig = plt.figure()\n",
    "ax = fig.add_subplot(111)\n",
    "plt.plot(risk_data_o, ret_data_o, 'g-')\n",
    "for marker in markers_on:\n",
    "    plt.plot(risk_data_o[marker], ret_data_o[marker], 'bs')\n",
    "    ax.annotate(r\"$\\gamma = %.2f$\" % gamma_vals[marker], xy=(risk_data_o[marker]+.008, ret_data_o[marker]-.003))\n",
    "for i in range(n_assets):\n",
    "    plt.plot(cvx.sqrt(Sigma[i,i]).value, mu[i], 'ro')\n",
    "    \n",
    "plt.plot(risk_data,ret_data, 'o', markersize=2)\n",
    "\n",
    "plt.xlabel('Risk')\n",
    "plt.ylabel('Return')\n",
    "plt.show()"
   ]
  },
  {
   "cell_type": "markdown",
   "metadata": {},
   "source": [
    "&#9989; **<font color=red>QUESTION:</font>** Where you able to get this third example to work?  What does this code do?  "
   ]
  },
  {
   "cell_type": "markdown",
   "metadata": {},
   "source": [
    "Put your answer to the above question here."
   ]
  },
  {
   "cell_type": "markdown",
   "metadata": {},
   "source": [
    "&#9989; **<font color=red>DO THIS:</font>** If you get this far, try converting this example into a python script. "
   ]
  },
  {
   "cell_type": "markdown",
   "metadata": {},
   "source": [
    "Put your answer to the above question here."
   ]
  },
  {
   "cell_type": "markdown",
   "metadata": {},
   "source": [
    "-----\n",
    "### Congratulations, we're done!"
   ]
  },
  {
   "cell_type": "markdown",
   "metadata": {},
   "source": [
    "### Course Resources:\n",
    "\n",
    "\n",
    "- [Website](https://msu-cmse-courses.github.io/cmse802-f20-student/)\n",
    "- [ZOOM](https://msu.zoom.us/j/97272546850)\n",
    "- [Syllabus](https://docs.google.com/document/d/e/2PACX-1vT9Wn11y0ECI_NAUl_2NA8V5jcD8dXKJkqUSWXjlawgqr2gU5hII3IsE0S8-CPd3W4xsWIlPAg2YW7D/pub)\n",
    "- [Schedule](https://docs.google.com/spreadsheets/d/e/2PACX-1vQRAm1mqJPQs1YSLPT9_41ABtywSV2f3EWPon9szguL6wvWqWsqaIzqkuHkSk7sea8ZIcIgZmkKJvwu/pubhtml?gid=2142090757&single=true)\n",
    "\n"
   ]
  },
  {
   "cell_type": "markdown",
   "metadata": {},
   "source": [
    "Writen by Dirk Colbry, Michigan State University\n",
    "<a rel=\"license\" href=\"http://creativecommons.org/licenses/by-nc/4.0/\"><img alt=\"Creative Commons License\" style=\"border-width:0\" src=\"https://i.creativecommons.org/l/by-nc/4.0/88x31.png\" /></a><br />This work is licensed under a <a rel=\"license\" href=\"http://creativecommons.org/licenses/by-nc/4.0/\">Creative Commons Attribution-NonCommercial 4.0 International License</a>."
   ]
  }
 ],
 "metadata": {
  "kernelspec": {
   "display_name": "Python 3",
   "language": "python",
   "name": "python3"
  },
  "language_info": {
   "codemirror_mode": {
    "name": "ipython",
    "version": 3
   },
   "file_extension": ".py",
   "mimetype": "text/x-python",
   "name": "python",
   "nbconvert_exporter": "python",
   "pygments_lexer": "ipython3",
   "version": "3.8.3"
  }
 },
 "nbformat": 4,
 "nbformat_minor": 2
}
