{
 "cells": [
  {
   "cell_type": "markdown",
   "metadata": {},
   "source": [
    "In order to successfully complete this assignment you need to participate both individually and in groups during class on **Tuesday October 6**."
   ]
  },
  {
   "cell_type": "markdown",
   "metadata": {},
   "source": [
    "# In-Class Assignment: Graph Coloring \n",
    "\n",
    "**NOTE:** I am planning on having this assignment take two class periods. That is fine, lets take our time so we can learn something.\n",
    "\n",
    "In class today we are going to try an experiment to write some code as a team.  We will take a fairly complex problem and divide it up into parts. Each person or sub-groups of people will work on their part and then we will try to compile them as a group and see if they all work together.  \n",
    "\n",
    "### Project description\n",
    "\n",
    "The signals from different cellphone towers that are close together can interfere.  \n",
    "\n",
    "<img src=\"http://2.bp.blogspot.com/-X7XJfnPb6xU/TjZfTmAd9CI/AAAAAAAAAF0/3eGarXigOQE/s1600/dido1.jpg\" width=\"50%\"><p style=\"text-align: right;\">From: http://www.onlivespot.com/2011/08/dido-wireless-technology-explained.html</p>\n",
    "\n",
    "In order to avoid this overlap cell phone companies use different frequency ranges in the Electromagnetic spectrum.  Two towers that are close together but have differences in frequencies (shown as colors, red/green/black in the following figure) do not cause nearly as much interference. \n",
    "\n",
    "<img src=\"http://2.bp.blogspot.com/-M4olRy6O-v4/TjZghvwq3KI/AAAAAAAAAF4/GtOd6Db-su4/s1600/dido2.jpg\" width = \"50%\"><p style=\"text-align: right;\">From:  http://www.onlivespot.com/2011/08/dido-wireless-technology-explained.html</p>\n",
    "\n",
    "However, cellphone towers are never distributed in such an even pattern.   Consider the following map which shows the location of cell towers around Michigan State.\n",
    "\n",
    "<img src='https://lh6.googleusercontent.com/qSPlrmlnBqN7JZu_U_zaOydbFhekPtQhYk2s0fmMo__5YktgYXWuenVkKATZ0uaDNfrex51kUW8SseGjFMMcL8yYPcuMc3_o5H125HMzvI1wd91ZM8XV98tLx23-=w740' width = \"50%\">\n",
    "\n",
    "From: [http://www.antennasearch.com/](http://www.antennasearch.com/)\n",
    "\n",
    "Another problem is that cellphone companies have to pay for each frequency range they use.  So they would like minimize the number of frequencies that they need to purchase while also minimizing the interference between the cell towers. \n",
    "\n",
    "Today we are going to go though the steps to solve this problem using graph theory."
   ]
  },
  {
   "cell_type": "markdown",
   "metadata": {},
   "source": [
    "### Agenda for today's class (80 minutes)\n",
    "\n",
    "</p>\n",
    "\n",
    "1. [(20 minutes) Review Project Git Repositories](#Review_Project_Git_Repositories)\n",
    "1. [(20 minutes) Review pre-class assignment](#Review_pre-class_assignment)\n",
    "2. [(40 minutes) Group Programming Project](#T2)"
   ]
  },
  {
   "cell_type": "markdown",
   "metadata": {},
   "source": [
    "----\n",
    "<a name=\"Review_pre-class_assignment\"></a>\n",
    "# 2. Review pre-class assignemnt\n",
    "\n",
    "* [1005--Graphs-pre-class-assignment](1005--Graphs-pre-class-assignment.ipynb)"
   ]
  },
  {
   "cell_type": "markdown",
   "metadata": {},
   "source": [
    "----\n",
    "<a name=\"Group_programming_Project\"></a>\n",
    "# 3. Group programming Project\n",
    "\n",
    "I have broken the project down the following programming components:\n",
    "\n",
    "1. [Download and import the data](#S1)\n",
    "2. [Calculate k Nearest Neighbors](#S2)\n",
    "3. [Greedy Graph Coloring](#S3)\n",
    "4. [Plot tower colors on a map](#S4)\n",
    "\n",
    "Assuming we get all of these steps written as functions we could imagine a program of the following form\n",
    "\n",
    "```\n",
    "locations = downloadTowerData(filename)\n",
    "graph = kNN(locations,k)\n",
    "colors = GreedyGraphColoring(graph, M)\n",
    "mapplot(locations, colors)\n",
    "```\n",
    "\n",
    "Where each of the variables are of the following types:\n",
    "\n",
    "- ```locations``` - $n \\times 2$ numpy array of longitude and latitude point locations. (Similar to what we did in the pre-class)\n",
    "- ```graph``` - adjacency matrix represented as a matrix.\n",
    "- ```colors``` - $n$ list of numbers representing colors.  Is just indexes in the range $0-M$ where $M$ is just the number of colors we need to assign. \n",
    "\n",
    "We are going to try to write each component separately and then assemble them as a class. \n",
    "\n",
    "&#9989; **<font color=red>DO THIS:</font>** As a class break up evenly into groups, one group for each of the four steps plus a \"management\" group.  \n",
    "\n",
    "The management group will create a git repository and share it with the class. It is their job to organize the functions together while individual groups work on them.  I recommend having each group generate a python file for their function with the end goal of getting something like the following working:\n",
    "\n",
    "```python\n",
    "from downloadTowerData import downloadTowerData\n",
    "from kNN import kNN\n",
    "from GreedyGraphColoring import GreedyGraphColoring\n",
    "from mapplot import mapplot\n",
    "\n",
    "locations = downloadTowerData(filename)\n",
    "graph = kNN(locations,k)\n",
    "colors = GreedyGraphColoring(graph, M)\n",
    "mapplot(locations, colors)\n",
    "\n",
    "```\n",
    "\n",
    "For the other groups you should do the following:\n",
    "\n",
    "1. First, write a stub function for your part. A stub function provides the inputs and outputs in a format that can be tested by the other groups. We need to agree and share stub functions using the git repository. (this is probably as far as we will get today).  **_NOTE:_** Make sure you get this done first before writing your main program.  \n",
    "2. After each step graph or plot the output to make sure it is in the expect form.  \n",
    "3. Write some test functions that send different data into your function and make sure it works as expected.\n",
    "4. Update your stub function with the final version in the git repository. \n",
    "\n",
    "Key to the success of this project is careful communication between the groups.  If a group gets done early and join the management group to help each other out. Good luck!\n"
   ]
  },
  {
   "cell_type": "markdown",
   "metadata": {},
   "source": [
    "----\n",
    "<a name=\"S1\"></a>\n",
    "## Group 1: Download and import the data\n",
    "\n",
    "\n",
    "```\n",
    "locations = downloadTowerData(filename)\n",
    "```\n",
    "\n",
    "We will be using antenna data from the following website:\n",
    "\n",
    "http://www.antennasearch.com/\n",
    "\n",
    "Download a csv file from the above website for all of the towers in a 4.0 Mile radius from the MSU engineering building (567 Wilson Road, East Landing, MI 58824). \n",
    "\n",
    "&#9989; **<font color=red>DO THIS:</font>** Write a ```importTowerData``` stub function that ignores the input and returns a random $n \\times 2$ set of points where $n$ is the number of towers. \n",
    "\n",
    "&#9989; **<font color=red>DO THIS:</font>** Write a ```importTowerData``` function to load the file into Python and generate a list of latitude and longitude for the towers. Output the points as a $n \\times 2$ where $n$ is the number of towers. "
   ]
  },
  {
   "cell_type": "code",
   "execution_count": null,
   "metadata": {},
   "outputs": [],
   "source": [
    "#put your stub function here"
   ]
  },
  {
   "cell_type": "code",
   "execution_count": null,
   "metadata": {},
   "outputs": [],
   "source": [
    "#put your actual function here"
   ]
  },
  {
   "cell_type": "code",
   "execution_count": null,
   "metadata": {},
   "outputs": [],
   "source": [
    "#put your plotting/testing code here"
   ]
  },
  {
   "cell_type": "markdown",
   "metadata": {},
   "source": [
    "----\n",
    "<a name=\"S2\"></a>\n",
    "## Group 2: Calculate K-Nearest Neighbors\n",
    "\n",
    "\n",
    "```\n",
    "graph = kNN(locations,k)\n",
    "```\n",
    "\n",
    "&#9989; **<font color=red>DO THIS:</font>** Write a function that takes a set of points as an $n \\times 2$ numpy matrix and returns a random graph in the form of a python dictionary.  Doesn't have to be complex just something that can be easily passed on to the graph coloring function. \n",
    "\n",
    "\n",
    "&#9989; **<font color=red>DO THIS:</font>** Write a function that takes a set of points as an $n \\times 2$ numpy matrix and returns an adjacency graph (in the form of a python dictionary).  More information about the algorithm can be found here:\n",
    "\n",
    "https://en.wikipedia.org/wiki/Nearest_neighbor_graph\n",
    "\n",
    "Basically the algorithm loops though all of the points and finds the nearest neighbor to each point.  \n",
    "\n",
    "\n",
    "NOTE: This is what was attempted in the pre-class assignment.  Focus on generating a nearest neighbor algorithm that generates a dictionary and use the stub function from the pre-class to test the graph.  "
   ]
  },
  {
   "cell_type": "code",
   "execution_count": null,
   "metadata": {},
   "outputs": [],
   "source": [
    "import numpy as np"
   ]
  },
  {
   "cell_type": "code",
   "execution_count": null,
   "metadata": {},
   "outputs": [],
   "source": [
    "def tgen(N):\n",
    "    t = np.arange(1,N+1,1)\n",
    "    locs = np.empty((N,2))\n",
    "    for i in range(len(t)):\n",
    "        locs[i,0] = np.random.uniform(0,1)\n",
    "        locs[i,1] = np.random.uniform(0,1)\n",
    "    return t,locs"
   ]
  },
  {
   "cell_type": "code",
   "execution_count": null,
   "metadata": {},
   "outputs": [],
   "source": [
    "t,locs = tgen(10)\n",
    "t"
   ]
  },
  {
   "cell_type": "code",
   "execution_count": null,
   "metadata": {},
   "outputs": [],
   "source": [
    "def kNN(loc,k):\n",
    "    dictionary = dict(loc)"
   ]
  },
  {
   "cell_type": "code",
   "execution_count": null,
   "metadata": {},
   "outputs": [],
   "source": [
    "#put your actual function here"
   ]
  },
  {
   "cell_type": "code",
   "execution_count": null,
   "metadata": {},
   "outputs": [],
   "source": [
    "#put your nearest neighbor graph function here"
   ]
  },
  {
   "cell_type": "markdown",
   "metadata": {},
   "source": [
    "----\n",
    "<a name=\"S3\"></a>\n",
    "## Group 3: Greedy Graph Coloring\n",
    "\n",
    "\n",
    "```\n",
    "colors = GreedyGraphColoring(graph, M)\n",
    "```\n",
    "\n",
    "&#9989; **<font color=red>DO THIS:</font>** Write a stub function that takes a dictionary as an input and assigns a random color to each point in the graph. The colors will be represented as list of numbered indexes  0−M.\n",
    "\n",
    "&#9989; **<font color=red>DO THIS:</font>** Write a function that takes a dictionary as an input and applies the  greedy graph coloring algorithm on the network.  It is highly recommended that you find a library that has already implemented greedy graph coloring but you can write the algorithm if you want. Hint there is a lot of descriptions of greedy graph coloring on google.\n",
    "\n",
    "HINT: If you use an external library, the hardest part of this algorithm may be data converting from a dictionary to whatever format the library uses.  If done right, it is possible that the function is just a bunch of lines of code.  "
   ]
  },
  {
   "cell_type": "code",
   "execution_count": null,
   "metadata": {},
   "outputs": [],
   "source": [
    "#put your stub function here"
   ]
  },
  {
   "cell_type": "code",
   "execution_count": null,
   "metadata": {},
   "outputs": [],
   "source": [
    "#put your actual function here"
   ]
  },
  {
   "cell_type": "code",
   "execution_count": null,
   "metadata": {},
   "outputs": [],
   "source": [
    "#put your plotting/testing code here"
   ]
  },
  {
   "cell_type": "markdown",
   "metadata": {},
   "source": [
    "----\n",
    "<a name=\"S4\"></a>\n",
    "## Group 4 : Plot tower colors on a map\n",
    "\n",
    "\n",
    "```\n",
    "mapplot(locations, colors)\n",
    "```"
   ]
  },
  {
   "cell_type": "markdown",
   "metadata": {},
   "source": [
    "&#9989; **<font color=red>DO THIS:</font>** Write a stub function that takes a graph (as a dictionary) and a list of color indexes (as a list) and plots them.  The stub function can just use a simple ```scatter``` plot.  "
   ]
  },
  {
   "cell_type": "markdown",
   "metadata": {},
   "source": [
    "&#9989; **<font color=red>DO THIS:</font>** This one is a little tricky so extend the stub function to then color the plot using the color indexes.  Assign a unique color for each index.  We can assume a finite indexes of 4-5 colors but think about how the function should handle the case with a very large $M$. "
   ]
  },
  {
   "cell_type": "markdown",
   "metadata": {},
   "source": [
    "&#9989; **<font color=red>DO THIS:</font>** Write a function that takes a graph and a list of color indexes and plots them on a map of Michigan State. Similar to the following:\n",
    "\n",
    "<img src=\"https://lh6.googleusercontent.com/qSPlrmlnBqN7JZu_U_zaOydbFhekPtQhYk2s0fmMo__5YktgYXWuenVkKATZ0uaDNfrex51kUW8SseGjFMMcL8yYPcuMc3_o5H125HMzvI1wd91ZM8XV98tLx23-=w740\" width=\"33%\">\n",
    "\n",
    "\n",
    "Hint: I highly recommend using the [folium](https://python-visualization.github.io/folium) library. "
   ]
  },
  {
   "cell_type": "code",
   "execution_count": null,
   "metadata": {},
   "outputs": [],
   "source": [
    "#put your stub function here"
   ]
  },
  {
   "cell_type": "code",
   "execution_count": null,
   "metadata": {},
   "outputs": [],
   "source": [
    "#put your actual function here"
   ]
  },
  {
   "cell_type": "code",
   "execution_count": null,
   "metadata": {},
   "outputs": [],
   "source": [
    "#put your plotting/testing code here"
   ]
  },
  {
   "cell_type": "code",
   "execution_count": null,
   "metadata": {},
   "outputs": [],
   "source": [
    "# Put your map code here"
   ]
  },
  {
   "cell_type": "markdown",
   "metadata": {},
   "source": [
    "-----\n",
    "### Congratulations, we're done!"
   ]
  },
  {
   "cell_type": "markdown",
   "metadata": {},
   "source": [
    "### Course Resources:\n",
    "\n",
    "\n",
    "- [Website](https://msu-cmse-courses.github.io/cmse802-f20-student/)\n",
    "- [ZOOM](https://msu.zoom.us/j/97272546850)\n",
    "- [Syllabus](https://docs.google.com/document/d/e/2PACX-1vT9Wn11y0ECI_NAUl_2NA8V5jcD8dXKJkqUSWXjlawgqr2gU5hII3IsE0S8-CPd3W4xsWIlPAg2YW7D/pub)\n",
    "- [Schedule](https://docs.google.com/spreadsheets/d/e/2PACX-1vQRAm1mqJPQs1YSLPT9_41ABtywSV2f3EWPon9szguL6wvWqWsqaIzqkuHkSk7sea8ZIcIgZmkKJvwu/pubhtml?gid=2142090757&single=true)\n",
    "\n"
   ]
  },
  {
   "cell_type": "markdown",
   "metadata": {},
   "source": [
    "Written by Dirk Colbry, Michigan State University\n",
    "<a rel=\"license\" href=\"http://creativecommons.org/licenses/by-nc/4.0/\"><img alt=\"Creative Commons License\" style=\"border-width:0\" src=\"https://i.creativecommons.org/l/by-nc/4.0/88x31.png\" /></a><br />This work is licensed under a <a rel=\"license\" href=\"http://creativecommons.org/licenses/by-nc/4.0/\">Creative Commons Attribution-NonCommercial 4.0 International License</a>."
   ]
  },
  {
   "cell_type": "markdown",
   "metadata": {},
   "source": [
    "----"
   ]
  }
 ],
 "metadata": {
  "kernelspec": {
   "display_name": "Python 3",
   "language": "python",
   "name": "python3"
  },
  "language_info": {
   "codemirror_mode": {
    "name": "ipython",
    "version": 3
   },
   "file_extension": ".py",
   "mimetype": "text/x-python",
   "name": "python",
   "nbconvert_exporter": "python",
   "pygments_lexer": "ipython3",
   "version": "3.8.3"
  }
 },
 "nbformat": 4,
 "nbformat_minor": 2
}
