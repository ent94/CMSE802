{
 "cells": [
  {
   "cell_type": "markdown",
   "metadata": {},
   "source": [
    "# <center>  Teaching Tools </center>\n",
    "\n",
    "<center>By Emily Thomas</center>"
   ]
  },
  {
   "cell_type": "markdown",
   "metadata": {},
   "source": [
    "<img src=\"https://www.mathworks.com/academia/courseware/teaching-chemistry-with-matlab/_jcr_content/mainParsys/columns/1/feature/items/item_1.adapt.full.high.jpg/1597675667254.jpg\" width=\"100%\">\n",
    "\n",
    "Image from: https://www.mathworks.com/academia/courseware/teaching-chemistry-with-matlab.html"
   ]
  },
  {
   "cell_type": "markdown",
   "metadata": {},
   "source": [
    "---\n",
    "# Overview\n",
    "\n",
    "As a new college professor, I am learning the value of time very quickly. There is so much to do and balance that I am having a hard time keeping up especially with the uncertainty of potentially moving to online learning as a chemistry laboratory instructor. Anything that I can automate will keep me worrying about content and student learning progress rather than updating attendance (as we have to take it for every class meeting) or checking to see if my TA's have done their grading. The institution I currently work at, Olivet College, uses Blackboard as their learning management system and the user interface in a web browser can be tough to navigate at times, at least from the instructor point of view. The main goal of this project is to begin an interface with Blackboard so that I can begin to automate many different things, like pulling and plotting grades, checking on submission statuses, looking to see how my 5 TA's are doing on their grading, or updating attendance for example. Once I get this interface and some tools working for Blackboard, I also hope to be able to transition my work to other learning management systems as I move through my career as a chemistry instructor.  \n",
    "  \n",
    "As previously mentioned, Blackboard is a learning management system, a central location for class materials with a confidential grading system. Students can submit their work and receive feedback and grades all in one place. This system allows instructors to post assignments and announcements to communicate with students. It is also a powerful collaboration tool with many ways for students to work together including discussion boards and creating their own wiki pages. While Blackboard is amazing in most respects, their user interface for instructors can be small and tough to use. It can be hard to enter grades as the window to see all of the information is so much smaller than the browser window and the attendance section is the same way. When I’m trying to mark everyone present in class, I can only see one or two names at a time when it would be much easier to see the whole list. This semester my classes had copying issues so when I set up my chemistry lab with 5 sections of the same material, I had to do them one by one because Blackboard would not allow my assignments to be copied over. Having 5 sections of the same class takes all my time because I have to post every single little thing FIVE TIMES OVER. In most cases, I prefer to use their Blackboard Instructor App on my iPad to avoid trying to work through the browser version because it is smoother and more user friendly, but it lacks features like attendance and creating assignments and editing course content.  \n",
    "  \n",
    "It should be easy to see why I want to take on the task of writing some Python code to interface with Blackboard so that I can speed up some of the more mundane tasks I do on a daily basis. The idea is to build a package that I can write different functions for to do all the different things I want to do that I feel Blackboard slows me down on. This would likely include an attendance updating feature so that I could keep attendance somewhere else and then push my attendance each period to Blackboard. I would like to also create something that will push my updates to all 5 of my chemistry sections at once. This would go into each section and publish an announcement or create/update an assignment in all 5 sections so that I won’t have to go in and do this manually. I would like for this feature to be flexible so that it could work for announcements, content, assignments, etc. so it may have some subfeatures to explore as well.  \n",
    "  \n",
    "Having 5 sections, I also manage 5 TA’s and have to track their grading throughout the semester. Currently, it makes me almost want to take over my own grading again because I’m having such a hard time figuring everything out. I would like to have a subsection of my Blackboard Interfacing Tool that could work specifically with the gradebook. I like to keep all of my assignments, grades, feedback, and content all in the school’s given learning management system as students are often familiar with it and it is one less thing they have to learn fresh for my class. (The future dream is to just build my own course websites and online homework collection system, but I think I should start smaller with the interface until I become more comfortable in that area!) However, I am discovering that this is difficult with 5 separate sections and therefore 5 separate gradebooks for the same assignment with 5 TA’s and myself doing all the grading. It would be amazing if I could write a subsection of my interface tool to work specifically with the gradebook to solve these issues. I would want it to look at a student for an assignment and tell me if there was no submission, a late submission, an ungraded submission, a graded draft saved, or a grade posted. I would then organize this information by class for myself in some sort of spreadsheet or graph then by TA so I could track their work better. The student sheet could include their scores so far and their overall grade as well as potentially graph the grades per student and assignment throughout the semester when needed. The TA sheet could color code the TA’s by how much has been graded and given back to the students as organized by the assignments. It may also be nice to have a sheet for the TA’s to use to track their student’s grades specifically in more detail to see who has submitted and what they have left to work on. I would also like to potentially work in something that could tell the TA if I have approved a student for a late assignment here too, like have a sheet where I track my late approvals and have their sheets checked against this. While I know these are lofty goals and this likely won’t all be accomplished this semester, I think this is a good guideline for what I envision writing in the future beyond this class as well."
   ]
  },
  {
   "cell_type": "markdown",
   "metadata": {},
   "source": [
    "---\n",
    "# Program Description\n",
    "\n",
    "\n",
    "For this project, I will be starting from scratch on my part. I have not worked on something like this before, but I am very excited that this will be my first go at interfacing and using code with websites. I know there has been a lot of work done on how to work with websites in Python and this will likely be where I need to start learning. Once I have gotten a hand on that, the next beast is to work on specifically working with Blackboard. I have found some open source code that looks like it is a starting point for me. It looks like it initializes classes and adds users to those classes so it’s more for the IT people at a school to make classes. However, I think that it would be a good jumping off point for seeing where to start working with Blackboard and then work to figure out how to access the classes from there. My Department Chair’s husband does some work interfacing with Blackboard so he may be a good resource as well!  \n",
    "  \n",
    "(The details of what I want to work into the program are contained above. This paragraph is meant to be what already exists and what I will need to produce.)"
   ]
  },
  {
   "cell_type": "markdown",
   "metadata": {},
   "source": [
    "---\n",
    "# Project Goals and Timeline\n",
    "\n",
    "This project has a lot of clear places for goals to fall in. I think the first thing that I will need to do in the short range is learn how to interface with websites in general. I am going to need to become more familiar with how this works. The next big part of the project is to learn how to interface with Blackboard. Likely, I expect that this will be what I will be working on for most of the semester. So it’s sort of a short to mid range goal. I would like to have something that actually can at least post an announcement to Blackboard by the end of the semester. The more long term goals of the project come from adding all the bells and whistles to the code. This would be adding all the little things that I could do with Blackboard from there like update attendance and access the gradebook. Each of these would be their own milestone. I would likely go through and do a few probes to see which are the most viable ideas to complete then rank the things I want to add to my package based on how badly I want to use the tool and how hard it would be to write it. It would be better to write a few quick tools and save some time before moving on to more challenging yet valuable tools. This also allows me to maybe gain more skills in writing the easier tools that may make the more difficult ones less intense to write as well. While I don’t have specific plans for the end of the project, the main project goals are to learn how to use Python with websites and then with Blackboard. Once I have done this, I want to be able to post an announcement (To me, this will be my mark of success for the semester as I see it for right now) and then from there I will begin working on some of my other tools and ideas."
   ]
  },
  {
   "cell_type": "markdown",
   "metadata": {},
   "source": [
    "---\n",
    "# Anticipating Challenges  \n",
    "\n",
    "As I stated in my project goals, I definitely have some learning to do. One of the main things I expect to learn is how Python can work with websites. I have no idea how I haven’t had to do this before, but I am excited to finally get the chance to learn this! I will need to be able to read websites and then potentially eventually upload to them directly. Once I have figured this out, the challenge becomes Blackboard itself. It looks like I may have already found some resources and there may be some things out there, but I am definitely anticipating challenges here. Olivet College requires instructors to use two-factor authentication when accessing Blackboard so I anticipate this being a challenge  I will likely have to spend some time overcoming. I also mentioned this project off-hand to my Department Chair and she said her husband has had trouble trying to get attendance to upload to Blackboard (I think this is due to the most bizarre user interface I have ever seen) in the past for his classes in the way I have describe throughout this paper so I don’t know that I will get the attendance upload feature finished this semester. (Though I have no idea what he was doing or even what language he was using. It was a short meeting aside.) My plan should be pretty flexible around all of this and all of my goals seem reasonably achievable for right now. If I am unable to work past the two-factor authentication issue, we may have to talk about where to go from there, but I think that is a bridge to cross when we come to it."
   ]
  },
  {
   "cell_type": "markdown",
   "metadata": {},
   "source": [
    "---\n",
    "# Thank You for Reading :)\n",
    "---"
   ]
  }
 ],
 "metadata": {
  "anaconda-cloud": {},
  "kernelspec": {
   "display_name": "Python 3",
   "language": "python",
   "name": "python3"
  },
  "language_info": {
   "codemirror_mode": {
    "name": "ipython",
    "version": 3
   },
   "file_extension": ".py",
   "mimetype": "text/x-python",
   "name": "python",
   "nbconvert_exporter": "python",
   "pygments_lexer": "ipython3",
   "version": "3.8.3"
  }
 },
 "nbformat": 4,
 "nbformat_minor": 1
}
