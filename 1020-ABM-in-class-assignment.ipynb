{
 "cells": [
  {
   "cell_type": "markdown",
   "metadata": {},
   "source": [
    "In order to successfully complete this assignment you need to participate both individually and in groups during class on **Tuesday October 20**.\n",
    "\n"
   ]
  },
  {
   "cell_type": "markdown",
   "metadata": {},
   "source": [
    "# In-class assignment: Code Review\n",
    "\n",
    "\n",
    "<img alt=\"Cartoon of a super bug like superman\" src=\"https://sites.psu.edu/siowfa16/files/2016/10/Screen-Shot-2016-10-18-at-12.50.26-AM-1egeuzd.png\" width=400px>\n",
    "\n",
    "Image from: [Danil Nagy\n",
    " blog on Behavioral Systems](https://medium.com/generative-design/behavioral-systems-d010d0d11932_)"
   ]
  },
  {
   "cell_type": "markdown",
   "metadata": {},
   "source": [
    "### Agenda for today's class (80 minutes)\n",
    "\n",
    "\n",
    "1. [(20 minutes) Review of pre-class assignment](#Review_of_pre-class_assignment)\n",
    "1. [(20 minutes) Review updated Tower Interface](#Code_Review_updated_Tower_Interface)\n",
    "1. [(20 minutes) Graph Theory Report Review](#Graph_Theory_Report_Review)\n",
    "2. [(20 minutes) Code Review Superbugs](#Code_Review_Superbugs)"
   ]
  },
  {
   "cell_type": "markdown",
   "metadata": {},
   "source": [
    "---\n",
    "<a name=\"T3\"></a>\n",
    "# 1. Review of pre-class assignment\n",
    "\n",
    "* [1019-OOP_pre-class-assignment](1019-OOP_pre-class-assignment.ipynb)"
   ]
  },
  {
   "cell_type": "markdown",
   "metadata": {},
   "source": [
    "---\n",
    "<a name=\"Code_Review_updated_Tower_Interface\"></a>\n",
    "# 2. Code Review updated Tower Interface\n",
    "\n",
    "    git clone https://gitlab.msu.edu/tuethan/cell-tower.git\n",
    "\n",
    "    --or--\n",
    "\n",
    "    git pull"
   ]
  },
  {
   "cell_type": "markdown",
   "metadata": {},
   "source": [
    "---\n",
    "<a name=\"Graph_Theory_Report_Review\"></a>\n",
    "\n",
    "# 3. Graph Theory Report Review\n",
    "\n",
    "Break up into groups (find people you don't know) and discuss your Graph theory reports from Friday. Share a summary of what you learned and some of the ideas.  Again, the goal is to learn something from each other.  Here are some questions to answer:\n",
    "\n",
    "- How is graph theory currently used in your area of research?\n",
    "- Did you have any new ideas on how graph theory could be used?\n",
    "\n",
    "Be prepared to share interesting things from your discussion with the entire class. "
   ]
  },
  {
   "cell_type": "markdown",
   "metadata": {},
   "source": [
    "----\n",
    "<a name=\"Code_Review_Superbugs\"></a>\n",
    "# 4. Code Review Superbugs\n",
    "\n",
    "Clone the following directory. Review the example and disuss with your group what the code is doing. \n",
    "\n",
    "- https://gitlab.msu.edu/colbrydi/superbugs.git\n",
    "\n",
    "Here are some questions to answer:\n",
    "\n",
    "- What does this code do?\n",
    "- How does the code use classes?  \n",
    "- What might someone research using this type of code base?\n",
    "- How would you extend the code base to do something different?\n",
    "\n",
    "Be prepared to share interesting things from your discussion with the entire class. "
   ]
  },
  {
   "cell_type": "markdown",
   "metadata": {},
   "source": [
    "-----\n",
    "### Congratulations, we're done!"
   ]
  },
  {
   "cell_type": "markdown",
   "metadata": {},
   "source": [
    "### Course Resources:\n",
    "\n",
    "###Links###"
   ]
  },
  {
   "cell_type": "markdown",
   "metadata": {},
   "source": [
    "Written by Dirk Colbry, Michigan State University\n",
    "<a rel=\"license\" href=\"http://creativecommons.org/licenses/by-nc/4.0/\"><img alt=\"Creative Commons License\" style=\"border-width:0\" src=\"https://i.creativecommons.org/l/by-nc/4.0/88x31.png\" /></a><br />This work is licensed under a <a rel=\"license\" href=\"http://creativecommons.org/licenses/by-nc/4.0/\">Creative Commons Attribution-NonCommercial 4.0 International License</a>."
   ]
  },
  {
   "cell_type": "markdown",
   "metadata": {},
   "source": [
    "----"
   ]
  }
 ],
 "metadata": {
  "kernelspec": {
   "display_name": "Python 3",
   "language": "python",
   "name": "python3"
  },
  "language_info": {
   "codemirror_mode": {
    "name": "ipython",
    "version": 3
   },
   "file_extension": ".py",
   "mimetype": "text/x-python",
   "name": "python",
   "nbconvert_exporter": "python",
   "pygments_lexer": "ipython3",
   "version": "3.8.3"
  }
 },
 "nbformat": 4,
 "nbformat_minor": 2
}
