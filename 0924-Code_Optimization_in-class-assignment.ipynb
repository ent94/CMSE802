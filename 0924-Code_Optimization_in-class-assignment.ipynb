{
 "cells": [
  {
   "cell_type": "markdown",
   "metadata": {},
   "source": [
    "In order to successfully complete this assignment you need to demonstrate progress by showing this notebook to an instructor at the end of class on **Thursday September 24**.  If you are participating asyncronosly in the class you must attempt to complete the notebook and turn in a copy to the D2L Dropbox no later than 11:50pm on **Thursday September 24**."
   ]
  },
  {
   "cell_type": "markdown",
   "metadata": {},
   "source": [
    "# In-Class Assignment: Making your code run faster\n",
    "\n",
    "\n",
    "\n",
    "<img src=\"https://i.ytimg.com/vi/ZBZLx0ZLEJQ/maxresdefault.jpg\" alt=\"Cars racing as a analogy for code running faster\" width=\"50%\">\n",
    "\n",
    "Image From: https://en.wikipedia.org/wiki/Hydra"
   ]
  },
  {
   "cell_type": "markdown",
   "metadata": {},
   "source": [
    "### Agenda for today's class (80 minutes)\n",
    "\n",
    "\n",
    "1. [(20 minutes) Pre-class Review](#Pre-class_Review)\n",
    "2. [(20 minutes) How do you make Python go faster?](#How_do_you_make_Python_go_faster)\n",
    "3. [(20 minutes) Wave Equations](#Wave_Equation)\n",
    "4. [(20 minutes) Virtual tour of the HPCC](#Virtual_tour_of_the_HPCC)\n",
    "\n"
   ]
  },
  {
   "cell_type": "markdown",
   "metadata": {},
   "source": [
    "----\n",
    "<a name=\"Pre-class_Review\"></a>\n",
    "# 1. Pre-class Review\n",
    "\n",
    "- [0923-Code_Optimization-pre-class-assignment](0923-Code_Optimization-pre-class-assignment.ipynb)"
   ]
  },
  {
   "cell_type": "markdown",
   "metadata": {},
   "source": [
    "---\n",
    "<a name=\"How_do_you_make_Python_go_faster\"></a>\n",
    "\n",
    "# 2. How do you make Python go faster?\n",
    "\n",
    "What Ideas did you find using google?"
   ]
  },
  {
   "cell_type": "markdown",
   "metadata": {},
   "source": [
    "----\n",
    "<a name=\"Wave_Equation\"></a>\n",
    "\n",
    "# 3. Wave Equation\n",
    "\n",
    "In this section we will explore the speed of a 1D wave equation simulation.  This section can be broken up into the following subsections:\n",
    "\n",
    "<img src=\"https://i.stack.imgur.com/75vyK.gif\" width=25%>\n",
    "\n",
    "\n",
    "- [Wave equation overview](#Wave_equation_overview)\n",
    "- [Basic Python Example](#Basic_Python_Example)\n",
    "- [Vectorizing code with Numpy](#Vectorizing_code_with_Numpy)\n",
    "- [Compiling Python code using Numba](#Compiling_Python_code_using_Numba)\n",
    "- [Parallel Python](#Parallel_Python)\n",
    "\n",
    "<a name=\"Wave_equation_overview\"></a>\n",
    "## Wave equation overview\n",
    "This subsection describes the math behind this particular 1D wave simulation.  Knowing this math is not important to the lesson on speeding up code but is included for completness (And I already had it written up).\n",
    "\n",
    "The wave equation is an  second-order linear partial differential equation for the description of waves as they occur in classical physics (for example: water waves, sound waves and seismic waves, light waves).  The basic algorithm splits the wave into a grid of points and calculates the point's position, velocity and acceleration.  The key incite to making the wave equations work that an individuals point will lead/follow the behavior of that points neighbors.  \n",
    "\n",
    "\n",
    "In the 1D case we will model a line of points in the x-direction such that thy can only move in the y direction. The position for each point  $y$ can be calculated by the particle's previous position and the particle's velocity multiplied by the change in time:\n",
    "\n",
    "$$y_{i+1} = y_i + \\dot{y}_idt$$\n",
    "\n",
    "Notation:\n",
    "$$\\frac{dy}{dt} = \\dot{y} = v = \\text{velocity of particle in y direction}$$\n",
    "\n",
    "We calculation the velocity using the acceleration:\n",
    "\n",
    "$$\\dot{y}_{i+1} = \\dot{y}_i + \\ddot{y}_idt$$\n",
    "\n",
    "Notation:\n",
    "$$\\frac{d^2y}{dt^2} = \\frac{dv}{dt} = \\ddot{y} = a = \\text{acceleration of particle in y direction}$$\n",
    "\n",
    "\n",
    "Given the above equations,  if we know the starting values $y_0$, $\\dot{y}_0$, $\\ddot{y}_0$ then the only unknown is the equation for how the acceleration changes.  \n",
    "\n",
    "**Wave Equation:** We will estimate acceleration in time by using acceleration in space. Intuitively we can think about this as any point can estimate where it will be in the future by looking at it's neighbors. Mathematically we show this equation as follows:\n",
    "\n",
    "\n",
    "$$\\frac{d^2y}{dt^2} = \\gamma\\frac{d^2y}{dx^2}$$\n",
    "\n"
   ]
  },
  {
   "cell_type": "markdown",
   "metadata": {},
   "source": [
    "We know the acceleration in space using the Euler's finite difference of the particle's position:"
   ]
  },
  {
   "cell_type": "markdown",
   "metadata": {},
   "source": [
    "$$\\frac{d^2y}{dx^2} \\approx \\frac{y[i+1]-2y[i]+y[i-1]}{dx^2}$$"
   ]
  },
  {
   "cell_type": "markdown",
   "metadata": {},
   "source": [
    "To get the above equation we estimate the velocity to the Left and Right (Before and After) the point of interest using Finite Difference:\n",
    "\n",
    "$$\\dot{y}[i]_L = \\frac{y[i]-y[i-1]}{dx}$$\n",
    "\n",
    "$$\\dot{y}[i]_R = \\frac{y[i+1]-y[i]}{dx}$$"
   ]
  },
  {
   "cell_type": "markdown",
   "metadata": {},
   "source": [
    "Second, using the Left and Right Velocity,  we use finite difference again to estimate the acceleration:\n",
    "\n",
    "$$\\ddot{y}[i] = \\frac{\\dot{y}[i]_R - \\dot{y}[i]_L}{dx}$$"
   ]
  },
  {
   "cell_type": "markdown",
   "metadata": {},
   "source": [
    "Putting it all together and simplifying we get the followign:"
   ]
  },
  {
   "cell_type": "markdown",
   "metadata": {},
   "source": [
    "$$\\ddot{y}[i] = \\frac{y[i+1]-2y[i]+y[i-1]}{dx^2}$$"
   ]
  },
  {
   "cell_type": "markdown",
   "metadata": {},
   "source": [
    "Given the above we can calculate a points position at time step $t+1$ by using it's position/velocity at timestep $t$ and it's neighbors position at time step $t-1$.\n"
   ]
  },
  {
   "cell_type": "markdown",
   "metadata": {},
   "source": [
    "Pseudocode and settings for 1D Wave Equation\n",
    "\n",
    "> ### Divide simulation into grid in the x direction\n",
    "> \n",
    "> $xmin = 0; xmax=10; nx=500$\n",
    ">\n",
    "> $dx = \\frac{xmax-xmin}{nx}$\n",
    ">\n",
    "> $x = \\text{linspace}(xmin, xmax, nx)$  #Returns a row vector of nx evenly spaced points between xmin and xmax.\n",
    ">\n",
    "> ### Divide time into discrete units\n",
    ">\n",
    "> $tmin = 0; tmax=10; nt=1000000$\n",
    ">\n",
    "> $dt = \\frac{tmax-tmin}{nt}$\n",
    ">\n",
    "> $times = \\text{linespace}(tmin,tmax, nt)$ #Returns a row vector of nt evenly spaced points between tmin and tmax.\n",
    ">\n",
    "> ### Initialize starting position as a simple pulse\n",
    ">\n",
    "> $y_i = e^{-(x_i-5)^2}$ for all $i \\in [0,nx)$\n",
    ">\n",
    "> ### Initialize velocity and acceleration to zero\n",
    ">\n",
    "> $\\dot{y}_i = 0$ for all $i \\in [0,nx)$\n",
    ">\n",
    "> $\\ddot{y}_i = 0$ for all $i \\in [0,nx)$\n",
    ">\n",
    "> $\\gamma = 1$\n",
    ">\n",
    "> ### Run the simulation of t timesteps\n",
    "> Loop over index $t$ in $times$:\n",
    ">\n",
    ">    > $\\ddot{y}_0 = 0$ # Keep acceleration to zero on ends\n",
    ">    >\n",
    ">    > $\\ddot{y}_{nx-1} = 0$ # Keep acceleration to zero on ends\n",
    ">    >\n",
    ">    > $\\ddot{y}_i \\approx \\gamma \\frac{y_{(i+1)} + y_{(i-1)}-2y_i}{dx^2}$ for all $i \\in (0,nx-1)$ # Estimate acceleration using position\n",
    ">    > \n",
    ">    > $y_i = y_i + \\dot{y}_i dt$   for all $i \\in [0,nx)$ # Update position\n",
    ">    >\n",
    ">    > $\\dot{y}_{i} = \\dot{y}_i+ \\ddot{y}_idt$   for all $i \\in [0,nx)$ # Update velocity\n"
   ]
  },
  {
   "cell_type": "markdown",
   "metadata": {},
   "source": [
    "<a name=\"Basic_Python_Example\"></a>\n",
    "## Basic Python Example"
   ]
  },
  {
   "cell_type": "code",
   "execution_count": null,
   "metadata": {},
   "outputs": [],
   "source": [
    "%matplotlib inline\n",
    "import matplotlib.pylab as plt\n",
    "from IPython.display import display, clear_output\n",
    "import time\n",
    "def show_animation(delay=0.01):\n",
    "    fig = plt.gcf()\n",
    "    time.sleep(delay)       # Sleep for half a second to slow down the animation\n",
    "    clear_output(wait=True) # Clear output for dynamic display\n",
    "    display(fig)            # Reset display\n",
    "    fig.clear()             # Prevent overlapping and layered plots"
   ]
  },
  {
   "cell_type": "code",
   "execution_count": null,
   "metadata": {},
   "outputs": [],
   "source": [
    "%%time \n",
    "# Python only 1D Wave Example\n",
    "import math \n",
    "\n",
    "tees = []\n",
    "Bool = [True,False]\n",
    "for i in Bool:\n",
    "    start = time.time()\n",
    "    show=i\n",
    "    xmin = 0.0\n",
    "    xmax = 10.0\n",
    "    nx = 500\n",
    "    dx = (xmax-xmin)/(nx-1.0)\n",
    "    x = [0.0]*nx\n",
    "    x[0]=0.0\n",
    "    for i in range(1,nx-1):\n",
    "        x[i]=xmin+i*dx\n",
    "    x[nx-1]=10.0\n",
    "\n",
    "    nt = 100000\n",
    "    tmin = 0.0\n",
    "    tmax = 10.0\n",
    "    dt = (tmax-tmin)/(nt-1.0)\n",
    "    tgrid = [0.0]*nt\n",
    "    tgrid[0]=0.0\n",
    "    for i in range(1,nt-1):\n",
    "        tgrid[i]=tmin+i*dt\n",
    "    tgrid[nx-1]=10.0\n",
    "\n",
    "\n",
    "    y = [0.0]*nx\n",
    "    v = [0.0]*nx\n",
    "    dvdt = [0.0]*nx\n",
    "    for i in range(0,nx-1):\n",
    "        y[i] = math.exp(-(x[i]-5.0)**2)\n",
    "\n",
    "    count = 0\n",
    "    for t in tgrid:\n",
    "        for i in range(1,nx-1):\n",
    "            dvdt[i]=(y[i+1]+y[i-1]-2.0*y[i])/dx/dx\n",
    "        for i in range(0,nx-1):\n",
    "            y[i] = y[i] + v[i]*dt\n",
    "            v[i] = v[i] + dvdt[i]*dt\n",
    "\n",
    "        if not count%10000 and show:\n",
    "            plt.plot(x, y);\n",
    "            plt.title(count)\n",
    "            show_animation();\n",
    "        count += 1\n",
    "\n",
    "\n",
    "    plt.plot(x,y)\n",
    "    show_animation();\n",
    "    t = time.time()-start\n",
    "    tees.append(t)\n",
    "print(Bool)\n",
    "print(tees)"
   ]
  },
  {
   "cell_type": "markdown",
   "metadata": {},
   "source": [
    "&#9989; **<font color=red>DO THIS</font>**: Run the above simple python simulation (It will take a while) with the show variable set to ```True``` and ```False```.  Record the time it takes to run below."
   ]
  },
  {
   "cell_type": "markdown",
   "metadata": {},
   "source": [
    "Show = True  \n",
    "time = 37.667351722717285 s  \n",
    "Show = False  \n",
    "time = 36.0538125038147 s  "
   ]
  },
  {
   "cell_type": "markdown",
   "metadata": {},
   "source": [
    "<a name=\"Vectorizing_code_with_Numpy\"></a>\n",
    "\n",
    "## Vectorizing code with Numpy\n",
    "\n",
    "Numpy uses C-compiled code to speed up Python.  Most slowdown's in code happen when there are big loops.  Numpy uses a lot of very cool tricks (ex vectorization) to make loops go really fast. SO, the trick to making Numpy go fast is to let Numpy run your loops for you.  \n",
    "\n",
    "Consider the 1D wave equation example:"
   ]
  },
  {
   "cell_type": "code",
   "execution_count": null,
   "metadata": {
    "scrolled": true
   },
   "outputs": [],
   "source": [
    "%%time\n",
    "#NUMPY 1D Wave Example\n",
    "%matplotlib inline\n",
    "import matplotlib.pylab as plt\n",
    "import numpy as np\n",
    "\n",
    "tees = []\n",
    "Bool = [True,False]\n",
    "\n",
    "for i in Bool:\n",
    "\n",
    "    start = time.time()\n",
    "    show = i\n",
    "    xmin = 0.0\n",
    "    xmax = 10.0\n",
    "    nx = 500\n",
    "    gamma = 1\n",
    "    x = np.linspace(xmin, xmax, nx)\n",
    "    dx = (xmax-xmin)/nx\n",
    "\n",
    "    y = np.zeros(nx)\n",
    "    y = np.exp(-(np.array(x)-5.0)**2)\n",
    "\n",
    "    tmin = 0.0\n",
    "    tmax = 10.0\n",
    "    nt = 100000\n",
    "    tgrid = np.linspace(tmin,tmax,nt)\n",
    "    dt = (tmax-tmin)/nt\n",
    "\n",
    "    v = np.zeros(nx)\n",
    "    dvdt = np.zeros(nx)\n",
    "\n",
    "\n",
    "    count = 0\n",
    "    ddx = dx*dx\n",
    "    dvdt2 = dvdt.copy()\n",
    "\n",
    "    count = 0\n",
    "    for t in tgrid:\n",
    "        #laplacian\n",
    "        dvdt[1:-1] = gamma*(y[:-2]-2*y[1:-1]+y[2:])/ddx\n",
    "        y += v*dt\n",
    "        v += dvdt*dt\n",
    "    \n",
    "        if not count%10000 and show:\n",
    "            plt.plot(x,y)\n",
    "            plt.title(count)\n",
    "            show_animation()\n",
    "        count += 1\n",
    "    plt.plot(x,y)\n",
    "    show_animation()\n",
    "    t = time.time()-start\n",
    "    tees.append(t)\n",
    "print(Bool)\n",
    "print(tees)"
   ]
  },
  {
   "cell_type": "markdown",
   "metadata": {},
   "source": [
    "&#9989; **<font color=red>DO THIS</font>**: Run the above numpy python simulation (It will take a while) with the show variable set to ```True``` and ```False```.  Record the time it takes to run below."
   ]
  },
  {
   "cell_type": "markdown",
   "metadata": {},
   "source": [
    "Show = True  \n",
    "time = 3.1173012256622314 s  \n",
    "Show = False  \n",
    "time = 1.479865550994873 s  "
   ]
  },
  {
   "cell_type": "markdown",
   "metadata": {},
   "source": [
    "<a name=\"Compiling_Python_code_using_Numba\"></a>\n",
    "## Compiling Python code using Numba\n",
    "\n",
    "Numba is a module that takes your standard python function and turns it into c-code then compiles/runs the c version of the funciton.  It can speed things up very nicely.  In this example, we will use the ```@jit``` (Just in time) to convert the code in seciton 2 ([Slow 2D Wave Equation Example](#Slow_2D_Wave_Equation_Example)) to work with numba.  Here are the steps:\n",
    "\n",
    "1. Import the numba jit module using```from numba import jit```\n",
    "1. Copy all of your code into a function so jit has something to work with.\n",
    "3. Add the ```@jit``` with options before the declaration of the function to enable just in time compiling on the function."
   ]
  },
  {
   "cell_type": "code",
   "execution_count": null,
   "metadata": {
    "scrolled": false
   },
   "outputs": [],
   "source": [
    "import math\n",
    "from numba import jit\n",
    "\n",
    "@jit \n",
    "def wave_sim(bb):\n",
    "    show = bb\n",
    "    xmin = 0.0\n",
    "    xmax = 10.0\n",
    "    nx = 500\n",
    "    dx = (xmax-xmin)/(nx-1.0)\n",
    "    x = [0.0]*nx\n",
    "    x[0]=0.0\n",
    "    for i in range(1,nx-1):\n",
    "        x[i]=xmin+i*dx\n",
    "    x[nx-1]=10.0\n",
    "\n",
    "    nt = 100000\n",
    "    tmin = 0.0\n",
    "    tmax = 10.0\n",
    "    dt = (tmax-tmin)/(nt-1.0)\n",
    "    tgrid = [0.0]*nt\n",
    "    tgrid[0]=0.0\n",
    "    for i in range(1,nt-1):\n",
    "        tgrid[i]=tmin+i*dt\n",
    "    tgrid[nx-1]=10.0\n",
    "\n",
    "\n",
    "    y = [0.0]*nx\n",
    "    v = [0.0]*nx\n",
    "    dvdt = [0.0]*nx\n",
    "    for i in range(0,nx-1):\n",
    "        y[i] = math.exp(-(x[i]-5.0)**2)\n",
    "\n",
    "    count = 0\n",
    "    for t in tgrid:\n",
    "        for i in range(1,nx-1):\n",
    "            dvdt[i]=(y[i+1]+y[i-1]-2.0*y[i])/dx/dx\n",
    "        for i in range(0,nx-1):\n",
    "            y[i] = y[i] + v[i]*dt\n",
    "            v[i] = v[i] + dvdt[i]*dt\n",
    "\n",
    "#        if not count%10000 and show:\n",
    "#            plt.plot(x, y);\n",
    "#            plt.title(count)\n",
    "#            show_animation();\n",
    "#        count += 1\n",
    "\n",
    "    return x,y;\n"
   ]
  },
  {
   "cell_type": "code",
   "execution_count": null,
   "metadata": {
    "scrolled": false
   },
   "outputs": [],
   "source": [
    "%%time \n",
    "%matplotlib inline\n",
    "import matplotlib.pylab as plt\n",
    "tees = []\n",
    "Bool = [True,False]\n",
    "\n",
    "for i in Bool:\n",
    "    start = time.time()\n",
    "    x,y = wave_sim(i)\n",
    "    show_animation();\n",
    "    plt.plot(x, y);\n",
    "    t = time.time()-start\n",
    "    tees.append(t)\n",
    "print(Bool)\n",
    "print(tees)"
   ]
  },
  {
   "cell_type": "markdown",
   "metadata": {},
   "source": [
    "&#9989; **<font color=red>DO THIS</font>**: Run the above simple python simulation (It will take a while) with the show variable set to ```True``` and ```False```.  Record the time it takes to run below.  **NOTE:** You will probably get some compile warnings, irgnore these for now."
   ]
  },
  {
   "cell_type": "markdown",
   "metadata": {},
   "source": [
    "Show = True  \n",
    "time = 22.26329493522644 s  \n",
    "Show = False  \n",
    "time = 17.726109504699707 s  "
   ]
  },
  {
   "cell_type": "markdown",
   "metadata": {},
   "source": [
    "&#9989; **<font color=red>DO THIS</font>**: Modify the function to only use \"core\" python methods only. i.e. completely comment out all lines of code that use libraries such as numpy and/or matplotlib. IN the above example, comment out lines 40-45.  Record the time it takes to run below.  **NOTE:** This will get rid of the compile warnings from above.\n"
   ]
  },
  {
   "cell_type": "markdown",
   "metadata": {},
   "source": [
    "Show = True  \n",
    "time = 1.1872212886810303 s  \n",
    "Show = False  \n",
    "time = 0.77040696144104 s"
   ]
  },
  {
   "cell_type": "markdown",
   "metadata": {},
   "source": [
    "<a name=\"Parallel_Python\"></a>\n",
    "\n",
    "## Parallel Python\n",
    "\n",
    "<img src=\"https://images-na.ssl-images-amazon.com/images/I/41dqFN7dIrL.jpg\" alt=\"pile of toy snakes as a abstract representation of python running in parallel\">\n",
    "\n",
    "Image from: https://www.amazon.com/\n",
    "    \n",
    "Another way to achieve speedup is to utilize multiple processors on your computer. "
   ]
  },
  {
   "cell_type": "markdown",
   "metadata": {},
   "source": [
    "&#9989; **<font color=red>DO THIS</font>**: Replace the jit line from above with the following ```@jit (nopython=True, parallel=True)```. When avaliable this will run the code on more than one core. Give it a try and record your results."
   ]
  },
  {
   "cell_type": "code",
   "execution_count": null,
   "metadata": {},
   "outputs": [],
   "source": [
    "import math\n",
    "from numba import jit\n",
    "\n",
    "@jit (nopython=True, parallel=True)\n",
    "def wave_sim(bb):\n",
    "    show = bb\n",
    "    xmin = 0.0\n",
    "    xmax = 10.0\n",
    "    nx = 500\n",
    "    dx = (xmax-xmin)/(nx-1.0)\n",
    "    x = [0.0]*nx\n",
    "    x[0]=0.0\n",
    "    for i in range(1,nx-1):\n",
    "        x[i]=xmin+i*dx\n",
    "    x[nx-1]=10.0\n",
    "\n",
    "    nt = 100000\n",
    "    tmin = 0.0\n",
    "    tmax = 10.0\n",
    "    dt = (tmax-tmin)/(nt-1.0)\n",
    "    tgrid = [0.0]*nt\n",
    "    tgrid[0]=0.0\n",
    "    for i in range(1,nt-1):\n",
    "        tgrid[i]=tmin+i*dt\n",
    "    tgrid[nx-1]=10.0\n",
    "\n",
    "\n",
    "    y = [0.0]*nx\n",
    "    v = [0.0]*nx\n",
    "    dvdt = [0.0]*nx\n",
    "    for i in range(0,nx-1):\n",
    "        y[i] = math.exp(-(x[i]-5.0)**2)\n",
    "\n",
    "    count = 0\n",
    "    for t in tgrid:\n",
    "        for i in range(1,nx-1):\n",
    "            dvdt[i]=(y[i+1]+y[i-1]-2.0*y[i])/dx/dx\n",
    "        for i in range(0,nx-1):\n",
    "            y[i] = y[i] + v[i]*dt\n",
    "            v[i] = v[i] + dvdt[i]*dt\n",
    "\n",
    "#        if not count%10000 and show:\n",
    "#            plt.plot(x, y);\n",
    "#            plt.title(count)\n",
    "#            show_animation();\n",
    "#        count += 1\n",
    "\n",
    "    return x,y;\n"
   ]
  },
  {
   "cell_type": "code",
   "execution_count": null,
   "metadata": {},
   "outputs": [],
   "source": [
    "%%time \n",
    "%matplotlib inline\n",
    "import matplotlib.pylab as plt\n",
    "tees = []\n",
    "Bool = [True,False]\n",
    "\n",
    "for i in Bool:\n",
    "    start = time.time()\n",
    "    x,y = wave_sim(i)\n",
    "    show_animation();\n",
    "    plt.plot(x, y);\n",
    "    t = time.time()-start\n",
    "    tees.append(t)\n",
    "print(Bool)\n",
    "print(tees)"
   ]
  },
  {
   "cell_type": "markdown",
   "metadata": {},
   "source": [
    "Show = True  \n",
    "time = 1.3431506156921387 s  \n",
    "Show = False  \n",
    "time = 0.7485382556915283 s"
   ]
  },
  {
   "cell_type": "markdown",
   "metadata": {},
   "source": [
    "&#9989; **<font color=red>DO THIS:</font>** Take your results from the entire study and plot them.&#9989; "
   ]
  },
  {
   "cell_type": "code",
   "execution_count": null,
   "metadata": {},
   "outputs": [],
   "source": [
    "import numpy as np"
   ]
  },
  {
   "cell_type": "code",
   "execution_count": null,
   "metadata": {},
   "outputs": [],
   "source": [
    "xind = ['Basic','Vectorized','Numba','Parallel']\n",
    "yvalsT = [37.667351722717285,3.1173012256622314,22.26329493522644,1.3431506156921387]\n",
    "yvalsF = [36.0538125038147,1.479865550994873,0.77040696144104,0.7485382556915283]\n",
    "\n",
    "x = np.arange(len(xind))\n",
    "w = 0.3\n",
    "\n",
    "fig, ax = plt.subplots()\n",
    "\n",
    "plt.title('Timing Study')\n",
    "ax.bar(x-w/2,yvalsT,label='True',width=w)\n",
    "plt.bar(x+w/2,yvalsF,label='False',width=w)\n",
    "ax.set_xticks(x)\n",
    "ax.set_xticklabels(xind)\n",
    "plt.xlabel('Method')\n",
    "plt.ylabel('Time (s)')\n",
    "plt.legend()\n",
    "plt.show()"
   ]
  },
  {
   "cell_type": "markdown",
   "metadata": {},
   "source": [
    "---\n",
    "<a name=\"#Virtual_tour_of_the_HPCC\"></a>\n",
    "# 4. Virtual tour of the HPCC\n",
    "\n",
    "https://icer.msu.edu/dashboard\n",
    "\n",
    "If we have time I will give a virtual tour of the HPC. \n",
    "\n",
    "- Login vs developer resources\n",
    "- Multiple computers, shared filesystem\n",
    "- Module system for managing software\n",
    "- Batch Scheduler"
   ]
  },
  {
   "cell_type": "markdown",
   "metadata": {},
   "source": [
    "Commands we may use:\n",
    "    \n",
    "```\n",
    "ssh hpcc.msu.edu\n",
    "ls \n",
    "cd\n",
    "module spider\n",
    "python\n",
    "ipython\n",
    "pwd\n",
    "```\n"
   ]
  },
  {
   "cell_type": "markdown",
   "metadata": {},
   "source": [
    "-----\n",
    "### Congratulations, we're done!"
   ]
  },
  {
   "cell_type": "markdown",
   "metadata": {},
   "source": [
    "### Course Resources:\n",
    "\n",
    "\n",
    "- [Website](https://msu-cmse-courses.github.io/cmse802-f20-student/)\n",
    "- [ZOOM](https://msu.zoom.us/j/97272546850)\n",
    "- [Syllabus](https://docs.google.com/document/d/e/2PACX-1vT9Wn11y0ECI_NAUl_2NA8V5jcD8dXKJkqUSWXjlawgqr2gU5hII3IsE0S8-CPd3W4xsWIlPAg2YW7D/pub)\n",
    "- [Schedule](https://docs.google.com/spreadsheets/d/e/2PACX-1vQRAm1mqJPQs1YSLPT9_41ABtywSV2f3EWPon9szguL6wvWqWsqaIzqkuHkSk7sea8ZIcIgZmkKJvwu/pubhtml?gid=2142090757&single=true)\n",
    "\n",
    "#"
   ]
  },
  {
   "cell_type": "markdown",
   "metadata": {},
   "source": [
    "Written by Dirk Colbry, Michigan State University\n",
    "<a rel=\"license\" href=\"http://creativecommons.org/licenses/by-nc/4.0/\"><img alt=\"Creative Commons License\" style=\"border-width:0\" src=\"https://i.creativecommons.org/l/by-nc/4.0/88x31.png\" /></a><br />This work is licensed under a <a rel=\"license\" href=\"http://creativecommons.org/licenses/by-nc/4.0/\">Creative Commons Attribution-NonCommercial 4.0 International License</a>."
   ]
  }
 ],
 "metadata": {
  "kernelspec": {
   "display_name": "Python 3",
   "language": "python",
   "name": "python3"
  },
  "language_info": {
   "codemirror_mode": {
    "name": "ipython",
    "version": 3
   },
   "file_extension": ".py",
   "mimetype": "text/x-python",
   "name": "python",
   "nbconvert_exporter": "python",
   "pygments_lexer": "ipython3",
   "version": "3.8.3"
  }
 },
 "nbformat": 4,
 "nbformat_minor": 2
}
