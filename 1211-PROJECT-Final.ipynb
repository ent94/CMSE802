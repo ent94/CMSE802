{
 "cells": [
  {
   "cell_type": "markdown",
   "metadata": {},
   "source": [
    "In order to successfully complete this assignment you need to commit changes to your shared git repository on or before **11:59pm on Friday December 11**."
   ]
  },
  {
   "cell_type": "markdown",
   "metadata": {},
   "source": [
    "# Final Project\n",
    "\n",
    "![Finish Line](https://cdn.pixabay.com/photo/2016/03/31/21/07/checkered-1296203__340.png)\n",
    "\n",
    "The final project and all of it's milestone components are due on the last day of class.  If you have any questions about content and/or format please review the [submission guildlines for the journal of open source software](https://joss.readthedocs.io/en/latest/submitting.html).   Please double check all of the following milestones:\n",
    "\n",
    "\n",
    "## [0911-PROJECT_GIT-init](0911-PROJECT_GIT-init.ipynb)\n",
    "\n",
    "All projects should follow the same basic structure laid out at the beginning of the semester. File and folder naming is important.  Use meaningful names as described in class. \n",
    "\n",
    "    ProjectName/\n",
    "        .gitignore\n",
    "        docs/\n",
    "             ProjectProposal.ipynb\n",
    "             package_name/\n",
    "                  module1.html\n",
    "                  module2.html\n",
    "             images/\n",
    "                  image1.jpg\n",
    "        environments.yml\n",
    "        Examples/\n",
    "              datafile1.csv\n",
    "              datafile2.tiff\n",
    "              datafile3.xls\n",
    "        LICENSE.txt\n",
    "        makefile\n",
    "        Models/\n",
    "             Otimization_Report.ipynb\n",
    "             Statistical_Methods_Report.ipynb\n",
    "             Graph_Theory_Report.ipynb\n",
    "             ABM_Report.ipynb\n",
    "             ML_Report.ipynb\n",
    "             ODE_Report.ipynb\n",
    "        package_name/\n",
    "              __init__.py\n",
    "              module1.py\n",
    "              module2.py\n",
    "              test/\n",
    "                  __init__.py\n",
    "                  test_module1.py\n",
    "                  test_module2.py\n",
    "        README.md\n",
    "        setup.py\n",
    "        Tutorial.ipynb\n",
    "        \n",
    "\n",
    "## [0925-PROJECT_Proposal_Template](0925-PROJECT_Proposal_Template.ipynb)\n",
    "\n",
    "Make sure to include a copy of your proposal and update the ```README.md``` file to properly describe the project, installation an examples. \n",
    "\n",
    "##  [1009-PROJECT_Auto_Documentation](1009-PROJECT_Auto_Documentation.ipynb)\n",
    "\n",
    "Make sure the project is properly documented and that instructor is able to automatically generate the documentation using the ```make docs``` command as laid out in the project ```makefile.```  \n",
    "\n",
    "## [1023_PROJECT_Unit-Testing](1023_PROJECT_Unit-Testing.ipynb)\n",
    "\n",
    "Make sure the project has appropriate unit testing and the instructor is able to automatically run the unit testing system using the ```make test``` command as laid out in the project ```makefile```.\n",
    "\n",
    "##  [1106_PROJECT_Linting](1106_PROJECT_Linting.ipynb)\n",
    "\n",
    "Make sure the project is properly linted and the instructor is able to automatically run the linting program using the ```make lint``` command as laid out in the project ```makefile```.\n",
    "\n",
    "## [1120_PROJECT_Structure](1120_PROJECT_Structure.ipynb)\n",
    "\n",
    "Make sure the project has a working ```environments.yml``` file and the instructor is able to create a project specific conda environment using the ```make init``` command as laid out in the project ```makefile```.  \n",
    "\n",
    "## [1204-PROJECT-Final-Presentation-Template](PROJECT-Final-Presentation-Template.ipynb)\n",
    "\n",
    "Include a prominent link to your final video in the project ```README.md``` file. "
   ]
  },
  {
   "cell_type": "code",
   "execution_count": null,
   "metadata": {},
   "outputs": [],
   "source": [
    "from IPython.display import HTML\n",
    "HTML(\n",
    "\"\"\"\n",
    "<iframe \n",
    "\tsrc=\"https://docs.google.com/forms/d/e/1FAIpQLSfqHcsVwqKyGsGhA9jcy839EOKe0gP9rkReeOgHpc6qYpv-Cg/viewform\" \n",
    "\twidth=\"100%\" \n",
    "\theight=\"1200px\" \n",
    "\tframeborder=\"0\" \n",
    "\tmarginheight=\"0\" \n",
    "\tmarginwidth=\"0\">\n",
    "\tLoading...\n",
    "</iframe>\n",
    "\"\"\"\n",
    ")"
   ]
  },
  {
   "cell_type": "markdown",
   "metadata": {},
   "source": [
    "-----\n",
    "\n",
    "### Congratulations, you are done!\n",
    "\n",
    "Now, you just need to commit and push this report to your project git repository. "
   ]
  },
  {
   "cell_type": "markdown",
   "metadata": {},
   "source": [
    "---"
   ]
  }
 ],
 "metadata": {
  "anaconda-cloud": {},
  "kernelspec": {
   "display_name": "Python 3",
   "language": "python",
   "name": "python3"
  },
  "language_info": {
   "codemirror_mode": {
    "name": "ipython",
    "version": 3
   },
   "file_extension": ".py",
   "mimetype": "text/x-python",
   "name": "python",
   "nbconvert_exporter": "python",
   "pygments_lexer": "ipython3",
   "version": "3.7.3"
  }
 },
 "nbformat": 4,
 "nbformat_minor": 1
}
