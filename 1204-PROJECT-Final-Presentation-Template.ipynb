{
 "cells": [
  {
   "cell_type": "markdown",
   "metadata": {},
   "source": [
    "In order to successfully complete this assignment you need to commit changes to your shared git repository on or before **11:59pm on Friday December 4**."
   ]
  },
  {
   "cell_type": "markdown",
   "metadata": {},
   "source": [
    "# Project Final Presentation Video\n",
    "\n",
    "<img src=\"https://upload.wikimedia.org/wikipedia/commons/thumb/2/2b/Movie_-_The_Noun_Project.svg/1024px-Movie_-_The_Noun_Project.svg.png\"  width=\"50%\" alt=\"Logo representing video recording\">\n",
    "\n",
    "Traditional science is grounded in concepts of peer review and open sharing. What is the point in discovering how the works and not sharing it with others?  As scientists it is important to communicate what you create and discover to a wide audience in a variety of formate. \n",
    "\n",
    "Please create and submit a 5-10 minute video (maximum 15 minutes) about your project. Tap into your own creativity.  Make something you are proud of and would want to post on-line or include in a presentation.  More and more conferences are moving to video submissions so this is the time to learn the tools and share your research.  \n",
    "\n",
    "\n",
    "## Project Steps\n",
    "\n",
    "1. [Presentation Planning](#Presentation_Planning)\n",
    "2. [Video Software](#Video_Software)\n",
    "3. [Creating your video](#Creating_your_video)\n",
    "4. [Editing your video](#Editing_your_video)\n",
    "5. [Posting your video](#Posting_your_video)"
   ]
  },
  {
   "cell_type": "markdown",
   "metadata": {},
   "source": [
    "----\n",
    "<a name=\"Presentation_Planning\"></a>\n",
    "\n",
    "# 1. Presentation Planning\n",
    "\n",
    "Step one is to plan what you want your presentation will include.  Most people use slide shows (PowerPoint, Google slides, etc.) to plan what they are going to say and the order they will say it in.  This is a good first step. Although your final video does not need to use slides I highly recommend doing some sort of \"[storyboarding](https://en.wikipedia.org/wiki/Storyboard)\" for your video to know what parts you want to include and what you don't want to include. \n",
    "\n",
    "If you don't know where to start, [consider the following slide template from last semester](https://docs.google.com/presentation/d/1M0cYUufylmtR9KAdF9BIKu03-E_pcMVPNI9GQnL8wJY/edit#slide=id.p).\n",
    "\n",
    "However, I really want to see creativity.  Think outside of slides and talking. You have the opportunity to show a demonstration of your code, include some animated results.  \n",
    "\n",
    "Let your instructor know what you are thinking, we may be able to show you some easy to use tools to produce your vision. \n"
   ]
  },
  {
   "cell_type": "markdown",
   "metadata": {},
   "source": [
    "----\n",
    "<a name=\"Video_Software\"></a>\n",
    "\n",
    "# 2. Video Recording/Editing/Posting Software\n",
    "\n",
    "The following are a few examples of tools you should be able to get for your home computers.  Search the Internet for tutorials and feel free to reach out to the instructors for ideas. \n",
    "\n",
    "- [Zoom](http://zoom.msu.edu): Although primarily intended for live communication,  the Zoom program we use in class is really good at recording video and what you are doing on your desktop.  \n",
    "- [Snagit](https://www.techsmith.com/tutorial-snagit.html) Another screen capture program available to Students (or with a free trial). Snagit, is a simple to use video capture program developed by TechSmith (A local company with lots of MSU alumni). A free version of Snagit is available temporarily as long as it is only used for Classwork. [Please see this D2L link for more information and the temporary user agreement](https://d2l.msu.edu/d2l/le/content/1147614/Home).\n",
    "- [Camtasia]() Another really good capture and editing program by TechSmith. This is their elite editing program with a ton of features.  You may need to give yourself some time to learn how to use the program. A free version of Camtasia is available temporarily as long as it is only used for Classwork. [Please see this D2L link for more information and the temporary user agreement](https://d2l.msu.edu/d2l/le/content/1147614/Home).\n",
    "- [OpenShot](https://www.openshot.org/) an Open Source video editor.  \n",
    "- [FFmpeg](http) Open Source command line video conversion tool. Great for taking a folder of images and combining them into an animated video.  \n",
    "- [YouTube](https://YouTube.com/) - You all know this one.  On-line video posting tool.\n",
    "- [MediaSpace](https://mediaspace.msu.edu/) Slightly more secure place to post on-line video. Post here if you want to limit video watching to just your instructors and fellow students.   \n",
    "\n",
    "\n",
    "|  Tool | Camera Capture  | Screen Capture  | Video Editing  | On-line Posting | Open Source |\n",
    "|---|---|---|---|---|---|\n",
    "|[Zoom](http://zoom.msu.edu)  | yes  |  yes | no  |  no  | no  |  \n",
    "|[Snagit](https://www.techsmith.com/tutorial-snagit.html)| yes  |  yes | some?  | no  | no  |  \n",
    "|[Camtasia](https://www.techsmith.com/tutorial-camtasia.html)| yes  | yes | yes | no  | no  |  \n",
    "|[OpenShot](https://www.openshot.org/) | maybe? | maybe? | yes | no | yes |\n",
    "|[FFMpeg](https://ffmpeg.org/) | no | no | no | no | yes |\n",
    "|[YouTube](https://YouTube.com/) | no | no | yes | yes | no |\n",
    "|[MediaSpace](https://mediaspace.msu.edu/)  | no | no | no | yes | no |\n",
    "\n",
    "\n",
    "There are probably hundreds of other tools you could use.  Don't be afraid to see what is available on your smart phones and tablets.  "
   ]
  },
  {
   "cell_type": "markdown",
   "metadata": {},
   "source": [
    "----\n",
    "<a name=\"Creating_your_video\"></a>\n",
    "\n",
    "# 3. Creating your video\n",
    "\n",
    "There are three basic types of video you may want to develop:\n",
    "\n",
    "1. Audio/Video of you talking about your research.\n",
    "2. Screen capture of slides or demo software.\n",
    "3. Computer generated animations and transitions. \n",
    "\n",
    "If you set up a camera such as your phone or your laptop to record yourself, make sure it is on a stable surface and that the background is uncluttered and make sure the sound quality is clear.  "
   ]
  },
  {
   "cell_type": "markdown",
   "metadata": {},
   "source": [
    "----\n",
    "<a name=\"Editing_your_video\"></a>\n",
    "\n",
    "# 4. Editing your video\n",
    "\n",
    "Although some of you may be able to create your video in one shot.  Generally it is better if you edit your video. Use the editing tools and think about ways to combine the different types of video you created.  "
   ]
  },
  {
   "cell_type": "markdown",
   "metadata": {},
   "source": [
    "----\n",
    "\n",
    "<a name=\"Posting_your_video\"></a>\n",
    "\n",
    "# 5. Posting your video\n",
    "\n",
    "Post your video someplace accessible by your instructor and other students.  Probably the easiest place to post is on [YouTube](http://youtube.com/) using a personal Google Account. However, students can also post on the [MSU Mediaspace](http://mediaspace.msu.edu/). Once up on MediaSpace you can limit access to only MSU people logged in that have access to the URL.  \n",
    "\n",
    "Include a link to the URL in your git repository.  A good place would be to embed the video in your ```README.md``` file but you can also embed YouTube videos in a Jupyter notebook. Send a link to your instructor using the following website:\n",
    "\n",
    "[Direct Link](https://docs.google.com/forms/d/e/1FAIpQLSfqHcsVwqKyGsGhA9jcy839EOKe0gP9rkReeOgHpc6qYpv-Cg/viewform)\n"
   ]
  },
  {
   "cell_type": "code",
   "execution_count": null,
   "metadata": {},
   "outputs": [],
   "source": [
    "from IPython.display import HTML\n",
    "HTML(\n",
    "\"\"\"\n",
    "<iframe \n",
    "\tsrc=\"https://docs.google.com/forms/d/e/1FAIpQLSfqHcsVwqKyGsGhA9jcy839EOKe0gP9rkReeOgHpc6qYpv-Cg/viewform\" \n",
    "\twidth=\"100%\" \n",
    "\theight=\"1200px\" \n",
    "\tframeborder=\"0\" \n",
    "\tmarginheight=\"0\" \n",
    "\tmarginwidth=\"0\">\n",
    "\tLoading...\n",
    "</iframe>\n",
    "\"\"\"\n",
    ")"
   ]
  },
  {
   "cell_type": "markdown",
   "metadata": {},
   "source": [
    "-----\n",
    "\n",
    "### Congratulations, you are done!\n",
    "\n",
    "Now, you just need to commit and push this report to your project git repository. "
   ]
  }
 ],
 "metadata": {
  "anaconda-cloud": {},
  "kernelspec": {
   "display_name": "Python 3",
   "language": "python",
   "name": "python3"
  },
  "language_info": {
   "codemirror_mode": {
    "name": "ipython",
    "version": 3
   },
   "file_extension": ".py",
   "mimetype": "text/x-python",
   "name": "python",
   "nbconvert_exporter": "python",
   "pygments_lexer": "ipython3",
   "version": "3.7.3"
  }
 },
 "nbformat": 4,
 "nbformat_minor": 1
}
