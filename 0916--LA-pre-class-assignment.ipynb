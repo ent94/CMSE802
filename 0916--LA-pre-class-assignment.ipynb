{
 "cells": [
  {
   "cell_type": "markdown",
   "metadata": {},
   "source": [
    "In order to successfully complete this assignment you must do the required reading, watch the provided videos and complete all instructions.  The embedded survey form must be entirely filled out and submitted on or before **11:59pm on Wednesday September 16**.  Students must come to class the next day prepared to discuss the material covered in this assignment. answer"
   ]
  },
  {
   "cell_type": "markdown",
   "metadata": {},
   "source": [
    "# Pre-Class Assignment: Linear Algebra Review\n",
    "\n"
   ]
  },
  {
   "cell_type": "markdown",
   "metadata": {},
   "source": [
    "### Goals for today's pre-class assignment \n",
    "\n",
    "\n",
    "0. [Image Segmentation Example](#GAs)\n",
    "1. [Linear systems](#Linear_systems)\n",
    "2. [Using LSF to solve overdefined systems](#Overdefined_systems)\n",
    "3. [Using the Pseudoinverse](#Pseudoinverse)\n",
    "4. [Assignment wrap-up](#Assignment_wrap-up)"
   ]
  },
  {
   "cell_type": "markdown",
   "metadata": {},
   "source": [
    "---\n",
    "<a name=\"GAs\"></a>\n",
    "# 0. Image Segmentation Example\n",
    "\n",
    "At the start of the next class we will explore one last optimization example using Genetic algorithms.  When you are done with this pre-class (and you have time) please clone the [see-segment](https://github.com/colbrydi/see-segment) repository and watch the video shown on the software website. See if you can follow along with the video and get everything working.\n"
   ]
  },
  {
   "cell_type": "markdown",
   "metadata": {},
   "source": [
    "----\n",
    "<a name=\"Linear_systems\"></a>\n",
    "\n",
    "# 1. Linear systems\n",
    "\n",
    "Linear algebra is solving a system of lienar equations where each equation is of the form:\n",
    "\n",
    "$$a_1x_1 + a_2x_2 + a_3x_3 \\dots + a_nx_n = b$$\n",
    "\n",
    "This equation is also called a linear combination where you add together terms that are  multiplied together.  (Combinations of Addition and Multiplication are core concepts in linear algebra). \n",
    "\n",
    "Typically we have multiple versions of the same equation where the constance ($x$ terms) are the same but the variables ($a$ and $b$) are different:\n",
    "\n",
    "\n",
    "$$a_{11}x_1 + a_{12}x_2 + a_{13}x_3 \\dots + a_{1n}x_n = b_1$$\n",
    "$$a_{21}x_1 + a_{22}x_2 + a_{23}x_3 \\dots + a_{2n}x_n = b_2$$\n",
    "$$a_{31}x_1 + a_{32}x_2 + a_{33}x_3 \\dots + a_{3n}x_n = b_3$$\n",
    "$$\\vdots$$\n",
    "$$a_{m1}x_1 + a_{m2}x_2 + a_{m3}x_3 \\dots + a_{mn}x_n = b_m$$\n",
    "\n",
    "\n",
    "This is a lot of writing so we generally rewrite these equations in matrix form as follows:\n",
    "\n",
    "$$ \n",
    "\\left[\n",
    "\\begin{matrix}\n",
    "    a_{11} & a_{12} & a_{13} &  \\dots  & a_{1n} \\\\\n",
    "    a_{21} & a_{22} & a_{23} &  \\dots  & a_{2n} \\\\\n",
    "    a_{31} & a_{32} & a_{33} &  \\dots  & a_{3n} \\\\\n",
    "      &  \\vdots & & \\ddots & \\\\\n",
    "    a_{m1} & a_{m2} & a_{m3} &  \\dots  & a_{mn} \n",
    "\\end{matrix}\n",
    "\\right] \n",
    "\\left[\n",
    "\\begin{matrix}\n",
    "    x_{1}  \\\\\n",
    "    x_{2}  \\\\\n",
    "    x_{3}  \\\\\n",
    "    \\vdots \\\\\n",
    "    x_{n}  \n",
    "\\end{matrix}\n",
    "\\right] \n",
    "=\n",
    "\\left[\n",
    "\\begin{matrix}\n",
    "    b_{1}  \\\\\n",
    "    b_{2}  \\\\\n",
    "    b_{3}  \\\\\n",
    "    \\vdots \\\\\n",
    "    b_{n}  \n",
    "\\end{matrix}\n",
    "\\right] \n",
    "$$\n",
    "\n",
    "THe first matrix is often called $A$, the constants are often called $c$ and the right hand matrix is often called $b$.  We typically simplify this equation using Matrix notation as follows:\n",
    "\n",
    "$$Ax = b$$\n"
   ]
  },
  {
   "cell_type": "markdown",
   "metadata": {},
   "source": [
    "For example,  consider the following set of linear equations:\n",
    "\n",
    "$$ 3x_1-3x_2+9x_3 = 24$$\n",
    "$$ 2x_1-2x_2+7x_3 = 17$$\n",
    "$$ -x_1+2x_2-4x_3 = -11$$\n",
    "\n",
    "It's Matrix format is as follows:\n",
    "\n",
    "$$ \n",
    "\\left[\n",
    "\\begin{matrix}\n",
    "    3 & -3 & 9\\\\ \n",
    "    2 & -2 & 7 \\\\\n",
    "    -1 & 2 & -4\n",
    "\\end{matrix}\n",
    "\\right] \n",
    "\\left[\n",
    "\\begin{matrix}\n",
    "    x_1 \\\\ \n",
    "    x_2 \\\\\n",
    "    x_3\n",
    "\\end{matrix}\n",
    "\\right] \n",
    "=\n",
    "\\left[\n",
    "\\begin{matrix}\n",
    "    24\\\\ \n",
    "    17 \\\\\n",
    "    -11\n",
    "\\end{matrix}\n",
    "\\right] \n",
    "$$\n",
    "\n",
    "Let's define these same Matrixes as ```numpy``` variables (displayed using ```sympy```, which looks prettier)."
   ]
  },
  {
   "cell_type": "code",
   "execution_count": null,
   "metadata": {},
   "outputs": [],
   "source": [
    "import numpy as np\n",
    "import sympy as sym\n",
    "sym.init_printing(use_unicode=True) # Trick to make matrixes look nice in jupyter"
   ]
  },
  {
   "cell_type": "code",
   "execution_count": null,
   "metadata": {},
   "outputs": [],
   "source": [
    "A = np.matrix([[3, -3,9], [2, -2, 7], [-1, 2, -4]])\n",
    "sym.Matrix(A)"
   ]
  },
  {
   "cell_type": "code",
   "execution_count": null,
   "metadata": {},
   "outputs": [],
   "source": [
    "b = np.matrix([[24], [17], [-11]])\n",
    "sym.Matrix(b)"
   ]
  },
  {
   "cell_type": "code",
   "execution_count": null,
   "metadata": {
    "scrolled": true
   },
   "outputs": [],
   "source": [
    "#Calculate answer to x using numpy\n",
    "x = np.linalg.solve(A,b)\n",
    "sym.Matrix(x)"
   ]
  },
  {
   "cell_type": "markdown",
   "metadata": {},
   "source": [
    "----\n",
    "<a name=\"Overdefined_systems\"></a>\n",
    "         \n",
    "# 2. Using LSF to solve overdefined systems\n",
    "\n",
    "The above Linear Systems has a single solution.  However, linear systems of the form $Ax=b$ can also be under-defined which means they can have infinite solutions and over-defined which can have no solutions.  In data-science over-defined systems are quite common, consider the following example."
   ]
  },
  {
   "cell_type": "markdown",
   "metadata": {},
   "source": [
    "**Example:** A researcher has conducted experiments of a particular Hormone dosage in a population of rats. The table shows the number of fatalities at each dosage level tested. Determine the least squares line and use it to predict the number of rat fatalities at hormone dosage of 22. \n",
    "\n",
    "| Hormone level  | 20 | 25 | 30 | 35 | 40 | 45 | 50  |\n",
    "|---|---|---|---|---|---|---|---|\n",
    "| Fatalities | 101 | 115 | 92 | 64 | 60 | 50 | 49| \n"
   ]
  },
  {
   "cell_type": "code",
   "execution_count": null,
   "metadata": {},
   "outputs": [],
   "source": [
    "%matplotlib inline\n",
    "import matplotlib.pylab as plt\n",
    "import numpy as np\n",
    "import sympy as sym\n",
    "import time\n",
    "sym.init_printing(use_unicode=True)"
   ]
  },
  {
   "cell_type": "code",
   "execution_count": null,
   "metadata": {
    "scrolled": false
   },
   "outputs": [],
   "source": [
    "H = [20,25,30,35,40,45,50]\n",
    "f = [101,115, 92,64,60,50,49]\n",
    "\n",
    "plt.scatter(H,f)\n",
    "plt.xlabel('Hormone Level')\n",
    "plt.ylabel('Fatalities');"
   ]
  },
  {
   "cell_type": "markdown",
   "metadata": {},
   "source": [
    "We want to determine a line that is expressed by the following equation \n",
    "\n",
    "$$Hx_1 + x_2 = f$$\n",
    "\n",
    "to approximate the connection between Hormone dosage ($H$) and Fatalities $f$. \n",
    "That is, we want to find $x_1$ (slope) and $x_2$ (y-intercept) for this line. If we wanted to we could make a serise of equations using the datapoints from above as follows:\n",
    "\n",
    "$$20x_1 + x_2 = 101$$\n",
    "$$25x_1 + x_2 = 115$$\n",
    "$$30x_1 + x_2 = 92$$\n",
    "$$\\vdots$$\n",
    "$$50x_1 + x_2 = 49$$\n",
    "\n",
    "However, hopefully you can see that there is no solution for $x_1$ and $x_2$ that will fit all of these equations.  Instead we convert the equations to matrix format ($Ax=b$) and solve for the best fit of $x$ using Least Squares Fit.  If you are new to LSF please watch the following video which may be helpful:"
   ]
  },
  {
   "cell_type": "code",
   "execution_count": null,
   "metadata": {
    "scrolled": true
   },
   "outputs": [],
   "source": [
    "from IPython.display import YouTubeVideo\n",
    "YouTubeVideo(\"Lx6CfgKVIuE\",width=640,height=360, cc_load_policy=True)"
   ]
  },
  {
   "cell_type": "markdown",
   "metadata": {},
   "source": [
    "To get the above equations into the matrix form $Ax=b$ we first define the variable $ \n",
    "x = \\left[\n",
    "\\begin{matrix}\n",
    "    x_1  \\\\\n",
    "    x_2  \n",
    "\\end{matrix}\n",
    "\\right] \n",
    "$ as the column vector that needs to be solved. \n",
    "\n",
    "Then, $A$ matrix can be defined using the values of $H$ and 1 (Something to multiply by $x_2$)"
   ]
  },
  {
   "cell_type": "code",
   "execution_count": null,
   "metadata": {
    "scrolled": true
   },
   "outputs": [],
   "source": [
    "#Our A matrix can be solved as follow\n",
    "A = np.matrix(np.vstack((H, np.ones(len(H)))).T)\n",
    "sym.Matrix(A)"
   ]
  },
  {
   "cell_type": "markdown",
   "metadata": {},
   "source": [
    "Similarly we can define the matrix $b$ using our fatalities $f$:"
   ]
  },
  {
   "cell_type": "code",
   "execution_count": null,
   "metadata": {},
   "outputs": [],
   "source": [
    "b = np.matrix(f).T\n",
    "sym.Matrix(b)"
   ]
  },
  {
   "cell_type": "markdown",
   "metadata": {},
   "source": [
    "Now we can solve using the ```numpy.linalg``` Least Squares Fit (LSF) function as follows:"
   ]
  },
  {
   "cell_type": "code",
   "execution_count": null,
   "metadata": {
    "scrolled": true
   },
   "outputs": [],
   "source": [
    "x,err,_,_ = np.linalg.lstsq(A,b, rcond=None)\n",
    "x"
   ]
  },
  {
   "cell_type": "code",
   "execution_count": null,
   "metadata": {},
   "outputs": [],
   "source": [
    "bestfit = A*x\n",
    "bestfit"
   ]
  },
  {
   "cell_type": "code",
   "execution_count": null,
   "metadata": {
    "scrolled": true
   },
   "outputs": [],
   "source": [
    "plt.scatter(H,f)\n",
    "plt.plot(H, bestfit)\n",
    "plt.xlabel('Hormone Level')\n",
    "plt.ylabel('Fatalities');"
   ]
  },
  {
   "cell_type": "markdown",
   "metadata": {},
   "source": [
    "----\n",
    "<a name=\"pseudoinverse\"></a>\n",
    "         \n",
    "# 3. Using the Pseudoinverse\n",
    "\n",
    "The ```numpy.linalg.lstsq``` function does all of the work for us. However, you should be able to get the same result using the Pseudoinverse of the $A$ matrix.  The Pseudoinverse for this type of problem is defined as follows:\n",
    "\n",
    "$$P_{inv} = (A^TA)^{-1}A^T$$\n",
    "\n",
    "The above can be read, \"The Pseudoinverse is the inverse of A transpose times A (which is a sqare matrix) times A transpose.\"  We can calculate the Pseudoinverse using the following python numpy matrix code:"
   ]
  },
  {
   "cell_type": "code",
   "execution_count": null,
   "metadata": {
    "scrolled": false
   },
   "outputs": [],
   "source": [
    "pinv = (A.T*A)**-1*A.T"
   ]
  },
  {
   "cell_type": "markdown",
   "metadata": {},
   "source": [
    "Now we multiply both sides by the $P_{inv}$:\n",
    "\n",
    "$$P_{inv}Ax = P_{inv}b$$\n",
    "\n",
    "If we assume that $P_{inv}A$ is the identity matrix then $P_{inv}b$ is our LSF solution for $x$\n",
    "$$x = P_{inv}b$$"
   ]
  },
  {
   "cell_type": "code",
   "execution_count": null,
   "metadata": {
    "scrolled": false
   },
   "outputs": [],
   "source": [
    "pinv*b"
   ]
  },
  {
   "cell_type": "markdown",
   "metadata": {},
   "source": [
    "Funny enough, only the unknowns of an equation need to be linear combinations,  we an actually fit more complex polynomials.  See if you can change the model and solve find a second order polynomial (parabola) of the form:\n",
    "\n",
    "$$x_1H^2 + x_2H + x_3 = f$$\n",
    "\n",
    "In this case your $b$ matrix is still our $f$ values and should not change. We only need to add another column to matrix $A$ to represent the $H^2$ term. Here is some simple code to make new matrix ($A2$) from $A$:"
   ]
  },
  {
   "cell_type": "code",
   "execution_count": null,
   "metadata": {},
   "outputs": [],
   "source": [
    "A2 = np.hstack((np.array(A[:,0])**2, A))\n",
    "sym.Matrix(A2)"
   ]
  },
  {
   "cell_type": "markdown",
   "metadata": {},
   "source": [
    "&#9989; **<font color=red>DO THIS:</font>**  Using either the ```lstsq``` function or by making a new pseudoinverse, solve the new system of equations for $x_1, x_2$ and $x_3$ and plot the results:"
   ]
  },
  {
   "cell_type": "code",
   "execution_count": null,
   "metadata": {},
   "outputs": [],
   "source": [
    "x2,err,_,_ = np.linalg.lstsq(A2,b, rcond=None)\n",
    "x2"
   ]
  },
  {
   "cell_type": "code",
   "execution_count": null,
   "metadata": {},
   "outputs": [],
   "source": [
    "bestfit2 = A2*x2\n",
    "bestfit2"
   ]
  },
  {
   "cell_type": "code",
   "execution_count": null,
   "metadata": {},
   "outputs": [],
   "source": [
    "H2 = A2[:,0]\n",
    "H3 = A2[:,1]\n",
    "xvals = np.arange(0,len(f))\n",
    "for i in range(len(f)):\n",
    "    xvals[i] = H2[i]*f[i] + H3[i]*f[i] \n",
    "xvals"
   ]
  },
  {
   "cell_type": "code",
   "execution_count": null,
   "metadata": {},
   "outputs": [],
   "source": [
    "plt.scatter(H,f)\n",
    "plt.plot(H, bestfit2)\n",
    "plt.xlabel('Hormone Level')\n",
    "plt.ylabel('Fatalities');"
   ]
  },
  {
   "cell_type": "markdown",
   "metadata": {},
   "source": [
    "----\n",
    "<a name=\"Assignment_wrap-up\"></a>\n",
    "# 4. Assignment wrap-up\n",
    "\n",
    "Please fill out the form that appears when you run the code below.  **You must completely fill this out in order to receive credit for the assignment!**\n",
    "\n",
    "[Direct Link to Google Form](https://cmse.msu.edu/cmse802-pc-survey)\n",
    "\n",
    "\n",
    "If you have trouble with the embedded form, please make sure you log on with your MSU google account at [googleapps.msu.edu](https://googleapps.msu.edu) and then click on the direct link above."
   ]
  },
  {
   "cell_type": "markdown",
   "metadata": {},
   "source": [
    "&#9989; **<font color=red>Assignment-Specific QUESTION:</font>** Where you able to fit and plot a parabola to the data? If not, where did you get stuck?"
   ]
  },
  {
   "cell_type": "markdown",
   "metadata": {},
   "source": [
    "Put your answer to the above question here"
   ]
  },
  {
   "cell_type": "markdown",
   "metadata": {},
   "source": [
    "&#9989; **<font color=red>QUESTION:</font>**  Summarize what you did in this assignment."
   ]
  },
  {
   "cell_type": "markdown",
   "metadata": {},
   "source": [
    "Put your answer to the above question here"
   ]
  },
  {
   "cell_type": "markdown",
   "metadata": {},
   "source": [
    "&#9989; **<font color=red>QUESTION:</font>**  What questions do you have, if any, about any of the topics discussed in this assignment after working through the jupyter notebook?"
   ]
  },
  {
   "cell_type": "markdown",
   "metadata": {},
   "source": [
    "Put your answer to the above question here"
   ]
  },
  {
   "cell_type": "markdown",
   "metadata": {},
   "source": [
    "&#9989; **<font color=red>QUESTION:</font>**  How well do you feel this assignment helped you to achieve a better understanding of the above mentioned topic(s)?"
   ]
  },
  {
   "cell_type": "markdown",
   "metadata": {},
   "source": [
    "Put your answer to the above question here"
   ]
  },
  {
   "cell_type": "markdown",
   "metadata": {},
   "source": [
    "&#9989; **<font color=red>QUESTION:</font>** What was the **most** challenging part of this assignment for you? "
   ]
  },
  {
   "cell_type": "markdown",
   "metadata": {},
   "source": [
    "Put your answer to the above question here"
   ]
  },
  {
   "cell_type": "markdown",
   "metadata": {},
   "source": [
    "&#9989; **<font color=red>QUESTION:</font>** What was the **least** challenging part of this assignment for you? "
   ]
  },
  {
   "cell_type": "markdown",
   "metadata": {},
   "source": [
    "Put your answer to the above question here"
   ]
  },
  {
   "cell_type": "markdown",
   "metadata": {},
   "source": [
    "&#9989; **<font color=red>QUESTION:</font>**  What kind of additional questions or support, if any, do you feel you need to have a better understanding of the content in this assignment?"
   ]
  },
  {
   "cell_type": "markdown",
   "metadata": {},
   "source": [
    "Put your answer to the above question here"
   ]
  },
  {
   "cell_type": "markdown",
   "metadata": {},
   "source": [
    "&#9989; **<font color=red>QUESTION:</font>**  Do you have any further questions or comments about this material, or anything else that's going on in class?"
   ]
  },
  {
   "cell_type": "markdown",
   "metadata": {},
   "source": [
    "Put your answer to the above question here"
   ]
  },
  {
   "cell_type": "markdown",
   "metadata": {},
   "source": [
    "&#9989; **<font color=red>QUESTION:</font>** Approximately how long did this pre-class assignment take?"
   ]
  },
  {
   "cell_type": "markdown",
   "metadata": {},
   "source": [
    "Put your answer to the above question here"
   ]
  },
  {
   "cell_type": "code",
   "execution_count": null,
   "metadata": {},
   "outputs": [],
   "source": [
    "from IPython.display import HTML\n",
    "HTML(\n",
    "\"\"\"\n",
    "<iframe \n",
    "\tsrc=\"https://cmse.msu.edu/cmse802-pc-survey?embedded=true\" \n",
    "\twidth=\"100%\" \n",
    "\theight=\"1200px\" \n",
    "\tframeborder=\"0\" \n",
    "\tmarginheight=\"0\" \n",
    "\tmarginwidth=\"0\">\n",
    "\tLoading...\n",
    "</iframe>\n",
    "\"\"\"\n",
    ")"
   ]
  },
  {
   "cell_type": "markdown",
   "metadata": {},
   "source": [
    "---------\n",
    "### Congratulations, we're done!\n",
    "\n",
    "To get credit for this assignment you must fill out and submit the above Google From on or before the assignment due date."
   ]
  },
  {
   "cell_type": "markdown",
   "metadata": {},
   "source": [
    "### Course Resources:\n",
    "\n",
    "\n",
    "- [Website](https://msu-cmse-courses.github.io/cmse802-f20-student/)\n",
    "- [ZOOM](https://msu.zoom.us/j/97272546850)\n",
    "- [Syllabus](https://docs.google.com/document/d/e/2PACX-1vT9Wn11y0ECI_NAUl_2NA8V5jcD8dXKJkqUSWXjlawgqr2gU5hII3IsE0S8-CPd3W4xsWIlPAg2YW7D/pub)\n",
    "- [Schedule](https://docs.google.com/spreadsheets/d/e/2PACX-1vQRAm1mqJPQs1YSLPT9_41ABtywSV2f3EWPon9szguL6wvWqWsqaIzqkuHkSk7sea8ZIcIgZmkKJvwu/pubhtml?gid=2142090757&single=true)\n",
    "\n"
   ]
  },
  {
   "cell_type": "markdown",
   "metadata": {},
   "source": [
    "Writen by Dirk Colbry, Michigan State University\n",
    "<a rel=\"license\" href=\"http://creativecommons.org/licenses/by-nc/4.0/\"><img alt=\"Creative Commons License\" style=\"border-width:0\" src=\"https://i.creativecommons.org/l/by-nc/4.0/88x31.png\" /></a><br />This work is licensed under a <a rel=\"license\" href=\"http://creativecommons.org/licenses/by-nc/4.0/\">Creative Commons Attribution-NonCommercial 4.0 International License</a>."
   ]
  }
 ],
 "metadata": {
  "anaconda-cloud": {},
  "kernelspec": {
   "display_name": "Python 3",
   "language": "python",
   "name": "python3"
  },
  "language_info": {
   "codemirror_mode": {
    "name": "ipython",
    "version": 3
   },
   "file_extension": ".py",
   "mimetype": "text/x-python",
   "name": "python",
   "nbconvert_exporter": "python",
   "pygments_lexer": "ipython3",
   "version": "3.8.3"
  }
 },
 "nbformat": 4,
 "nbformat_minor": 2
}
