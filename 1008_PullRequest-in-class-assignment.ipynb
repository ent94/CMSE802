{
 "cells": [
  {
   "cell_type": "markdown",
   "metadata": {},
   "source": [
    "In order to successfully complete this assignment you need to participate both individually and in groups during class on **Thursday October 8**.\n",
    "\n"
   ]
  },
  {
   "cell_type": "markdown",
   "metadata": {},
   "source": [
    "# In-Class Assignment: Git Pull/Merge Request\n",
    "\n",
    "<img alt=\"Image of a multi-headed Hydra. Designed to represent parallel codes\" src=\"https://miro.medium.com/max/855/1*pzT4KMiZDOFsMOKH-cJjfQ.png\">\n",
    "\n",
    "Image From: https://medium.com/datadriveninvestor/git-rebase-vs-merge-cc5199edd77c"
   ]
  },
  {
   "cell_type": "markdown",
   "metadata": {},
   "source": [
    "### Agenda for today's class (80 minutes)\n",
    "\n",
    "\n",
    "\n",
    "1. [(20 minutes) Review Pre-class assignment](#Review_Pre-class_assignment)\n",
    "2. [(60 minutes) Finish Tower Exersize (Pull request practice)](#Finish_Tower)"
   ]
  },
  {
   "cell_type": "markdown",
   "metadata": {},
   "source": [
    "----\n",
    "<a name=\"#Review_Pre-class_assignment\"></a>\n",
    "# 1. Review Pre-class assignment\n",
    "\n",
    "* [1007--PullRequest-pre-class-assignment](1007--PullRequest-pre-class-assignment.ipynb)"
   ]
  },
  {
   "cell_type": "markdown",
   "metadata": {},
   "source": [
    "----\n",
    "<a name=\"Finish_Tower\"></a>\n",
    "# 2. Finish Tower Exersize\n",
    "\n",
    "\n",
    "&#9989; **<font color=red>DO THIS:</font>** Do a git pull on the tower project as it is so far.  Everyone in the course should be a devoper.  As a developer create a branch off the master and switch to that branch. Try to make changes in your branch instead of the main repository. \n",
    "\n",
    "\n",
    "&#9989; **<font color=red>DO THIS:</font>** Now lets finish the graph theory problem from last time.  I assume that this will take the rest of class today as well. Make and commit changes to your branch and issue a pull/merge request to the central repository.\n",
    "\n",
    "&#9989; **<font color=red>DO THIS:</font>**  When you are done, go ahead and issue a pull request from your group.  This will be sent to the managment group to try organize all of the cod into one. "
   ]
  },
  {
   "cell_type": "markdown",
   "metadata": {},
   "source": [
    "-----\n",
    "### Congratulations, we're done!"
   ]
  },
  {
   "cell_type": "markdown",
   "metadata": {},
   "source": [
    "### Course Resources:\n",
    "\n",
    "\n",
    "- [Website](https://msu-cmse-courses.github.io/cmse802-f20-student/)\n",
    "- [ZOOM](https://msu.zoom.us/j/97272546850)\n",
    "- [Syllabus](https://docs.google.com/document/d/e/2PACX-1vT9Wn11y0ECI_NAUl_2NA8V5jcD8dXKJkqUSWXjlawgqr2gU5hII3IsE0S8-CPd3W4xsWIlPAg2YW7D/pub)\n",
    "- [Schedule](https://docs.google.com/spreadsheets/d/e/2PACX-1vQRAm1mqJPQs1YSLPT9_41ABtywSV2f3EWPon9szguL6wvWqWsqaIzqkuHkSk7sea8ZIcIgZmkKJvwu/pubhtml?gid=2142090757&single=true)\n",
    "\n"
   ]
  },
  {
   "cell_type": "markdown",
   "metadata": {},
   "source": [
    "&#169; Copyright 2020,  Michigan State University Board of Trustees"
   ]
  }
 ],
 "metadata": {
  "kernelspec": {
   "display_name": "Python 3",
   "language": "python",
   "name": "python3"
  },
  "language_info": {
   "codemirror_mode": {
    "name": "ipython",
    "version": 3
   },
   "file_extension": ".py",
   "mimetype": "text/x-python",
   "name": "python",
   "nbconvert_exporter": "python",
   "pygments_lexer": "ipython3",
   "version": "3.7.3"
  }
 },
 "nbformat": 4,
 "nbformat_minor": 2
}
