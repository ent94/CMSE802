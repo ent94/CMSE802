{
 "cells": [
  {
   "cell_type": "markdown",
   "metadata": {},
   "source": [
    "In order to successfully complete this assignment you need to demonstrate progress by showing this notebook to an instructor at the end of class on **Thursday September 10**.  If you are participating asyncronosly in the class you must attempt to complete the notebook and turn in a copy to the D2L Dropbox no later than 11:50pm on **Thursday September 10**."
   ]
  },
  {
   "cell_type": "markdown",
   "metadata": {},
   "source": [
    "# In-Class Assignment:  Optimization\n",
    "\n",
    "<img alt=\"Picture of an optimization surface with a local and global minimum\" src=\"https://www.mathworks.com/content/dam/mathworks/videos/s/surrogate-optimization-public.mp4/_jcr_content/renditions/thumb-surrogate-optimization.png\">\n",
    "\n",
    "\n",
    "### The Power of Example Code\n",
    "\n",
    "One of the goals of this course is to teach you how to leverage the power of examples found on the Internet.  Often students, new to programming, see an code example they do not understand and immediately shut down. Experienced programmers have learned that example code, even when not understood is a great way to learn something new.  The trick is to get comfortable playing with the code.  Here are some basic steps to try:\n",
    "\n",
    "* Copy and paste the code into a Jupyter notebook to see if you can get it working.  SOme common things to keep an eye out for include:\n",
    "    - **Python 2** examples (Keep an eye out for print statements without parentheses). These mostly easy to fix (add parentheses)"
   ]
  },
  {
   "cell_type": "markdown",
   "metadata": {},
   "source": [
    "    * **Code that uses plotting libraries** such as ```matplotlib```.  Make sure you use the ```@matplotlib inline``` option.  "
   ]
  },
  {
   "cell_type": "markdown",
   "metadata": {},
   "source": [
    "    - **Use of extermal libraries**. Although the Anaconda python distribution has a lot of libraries already included many example require some sort of ```pip``` or ```conda``` installation.  We will cover tricks for doing this in detail in class. Two easy ones are using local directory installs (ex packages) or better yet, using python virtual environments (conda environments). \n",
    "* Read and Google any debugging messages.  Always remember the three steps to debugging:\n",
    "    1. Find **WHERE** the bug is occurring.\n",
    "    2. Identify **WHAT** is causing the bug.\n",
    "    3. Figure out **HOW** to it.  \n",
    "* Once you get something running, then it is time to modify and change it to suite your needs. "
   ]
  },
  {
   "cell_type": "markdown",
   "metadata": {},
   "source": [
    "### Agenda for today's class (80 minutes)\n",
    "\n",
    "</p>\n",
    "\n",
    "\n",
    "\n",
    "1. [(20 minutes) Pre-class Assignment Review](#Pre-Class_Assignment_Review)\n",
    "1. [(20 minutes) Branching Practice](#Branching_Practice)\n",
    "1. [(20 minutes) Optimization Example](#Optimization_Example)\n",
    "1. [(20 minutes) Find your own example](#Find_your_own_example)"
   ]
  },
  {
   "cell_type": "markdown",
   "metadata": {},
   "source": [
    "----\n",
    "<a name=\"Pre-Class_Assignment_Review\"></a>\n",
    "\n",
    "# 1. Pre-Class Assignment Review\n",
    "\n",
    "* [0909-Optimization-pre-class-assignment](0909-Optimization-pre-class-assignment.ipynb)"
   ]
  },
  {
   "cell_type": "markdown",
   "metadata": {},
   "source": [
    "----\n",
    "<a name=\"Branching_Practice\"></a>\n",
    "\n",
    "# 2. Branching Practice\n",
    "\n",
    "Did the branching in the pre-class assignment make sense?  Lets use this time to make sure everyone understands branching and has a version of the class repository that uses branches.  "
   ]
  },
  {
   "cell_type": "markdown",
   "metadata": {},
   "source": [
    "----\n",
    "<a name=\"Optimization_Example\"></a>\n",
    "\n",
    "# 3. Optimization Example\n",
    "\n",
    "Most of the textbook [IPython Cookbook, Second Edition (2018)](https://ipython-books.github.io/) is available for free on-line and is a great source of programming examples.  \n",
    "\n",
    "The following is a link to an optimization example from the textbook.  \n",
    "\n",
    "\n",
    "https://ipython-books.github.io/93-fitting-a-function-to-data-with-nonlinear-least-squares/\n"
   ]
  },
  {
   "cell_type": "markdown",
   "metadata": {},
   "source": [
    "&#9989; **<font color=red>DO THIS:</font>** Get example code working in a notebook (either this one or a new one) and share your results with your neighbors and be prepared to answer the questions below in class:\n"
   ]
  },
  {
   "cell_type": "markdown",
   "metadata": {},
   "source": [
    "&#9989; **<font color=red>QUESTION:</font>** What is this code doing?"
   ]
  },
  {
   "cell_type": "markdown",
   "metadata": {},
   "source": [
    "Put your answer to the above question here"
   ]
  },
  {
   "cell_type": "markdown",
   "metadata": {},
   "source": [
    "&#9989; **<font color=red>QUESTION:</font>** Where did you have the most trouble or did you get stuck? "
   ]
  },
  {
   "cell_type": "markdown",
   "metadata": {},
   "source": [
    "Put your answer to the above question here"
   ]
  },
  {
   "cell_type": "markdown",
   "metadata": {},
   "source": [
    "&#9989; **<font color=red>QUESTION:</font>** Is there anything in your own researcher that may be able to build off of this type of model? "
   ]
  },
  {
   "cell_type": "markdown",
   "metadata": {},
   "source": [
    "Put your answer to the above question here"
   ]
  },
  {
   "cell_type": "markdown",
   "metadata": {},
   "source": [
    "&#9989; **<font color=red>QUESTION:</font>** Is there anything else you learned from getting this example to work?"
   ]
  },
  {
   "cell_type": "markdown",
   "metadata": {},
   "source": [
    "Put your answer to the above question here"
   ]
  },
  {
   "cell_type": "markdown",
   "metadata": {},
   "source": [
    "----\n",
    "<a name=\"Find_your_own_example\"></a>\n",
    "\n",
    "# 4. Find your own example\n",
    "\n",
    "In the remainder of the class period, go off and find optimization libraries and examples.  Find something you can download and get up and running. \n",
    "\n",
    "Be prepaird to share what you found with the rest of the class. "
   ]
  },
  {
   "cell_type": "markdown",
   "metadata": {},
   "source": [
    "-----\n",
    "### Congratulations, we're done!"
   ]
  },
  {
   "cell_type": "markdown",
   "metadata": {},
   "source": [
    "### Course Resources:\n",
    "\n",
    "\n",
    "- [Website](https://msu-cmse-courses.github.io/cmse802-f20-student/)\n",
    "- [ZOOM](https://msu.zoom.us/j/97272546850)\n",
    "- [Syllabus](https://docs.google.com/document/d/e/2PACX-1vT9Wn11y0ECI_NAUl_2NA8V5jcD8dXKJkqUSWXjlawgqr2gU5hII3IsE0S8-CPd3W4xsWIlPAg2YW7D/pub)\n",
    "- [Schedule](https://docs.google.com/spreadsheets/d/e/2PACX-1vQRAm1mqJPQs1YSLPT9_41ABtywSV2f3EWPon9szguL6wvWqWsqaIzqkuHkSk7sea8ZIcIgZmkKJvwu/pubhtml?gid=2142090757&single=true)\n",
    "\n"
   ]
  },
  {
   "cell_type": "markdown",
   "metadata": {},
   "source": [
    "Writen by Dirk Colbry, Michigan State University\n",
    "<a rel=\"license\" href=\"http://creativecommons.org/licenses/by-nc/4.0/\"><img alt=\"Creative Commons License\" style=\"border-width:0\" src=\"https://i.creativecommons.org/l/by-nc/4.0/88x31.png\" /></a><br />This work is licensed under a <a rel=\"license\" href=\"http://creativecommons.org/licenses/by-nc/4.0/\">Creative Commons Attribution-NonCommercial 4.0 International License</a>."
   ]
  }
 ],
 "metadata": {
  "kernelspec": {
   "display_name": "Python 3",
   "language": "python",
   "name": "python3"
  },
  "language_info": {
   "codemirror_mode": {
    "name": "ipython",
    "version": 3
   },
   "file_extension": ".py",
   "mimetype": "text/x-python",
   "name": "python",
   "nbconvert_exporter": "python",
   "pygments_lexer": "ipython3",
   "version": "3.7.7"
  }
 },
 "nbformat": 4,
 "nbformat_minor": 2
}
