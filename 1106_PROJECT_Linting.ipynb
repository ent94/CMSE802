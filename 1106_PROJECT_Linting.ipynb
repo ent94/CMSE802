{
 "cells": [
  {
   "cell_type": "markdown",
   "metadata": {},
   "source": [
    "In order to successfully complete this assignment you need to commit changes to your shared git repository on or before **11:59pm on Friday November 6**."
   ]
  },
  {
   "cell_type": "markdown",
   "metadata": {},
   "source": [
    "# <center>Delinting (linting) your python code</center>\n",
    "\n",
    "<img src=\"https://lh4.googleusercontent.com/i0hZKXrihnUtlAQM6Hb89zo296lPckUN7FVMGih3D7z9WjueaImCXd98pAHA4GzHMrTFLglWqbGa2OxyDa2Y7ihp18ljIiaLIaHwNZSA4sRre3RRxrDcFj2FIv0c=w224\" width=20% alt=\"pyTest logo\">"
   ]
  },
  {
   "cell_type": "markdown",
   "metadata": {},
   "source": [
    "----\n",
    "<a name=\"Style_Guild\"></a>\n",
    "\n",
    "# 1. Style Guild\n",
    "\n",
    "&#9989; **<font color=red>DO THIS:</font>**  Review the pep8 style guild and updaate your code to follow the guild as is resonable for your project. \n",
    "\n",
    "### Python Enhancement Proposal Eight:\n",
    "* [PEP 8 -- Style Guild for Python](https://www.python.org/dev/peps/pep-0008/)\n",
    "* [A little cleaner pep8 guild](https://pep8.org/)\n"
   ]
  },
  {
   "cell_type": "markdown",
   "metadata": {},
   "source": [
    "----\n",
    "<a name=\"Installing_linters\"></a>\n",
    "\n",
    "# 2. Initial Lint Score\n",
    "\n",
    "&#9989;**<font color=red>DO THIS:</font>** Run ```pylint``` on your entire python project folder (including test files).  Write down the inicial lint socre (officially it is a scale from 0-10 but weirdly you can get negative numbers). **_HINT_** Use ```make lint``` for this step.\n"
   ]
  },
  {
   "cell_type": "markdown",
   "metadata": {},
   "source": [
    "----\n",
    "<a name=\"Autopep8\"></a>\n",
    "\n",
    "# 3. Autopep8\n",
    "\n",
    "&#9989;**<font color=red>DO THIS:</font>** Try improving your lint score by running ```autopep8``` on each of your python files.  Try using any other assistance programs you think can help improve your score. "
   ]
  },
  {
   "cell_type": "markdown",
   "metadata": {},
   "source": [
    "----\n",
    "<a name=\"Manually_lint_your_code\"></a>\n",
    "\n",
    "# 4. Manually lint your code\n",
    "\n",
    "&#9989;**<font color=red>DO THIS:</font>** Modify your code to improve your pylint score.  Try to get your code to a level something above 6 or 7.  See if you can even reach a level of 10 for some/all of your files.  \n"
   ]
  },
  {
   "cell_type": "markdown",
   "metadata": {},
   "source": [
    "---\n",
    "### Getting credit for your assignment\n",
    "\n",
    "Commit all of your code changes and push them to your project git repository on or before **11:59pm on Friday November 6**. Your instructor will download your repository and check your lint using the ```make lint``` command so make sure that is working. "
   ]
  },
  {
   "cell_type": "markdown",
   "metadata": {},
   "source": [
    "-----\n",
    "### Congratulations, you are done!"
   ]
  }
 ],
 "metadata": {
  "anaconda-cloud": {},
  "kernelspec": {
   "display_name": "Python 3",
   "language": "python",
   "name": "python3"
  },
  "language_info": {
   "codemirror_mode": {
    "name": "ipython",
    "version": 3
   },
   "file_extension": ".py",
   "mimetype": "text/x-python",
   "name": "python",
   "nbconvert_exporter": "python",
   "pygments_lexer": "ipython3",
   "version": "3.7.3"
  }
 },
 "nbformat": 4,
 "nbformat_minor": 4
}
