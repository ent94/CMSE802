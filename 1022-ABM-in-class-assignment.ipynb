{
 "cells": [
  {
   "cell_type": "markdown",
   "metadata": {},
   "source": [
    "In order to successfully complete this assignment you need to participate both individually and in groups during class on **Thursday October 22**.\n",
    "\n"
   ]
  },
  {
   "cell_type": "markdown",
   "metadata": {},
   "source": [
    "# In-class assignment: Agent Based Modeling\n",
    "\n",
    "<img src=\"https://miro.medium.com/max/1440/1*yrVzKSeqaA1O3G3HF-AHlw.gif\" alt=\"animated image of birds flocking in real life and in an agent based model\">\n",
    "\n",
    "Image from: [Danil Nagy\n",
    " blog on Behavioral Systems](https://medium.com/generative-design/behavioral-systems-d010d0d11932_)\n",
    " \n",
    "\n",
    "&#9989; **<font color=red>DO THIS:</font>** When you come into class today, talk to your neighbor about the ANT Forging Simulation from the pre-class see if between people in your group you can help each other understand the confusing parts."
   ]
  },
  {
   "cell_type": "markdown",
   "metadata": {},
   "source": [
    "### Agenda for today's class (80 minutes)\n",
    "\n",
    "1. [(20 minutes) Review of pre-class assignment](#Review_of_pre-class_assignment)\n",
    "2. [(60 minutes) Agent Based Modeling (ABM)](#Agent_Based_Modeling)"
   ]
  },
  {
   "cell_type": "markdown",
   "metadata": {},
   "source": [
    "---\n",
    "<a name=\"Review_of_pre-class_assignment\"></a>\n",
    "# 1. Review of pre-class assignment\n",
    "\n",
    "* [1021-ABM_pre-class-assignment](1021-ABM_pre-class-assignment.ipynb)"
   ]
  },
  {
   "cell_type": "markdown",
   "metadata": {},
   "source": [
    "---\n",
    "<a name=\"Agent_Based_Modeling\"></a>\n",
    "# 2. Agent Based Modeling (ABM)\n",
    "Individually, in your groups and as a class, we will design an Agent Based Modeling system for Ant foraging.  \n",
    "\n",
    "\n",
    "## STEP 1: Think about the program structure \n",
    "\n",
    "&#9989; **<font color=red>DO THIS:</font>**  In your group, read though the following assumptions and think about the model you would want to create.  Try drawing a simple version of the model on a board and seeing if you understand how you would want parts would be required to build program to simulate this model. Be prepared to share your ideas with the class.\n",
    "\n",
    "1. Assume the world is of size n x m and there are three things in the world.  Pheromones, Food, and Ants. Multiple of these things can be in the same place at the same time. \n",
    "1. Assume that there is an ant colony home and ants have a sense of direction and know the direct path toward home.\n",
    "1. Assume that if an ant is in the same location as food. It will take some food and then head directly back to home while dropping Pheromones in it's path. \n",
    "1. Assume that an ant can smell Pheromones next to it and will follow any sent away from home. \n",
    "1. Assume that if an ant can not smell Pheromones it will search for food randomly. \n",
    "1. Assume that Pheromones get weaker and will disappear with time. \n"
   ]
  },
  {
   "cell_type": "markdown",
   "metadata": {},
   "source": [
    "\n",
    "## STEP 2: Outline a program interface \n",
    "\n",
    "&#9989; **<font color=red>DO THIS:</font>** As a group, think about how you would store the data and what functions/classes you may want to create.  The goal here is not to get into the weeds of coding but to think about what an end-to-end solution may look like. Make sure to include the following: \n",
    "\n",
    "1. Names of all high level functions/classes and a short description. \n",
    "2. List of all variables inside of the class and a description of their purpose. \n",
    "3. Names of all member functions inside of the class and what they do.  \n",
    "\n",
    "Be prepared to share your solution with the class.  "
   ]
  },
  {
   "cell_type": "markdown",
   "metadata": {},
   "source": [
    "## STEP 3: Predict the final interface\n",
    "\n",
    "&#9989; **<font color=red>DO THIS:</font>** As a group think about the overall structure of the final program.  Do you want the program to exist in a notebook?  Will there be external files and if so, how many?  How will the scientist interact with the code and what should the visualizations look like?  Type up some example commands how you envision interfacing with the program."
   ]
  },
  {
   "cell_type": "markdown",
   "metadata": {},
   "source": [
    "## STEP 4: Stub out the code\n",
    "\n",
    "&#9989; **<font color=red>DO THIS:</font>** Write up a program outline using valid Python code.  This is not a full implementation of the model, but should include all of the pieces your group thinks will be needed to run the simulation.  \n",
    "\n",
    "1. Define all classes with a preliminary DocString\n",
    "2. Add all function wrappers, also with DocStrings. Just have the functions output the descriptions of what they are going to do and random or default output."
   ]
  },
  {
   "cell_type": "markdown",
   "metadata": {},
   "source": [
    "## STEP 5: Write Test functions\n",
    "&#9989; **<font color=red>DO THIS:</font>** One of the best times to write your test function is after the stub functions are written but before you dig into the details of the code. Write some testing code that calls each stub function and verifeis the output is correct. They should not work yet but the hope is that as you fill in the code some of the stub functions will start to work. \n"
   ]
  },
  {
   "cell_type": "markdown",
   "metadata": {},
   "source": [
    "## STEP 6: Divide the work\n",
    "\n",
    "&#9989; **<font color=red>DO THIS:</font>** For the remainder of the class lets see how we would like to divide up the work in the class.  Are their obvious things we can break up?  \n",
    "\n",
    "There is no pre-class assignment for Sunday of next week.  My hope is that we can break up some of this work and get it done over the weekend as practice."
   ]
  },
  {
   "cell_type": "markdown",
   "metadata": {},
   "source": [
    "-----\n",
    "### Congratulations, we're done!"
   ]
  },
  {
   "cell_type": "markdown",
   "metadata": {},
   "source": [
    "### Course Resources:\n",
    "\n",
    "\n",
    "- [Website](https://msu-cmse-courses.github.io/cmse802-f20-student/)\n",
    "- [ZOOM](https://msu.zoom.us/j/97272546850)\n",
    "- [Syllabus](https://docs.google.com/document/d/e/2PACX-1vT9Wn11y0ECI_NAUl_2NA8V5jcD8dXKJkqUSWXjlawgqr2gU5hII3IsE0S8-CPd3W4xsWIlPAg2YW7D/pub)\n",
    "- [Schedule](https://docs.google.com/spreadsheets/d/e/2PACX-1vQRAm1mqJPQs1YSLPT9_41ABtywSV2f3EWPon9szguL6wvWqWsqaIzqkuHkSk7sea8ZIcIgZmkKJvwu/pubhtml?gid=2142090757&single=true)\n",
    "\n"
   ]
  },
  {
   "cell_type": "markdown",
   "metadata": {},
   "source": [
    "Written by Dirk Colbry, Michigan State University\n",
    "<a rel=\"license\" href=\"http://creativecommons.org/licenses/by-nc/4.0/\"><img alt=\"Creative Commons License\" style=\"border-width:0\" src=\"https://i.creativecommons.org/l/by-nc/4.0/88x31.png\" /></a><br />This work is licensed under a <a rel=\"license\" href=\"http://creativecommons.org/licenses/by-nc/4.0/\">Creative Commons Attribution-NonCommercial 4.0 International License</a>."
   ]
  },
  {
   "cell_type": "markdown",
   "metadata": {},
   "source": [
    "----"
   ]
  }
 ],
 "metadata": {
  "kernelspec": {
   "display_name": "Python 3",
   "language": "python",
   "name": "python3"
  },
  "language_info": {
   "codemirror_mode": {
    "name": "ipython",
    "version": 3
   },
   "file_extension": ".py",
   "mimetype": "text/x-python",
   "name": "python",
   "nbconvert_exporter": "python",
   "pygments_lexer": "ipython3",
   "version": "3.7.3"
  }
 },
 "nbformat": 4,
 "nbformat_minor": 2
}
