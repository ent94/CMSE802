{
 "cells": [
  {
   "cell_type": "markdown",
   "metadata": {},
   "source": [
    "In order to successfully complete this assignment you need to commit all of your files to your git repository and fill out the google form at the end of this notebook on or before **11:59pm on Friday September 11**."
   ]
  },
  {
   "cell_type": "markdown",
   "metadata": {},
   "source": [
    "# <center>Creating a project GIT repository</center>\n",
    "\n",
    "<img src=\"https://upload.wikimedia.org/wikipedia/commons/e/e0/Git-logo.svg\" width=50% alt=\"Git logo\">"
   ]
  },
  {
   "cell_type": "markdown",
   "metadata": {},
   "source": [
    "---\n",
    "# BACKGROUND\n",
    "\n",
    "In this milestone project you will create a git repository and share it with your classmates and instructors.  This repository will be used for the remainder of the course to turn in all course related documents. By the end of the semester your repository will have a structure similar to the following:\n",
    "\n",
    "    ProjectName/\n",
    "        .gitignore\n",
    "        docs/\n",
    "             package_name/\n",
    "                  module1.html\n",
    "                  module2.html\n",
    "             images/\n",
    "                  image1.jpg\n",
    "        environments.yml\n",
    "        Examples/\n",
    "              datafile1.csv\n",
    "              datafile2.tiff\n",
    "              datafile3.xls\n",
    "        LICENSE.txt\n",
    "        makefile\n",
    "        Models/\n",
    "             Otimization_Report.ipynb\n",
    "             Statistical_Methods_Report.ipynb\n",
    "             Graph_Theory_Report.ipynb\n",
    "             ABM_Report.ipynb\n",
    "             ML_Report.ipynb\n",
    "             ODE_Report.ipynb\n",
    "        package_name/\n",
    "              __init__.py\n",
    "              module1.py\n",
    "              module2.py\n",
    "              test/\n",
    "                  __init__.py\n",
    "                  test_module1.py\n",
    "                  test_module2.py\n",
    "        README.md\n",
    "        setup.py\n",
    "        Tutorial.ipynb\n",
    "        \n",
    "       "
   ]
  },
  {
   "cell_type": "markdown",
   "metadata": {},
   "source": [
    "## Examples\n",
    "\n",
    "Here is an example projects you can download from previous semesters. Note these may have had slightly different expectation and assignment goals relative to your project but are still good representation of the types of projects that would be acceptable for this course.  The more recent projects will most likely more closely match expectations for this semester.  Projects shared with permission by former students:\n",
    "\n",
    "- [F19 Neutrino Winds - By Brian Nevins](https://github.com/bnevs88/neutrino-winds)\n",
    "- [F19 Enhanced sampling Methods - By Nicole Roussey](https://gitlab.msu.edu/roussey1/nmr_fs19_cmse802.git)\n",
    "- [F19 Visualization of the Transport of Small Molecules on Peptides - By Xie Yan](https://gitlab.msu.edu/xieyan/yanxiecmse802.git)\n",
    "\n",
    "Even more projects (may require logging into MSU GitLab to access:\n",
    "- [F19 Lattice QCD Data Analysis - By Matthew Zeilbeck](https://gitlab.msu.edu/zeilbec1/zeilbec1_cmse802)\n",
    "- [F19 A Tool for Applying Postseismic Corrections to Geodetic Data - By Connor Drooff](https://gitlab.msu.edu/drooffco/cmse-802-drooff.git)\n",
    "- [F19 OMR Extracter - By Babak Safae](https://gitlab.msu.edu/safaeiba/ocr-omr-reader)\n"
   ]
  },
  {
   "cell_type": "markdown",
   "metadata": {},
   "source": [
    "# INSTRUCTIONS\n",
    "\n",
    "For this milestone we only need to set up the basic structure with the following:\n",
    "\n",
    "    ProjectName/\n",
    "        .gitignore\n",
    "        LICENSE.txt\n",
    "        makefile\n",
    "        README.md\n",
    "\n",
    "Here is a description of each of these:\n",
    "\n",
    "* ```ProjectName``` - The top level folder is the name of your project. Give your project a short and memerable name. An ideal name should be descriptive and have meaning to people who may be interested in using your software. A poor name only has meaning to you. For example, DO NOT USE CMSE802 NOR YOUR NAME in the the name.  Instead try to pick a name that relates to your area of research or what you think your project will do.  Although we can change the name later it is much easier if we pick a good name to start. \n",
    "    * ```README.md``` - This is a description of your git repository written in Markdown.  For now this file can just contain your name.  \n",
    "    * ```.gitignore``` - There are a lot of files that are inappropriate to include in a git repository (more information below) the \"Git Ignore\" file helps by telling Git that you never want to use these files.  There are plenty of examples for good ```.gitignore``` files for Python projects on the Internet.  Try to include one that makes sense (you can update it as the semester goes on).\n",
    "    * ```LICENSE``` - Use this file to describe your license (See section below). \n",
    "    * ```makefile``` - We will be using Make using this all semester to test and run your code.  For now just copy and paste the text in the section below. \n",
    "    \n",
    "**_BIG HINT_**:  Many of you may find this [git template](https://github.com/colbrydi/CMSE802_Project_Template.git) helpful.\n",
    "        \n",
    "        \n",
    "If you need help figuring out how to set up your git repository there are a ton of tutorials online. For example here is a good one:\n",
    "\n",
    "* [Github learning lab](https://lab.github.com/)\n",
    "\n",
    "If you continue to need help go see your instructors. "
   ]
  },
  {
   "cell_type": "code",
   "execution_count": null,
   "metadata": {},
   "outputs": [],
   "source": [
    "# Git init intorduction https://www.youtube.com/playlist?list=PLqPfbT7gwVP_AlE6HeDQUJsG4nUbGyeh3\n",
    "from IPython.display import YouTubeVideo\n",
    "YouTubeVideo(\"IAAv4DjYYUA\",width=640,height=360, cc_load_policy=True)"
   ]
  },
  {
   "cell_type": "markdown",
   "metadata": {},
   "source": [
    "The following video are instructions specifically for how to use the MSU Gitlab"
   ]
  },
  {
   "cell_type": "code",
   "execution_count": null,
   "metadata": {},
   "outputs": [],
   "source": [
    "#Inicializing Repository using Gitlab https://www.youtube.com/playlist?list=PLqPfbT7gwVP_AlE6HeDQUJsG4nUbGyeh3\n",
    "from IPython.display import YouTubeVideo\n",
    "YouTubeVideo(\"6_cegMFG0Pw\",width=640,height=360, cc_load_policy=True)"
   ]
  },
  {
   "cell_type": "markdown",
   "metadata": {},
   "source": [
    "The following are instructions for how to use the more general Github:"
   ]
  },
  {
   "cell_type": "code",
   "execution_count": null,
   "metadata": {},
   "outputs": [],
   "source": [
    "#Inicializing Repository using Github\n",
    "from IPython.display import YouTubeVideo\n",
    "YouTubeVideo(\"dpeHlFm8SYU\",width=640,height=360, cc_load_policy=True)"
   ]
  },
  {
   "cell_type": "markdown",
   "metadata": {},
   "source": [
    "As you update and change the files in your repository you will need to push those changes to gitlab or github.  The following instructions walk you though this process:"
   ]
  },
  {
   "cell_type": "code",
   "execution_count": null,
   "metadata": {},
   "outputs": [],
   "source": [
    "#Git Add Committ https://www.youtube.com/playlist?list=PLqPfbT7gwVP_AlE6HeDQUJsG4nUbGyeh3\n",
    "\n",
    "from IPython.display import YouTubeVideo\n",
    "YouTubeVideo(\"GTM-h5xX2Lk\",width=640,height=360, cc_load_policy=True)"
   ]
  },
  {
   "cell_type": "markdown",
   "metadata": {},
   "source": [
    "----\n",
    "\n",
    "# What not to include (building a .gitignore file)\n",
    "\n",
    "First thing we want to teach is is that not everything should go into a git repository.  i.e. we do not want to bloat our repository with unwanted files.  The git repository works best with Text files that represent \"source\" code and not compiled or generated code. Here are some basic guidelines of what not to include:\n",
    "\n",
    "\n",
    "* ```.ipynb_checkpoint``` - These folders are generated when you run jupyter notebooks.  They are \"temporary\" compiled folders that will change each time you run your notebook and should not be included in your repository. \n",
    "* ```__pychache__``` - Similar to .ipynb_checkpoint folders these folders are often generated when running python scripts and should not be included in your repository. \n",
    "* **_Other \"Temporary\" files_** - Temporary files are generated by all types of software and often start with a special characters such as the dot (.) or the tilde (~).  For example many text editors generate temporary files to save a document in case of a program crash.  Do not include temporary files in your repository. \n",
    "* **_Compiled Code_** - Programs such as C and FORTRAN must compile their code to an executable in order to run on your computer. These compiled codes are not editable and should be left out of your repository.  Instead it is better to include instructions for compiling the source code as part of your repository.  \n",
    "* **_Program Output_** - Do not include any program output in your repository (unless for very specific reasons such as documentation, testing, or figures in your final report).  Assume that any output that can be generated by the source code should not be included with the source code (it is redundant). \n",
    "\n",
    "A good rule of thumb is that if you did not generate the file and/or do not know what it is you probably do NOT want to include it in your repository. \n",
    "\n",
    "**_WARNING_** do not blindly add all files to your repository with the * (star) syntax.  This is bad practice. For example do NOT do the following:\n",
    "\n",
    "    git add *\n",
    "\n",
    "### Other files to avoid\n",
    "\n",
    "In addition to the above files it is good to avoid any type of \"Binary\" file (with a few exceptions).  As stated early, git works best with text files so it can easily track changes. Some example binary files to avoid include:\n",
    "\n",
    "- **_Large Data files_**  Although it is good to include a few example inputs to your software, avoid using entire datasets.  It is best to store these files someplace else.  \n",
    "- **_Non-Text formats_** such as Word, Excel or PowerPoint documents should be avoided.  These tend to change each time they are opened even if the core text does not change. it is better to use an alternative text example. \n",
    "\n",
    "\n",
    "**_Note:_** one exception to the above rules are image files (ex jpg or png) that are used to help markdown or in the documentation.  It is typically okay to include these since they tend to get included only once and do not change much as the project evolves. \n",
    "\n",
    "The ```.gitignore``` (typically read \"dot git ignore\") is aa text file that contains a list of regular expressions (we will learn more about these later) that specify names of files we do not want to include in a git repository. \n",
    "\n",
    "\n",
    "### .gitignore file\n",
    "\n",
    "The ```.gitignore``` (read \"dot git ignore\") file is used to help keep unwanted files out of your project.  Each line ```.gitignore``` file are filenames you want git to ignore.  For example, based on what we said above, a  good place to start on your ```.gitignore``` file would be the following two lines:\n",
    "```\n",
    ".ipynbcheckpoint\n",
    "__pychache__\n",
    "```\n",
    "\n",
    "What should go into a .gitignore depends a lot on the type of project.  However, you don't need to invent these from scratch. For example, you could just copy the .gitignore file from the course repository or find one on the internet.  If you are using github I think it can also automatically create a .gitignore file for you if you specify your project as a python project. "
   ]
  },
  {
   "cell_type": "code",
   "execution_count": null,
   "metadata": {},
   "outputs": [],
   "source": [
    "#Hidden files https://www.youtube.com/playlist?list=PLqPfbT7gwVP_AlE6HeDQUJsG4nUbGyeh3\n",
    "\n",
    "from IPython.display import YouTubeVideo\n",
    "YouTubeVideo(\"kzI-mPSY8y4\",width=640,height=360, cc_load_policy=True)"
   ]
  },
  {
   "cell_type": "markdown",
   "metadata": {},
   "source": [
    "---\n",
    "\n",
    "# Licensing file\n",
    "\n",
    "\n",
    "As authors of software it is important to let people know how they can use our software.  The following article is a great resource for learning the types of terminology and logic used when talking about software License.  \n",
    "\n",
    "* https://journals.plos.org/ploscompbiol/article?id=10.1371/journal.pcbi.1002598\n",
    "\n",
    "* https://creativecommons.org/licenses/\n",
    "\n",
    "\n",
    "![Creative commons license](https://licensebuttons.net/l/by-nc-sa/3.0/88x31.png)\n",
    "\n",
    "Include a ```./LICENSE``` test file in your top directory. Select which license to use using the following website:\n",
    "\n",
    "* [https://choosealicense.com/](https://choosealicense.com/)\n",
    "\n",
    "Copy and paste your chosen license file into a file named ```./LICENSE```\n",
    "\n",
    "The following articles are a great resource for learning the types of terminology and logic used when talking about software License.  \n",
    "\n",
    "* https://journals.plos.org/ploscompbiol/article?id=10.1371/journal.pcbi.1002598\n",
    "* [https://choosealicense.com/](https://choosealicense.com/)\n",
    "* https://creativecommons.org/licenses/\n",
    "\n",
    "**_Make sure you talk to your faculty advisor to know what type of license is approriate.  What license you use may also depend on funding sources._**\n",
    "\n",
    "Include a ```./LICENSE.txt``` test file in your top directory. Select which license to use using the following website.\n",
    "\n"
   ]
  },
  {
   "cell_type": "markdown",
   "metadata": {},
   "source": [
    "---\n",
    "\n",
    "# Makefile\n",
    "\n",
    "\"Make\" is a common Linux command that can help organize command line programs.  The idea is that you can \"make\" some files by running commands on other files.  Make works by reading in a file called a ```makefile```. Makefiles are fairly simple in concept but are an entire programming language so can get very advanced. At its simplest level a makefile consists of rules in the following format:\n",
    "\n",
    "```\n",
    "target : prerequisite_file1 prerequisite_file2 prequiste_file3 ...\n",
    "   #Bash build command(s) to make the target file from the prerequisite files\n",
    "```\n",
    "\n",
    "Makefiles can be thought of as Directed Acyclic Graphs (DAGs).  For example the makefile found in this [file](https://colbrydi.github.io/images//Makefile) can be visualized as the following dependency graph. \n",
    "\n",
    "<img src=\"https://colbrydi.github.io/images/make.png\" width=50%>\n",
    "\n",
    "The following is a very simple ```makefile``` template you can use in your project. This file has very few dependencies and is just a way to use make to keep track of the utilities we are using in this course:"
   ]
  },
  {
   "cell_type": "raw",
   "metadata": {},
   "source": [
    "MODULENAME = YOUR_PACKAGE_NAME \n",
    "\n",
    "help:\n",
    "\t@echo \"\"\n",
    "\t@echo \"Welcome to my project!!!\"\n",
    "\t@echo \"To get started create an environment using:\"\n",
    "\t@echo \"\tmake init\"\n",
    "\t@echo \"\tconda activate ./envs\"\n",
    "\t@echo \"\"\n",
    "\t@echo \"To generate project documentation use:\"\n",
    "\t@echo \"\tmake docs\"\n",
    "\t@echo \"\"\n",
    "\t@echo \"To Lint the project use:\"\n",
    "\t@echo \"\tmake lint\"\n",
    "\t@echo \"\"\n",
    "\t@echo \"To run pydocstyle on the project use:\"\n",
    "\t@echo \"\tmake doclint\"\n",
    "\t@echo \"\"\n",
    "\t@echo \"To run unit tests use:\"\n",
    "\t@echo \"\tmake test\"\n",
    "\t@echo \"\"\n",
    "\t\n",
    "\n",
    "init:\n",
    "\tconda env create --prefix ./envs --file environment.yml\n",
    "\n",
    "docs:\n",
    "\tpdoc3 --force --html --output-dir ./docs $(MODULENAME)\n",
    "\n",
    "lint:\n",
    "\tpylint $(MODULENAME)\n",
    "\n",
    "doclint:\n",
    "\tpydocstyle $(MODULENAME)\n",
    "\n",
    "test:\n",
    "\tpytest -v $(MODULENAME)\n",
    "\n",
    ".PHONY: init doc lint test \n"
   ]
  },
  {
   "cell_type": "markdown",
   "metadata": {},
   "source": [
    "Copy the ```makefile``` file in the class directory into your project directory, change the **YOUR_PACKAGE_NAME** name and add/commit the file to your repository.  \n",
    "\n",
    "**_NOTE_**: Makefiles formats require tabs instead of spaces so double check before committing. Modify the file as appropriate. "
   ]
  },
  {
   "cell_type": "markdown",
   "metadata": {},
   "source": [
    "---\n",
    "\n",
    "# Avoid Spaces in file names\n",
    "\n",
    "When you name all of the files and folders inside of a repository, it is important that your names **_DO NOT include spaces_**.  Although all modern computer's have ways to accept names with spaces do not use them.  Instead use underscores (_) or ```CamleCase``` (No spaces and capital letters at the beginning of each word in the name).  Avoiding spaces in your names will **_ALWAYS_** save time in the long run.  "
   ]
  },
  {
   "cell_type": "markdown",
   "metadata": {},
   "source": [
    "----\n",
    "\n",
    "# Always Use Relative Paths\n",
    "\n",
    "In your code there are two basic ways to determine the location of a folder inside your computer; Relative Paths and Absolute Paths.  A relative path is a path starting from your current directory and an absolute path is is a path starting from your computer's \"root\" directory.  \n",
    "\n",
    "- Relative paths typically start with a single dot (.), representing the currecnt directory, or two double dots (..) representing the current directories parent folder.\n",
    "- Absolute paths typically start at the global root directory (/) on a Linux or Mac machine or with a drive label (ex C:) on a windows machine.  \n",
    "\n",
    "**_ALWAYS_** use relative paths in your git repository.  This ensures that others will be able to use your software if they download it onto their computer.  For example:\n",
    "\n",
    "    Good: ./data/  or ../data/ is a relative path to a child directory or sibling directory called data. \n",
    "    Bad (not acceptable): C:/research/data or /mnt/home/data are absolute paths to a data directory\n",
    " \n",
    " "
   ]
  },
  {
   "cell_type": "markdown",
   "metadata": {},
   "source": [
    "----\n",
    "\n",
    "# Jupyter notebook files in git repositories\n",
    "\n",
    "Turns out that Jupyter notebook files and git repositories work very poorly together.  Jupyter notebook files are a unique combination of source and program generated information.  So, everytime you run a jupyter file it can add output cells which make git think you you changed something important. In many cases it is just a few numbers or some output text.  When you run the ```git status``` command it always looks like jupyter notebook files have changed even when they have not changed. \n",
    "\n",
    "A good rule of thumb is to clear all of the output files before committing any changes to jupyter notebook files.  \n",
    "\n",
    "- Open the jupyter notebook file\n",
    "- Select \"Reset Kernel and clear output\" from the menu\n",
    "- Save the notebook file.\n",
    "- Do your \"git add\" and \"git commit\" commands\n",
    "\n",
    "The following video goes though why we have to treat jupyter notebooks this way:"
   ]
  },
  {
   "cell_type": "code",
   "execution_count": null,
   "metadata": {},
   "outputs": [],
   "source": [
    "# Jupyter vs. Git -- https://www.youtube.com/playlist?list=PLqPfbT7gwVP_AlE6HeDQUJsG4nUbGyeh3\n",
    "from IPython.display import YouTubeVideo\n",
    "YouTubeVideo(\"xlNq2GJhGOc\",width=640,height=360, cc_load_policy=True)"
   ]
  },
  {
   "cell_type": "markdown",
   "metadata": {},
   "source": [
    "---\n",
    "# Turning in your GIT repository\n",
    "\n",
    "In order to turn in your GIT repository you just need to give the instructors and classmates the permissions to clone the repository and provide the full git command. Please use the following form to submit this information.\n",
    "\n",
    "Or if you prefer, you can use the [Direct Link](https://docs.google.com/forms/d/e/1FAIpQLSdbm1ji7mdHeiPEQBJe-_I29eqMvOTmY0bD6rZ5LOxOYMKnQQ/viewform)"
   ]
  },
  {
   "cell_type": "code",
   "execution_count": null,
   "metadata": {},
   "outputs": [],
   "source": [
    "from IPython.display import HTML\n",
    "HTML(\n",
    "\"\"\"\n",
    "<iframe \n",
    "\tsrc=\"https://docs.google.com/forms/d/e/1FAIpQLSdbm1ji7mdHeiPEQBJe-_I29eqMvOTmY0bD6rZ5LOxOYMKnQQ/viewform\" \n",
    "\twidth=\"100%\" \n",
    "\theight=\"1100px\" \n",
    "\tframeborder=\"0\" \n",
    "\tmarginheight=\"0\" \n",
    "\tmarginwidth=\"0\">\n",
    "\tLoading...\n",
    "</iframe>\n",
    "\"\"\"\n",
    ")"
   ]
  },
  {
   "cell_type": "markdown",
   "metadata": {},
   "source": [
    "-----\n",
    "### Congratulations, you are done!\n",
    "\n",
    "Your instructor can download your git report using the link you provided in the above Google form."
   ]
  }
 ],
 "metadata": {
  "anaconda-cloud": {},
  "kernelspec": {
   "display_name": "Python 3",
   "language": "python",
   "name": "python3"
  },
  "language_info": {
   "codemirror_mode": {
    "name": "ipython",
    "version": 3
   },
   "file_extension": ".py",
   "mimetype": "text/x-python",
   "name": "python",
   "nbconvert_exporter": "python",
   "pygments_lexer": "ipython3",
   "version": "3.8.3"
  }
 },
 "nbformat": 4,
 "nbformat_minor": 1
}
