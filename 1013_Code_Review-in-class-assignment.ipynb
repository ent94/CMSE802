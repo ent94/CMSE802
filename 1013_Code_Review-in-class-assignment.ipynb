{
 "cells": [
  {
   "cell_type": "markdown",
   "metadata": {},
   "source": [
    "In order to successfully complete this assignment you need to participate both individually and in groups during class on **Tuesday October 13**.\n",
    "\n"
   ]
  },
  {
   "cell_type": "markdown",
   "metadata": {},
   "source": [
    "# In-Class Assignment: Code Review\n",
    "\n",
    "<img alt=\"Code review icon\" src=\"https://static.thenounproject.com/png/101170-200.png\">\n",
    "\n",
    "Image From: https://static.thenounproject.com/"
   ]
  },
  {
   "cell_type": "markdown",
   "metadata": {},
   "source": [
    "### Agenda for today's class (80 minutes)\n",
    "\n",
    "1. [(20 minutes) Finish Tower Exersize](#Finish_Tower)\n",
    "1. [(20 minutes) Review Project Git Repositories](#Review_Project_Git_Repositories)\n",
    "1. [(20 minutes) Review Pre-Class Assignment](#Review_Pre-Class_Assignment)\n",
    "1. [(20 minutes) Getting Starated](#Practice_a_merge_request)\n",
    "\n"
   ]
  },
  {
   "cell_type": "markdown",
   "metadata": {},
   "source": [
    "----\n",
    "<a name=\"Finish_Tower\"></a>\n",
    "# 1. Finish Tower Exersize\n",
    "\n",
    "Now lets finish the graph theory problem from last time.  Lets see how far we get.  "
   ]
  },
  {
   "cell_type": "markdown",
   "metadata": {},
   "source": [
    "----\n",
    "<a name=\"Review_Project_Git_Repositories\"></a>\n",
    "# 2. Review Project Git Repositories\n",
    "\n",
    "Let's practice git cloning again.  Break up into groups.  Create a directory called ```Testing``` and clone each of your groups git repository into your directory.\n",
    "\n",
    "Discuss your project and any troubles you have sharing your repositories.  Make sure you help each other out. \n",
    "\n",
    "\n",
    "Be prepaired to discuss what you learned with the entire class."
   ]
  },
  {
   "cell_type": "markdown",
   "metadata": {},
   "source": [
    "----\n",
    "\n",
    "<a name=\"Review_Pre-Class_Assignment\"></a>\n",
    "\n",
    "# 3. Review Pre-Class Assignment\n",
    "\n",
    "\n",
    "* [1012-Unit_Testing-pre-class-assignment](1012-Unit_Testing-pre-class-assignment.ipynb)"
   ]
  },
  {
   "cell_type": "markdown",
   "metadata": {},
   "source": [
    "-----\n",
    "\n",
    "<a name=\"Practice_a_merge_request\"></a>\n",
    "\n",
    "# 4. Practice a merge request"
   ]
  },
  {
   "cell_type": "markdown",
   "metadata": {},
   "source": [
    "&#9989; **<font color=red>DO THIS:</font>** Get together with your partner provide feedback for each of your projects.\n",
    "\n",
    "1. Fork your partner's repository \n",
    "2. Clone the forked repository onto your local machine.\n",
    "3. Create a branch called \"CodeReviewPractice\"\n",
    "4. Checkout the \"CodeReviewPraactice\" branch\n",
    "5. Read the README.md, stub functions and documentation for your partners project. Try to understand what they are trying to build. \n",
    "4. Make a change to the project and commit the change to the \"CodeReviewPractice\" Branch.\n",
    "5. Push the \"CodeReviewPractice\" branch up to the your forked repository\n",
    "6. Submit a \"pull/merge\" request to your partner's repository of your changes.\n",
    "7. Accept/Regect the pull request on your repository.  (Show this to your instructor). \n",
    "\n",
    "&#9989; **<font color=red>DO THIS:</font>** Discuss your projects with your partner.  Answer questions and be preparied to share your partners project with the entire class. "
   ]
  },
  {
   "cell_type": "markdown",
   "metadata": {},
   "source": [
    "-----\n",
    "### Congratulations, we're done!"
   ]
  },
  {
   "cell_type": "markdown",
   "metadata": {},
   "source": [
    "### Course Resources:\n",
    "\n",
    "\n",
    "- [Website](https://msu-cmse-courses.github.io/cmse802-f20-student/)\n",
    "- [ZOOM](https://msu.zoom.us/j/97272546850)\n",
    "- [Syllabus](https://docs.google.com/document/d/e/2PACX-1vT9Wn11y0ECI_NAUl_2NA8V5jcD8dXKJkqUSWXjlawgqr2gU5hII3IsE0S8-CPd3W4xsWIlPAg2YW7D/pub)\n",
    "- [Schedule](https://docs.google.com/spreadsheets/d/e/2PACX-1vQRAm1mqJPQs1YSLPT9_41ABtywSV2f3EWPon9szguL6wvWqWsqaIzqkuHkSk7sea8ZIcIgZmkKJvwu/pubhtml?gid=2142090757&single=true)\n",
    "\n"
   ]
  },
  {
   "cell_type": "markdown",
   "metadata": {},
   "source": [
    "Written by Dirk Colbry, Michigan State University\n",
    "<a rel=\"license\" href=\"http://creativecommons.org/licenses/by-nc/4.0/\"><img alt=\"Creative Commons License\" style=\"border-width:0\" src=\"https://i.creativecommons.org/l/by-nc/4.0/88x31.png\" /></a><br />This work is licensed under a <a rel=\"license\" href=\"http://creativecommons.org/licenses/by-nc/4.0/\">Creative Commons Attribution-NonCommercial 4.0 International License</a>."
   ]
  },
  {
   "cell_type": "markdown",
   "metadata": {},
   "source": [
    "----"
   ]
  }
 ],
 "metadata": {
  "kernelspec": {
   "display_name": "Python 3",
   "language": "python",
   "name": "python3"
  },
  "language_info": {
   "codemirror_mode": {
    "name": "ipython",
    "version": 3
   },
   "file_extension": ".py",
   "mimetype": "text/x-python",
   "name": "python",
   "nbconvert_exporter": "python",
   "pygments_lexer": "ipython3",
   "version": "3.7.2"
  }
 },
 "nbformat": 4,
 "nbformat_minor": 2
}
