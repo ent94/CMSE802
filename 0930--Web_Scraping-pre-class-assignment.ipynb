{
 "cells": [
  {
   "cell_type": "markdown",
   "metadata": {},
   "source": [
    "In order to successfully complete this assignment you must do the required reading, watch the provided videos and complete all instructions.  The embedded survey form must be entirely filled out and submitted on or before **11:59pm on Wednesday September 30**.  Students must come to class the next day prepared to discuss the material covered in this assignment. answer"
   ]
  },
  {
   "cell_type": "markdown",
   "metadata": {},
   "source": [
    "# Pre-Class Assignment: Web Scraping"
   ]
  },
  {
   "cell_type": "markdown",
   "metadata": {},
   "source": [
    "### Goals for today's pre-class assignment \n",
    "\n",
    "\n",
    "1. [Web Scraping](#Web_Scraping)\n",
    "2. [Regular Expressions and the ```re``` library](#Regular_Expressions)\n",
    "3. [Mechanics of regular expressions](#Mechanics_of_regular_expressions)\n",
    "4. [RE Examples](#RE_Examples)\n",
    "5. [Additional Resources](#Additional_Resources)\n",
    "4. [Assignment wrap-up](#Assignment_wrap-up)"
   ]
  },
  {
   "cell_type": "markdown",
   "metadata": {},
   "source": [
    "---\n",
    "<a name=\"Web_Scraping\"></a>\n",
    "# 1. Web Scraping\n",
    "\n",
    "In the next class we will be doing some more web scraping. This is a common technique to download and use data on the internet.  Sometimes webscraping can be really easy othertimes it can be complex. here are some basic levels. \n",
    "\n",
    "- (easy) Simple HTML\n",
    "- (harder) HTML and CSS\n",
    "- (difficult) Javascript - Often requires a \"Headless\" web browser.\n",
    "\n",
    "To prepair for class make sure you understand the basics of HTML. If you are new to HTML I highly recommend reading the following article in detail. If you are familar with HTML a quick skim of the article may be sufficient:\n",
    "\n",
    "- https://www.dataquest.io/blog/web-scraping-tutorial-python/"
   ]
  },
  {
   "cell_type": "markdown",
   "metadata": {},
   "source": [
    "---\n",
    "<a name=\"Regular_Expressions\"></a>\n",
    "# 2. Regular Expressions and the ```re``` library\n",
    "\n",
    "Regular expressions (also referred to as **regex** or **regexp**) can be thought of as a powerful  language for pattern matching in text and the concept is used a lot in web scraping.  The python module **re** provides support for regular expressions. A typical regular expression search in python looks like\n",
    "\n",
    "    match = re.search(pattern, text)\n",
    "\n",
    "where\n",
    "\n",
    "</p>\n",
    "\n",
    "1. **pattern**: is a string with the instructions of what to look for and how to look for it\n",
    "1. **text**: is a string on which the pattern matching will be performed \n",
    "\n",
    "In particular, the ```re.search(pattern, text)``` method returns a match object if the search pattern was found within the text, and None otherwise.\n",
    "\n",
    "---\n",
    "\n",
    "Try it for yourself:"
   ]
  },
  {
   "cell_type": "code",
   "execution_count": null,
   "metadata": {},
   "outputs": [],
   "source": [
    "import re\n",
    "\n",
    "text = 'Go green, go white!'\n",
    "\n",
    "match1 = re.search('MSU', text )\n",
    "\n",
    "match2 = re.search('green', text )\n",
    "\n",
    "print(match1)\n",
    "print(match2)"
   ]
  },
  {
   "cell_type": "markdown",
   "metadata": {},
   "source": [
    "The power of regular expressions comes from the fact that the pattern can contain not only **regular characters** such as 'g' and 'M', but also **metacharacters** such as \\d (any digit), \\s (white space), \\w (alphanumeric), \\W (non-alphanumeric); and **quantifiers** such as * (zero or more occurrences), + (one or more occurences) and ? (at most one occurence). Here is an example that finds the word cat followed by a dash and any alphanumeric set:"
   ]
  },
  {
   "cell_type": "code",
   "execution_count": null,
   "metadata": {},
   "outputs": [],
   "source": [
    "text = 'an example word-cat!!'\n",
    "\n",
    "match = re.search('word-\\w*', text)\n",
    "\n",
    "# If-statement after search() tests if it succeeded\n",
    "if match:                      \n",
    "    print('found', match.group()) ## 'found word:cat'\n",
    "else:\n",
    "    print('did not find')"
   ]
  },
  {
   "cell_type": "markdown",
   "metadata": {},
   "source": [
    "&#9989; **<font color=red>DO THIS:</font>**  In the code above, replace the quantifier * by another quantifier so that the result includes any single alphanumeric character after the dash (ex: word-c)."
   ]
  },
  {
   "cell_type": "code",
   "execution_count": null,
   "metadata": {},
   "outputs": [],
   "source": [
    "### Your code here\n",
    "\n",
    "##ANSWER##\n",
    "match = re.search('word-\\w', text)\n",
    "print(match)\n",
    "\n",
    "##ANSWER##\n",
    "# $??????"
   ]
  },
  {
   "cell_type": "markdown",
   "metadata": {},
   "source": [
    "---\n",
    "\n",
    "A good list of regex characters and other expressions can be found here:\n",
    "\n",
    "https://www.shortcutfoo.com/app/dojos/python-regex/cheatsheet\n",
    "\n",
    "---\n",
    "\n",
    "Here is another example: Say you want to find the domain for all email addresses in a text string. Here is a solution:\n",
    "\n"
   ]
  },
  {
   "cell_type": "code",
   "execution_count": null,
   "metadata": {},
   "outputs": [],
   "source": [
    "text = 'purple alice-b@google.com monkey dishwasher sparty@msu.edu'\n",
    "\n",
    "match = re.findall('@\\w+', text)\n",
    "\n",
    "match"
   ]
  },
  {
   "cell_type": "markdown",
   "metadata": {},
   "source": [
    "The method ```findall``` returns a list of strings with all the matches found. If not matches are found, then it returns the empty list [] .\n",
    "\n",
    "---\n",
    "\n",
    "The final point I would like to make is the following: Since the search pattern in a regular expression is essentially a set of instructions (i.e., a program) then one can compile it, which is advantageous if the same search pattern is going to be used several times. The methods from the library **re** can then be applied to the compiled pattern:"
   ]
  },
  {
   "cell_type": "code",
   "execution_count": null,
   "metadata": {},
   "outputs": [],
   "source": [
    "pattern = re.compile('@([\\w\\d.]+\\.)+(com|org|edu)')\n",
    "\n",
    "text = 'This is a list of email addresses: first.last@example.com, first.last+category@gmail.com,  valid-address@mail.example.com,  not-valid@example.foo'\n",
    "\n",
    "pattern.findall(text)"
   ]
  },
  {
   "cell_type": "markdown",
   "metadata": {},
   "source": [
    "---\n",
    "<a name=\"Mechanics_of_regular_expressions\"></a>\n",
    "# 3.   Mechanics of regular expressions\n",
    "\n",
    "The following video is about regular expressions and is really LONG.  You will want to watch it at faster speeds.  I don't like long videos so feel free to skip if you are not finding it helpful.  "
   ]
  },
  {
   "cell_type": "code",
   "execution_count": null,
   "metadata": {
    "scrolled": true
   },
   "outputs": [],
   "source": [
    "from IPython.display import YouTubeVideo\n",
    "YouTubeVideo(\"UR6a_wZ8ido\",width=640,height=360, cc_load_policy=True)"
   ]
  },
  {
   "cell_type": "markdown",
   "metadata": {},
   "source": [
    "----\n",
    "<a name=\"RE_Examples\"></a>\n",
    "# 4. RE Examples\n",
    "\n",
    "Here is an example of how regular expressions in the wild:"
   ]
  },
  {
   "cell_type": "code",
   "execution_count": null,
   "metadata": {},
   "outputs": [],
   "source": [
    "#example postal codes used in Great Britten\n",
    "example_codes = [\"SW1A 0AA\", # House of Commons\n",
    "                 \"SW1A 1AA\", # Buckingham Palace\n",
    "                 \"SW1A 2AA\", # Downing Street\n",
    "                 \"BX3 2BB\", # Barclays Bank\n",
    "                 \"DH98 1BT\", # British Telecom\n",
    "                 \"N1 9GU\", # Guardian Newspaper\n",
    "                 \"E98 1TT\", # The Times\n",
    "                 \"TIM E22\", # a fake postcode\n",
    "                 \"A B1 A22\", # not a valid postcode\n",
    "                 \"EC2N 2DB\", # Deutsche Bank\n",
    "                 \"SE9 2UG\", # University of Greenwhich\n",
    "                 \"N1 0UY\", # Islington, London\n",
    "                 \"EC1V 8DS\", # Clerkenwell, London\n",
    "                 \"WC1X 9DT\", # WC1X 9DT\n",
    "                 \"B42 1LG\", # Birmingham\n",
    "                 \"B28 9AD\", # Birmingham\n",
    "                 \"W12 7RJ\", # London, BBC News Centre\n",
    "                 \"BBC 007\" # a fake postcode\n",
    "                ]\n",
    "\n",
    "\n",
    "pattern = re.compile(\"[A-z]{1,2}[0-9R][0-9A-Z]? [0-9][ABD-HJLNP-UW-Z]{2}\")\n",
    "\n",
    "for postcode in example_codes:\n",
    "    r = pattern.search(postcode)\n",
    "    if r:\n",
    "        print(postcode + \" matched!\")\n",
    "    else:\n",
    "        print(postcode + \" is not a valid postcode!\")"
   ]
  },
  {
   "cell_type": "markdown",
   "metadata": {},
   "source": [
    "For a another example, the following code finds simple phone numbers in websites:"
   ]
  },
  {
   "cell_type": "code",
   "execution_count": null,
   "metadata": {},
   "outputs": [],
   "source": [
    "import re\n",
    "import requests\n",
    "\n",
    "url = \"https://colbrydi.github.io/pages/contact.html\"\n",
    "\n",
    "source_code = requests.get(url)\n",
    "plain_text = source_code.text\n",
    "\n",
    "regex = re.compile(\"\\(?\\d{3}\\)?\\s?\\d{3}[-.]\\d{4}\")\n",
    "\n",
    "res = regex.findall(plain_text)\n",
    "\n",
    "print(res)\n"
   ]
  },
  {
   "cell_type": "markdown",
   "metadata": {},
   "source": [
    "---\n",
    "<a name=\"Additional_Resources\"></a>\n",
    "      \n",
    "# 5. Additional Resources\n",
    "\n",
    "There are a lot of resources on regular expressions.  Here are a few to check out:\n",
    "\n",
    "* https://docs.python.org/3/howto/regex.html\n",
    "* http://www.pyregex.com/\n",
    "* http://www.bogotobogo.com/python/python_regularExpressions.php\n",
    "* http://howardabrams.com/regexp/\n",
    "* https://www.regextester.com/ "
   ]
  },
  {
   "cell_type": "markdown",
   "metadata": {},
   "source": [
    "Whenever I work with regular expressions I look for online tools that can help me. For example the following is a really great tool for experimenting with regular expressions: \n",
    "\n",
    "https://regex101.com/\n",
    "\n",
    "&#9989; **<font color=red>DO THIS:</font>**  Use the [regex101](https://regex101.com/) tool to generate regular expressions for the following:\n",
    "\n",
    "&#9989; **<font color=red>QUESTION:</font>** Write a regular expression to find valid **email addresses** in a body of text (ex. dirk@colbry.com, colbrydi@msu.edu, dirkcolbry+junk@gmail.com).  Include both positive and negative examples for testing. "
   ]
  },
  {
   "cell_type": "markdown",
   "metadata": {},
   "source": [
    "Put your regular expression and test code here"
   ]
  },
  {
   "cell_type": "markdown",
   "metadata": {},
   "source": [
    "&#9989; **<font color=red>QUESTION:</font>** Write a regular expression to find valid **hashtag** in a body of text (ex. #Election2016, #RegexpressionsAreAwsome, #whatisahashtag). Include both positive and negative examples for testing."
   ]
  },
  {
   "cell_type": "markdown",
   "metadata": {},
   "source": [
    "Put your regular expression and test code here"
   ]
  },
  {
   "cell_type": "markdown",
   "metadata": {},
   "source": [
    "&#9989; **<font color=red>QUESTION:</font>** Write a more general regular expression to find valid phone number in a body of text (ex. (517) 432-0455, 432-0455, 517-432-0455, 1-517-432-0455. include both positive and negative examples for testing."
   ]
  },
  {
   "cell_type": "markdown",
   "metadata": {},
   "source": [
    "Put your regular expression and test code here"
   ]
  },
  {
   "cell_type": "markdown",
   "metadata": {},
   "source": [
    "----\n",
    "<a name=\"Assignment_wrap-up\"></a>\n",
    "# 6. Assignment wrap-up\n",
    "\n",
    "Please fill out the form that appears when you run the code below.  **You must completely fill this out in order to receive credit for the assignment!**\n",
    "\n",
    "[Direct Link to Google Form](https://cmse.msu.edu/cmse802-pc-survey)\n",
    "\n",
    "\n",
    "If you have trouble with the embedded form, please make sure you log on with your MSU google account at [googleapps.msu.edu](https://googleapps.msu.edu) and then click on the direct link above."
   ]
  },
  {
   "cell_type": "markdown",
   "metadata": {},
   "source": [
    "&#9989; **<font color=red>Assignment-Specific QUESTION:</font>** What is the regular expression and testing code you used to find hashtags?"
   ]
  },
  {
   "cell_type": "markdown",
   "metadata": {},
   "source": [
    "Put your answer to the above question here"
   ]
  },
  {
   "cell_type": "markdown",
   "metadata": {},
   "source": [
    "&#9989; **<font color=red>QUESTION:</font>**  Summarize what you did in this assignment."
   ]
  },
  {
   "cell_type": "markdown",
   "metadata": {},
   "source": [
    "Put your answer to the above question here"
   ]
  },
  {
   "cell_type": "markdown",
   "metadata": {},
   "source": [
    "&#9989; **<font color=red>QUESTION:</font>**  What questions do you have, if any, about any of the topics discussed in this assignment after working through the jupyter notebook?"
   ]
  },
  {
   "cell_type": "markdown",
   "metadata": {},
   "source": [
    "Put your answer to the above question here"
   ]
  },
  {
   "cell_type": "markdown",
   "metadata": {},
   "source": [
    "&#9989; **<font color=red>QUESTION:</font>**  How well do you feel this assignment helped you to achieve a better understanding of the above mentioned topic(s)?"
   ]
  },
  {
   "cell_type": "markdown",
   "metadata": {},
   "source": [
    "Put your answer to the above question here"
   ]
  },
  {
   "cell_type": "markdown",
   "metadata": {},
   "source": [
    "&#9989; **<font color=red>QUESTION:</font>** What was the **most** challenging part of this assignment for you? "
   ]
  },
  {
   "cell_type": "markdown",
   "metadata": {},
   "source": [
    "Put your answer to the above question here"
   ]
  },
  {
   "cell_type": "markdown",
   "metadata": {},
   "source": [
    "&#9989; **<font color=red>QUESTION:</font>** What was the **least** challenging part of this assignment for you? "
   ]
  },
  {
   "cell_type": "markdown",
   "metadata": {},
   "source": [
    "Put your answer to the above question here"
   ]
  },
  {
   "cell_type": "markdown",
   "metadata": {},
   "source": [
    "&#9989; **<font color=red>QUESTION:</font>**  What kind of additional questions or support, if any, do you feel you need to have a better understanding of the content in this assignment?"
   ]
  },
  {
   "cell_type": "markdown",
   "metadata": {},
   "source": [
    "Put your answer to the above question here"
   ]
  },
  {
   "cell_type": "markdown",
   "metadata": {},
   "source": [
    "&#9989; **<font color=red>QUESTION:</font>**  Do you have any further questions or comments about this material, or anything else that's going on in class?"
   ]
  },
  {
   "cell_type": "markdown",
   "metadata": {},
   "source": [
    "Put your answer to the above question here"
   ]
  },
  {
   "cell_type": "markdown",
   "metadata": {},
   "source": [
    "&#9989; **<font color=red>QUESTION:</font>** Approximately how long did this pre-class assignment take?"
   ]
  },
  {
   "cell_type": "markdown",
   "metadata": {},
   "source": [
    "Put your answer to the above question here"
   ]
  },
  {
   "cell_type": "code",
   "execution_count": null,
   "metadata": {},
   "outputs": [],
   "source": [
    "from IPython.display import HTML\n",
    "HTML(\n",
    "\"\"\"\n",
    "<iframe \n",
    "\tsrc=\"https://cmse.msu.edu/cmse802-pc-survey?embedded=true\" \n",
    "\twidth=\"100%\" \n",
    "\theight=\"1200px\" \n",
    "\tframeborder=\"0\" \n",
    "\tmarginheight=\"0\" \n",
    "\tmarginwidth=\"0\">\n",
    "\tLoading...\n",
    "</iframe>\n",
    "\"\"\"\n",
    ")"
   ]
  },
  {
   "cell_type": "markdown",
   "metadata": {},
   "source": [
    "---------\n",
    "### Congratulations, we're done!\n",
    "\n",
    "To get credit for this assignment you must fill out and submit the above survey from on or before the assignment due date."
   ]
  },
  {
   "cell_type": "markdown",
   "metadata": {},
   "source": [
    "### Course Resources:\n",
    "\n",
    "\n",
    "- [Website](https://msu-cmse-courses.github.io/cmse802-f20-student/)\n",
    "- [ZOOM](https://msu.zoom.us/j/97272546850)\n",
    "- [Syllabus](https://docs.google.com/document/d/e/2PACX-1vT9Wn11y0ECI_NAUl_2NA8V5jcD8dXKJkqUSWXjlawgqr2gU5hII3IsE0S8-CPd3W4xsWIlPAg2YW7D/pub)\n",
    "- [Schedule](https://docs.google.com/spreadsheets/d/e/2PACX-1vQRAm1mqJPQs1YSLPT9_41ABtywSV2f3EWPon9szguL6wvWqWsqaIzqkuHkSk7sea8ZIcIgZmkKJvwu/pubhtml?gid=2142090757&single=true)\n",
    "\n"
   ]
  },
  {
   "cell_type": "markdown",
   "metadata": {},
   "source": [
    "Written by Dirk Colbry, Michigan State University\n",
    "<a rel=\"license\" href=\"http://creativecommons.org/licenses/by-nc/4.0/\"><img alt=\"Creative Commons License\" style=\"border-width:0\" src=\"https://i.creativecommons.org/l/by-nc/4.0/88x31.png\" /></a><br />This work is licensed under a <a rel=\"license\" href=\"http://creativecommons.org/licenses/by-nc/4.0/\">Creative Commons Attribution-NonCommercial 4.0 International License</a>."
   ]
  },
  {
   "cell_type": "markdown",
   "metadata": {},
   "source": [
    "-----"
   ]
  }
 ],
 "metadata": {
  "anaconda-cloud": {},
  "kernelspec": {
   "display_name": "Python 3",
   "language": "python",
   "name": "python3"
  },
  "language_info": {
   "codemirror_mode": {
    "name": "ipython",
    "version": 3
   },
   "file_extension": ".py",
   "mimetype": "text/x-python",
   "name": "python",
   "nbconvert_exporter": "python",
   "pygments_lexer": "ipython3",
   "version": "3.8.3"
  }
 },
 "nbformat": 4,
 "nbformat_minor": 2
}
