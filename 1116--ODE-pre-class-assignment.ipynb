{
 "cells": [
  {
   "cell_type": "markdown",
   "metadata": {},
   "source": [
    "In order to successfully complete this assignment you must do the required reading, watch the provided videos and complete all instructions.  The embedded survey form must be entirely filled out and submitted on or before **11:59pm on Monday November 16**.  Students must come to class the next day prepared to discuss the material covered in this assignment. "
   ]
  },
  {
   "cell_type": "markdown",
   "metadata": {},
   "source": [
    "# Pre-Class Assignment: Ordinary Differential Equations\n",
    "\n",
    "In this pre-class assignment we will review Ordinary Differential Equations (ODEs) which are an extremely (and relatively simple) scientific model used in a wide range of problems. "
   ]
  },
  {
   "cell_type": "markdown",
   "metadata": {
    "slideshow": {
     "slide_type": "-"
    }
   },
   "source": [
    "## Goals for today's pre-class assignment \n",
    "\n",
    "1. [Simulation](#Simulation)\n",
    "1. [Ordinary Differential Equations](#ODE)\n",
    "1. [Wave Equation](#Wave_Equation)\n",
    "3. [Find your own example](#Find_your_own_example)\n",
    "1. [Assignment wrap-up](#Assignment_wrap-up)\n"
   ]
  },
  {
   "cell_type": "markdown",
   "metadata": {},
   "source": [
    "----\n",
    "<a name=\"Simulation\"></a>\n",
    "# 1. Simulation\n",
    "In solving many complex scientific problems we want to simulate the real world inside of a computer. Simulations, often involve starting with a know state and then predicting the future based on a model (ex. weather forecasting).  \n",
    "\n",
    "Consider the following simulation that uses an Ordinary Differential Equation as it's model (note: this model is often called the wave equation). \n"
   ]
  },
  {
   "cell_type": "code",
   "execution_count": null,
   "metadata": {},
   "outputs": [],
   "source": [
    "from IPython.display import YouTubeVideo\n",
    "YouTubeVideo(\"ib1vmRDs8Vw\",width=640,height=360, cc_load_policy=True)"
   ]
  },
  {
   "cell_type": "markdown",
   "metadata": {},
   "source": [
    "&#9989; **<font color=red>QUESTION:</font>** Describe in words the starting state in the above model? "
   ]
  },
  {
   "cell_type": "markdown",
   "metadata": {},
   "source": [
    "lowest energy conformation lol"
   ]
  },
  {
   "cell_type": "markdown",
   "metadata": {},
   "source": [
    "----\n",
    "<a name=\"ODE\"></a>\n",
    "# 2.  Ordinary Differential Equations\n",
    "Here is a quick video that introduces the concepts of Differential Equations. "
   ]
  },
  {
   "cell_type": "code",
   "execution_count": null,
   "metadata": {},
   "outputs": [],
   "source": [
    "from IPython.display import YouTubeVideo\n",
    "YouTubeVideo(\"6o7b9yyhH7k\",width=640,height=360, cc_load_policy=True)"
   ]
  },
  {
   "cell_type": "code",
   "execution_count": null,
   "metadata": {},
   "outputs": [],
   "source": [
    "from IPython.display import YouTubeVideo\n",
    "YouTubeVideo(\"8QeCQn7uxnE\",width=640,height=360, cc_load_policy=True)"
   ]
  },
  {
   "cell_type": "markdown",
   "metadata": {},
   "source": [
    "&#9989; **<font color=red>QUESTION:</font>** What is the difference between a Differential Equation and an Algebraic equation?"
   ]
  },
  {
   "cell_type": "markdown",
   "metadata": {},
   "source": [
    "Differential equations have a function as their solution and algebraic equations have a singular value."
   ]
  },
  {
   "cell_type": "markdown",
   "metadata": {
    "collapsed": true
   },
   "source": [
    "\n",
    "In the above video all of the examples are Ordinary Differential Equations.  But what makes them \"Ordinary\" vs \"extraordinary\"?\n",
    "\n",
    "> In mathematics, an ordinary differential equation (ODE) is a differential equation containing one or more functions of one independent variable and its derivatives. The term ordinary is used in contrast with the term partial differential equation (PDE) which may be with respect to more than one independent variable.  - From https://en.wikipedia.org/wiki/Ordinary_differential_equation\n",
    "\n"
   ]
  },
  {
   "cell_type": "markdown",
   "metadata": {},
   "source": [
    "&#9989; **<font color=red>QUESTION:</font>** As a reminder from calculus. What is the dependent variable and independent variable in the following polynomial equation?\n",
    "\n",
    "$$ f(x) = C_1 + C_2x^2 + C_3x^3$$"
   ]
  },
  {
   "cell_type": "markdown",
   "metadata": {},
   "source": [
    "x is independent and f(x) is dependent."
   ]
  },
  {
   "cell_type": "markdown",
   "metadata": {},
   "source": [
    "----\n",
    "\n",
    "<a name=\"Wave_Equation\"></a>\n",
    "\n",
    "# 3. Wave Equation Review\n",
    "\n",
    "We have used the 1D and 2D wave equations as examples a couple of times in theis course.\n",
    "\n",
    "&#9989; **<font color=red>DO THIS:</font>** Review the following notebooks and see if you can identify and understnad the math that makes these differential equations:\n",
    "\n",
    "- [0908-Models-in-class-assignment](0908-Models-in-class-assignment.ipynb)\n",
    "- [0924-Code_Optimization_in-class-assignment](0924-Code_Optimization_in-class-assignment.ipynb)"
   ]
  },
  {
   "cell_type": "markdown",
   "metadata": {},
   "source": [
    "---\n",
    "<a name=\"Find_your_own_example\"></a>\n",
    "\n",
    "# 4.  Find your own example\n",
    "\n",
    "There are a number of ODE solvers avaliable.  The most common is the ```odeint``` solver that is included in ```scipy```.  \n",
    "\n",
    "&#9989; **<font color=red>DO THIS:</font>** See if you can find some example code that solve ODEs.  Some keywords to use are \"ODE\" and \"Python\".  It may be good to include the libraries as keyworks such as ```scipy``` ```odeint``` function so you could add those terms as well. Add a link to the model you find and see if you can get it working: \n"
   ]
  },
  {
   "cell_type": "markdown",
   "metadata": {},
   "source": [
    "https://apmonitor.com/pdc/index.php/Main/SolveDifferentialEquations"
   ]
  },
  {
   "cell_type": "code",
   "execution_count": null,
   "metadata": {},
   "outputs": [],
   "source": [
    "import numpy as np\n",
    "from scipy.integrate import odeint\n",
    "import matplotlib.pyplot as plt\n",
    "\n",
    "# function that returns dy/dt\n",
    "def model(y,t):\n",
    "    k = 0.3\n",
    "    dydt = -k * y\n",
    "    return dydt\n",
    "\n",
    "# initial condition\n",
    "y0 = 5\n",
    "\n",
    "# time points\n",
    "t = np.linspace(0,20)\n",
    "\n",
    "# solve ODE\n",
    "y = odeint(model,y0,t)\n",
    "\n",
    "# plot results\n",
    "plt.plot(t,y)\n",
    "plt.xlabel('time')\n",
    "plt.ylabel('y(t)')\n",
    "plt.show()"
   ]
  },
  {
   "cell_type": "markdown",
   "metadata": {},
   "source": [
    "----\n",
    "<a name=\"Assignment_wrap-up\"></a>\n",
    "# 5. Assignment wrap-up\n",
    "\n",
    "Please fill out the form that appears when you run the code below.  **You must completely fill this out in order to receive credit for the assignment!**\n",
    "\n",
    "[Direct Link](https://cmse.msu.edu/cmse802-pc-survey)"
   ]
  },
  {
   "cell_type": "markdown",
   "metadata": {},
   "source": [
    "&#9989; **<font color=red>Assignment-Specific QUESTION:</font>** What ODE example did you find (Include the link)? Did you get it to work, if not, where did you get stuck?"
   ]
  },
  {
   "cell_type": "markdown",
   "metadata": {},
   "source": [
    "Put your answer to the above question here"
   ]
  },
  {
   "cell_type": "markdown",
   "metadata": {},
   "source": [
    "&#9989; **<font color=red>QUESTION:</font>**  Summarize what you did in this assignment."
   ]
  },
  {
   "cell_type": "markdown",
   "metadata": {},
   "source": [
    "Put your answer to the above question here"
   ]
  },
  {
   "cell_type": "markdown",
   "metadata": {},
   "source": [
    "&#9989; **<font color=red>QUESTION:</font>**  What questions do you have, if any, about any of the topics discussed in this assignment after working through the jupyter notebook?"
   ]
  },
  {
   "cell_type": "markdown",
   "metadata": {},
   "source": [
    "Put your answer to the above question here"
   ]
  },
  {
   "cell_type": "markdown",
   "metadata": {},
   "source": [
    "&#9989; **<font color=red>QUESTION:</font>**  How well do you feel this assignment helped you to achieve a better understanding of the above mentioned topic(s)?"
   ]
  },
  {
   "cell_type": "markdown",
   "metadata": {},
   "source": [
    "Put your answer to the above question here"
   ]
  },
  {
   "cell_type": "markdown",
   "metadata": {},
   "source": [
    "&#9989; **<font color=red>QUESTION:</font>** What was the **most** challenging part of this assignment for you? "
   ]
  },
  {
   "cell_type": "markdown",
   "metadata": {},
   "source": [
    "Put your answer to the above question here"
   ]
  },
  {
   "cell_type": "markdown",
   "metadata": {},
   "source": [
    "&#9989; **<font color=red>QUESTION:</font>** What was the **least** challenging part of this assignment for you? "
   ]
  },
  {
   "cell_type": "markdown",
   "metadata": {},
   "source": [
    "Put your answer to the above question here"
   ]
  },
  {
   "cell_type": "markdown",
   "metadata": {},
   "source": [
    "&#9989; **<font color=red>QUESTION:</font>**  What kind of additional questions or support, if any, do you feel you need to have a better understanding of the content in this assignment?"
   ]
  },
  {
   "cell_type": "markdown",
   "metadata": {},
   "source": [
    "Put your answer to the above question here"
   ]
  },
  {
   "cell_type": "markdown",
   "metadata": {},
   "source": [
    "&#9989; **<font color=red>QUESTION:</font>**  Do you have any further questions or comments about this material, or anything else that's going on in class?"
   ]
  },
  {
   "cell_type": "markdown",
   "metadata": {},
   "source": [
    "Put your answer to the above question here"
   ]
  },
  {
   "cell_type": "markdown",
   "metadata": {},
   "source": [
    "&#9989; **<font color=red>QUESTION:</font>** Approximately how long did this pre-class assignment take?"
   ]
  },
  {
   "cell_type": "markdown",
   "metadata": {},
   "source": [
    "Put your answer to the above question here"
   ]
  },
  {
   "cell_type": "code",
   "execution_count": null,
   "metadata": {},
   "outputs": [],
   "source": [
    "from IPython.display import HTML\n",
    "HTML(\n",
    "\"\"\"\n",
    "<iframe \n",
    "\tsrc=\"https://docs.google.com/forms/d/e/1FAIpQLSfBiRDC7m_nmscrPZdAc_8YqG6OQA-QXVLbmzg6AQS-4rSz8Q/viewform?embedded=true\" \n",
    "\twidth=\"100%\" \n",
    "\theight=\"1200px\" \n",
    "\tframeborder=\"0\" \n",
    "\tmarginheight=\"0\" \n",
    "\tmarginwidth=\"0\">\n",
    "\tLoading...\n",
    "</iframe>\n",
    "\"\"\"\n",
    ")"
   ]
  },
  {
   "cell_type": "markdown",
   "metadata": {},
   "source": [
    "---------\n",
    "### Congratulations, we're done!\n",
    "\n",
    "To get credit for this assignment you must fill out and submit the above Survey From on or before the assignment due date."
   ]
  },
  {
   "cell_type": "markdown",
   "metadata": {},
   "source": [
    "### Course Resources:\n",
    "\n",
    "\n",
    "- [Website](https://msu-cmse-courses.github.io/cmse802-f20-student/)\n",
    "- [ZOOM](https://msu.zoom.us/j/97272546850)\n",
    "- [Syllabus](https://docs.google.com/document/d/e/2PACX-1vT9Wn11y0ECI_NAUl_2NA8V5jcD8dXKJkqUSWXjlawgqr2gU5hII3IsE0S8-CPd3W4xsWIlPAg2YW7D/pub)\n",
    "- [Schedule](https://docs.google.com/spreadsheets/d/e/2PACX-1vQRAm1mqJPQs1YSLPT9_41ABtywSV2f3EWPon9szguL6wvWqWsqaIzqkuHkSk7sea8ZIcIgZmkKJvwu/pubhtml?gid=2142090757&single=true)\n",
    "\n"
   ]
  },
  {
   "cell_type": "markdown",
   "metadata": {},
   "source": [
    "Written by Dirk Colbry, Michigan State University\n",
    "<a rel=\"license\" href=\"http://creativecommons.org/licenses/by-nc/4.0/\"><img alt=\"Creative Commons License\" style=\"border-width:0\" src=\"https://i.creativecommons.org/l/by-nc/4.0/88x31.png\" /></a><br />This work is licensed under a <a rel=\"license\" href=\"http://creativecommons.org/licenses/by-nc/4.0/\">Creative Commons Attribution-NonCommercial 4.0 International License</a>."
   ]
  },
  {
   "cell_type": "markdown",
   "metadata": {},
   "source": [
    "----"
   ]
  }
 ],
 "metadata": {
  "anaconda-cloud": {},
  "kernelspec": {
   "display_name": "Python 3",
   "language": "python",
   "name": "python3"
  },
  "language_info": {
   "codemirror_mode": {
    "name": "ipython",
    "version": 3
   },
   "file_extension": ".py",
   "mimetype": "text/x-python",
   "name": "python",
   "nbconvert_exporter": "python",
   "pygments_lexer": "ipython3",
   "version": "3.8.3"
  }
 },
 "nbformat": 4,
 "nbformat_minor": 2
}
