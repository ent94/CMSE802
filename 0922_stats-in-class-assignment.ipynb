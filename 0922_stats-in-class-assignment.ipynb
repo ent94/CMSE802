{
 "cells": [
  {
   "cell_type": "markdown",
   "metadata": {},
   "source": [
    "In order to successfully complete this assignment you need to demonstrate progress by showing this notebook to an instructor at the end of class on **Tuesday September 22**.  If you are participating asyncronosly in the class you must attempt to complete the notebook and turn in a copy to the D2L Dropbox no later than 11:50pm on **Tuesday September 22**."
   ]
  },
  {
   "cell_type": "markdown",
   "metadata": {},
   "source": [
    "# In-Class Assignment: Statistical Models\n",
    "\n",
    "<img src=\"https://www.dshs.state.tx.us/uploadedImages/Content/Consumer_and_External_Affairs/coronavirus/banner.png\" width=\"80%\" alt=\"Picture of the COVID19 Virus, not really needed but provides motivation.\">\n",
    "\n",
    "Image from: [https://www.dshs.state.tx.us/coronavirus/default.aspx](https://www.dshs.state.tx.us/coronavirus/default.aspx)\n"
   ]
  },
  {
   "cell_type": "markdown",
   "metadata": {},
   "source": [
    "### Agenda for today's class (80 minutes)\n",
    "\n",
    "1. [(20 minutes) Optimization Methods Report Review](#Optimization_Methods_Report_Review)\n",
    "1. [(20 minutes) pre-class_review](#pre-class_review)\n",
    "1. [(20 minutes) Moving window methods](#Moving_window_methods)\n",
    "2. [(20 minutes) Speedtest Example](#Speedtest_Example)"
   ]
  },
  {
   "cell_type": "markdown",
   "metadata": {},
   "source": [
    "----\n",
    "<a name=\"Optimization_Methods_Report_Review\"></a>\n",
    "# 1. Optimization Methods Report Review\n",
    "\n",
    "Break up into groups and discuss your Optimization reports from Friday. Talk a little about your area of research, Share a summary of what you learned and some of the ideas.  Again, the goal is to learn something from each other.  \n",
    "\n",
    "Be prepared to share interesting things from your discussion with the entire class. "
   ]
  },
  {
   "cell_type": "markdown",
   "metadata": {},
   "source": [
    "----\n",
    "<a name=\"pre-class_review\"></a>\n",
    "# 2. Pre-class assignment review\n",
    "\n",
    "\n",
    "* [0921--Stats-pre-class-assignment](0921--Stats-pre-class-assignment.ipynb)"
   ]
  },
  {
   "cell_type": "markdown",
   "metadata": {},
   "source": [
    "---\n",
    "<a name=\"Moving_window_methods\"></a>\n",
    "# 3. Moving window methods\n",
    "\n",
    "We are going to explore \"moving windows methods\" used a lot in signal processing and data anlaysis to \"clean up\" noise in your data. \n",
    "\n",
    "&#9989; **<font color=red>DO THIS:</font>** First lets download the Covid data:"
   ]
  },
  {
   "cell_type": "code",
   "execution_count": null,
   "metadata": {},
   "outputs": [],
   "source": [
    "from urllib.request import urlretrieve\n",
    "url = 'https://raw.githubusercontent.com/CSSEGISandData/COVID-19/master/csse_covid_19_data/csse_covid_19_time_series/time_series_covid19_confirmed_global.csv'\n",
    "file = 'time_series_covid19_confirmed_global.csv'\n",
    "urlretrieve(url, file);"
   ]
  },
  {
   "cell_type": "code",
   "execution_count": null,
   "metadata": {},
   "outputs": [],
   "source": [
    "%matplotlib inline \n",
    "import matplotlib.pylab as plt\n",
    "import numpy as np\n",
    "import pandas as pd\n",
    "\n",
    "values = pd.read_csv(file).values\n",
    "values[:,1]"
   ]
  },
  {
   "cell_type": "markdown",
   "metadata": {},
   "source": [
    "Starating at column 5, the above data are numbers of covid cases for each country.  THe folloing code sums the total cases for a location and plots the results.\n",
    "\n",
    "\n",
    "&#9989; **<font color=red>DO THIS:</font>**  Try out different locations in the data. Specifically see if you can find a contry with \"noisy\" data (aka not smooth):"
   ]
  },
  {
   "cell_type": "code",
   "execution_count": null,
   "metadata": {},
   "outputs": [],
   "source": [
    "location = 'Nicaragua'\n",
    "rows = values[:,1]==location\n",
    "alldata = values[rows,4:]\n",
    "data = np.sum(alldata,axis=0)\n",
    "plt.plot(data);\n",
    "plt.xlabel(location);"
   ]
  },
  {
   "cell_type": "markdown",
   "metadata": {},
   "source": [
    "We are going to explore \"moving windows methods\" used a lot in signal processing and data anlaysis to \"clean up\" noise in your data.   \n",
    "\n",
    "In this example we use a window size of 10 data points.  Each point new point is an average of the a window around the original data.\n"
   ]
  },
  {
   "cell_type": "code",
   "execution_count": null,
   "metadata": {},
   "outputs": [],
   "source": [
    "#moving average code from https://stackoverflow.com/questions/13728392/moving-average-or-running-mean\n",
    "N = 10\n",
    "totals, moving_aves = [0], []\n",
    "for i, x in enumerate(data, 1):\n",
    "    totals.append(totals[i-1] + x)\n",
    "    if i>=N:\n",
    "        moving_ave = (totals[i] - totals[i-N])/N\n",
    "        #can do stuff with moving_ave here\n",
    "        moving_aves.append(moving_ave)\n",
    "        "
   ]
  },
  {
   "cell_type": "markdown",
   "metadata": {},
   "source": [
    "We then plot the new values here:"
   ]
  },
  {
   "cell_type": "code",
   "execution_count": null,
   "metadata": {
    "scrolled": true
   },
   "outputs": [],
   "source": [
    "plt.plot(moving_aves)"
   ]
  },
  {
   "cell_type": "markdown",
   "metadata": {},
   "source": [
    "\n",
    "&#9989; **<font color=red>DO THIS:</font>**  As time permits, play with the above data and see if you can find anything interesting.  Be prepaird to share what you learned with the rest of the class. "
   ]
  },
  {
   "cell_type": "markdown",
   "metadata": {},
   "source": [
    "----\n",
    "<a name=\"Speedtest_Example\"></a>\n",
    "# 4. Speedtest Data\n",
    "\n",
    "Now lets look at some more statistical modeling.  In the last git commit, I included a ```speedtest.dat``` file. (Note: this data was collected using this [python script in gist](https://gist.github.com/colbrydi/027a4b95399a8543b2a7c0cadb88bb0c)).  The data are comma seperated values  that can easily be uploaded using the following code:"
   ]
  },
  {
   "cell_type": "code",
   "execution_count": null,
   "metadata": {
    "scrolled": true
   },
   "outputs": [],
   "source": [
    "import pandas\n",
    "from IPython.display import display\n",
    "\n",
    "filename = 'speedtest.dat'\n",
    "data = pandas.read_csv(filename)\n",
    "data['download'] = data['download']/1000000\n",
    "data['upload'] = data['upload']/1000000\n",
    "display(data)"
   ]
  },
  {
   "cell_type": "code",
   "execution_count": null,
   "metadata": {},
   "outputs": [],
   "source": [
    "%matplotlib inline\n",
    "import matplotlib.pylab as plt\n",
    "plt.figure(figsize=(20,10))\n",
    "ax = data.plot.bar(x = 'location', y=['download'])"
   ]
  },
  {
   "cell_type": "markdown",
   "metadata": {},
   "source": [
    "&#9989; **<font color=red>DO THIS:</font>**  See if you can generate a bar chart that is averaged based on a location group.  (Hint: if you get stuck this code is in the gist file)"
   ]
  },
  {
   "cell_type": "code",
   "execution_count": null,
   "metadata": {},
   "outputs": [],
   "source": [
    "#Put your bargraph code here."
   ]
  },
  {
   "cell_type": "markdown",
   "metadata": {},
   "source": [
    "---------\n",
    "### Congratulations, we're done!\n",
    "\n",
    "If you attend class live then have one of the instructors check your notebook and sign you out before leaving class. If you are attending asyncronously, turn in your assignment using D2L."
   ]
  },
  {
   "cell_type": "markdown",
   "metadata": {},
   "source": [
    "### Course Resources:\n",
    "\n",
    "\n",
    "- [Website](https://msu-cmse-courses.github.io/cmse802-f20-student/)\n",
    "- [ZOOM](https://msu.zoom.us/j/97272546850)\n",
    "- [Syllabus](https://docs.google.com/document/d/e/2PACX-1vT9Wn11y0ECI_NAUl_2NA8V5jcD8dXKJkqUSWXjlawgqr2gU5hII3IsE0S8-CPd3W4xsWIlPAg2YW7D/pub)\n",
    "- [Schedule](https://docs.google.com/spreadsheets/d/e/2PACX-1vQRAm1mqJPQs1YSLPT9_41ABtywSV2f3EWPon9szguL6wvWqWsqaIzqkuHkSk7sea8ZIcIgZmkKJvwu/pubhtml?gid=2142090757&single=true)\n",
    "\n"
   ]
  },
  {
   "cell_type": "markdown",
   "metadata": {},
   "source": [
    "Written by Dirk Colbry, Michigan State University\n",
    "<a rel=\"license\" href=\"http://creativecommons.org/licenses/by-nc/4.0/\"><img alt=\"Creative Commons License\" style=\"border-width:0\" src=\"https://i.creativecommons.org/l/by-nc/4.0/88x31.png\" /></a><br />This work is licensed under a <a rel=\"license\" href=\"http://creativecommons.org/licenses/by-nc/4.0/\">Creative Commons Attribution-NonCommercial 4.0 International License</a>."
   ]
  }
 ],
 "metadata": {
  "kernelspec": {
   "display_name": "Python 3",
   "language": "python",
   "name": "python3"
  },
  "language_info": {
   "codemirror_mode": {
    "name": "ipython",
    "version": 3
   },
   "file_extension": ".py",
   "mimetype": "text/x-python",
   "name": "python",
   "nbconvert_exporter": "python",
   "pygments_lexer": "ipython3",
   "version": "3.8.3"
  }
 },
 "nbformat": 4,
 "nbformat_minor": 2
}
