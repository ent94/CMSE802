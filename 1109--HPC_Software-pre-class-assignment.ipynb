{
 "cells": [
  {
   "cell_type": "markdown",
   "metadata": {},
   "source": [
    "In order to successfully complete this assignment you must do the required reading, watch the provided videos and complete all instructions.  The embedded survey form must be entirely filled out and submitted on or before **11:59pm on Monday November 9**.  Students must come to class the next day prepared to discuss the material covered in this assignment. "
   ]
  },
  {
   "cell_type": "markdown",
   "metadata": {},
   "source": [
    "# Pre-Class Assignment: Software and the HPCC"
   ]
  },
  {
   "cell_type": "markdown",
   "metadata": {},
   "source": [
    "### Goals for today's pre-class assignment \n",
    "\n",
    "\n",
    "1. [HPCC Review](#HPCC_Review)\n",
    "1. [Finding software on the HPCC](#Finding_Software_on_the_HPCC)\n",
    "2. [Installing software on the HPCC](#Installing_Software_on_the_HPCC)\n",
    "3. [Introduction to TensorFlow](#Introduction_to_Tensorflow)\n",
    "3. [Assignment wrap-up](#Assignment_wrap-up)"
   ]
  },
  {
   "cell_type": "markdown",
   "metadata": {},
   "source": [
    "----\n",
    "<a name=\"HPCC_Review\"></a>\n",
    "\n",
    "# 1. HPCC Review\n",
    "We covered the HPC a few weeks ago. You may need to review how to log-in and access the development node. Here are direct liks to the files:\n",
    "\n",
    "- [0923-Code_Optimization-pre-class-assignment](0923-Code_Optimization-pre-class-assignment.ipynb)\n",
    "- [0924-Code_Optimization_in-class-assignment](0924-Code_Optimization_in-class-assignment-INSTRUCTOR)\n",
    "\n",
    "Another potential resource is the [HPCC User Guild](https://wiki.hpcc.msu.edu/display/ITH/High+Performance+Computing+at+iCER)\n",
    "\n"
   ]
  },
  {
   "cell_type": "markdown",
   "metadata": {},
   "source": [
    "----\n",
    "<a name=\"Finding_Software_on_the_HPCC\"></a>\n",
    "# 2. Finding software on the HPCC\n",
    "\n",
    "The following video describes the ```PATH``` environment variable and shows you how it can be changed to add software installed in a new location. Try logging onto the HPCC and following allong:\n"
   ]
  },
  {
   "cell_type": "code",
   "execution_count": null,
   "metadata": {},
   "outputs": [],
   "source": [
    "from IPython.display import YouTubeVideo\n",
    "YouTubeVideo(\"2OXvoXejZcw\",width=640,height=360, cc_load_policy=True)"
   ]
  },
  {
   "cell_type": "markdown",
   "metadata": {},
   "source": [
    "### Commands used in the above video\n",
    "\n",
    "```\n",
    "    ls\n",
    "    clear\n",
    "    which python\n",
    "    cd\n",
    "    env\n",
    "    echo $PATH\n",
    "    echo $PATH | sec -r \"s/:/\\\\n/g\"\n",
    "    export PATH=~/anaconda3/bin:$PATH\n",
    "    ssh dev-intel16\n",
    "    nano ~/.bashrc\n",
    "```"
   ]
  },
  {
   "cell_type": "markdown",
   "metadata": {},
   "source": [
    "&#9989; **<font color=red>QUESTION:</font>** What is the ```which``` command used for?"
   ]
  },
  {
   "cell_type": "markdown",
   "metadata": {},
   "source": [
    "It tells you what version of python you are using."
   ]
  },
  {
   "cell_type": "markdown",
   "metadata": {},
   "source": [
    "&#9989; **<font color=red>QUESTION:</font>** The PATH environment variable is a set of system folders separated by a colon (:).  What command would you use to add the ```/mnt/research/mygroup/bin``` folder to the end of your path?\n",
    "\n",
    "export PATH=~/anaconda3/bin:/mnt/research/mygroup/bin"
   ]
  },
  {
   "cell_type": "markdown",
   "metadata": {},
   "source": [
    "Put your answer to the above question here."
   ]
  },
  {
   "cell_type": "code",
   "execution_count": null,
   "metadata": {},
   "outputs": [],
   "source": [
    "from IPython.display import YouTubeVideo\n",
    "YouTubeVideo(\"lXYpQeU3j-0\",width=640,height=360, cc_load_policy=True)"
   ]
  },
  {
   "cell_type": "markdown",
   "metadata": {},
   "source": [
    "### Commands used in the above video\n",
    "\n",
    "```\n",
    "    ssh dev-intel16\n",
    "    clear\n",
    "    who | wc -l\n",
    "    module list\n",
    "    module spider MATLAB\n",
    "    module unload MATLAB\n",
    "    module load MATLAB/2018b\n",
    "    which matlab\n",
    "    module swap MATLAB/2018b MATLAB/2018a\n",
    "    module avail\n",
    "    module unload gnu\n",
    "    module load intel\n",
    "    module show intel\n",
    "    module purge\n",
    "```"
   ]
  },
  {
   "cell_type": "code",
   "execution_count": null,
   "metadata": {},
   "outputs": [
    {
     "name": "stdout",
     "output_type": "stream",
     "text": [
      "\u001b[?1h\u001b=\r",
      "\u001b[m\r\n",
      "----------------------------------------------------------------------------\u001b[m\r\n",
      "  libpng:\u001b[m\r\n",
      "----------------------------------------------------------------------------\u001b[m\r\n",
      "    Description:\u001b[m\r\n",
      "      libpng is the official PNG reference library\u001b[m\r\n",
      "\u001b[m\r\n",
      "     Versions:\u001b[m\r\n",
      "        libpng/1.2.58\u001b[m\r\n",
      "        libpng/1.6.16\u001b[m\r\n",
      "        libpng/1.6.21\u001b[m\r\n",
      "        libpng/1.6.23\u001b[m\r\n",
      "        libpng/1.6.24\u001b[m\r\n",
      "        libpng/1.6.26\u001b[m\r\n",
      "        libpng/1.6.29\u001b[m\r\n",
      "        libpng/1.6.32\u001b[m\r\n",
      "        libpng/1.6.34\u001b[m\r\n",
      "        libpng/1.6.36\u001b[m\r\n",
      "        libpng/1.6.37\u001b[m\r\n",
      "\u001b[m\r\n",
      "----------------------------------------------------------------------------\u001b[m\r\n",
      "  For detailed information about a specific \"libpng\" package (including how to l\u001b[m \boad the modules) use the module's full name.\u001b[m\r\n",
      "\u001b[7mlines 1-22\u001b[m\u001b[K"
     ]
    }
   ],
   "source": [
    "!module spider libpng"
   ]
  },
  {
   "cell_type": "markdown",
   "metadata": {},
   "source": [
    "&#9989; **<font color=red>QUESTION:</font>** Use the ```module spider``` command to search modules.  What versions of the libpng are available on the HPCC?  (**Note**: if the modules have changed since the last time you used the ```module spider``` command it may need to rebuild it's database which can take a few seconds).  "
   ]
  },
  {
   "cell_type": "markdown",
   "metadata": {},
   "source": [
    "libpng/1.2.58  \n",
    "libpng/1.6.16  \n",
    "libpng/1.6.21  \n",
    "libpng/1.6.23  \n",
    "libpng/1.6.24  \n",
    "libpng/1.6.26  \n",
    "libpng/1.6.29  \n",
    "libpng/1.6.32  \n",
    "libpng/1.6.34  \n",
    "libpng/1.6.36  \n",
    "libpng/1.6.37  "
   ]
  },
  {
   "cell_type": "markdown",
   "metadata": {},
   "source": [
    "----\n",
    "<a name=\"Installing_Software_on_the_HPCC\"></a>\n",
    "# 3. Installing software on the HPCC"
   ]
  },
  {
   "cell_type": "markdown",
   "metadata": {},
   "source": [
    "&#9989; **<font color=red>TO DO:</font>** If you are feeling comfortable, see if you can follow along in the following video and install Anaconda python in your home directory. "
   ]
  },
  {
   "cell_type": "code",
   "execution_count": null,
   "metadata": {},
   "outputs": [],
   "source": [
    "from IPython.display import YouTubeVideo\n",
    "YouTubeVideo(\"g0rGb6QqBPo\",width=640,height=360, cc_load_policy=True)"
   ]
  },
  {
   "cell_type": "markdown",
   "metadata": {},
   "source": [
    "&#9989; **<font color=red>QUESTION:</font>** Were you able to get Anaconda python installed on your account? If not, where did you get stuck?"
   ]
  },
  {
   "cell_type": "markdown",
   "metadata": {},
   "source": [
    "Yes, I actually had it previously installed."
   ]
  },
  {
   "cell_type": "markdown",
   "metadata": {},
   "source": [
    "----\n",
    "<a name=\"Introduction_to_Tensorflow\"></a>\n",
    "\n",
    "# 4. Introduction to TensorFlow\n",
    "\n",
    "In class we are going to try to get Tensorflow working on the HPC.  TensorFlow is extreamly popular, there are a ton of videos and tutorials about TensorFlow all over the Internet.  \n",
    "\n",
    "&#9989; **<font color=red>QUESTION:</font>** Go out on the internet and learn about TensorFlow.  What is it? What does it do? How do you get it to work? Be prepaired to come to class to talk about what you learned."
   ]
  },
  {
   "cell_type": "markdown",
   "metadata": {},
   "source": [
    "TensorFlow is a machine learning package. It basically is an interface with python that allows you to use much quicker (I think C++ binaries) code underneath the python to complete the calculations. It is set with a structure of basically taking the data and the calculations and placing them in a frame relating them together. It is this data structure and use of C++ binares that make it mighty quick. "
   ]
  },
  {
   "cell_type": "markdown",
   "metadata": {},
   "source": [
    "&#9989; **<font color=red>QUESTION:</font>** There are a few Python \"wrappers\" for TensorFlow.  We will use the \"Keras\" Library in class.  Go out on the internet and learn about Keras.  What is it? What does it do? How do you get it to work? Be prepaired to come to class to talk about what you learned."
   ]
  },
  {
   "cell_type": "markdown",
   "metadata": {},
   "source": [
    "While tensorflow and keras interface, Keras has more of a focus in neural networks and making a fast NN interface where as Tensorflow is more general. Keras can run on top of TensorFlow, the Microsoft one, or PyTorch."
   ]
  },
  {
   "cell_type": "markdown",
   "metadata": {},
   "source": [
    "&#9989; **<font color=red>DO THIS:</font>** See if you can install Keras and Tensorflow on your HPC account.  I highly recommend using Conda Environments to \"sandbox\" the installation.  See if you can find an example and get it working on your machine. Be prepaired to come to class to talk about what you learned."
   ]
  },
  {
   "cell_type": "markdown",
   "metadata": {},
   "source": [
    "I made a conda environment called \"sandbox\" (lol)  \n",
    "conda create -n sandbox  \n",
    "Then I activated the environment  \n",
    "conda activate sandbox  \n",
    "Then i did  \n",
    "pip install tensorflow  \n",
    "then i did  \n",
    "pip install keras  \n",
    "then i deactivated my environment  \n",
    "conda deactivate  \n",
    "However, I could only run this command line and cannot for the life of me remember how anaconda and jupyternotebooks interact."
   ]
  },
  {
   "cell_type": "markdown",
   "metadata": {},
   "source": [
    "----\n",
    "<a name=\"Assignment_wrap-up\"></a>\n",
    "# 5. Assignment wrap-up\n",
    "\n",
    "Please fill out the form that appears when you run the code below.  **You must completely fill this out in order to receive credit for the assignment!**\n",
    "\n",
    "[Direct Link to Google Form](https://cmse.msu.edu/cmse802-pc-survey)\n",
    "\n",
    "\n",
    "If you have trouble with the embedded form, please make sure you log on with your MSU google account at [googleapps.msu.edu](https://googleapps.msu.edu) and then click on the direct link above."
   ]
  },
  {
   "cell_type": "markdown",
   "metadata": {},
   "source": [
    "&#9989; **<font color=red>Assignment-Specific QUESTION:</font>** Were you able to get Anaconda and Tensorflow installed on the HPC? If not, where did you get stuck?"
   ]
  },
  {
   "cell_type": "markdown",
   "metadata": {},
   "source": [
    "Put your answer to the above question here"
   ]
  },
  {
   "cell_type": "markdown",
   "metadata": {},
   "source": [
    "&#9989; **<font color=red>QUESTION:</font>**  Summarize what you did in this assignment."
   ]
  },
  {
   "cell_type": "markdown",
   "metadata": {},
   "source": [
    "Put your answer to the above question here"
   ]
  },
  {
   "cell_type": "markdown",
   "metadata": {},
   "source": [
    "&#9989; **<font color=red>QUESTION:</font>**  What questions do you have, if any, about any of the topics discussed in this assignment after working through the jupyter notebook?"
   ]
  },
  {
   "cell_type": "markdown",
   "metadata": {},
   "source": [
    "Put your answer to the above question here"
   ]
  },
  {
   "cell_type": "markdown",
   "metadata": {},
   "source": [
    "&#9989; **<font color=red>QUESTION:</font>**  How well do you feel this assignment helped you to achieve a better understanding of the above mentioned topic(s)?"
   ]
  },
  {
   "cell_type": "markdown",
   "metadata": {},
   "source": [
    "Put your answer to the above question here"
   ]
  },
  {
   "cell_type": "markdown",
   "metadata": {},
   "source": [
    "&#9989; **<font color=red>QUESTION:</font>** What was the **most** challenging part of this assignment for you? "
   ]
  },
  {
   "cell_type": "markdown",
   "metadata": {},
   "source": [
    "Put your answer to the above question here"
   ]
  },
  {
   "cell_type": "markdown",
   "metadata": {},
   "source": [
    "&#9989; **<font color=red>QUESTION:</font>** What was the **least** challenging part of this assignment for you? "
   ]
  },
  {
   "cell_type": "markdown",
   "metadata": {},
   "source": [
    "Put your answer to the above question here"
   ]
  },
  {
   "cell_type": "markdown",
   "metadata": {},
   "source": [
    "&#9989; **<font color=red>QUESTION:</font>**  What kind of additional questions or support, if any, do you feel you need to have a better understanding of the content in this assignment?"
   ]
  },
  {
   "cell_type": "markdown",
   "metadata": {},
   "source": [
    "Put your answer to the above question here"
   ]
  },
  {
   "cell_type": "markdown",
   "metadata": {},
   "source": [
    "&#9989; **<font color=red>QUESTION:</font>**  Do you have any further questions or comments about this material, or anything else that's going on in class?"
   ]
  },
  {
   "cell_type": "markdown",
   "metadata": {},
   "source": [
    "Put your answer to the above question here"
   ]
  },
  {
   "cell_type": "markdown",
   "metadata": {},
   "source": [
    "&#9989; **<font color=red>QUESTION:</font>** Approximately how long did this pre-class assignment take?"
   ]
  },
  {
   "cell_type": "markdown",
   "metadata": {},
   "source": [
    "Put your answer to the above question here"
   ]
  },
  {
   "cell_type": "code",
   "execution_count": null,
   "metadata": {},
   "outputs": [],
   "source": [
    "from IPython.display import HTML\n",
    "HTML(\n",
    "\"\"\"\n",
    "<iframe \n",
    "\tsrc=\"https://cmse.msu.edu/cmse802-pc-survey?embedded=true\" \n",
    "\twidth=\"100%\" \n",
    "\theight=\"1200px\" \n",
    "\tframeborder=\"0\" \n",
    "\tmarginheight=\"0\" \n",
    "\tmarginwidth=\"0\">\n",
    "\tLoading...\n",
    "</iframe>\n",
    "\"\"\"\n",
    ")"
   ]
  },
  {
   "cell_type": "markdown",
   "metadata": {},
   "source": [
    "---------\n",
    "### Congratulations, we're done!\n",
    "\n",
    "To get credit for this assignment you must fill out and submit the above survey form \\on or before the assignment due date."
   ]
  },
  {
   "cell_type": "markdown",
   "metadata": {},
   "source": [
    "### Course Resources:\n",
    "\n",
    "###Links###"
   ]
  },
  {
   "cell_type": "markdown",
   "metadata": {},
   "source": [
    "Written by Dirk Colbry, Michigan State University\n",
    "<a rel=\"license\" href=\"http://creativecommons.org/licenses/by-nc/4.0/\"><img alt=\"Creative Commons License\" style=\"border-width:0\" src=\"https://i.creativecommons.org/l/by-nc/4.0/88x31.png\" /></a><br />This work is licensed under a <a rel=\"license\" href=\"http://creativecommons.org/licenses/by-nc/4.0/\">Creative Commons Attribution-NonCommercial 4.0 International License</a>."
   ]
  },
  {
   "cell_type": "markdown",
   "metadata": {},
   "source": [
    "----"
   ]
  }
 ],
 "metadata": {
  "anaconda-cloud": {},
  "kernelspec": {
   "display_name": "Python 3",
   "language": "python",
   "name": "python3"
  },
  "language_info": {
   "codemirror_mode": {
    "name": "ipython",
    "version": 3
   },
   "file_extension": ".py",
   "mimetype": "text/x-python",
   "name": "python",
   "nbconvert_exporter": "python",
   "pygments_lexer": "ipython3",
   "version": "3.8.3"
  }
 },
 "nbformat": 4,
 "nbformat_minor": 2
}
