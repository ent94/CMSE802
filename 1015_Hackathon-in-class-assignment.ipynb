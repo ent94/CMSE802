{
 "cells": [
  {
   "cell_type": "markdown",
   "metadata": {},
   "source": [
    "In order to successfully complete this assignment you need to participate both individually and in groups during class on **Thursday October 15**.\n",
    "\n"
   ]
  },
  {
   "cell_type": "markdown",
   "metadata": {},
   "source": [
    "# In-Class Assignment: Code Review\n",
    "\n",
    "<img alt=\"Code review icon\" src=\"https://static.thenounproject.com/png/1777793-200.png\">\n",
    "\n",
    "Image From: https://static.thenounproject.com/"
   ]
  },
  {
   "cell_type": "markdown",
   "metadata": {},
   "source": [
    "### Agenda for today's class (80 minutes)\n",
    "\n",
    "1. [(20 minutes) Problem Description](#Problem_Description)\n",
    "1. [(20 minutes) Ideas from Pre-class](#Ideas_from_Pre-class)\n",
    "1. [(10 minutes) Additional Brainstorming](#Brainstorming)\n",
    "1. [(30 minutes) Research and Exploration](#Research_and_Exploration)\n"
   ]
  },
  {
   "cell_type": "markdown",
   "metadata": {},
   "source": [
    "----\n",
    "<a name=\"Problem_Description\"></a>\n",
    "# 1. Problem Description\n",
    "\n",
    "\n",
    "To start things off, Dr. Schopieray will give a description of the project and it's goals. "
   ]
  },
  {
   "cell_type": "markdown",
   "metadata": {},
   "source": [
    "----\n",
    "<a name=\"Ideas_from_Pre-class\"></a>\n",
    "# 2. Ideas from Pre-class\n",
    "\n",
    "Next we will talk about ideas from the pre-class.  I have started a brainstorming document. please start pasting your ideas to [this document](https://docs.google.com/document/d/1KJYVG6DbjBgeWNlv7JbWLwQSO2NqIma10O07Lx4TMXE/edit#) as a way to record what we are thinking.  \n",
    "\n"
   ]
  },
  {
   "cell_type": "markdown",
   "metadata": {},
   "source": [
    "----\n",
    "\n",
    "<a name=\"Brainstorming\"></a>\n",
    "\n",
    "# 3. Additional Brainstorming\n",
    "\n",
    "What other ideas do we have?  Are their common categories which we can use to group ideas?  Can we think of new categories?  Are their any topics missing from the categories we have?\n",
    "\n",
    "Continue to help organize and put your thoughts on [this document](https://docs.google.com/document/d/1KJYVG6DbjBgeWNlv7JbWLwQSO2NqIma10O07Lx4TMXE/edit#).  If things get too cluttered make another document (share it with the world) and link to it from this document.  \n",
    "\n",
    "\n"
   ]
  },
  {
   "cell_type": "markdown",
   "metadata": {},
   "source": [
    "-----\n",
    "\n",
    "<a name=\"Research_and_Exploration\"></a>\n",
    "\n",
    "# 4. Research and Exploration"
   ]
  },
  {
   "cell_type": "markdown",
   "metadata": {},
   "source": [
    "The final step we are going to break up into groups (as small as 1 person) and explore some of our ideas.  Pick something you find interesting and worth exploring. Feel free to make a branch of the code to add your ideas or just \"fork\" the entire repository.  \n",
    "\n",
    "Is there anything we can do today to help this team out.  Can we identify some \"low hanging fruit\" that this team can explore that could help them achieve their goals? "
   ]
  },
  {
   "cell_type": "markdown",
   "metadata": {},
   "source": [
    "-----\n",
    "### Congratulations, we're done!"
   ]
  },
  {
   "cell_type": "markdown",
   "metadata": {},
   "source": [
    "### Course Resources:\n",
    "\n",
    "\n",
    "- [Website](https://msu-cmse-courses.github.io/cmse802-f20-student/)\n",
    "- [ZOOM](https://msu.zoom.us/j/97272546850)\n",
    "- [Syllabus](https://docs.google.com/document/d/e/2PACX-1vT9Wn11y0ECI_NAUl_2NA8V5jcD8dXKJkqUSWXjlawgqr2gU5hII3IsE0S8-CPd3W4xsWIlPAg2YW7D/pub)\n",
    "- [Schedule](https://docs.google.com/spreadsheets/d/e/2PACX-1vQRAm1mqJPQs1YSLPT9_41ABtywSV2f3EWPon9szguL6wvWqWsqaIzqkuHkSk7sea8ZIcIgZmkKJvwu/pubhtml?gid=2142090757&single=true)\n",
    "\n"
   ]
  },
  {
   "cell_type": "markdown",
   "metadata": {},
   "source": [
    "Written by Dirk Colbry, Michigan State University\n",
    "<a rel=\"license\" href=\"http://creativecommons.org/licenses/by-nc/4.0/\"><img alt=\"Creative Commons License\" style=\"border-width:0\" src=\"https://i.creativecommons.org/l/by-nc/4.0/88x31.png\" /></a><br />This work is licensed under a <a rel=\"license\" href=\"http://creativecommons.org/licenses/by-nc/4.0/\">Creative Commons Attribution-NonCommercial 4.0 International License</a>."
   ]
  },
  {
   "cell_type": "markdown",
   "metadata": {},
   "source": [
    "----"
   ]
  }
 ],
 "metadata": {
  "kernelspec": {
   "display_name": "Python 3",
   "language": "python",
   "name": "python3"
  },
  "language_info": {
   "codemirror_mode": {
    "name": "ipython",
    "version": 3
   },
   "file_extension": ".py",
   "mimetype": "text/x-python",
   "name": "python",
   "nbconvert_exporter": "python",
   "pygments_lexer": "ipython3",
   "version": "3.7.3"
  }
 },
 "nbformat": 4,
 "nbformat_minor": 2
}
