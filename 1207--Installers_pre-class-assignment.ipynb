{
 "cells": [
  {
   "cell_type": "markdown",
   "metadata": {},
   "source": [
    "[Link to this document's Jupyter Notebook](https://gitlab.msu.edu/cmse802-f20/cmse802-f20/-/raw/master/1207--Installers_pre-class-assignment.ipynb)"
   ]
  },
  {
   "cell_type": "markdown",
   "metadata": {},
   "source": [
    "In order to successfully complete this assignment you must do the required reading, watch the provided videos and complete all instructions.  The embedded survey form must be entirely filled out and submitted on or before **11:59pm on Tuesday December 7**.  Students must come to class the next day prepared to discuss the material covered in this assignment. "
   ]
  },
  {
   "cell_type": "markdown",
   "metadata": {},
   "source": [
    "---\n",
    "\n"
   ]
  },
  {
   "cell_type": "markdown",
   "metadata": {},
   "source": [
    "# Pre-Class Assignment: Sharing Your Code with the World\n",
    "\n",
    "This pre-class will discuss how to turn your project into something installable.  The two major installation platforms in Python are PyPi (PIP) and Conda.  This is not required for the class but some of you are thinking of submitting your projects to JOSS and/or sharing with people outside your labs. In both cases you should consider registering your project with pypi and Conda."
   ]
  },
  {
   "cell_type": "markdown",
   "metadata": {},
   "source": [
    "### Goals for today's pre-class assignment \n",
    "\n",
    "</p>\n",
    "\n",
    "\n",
    "\n",
    "1. [PyPi installer](#PyPi_installer)\n",
    "1. [Conda Installers](#Conda_Installers)\n",
    "1. [Tools to get you started](#Tools_to_get_you_started)\n",
    "4. [Assignment wrap-up](#Assignment_wrap-up)"
   ]
  },
  {
   "cell_type": "markdown",
   "metadata": {},
   "source": [
    "----\n",
    "<a name=\"PyPi_installer\"></a>\n",
    "\n",
    "# 1. PyPi installer\n",
    "\n",
    "Making an pip compatible installer is actually fairly strait forward. A really good guild can be found at [The Hitchhikers Guild to Packageing](https://the-hitchhikers-guide-to-packaging.readthedocs.io/en/latest/quickstart.html). \n",
    "\n",
    "\n",
    "&#9989; **<font color=red>DO THIS:</font>**  Try Steps 1-3 and see if you can get a simple PyPi distribution file for your project.  If you get it working, add the setup.py file to your git repository (Do not add the other files).  **_NOTE_** Every project is different and this step is not required for the class. It is only included here as an example to learn how installers are made. \n",
    "\n",
    "\n",
    "## Step A: Create a setup.py file\n",
    "\n",
    "The ```setup.py``` file tells pip all the details it needs to add your project to there database.  Here is an example ```setup,py``` file.  If you want to try it, put it in your main git folder and change the values for your program:\n",
    "\n",
    "```python\n",
    "from distutils.core import setup\n",
    "\n",
    "setup(\n",
    "    name='see-segment',\n",
    "    version='0.1dev',\n",
    "    description='The simple evolutionary exploration segmentation project',\n",
    "    autor='Dirk C. and Katrina G.',\n",
    "    author_email='colbrydi@msu.edu',\n",
    "    packages=['see',],\n",
    "    license='MIT',\n",
    "    #long_description=open('README.md').read(),\n",
    "    install_requires=[\n",
    "        'numpy',\n",
    "        'deap',\n",
    "        'argparse',\n",
    "        'opencv-python',\n",
    "        'scoop', \n",
    "    ])\n",
    "```\n",
    "\n",
    "## Step B:  Make distribution (installer) file\n",
    "\n",
    "The following command takes the setup.py file and build you a \"distribution\" file.  Run the command in your main git repository directory\n",
    "\n",
    "```bash\n",
    "python setup.py sdist\n",
    "```\n",
    "\n",
    "This will create a folder named sdist (do not add this folder to your git repository).  Inside the folder is the installer. In this case my installer is called ```./dist/see-segment-0.1dev.tar.gz```\n",
    "\n",
    "## Step C: Test the distribution file\n",
    "\n",
    "\n",
    "To test the installer I recommend creating a temporary conda environment and see if you can git it to work. For example the following command will make a bare bone enviornemtn and activate it:\n",
    "\n",
    "```bash\n",
    "conda create --prefix temp_env pip python\n",
    "conda activate ./temp_env\n",
    "```\n",
    "\n",
    "Once the environment is started verify your package is not installed. For exmaple, my package is named see and the following command should give an error:\n",
    "```bash\n",
    "python\n",
    ">>> import see\n",
    "```\n",
    "**_NOTE:_** Make sure the see directory is not in your current dirrectory or this test will succeed no matter what is in your environment.\n",
    "\n",
    "Now install using a local repository as follows:\n",
    "```bash\n",
    "pip install ./dist/see-segment-0.1dev.tar.gz\n",
    "```\n",
    "\n",
    "Lets test it again:\n",
    "```bash\n",
    "python\n",
    ">>> import see\n",
    "```\n",
    "\n",
    "## Step D: Inviting others to install using pip and git:\n",
    "\n",
    "Once you commit your ```setup.py``` file, your collaborators can install it using the following pip command:\n",
    "\n",
    "```\n",
    "pip install git+https://gitlab.msu.edu/colbrydi/jupyterinstruct.git\n",
    "```\n",
    "\n",
    "\n",
    "\n",
    "## Step E: Send your project to the PyPi (pip) database\n",
    "\n",
    "\n",
    "**_WARNING_** This is the step that goes beyond playing around and will register your repository. This is **_NOT_** required for CMSE802. I just wanted to give you an idea of how easy it is.\n",
    "\n",
    "**_Also Note:_** This is just a basic overview of the steps and may be missing some details. I highly recommend you review [The Hitchhikers Guild to Packageing](https://the-hitchhikers-guide-to-packaging.readthedocs.io/)\n",
    "\n",
    "1. Go to [http://pypi.python.org](http://pypi.python.org ) and create a login and password. **_NOTE:_** you can also register as a new user on the command line using in the next step.\n",
    "2. Register your project name using the following command (Checks to make sure your name is not already in the system (Change your name if need be)\n",
    "```bash\n",
    "python setup.py register\n",
    "```\n",
    "3. Upload your distribution using the following command:\n",
    "```bash\n",
    "python setup.py register sdist upload\n",
    "```\n",
    "\n",
    "\n"
   ]
  },
  {
   "cell_type": "markdown",
   "metadata": {},
   "source": [
    "---\n",
    "<a name=\"Conda_Installers\"></a>\n",
    "# 2. Conda Installer\n",
    "\n",
    "Conda installers (aka build recipes) are similar but different to pypi installers. Please read [Conda Build Process](https://docs.conda.io/projects/conda-build/en/latest/concepts/recipe.html#conda-build-process) to learn more.\n",
    "\n",
    "\n",
    "Mostly conda installers are \"wrappers\" around other installation databases.  Your instructor is new to conda installers so many of these details are likely incorrect and i was not able to double check the instructions.  If you want to actually get this to work, a  good place to start is to read the documents on [Conda Recipes](https://docs.conda.io/projects/conda-build/en/latest/concepts/recipe.html)\n",
    "\n",
    "\n",
    "## Step A: Generate configuration files\n",
    "\n",
    "Use the following command to generate the basic conda configuration files:\n",
    "\n",
    "```bash\n",
    "conda skeleton pypi build\n",
    "```\n",
    "\n",
    "This should build a directory called build with a meta.yml file in it. Assuming that our project is already registered in PyPi this should be enough to move on to the next step:\n",
    "\n",
    "\n",
    "## Step B: Build the conda installer form pipy\n",
    "\n",
    "```bash\n",
    "conda build build\n",
    "```\n",
    "\n",
    "This should run the conda build command on the build directory. \n",
    "\n",
    "## Step C: ????\n",
    "\n",
    "Your instructor got stuck at this point because he did not want to register the library with pypi. However, if you do the above command should generate a file that you can use to register with Conda.  See the documents provided.\n",
    "\n",
    "If anyone gets to this point please contact the instructor and maybe we can work together to figure out the details for these steps."
   ]
  },
  {
   "cell_type": "markdown",
   "metadata": {},
   "source": [
    "---\n",
    "<a name=\"Tools_to_get_you_started\"></a>\n",
    "# 3. Tools to get you started\n",
    "\n",
    "There are tons of tools and templates that can help you get started writing the necessary support programs to work with PyPi and Conda install database. Consider using your favorite search engine and seeing if you can find a tool that works for you.  For example, although I have not tried it the following tool looks interesting:\n",
    "\n",
    "* https://github.com/takluyver/flit\n"
   ]
  },
  {
   "cell_type": "markdown",
   "metadata": {},
   "source": [
    "&#9989; **<font color=red>DO THIS:</font>** See if you can find other tools that help with packaging your project.  Share the URL in the assignment summary field on the Assignment Wrap-up"
   ]
  },
  {
   "cell_type": "markdown",
   "metadata": {},
   "source": [
    "https://docs.aws.amazon.com/lambda/latest/dg/python-package.html"
   ]
  },
  {
   "cell_type": "markdown",
   "metadata": {},
   "source": [
    "----\n",
    "<a name=\"Assignment_wrap-up\"></a>\n",
    "# 4. Assignment wrap-up\n",
    "\n",
    "Please fill out the form that appears when you run the code below.  **You must completely fill this out in order to receive credit for the assignment!**\n",
    "\n",
    "[Direct Link to Google Form](https://cmse.msu.edu/cmse802-pc-survey)\n",
    "\n",
    "\n",
    "If you have trouble with the embedded form, please make sure you log on with your MSU google account at [googleapps.msu.edu](https://googleapps.msu.edu) and then click on the direct link above."
   ]
  },
  {
   "cell_type": "markdown",
   "metadata": {},
   "source": [
    "&#9989; **<font color=red>Assignment-Specific QUESTION:</font>** Where you able to get a pypi installer built.  If not, where did you get stuck?"
   ]
  },
  {
   "cell_type": "markdown",
   "metadata": {},
   "source": [
    "Put your answer to the above question here"
   ]
  },
  {
   "cell_type": "markdown",
   "metadata": {},
   "source": [
    "&#9989; **<font color=red>QUESTION:</font>**  Summarize what you did in this assignment."
   ]
  },
  {
   "cell_type": "markdown",
   "metadata": {},
   "source": [
    "Put your answer to the above question here"
   ]
  },
  {
   "cell_type": "markdown",
   "metadata": {},
   "source": [
    "&#9989; **<font color=red>QUESTION:</font>**  What questions do you have, if any, about any of the topics discussed in this assignment after working through the jupyter notebook?"
   ]
  },
  {
   "cell_type": "markdown",
   "metadata": {},
   "source": [
    "Put your answer to the above question here"
   ]
  },
  {
   "cell_type": "markdown",
   "metadata": {},
   "source": [
    "&#9989; **<font color=red>QUESTION:</font>**  How well do you feel this assignment helped you to achieve a better understanding of the above mentioned topic(s)?"
   ]
  },
  {
   "cell_type": "markdown",
   "metadata": {},
   "source": [
    "Put your answer to the above question here"
   ]
  },
  {
   "cell_type": "markdown",
   "metadata": {},
   "source": [
    "&#9989; **<font color=red>QUESTION:</font>** What was the **most** challenging part of this assignment for you? "
   ]
  },
  {
   "cell_type": "markdown",
   "metadata": {},
   "source": [
    "Put your answer to the above question here"
   ]
  },
  {
   "cell_type": "markdown",
   "metadata": {},
   "source": [
    "&#9989; **<font color=red>QUESTION:</font>** What was the **least** challenging part of this assignment for you? "
   ]
  },
  {
   "cell_type": "markdown",
   "metadata": {},
   "source": [
    "Put your answer to the above question here"
   ]
  },
  {
   "cell_type": "markdown",
   "metadata": {},
   "source": [
    "&#9989; **<font color=red>QUESTION:</font>**  What kind of additional questions or support, if any, do you feel you need to have a better understanding of the content in this assignment?"
   ]
  },
  {
   "cell_type": "markdown",
   "metadata": {},
   "source": [
    "Put your answer to the above question here"
   ]
  },
  {
   "cell_type": "markdown",
   "metadata": {},
   "source": [
    "&#9989; **<font color=red>QUESTION:</font>**  Do you have any further questions or comments about this material, or anything else that's going on in class?"
   ]
  },
  {
   "cell_type": "markdown",
   "metadata": {},
   "source": [
    "Put your answer to the above question here"
   ]
  },
  {
   "cell_type": "markdown",
   "metadata": {},
   "source": [
    "&#9989; **<font color=red>QUESTION:</font>** Approximately how long did this pre-class assignment take?"
   ]
  },
  {
   "cell_type": "markdown",
   "metadata": {},
   "source": [
    "Put your answer to the above question here"
   ]
  },
  {
   "cell_type": "code",
   "execution_count": null,
   "metadata": {},
   "outputs": [],
   "source": [
    "from IPython.display import HTML\n",
    "HTML(\n",
    "\"\"\"\n",
    "<iframe \n",
    "\tsrc=\"https://cmse.msu.edu/cmse802-pc-survey?embedded=true\" \n",
    "\twidth=\"100%\" \n",
    "\theight=\"1200px\" \n",
    "\tframeborder=\"0\" \n",
    "\tmarginheight=\"0\" \n",
    "\tmarginwidth=\"0\">\n",
    "\tLoading...\n",
    "</iframe>\n",
    "\"\"\"\n",
    ")"
   ]
  },
  {
   "cell_type": "markdown",
   "metadata": {},
   "source": [
    "\n",
    "\n",
    "---------\n",
    "### Congratulations, we're done!\n",
    "\n",
    "To get credit for this assignment you must fill out and submit the above survey from on or before the assignment due date."
   ]
  },
  {
   "cell_type": "markdown",
   "metadata": {},
   "source": [
    "### Course Resources:\n",
    "\n",
    "\n",
    " - [Website](https://msu-cmse-courses.github.io/cmse802-f20-student/)\n",
    " - [ZOOM](https://msu.zoom.us/j/97272546850)\n",
    " - [Syllabus](https://docs.google.com/document/d/e/2PACX-1vT9Wn11y0ECI_NAUl_2NA8V5jcD8dXKJkqUSWXjlawgqr2gU5hII3IsE0S8-CPd3W4xsWIlPAg2YW7D/pub)\n",
    " - [Schedule](https://docs.google.com/spreadsheets/d/e/2PACX-1vQRAm1mqJPQs1YSLPT9_41ABtywSV2f3EWPon9szguL6wvWqWsqaIzqkuHkSk7sea8ZIcIgZmkKJvwu/pubhtml?gid=2142090757&single=true)\n",
    "\n"
   ]
  },
  {
   "cell_type": "markdown",
   "metadata": {},
   "source": [
    "Written by Dr. Dirk Colbry, Michigan State University\n",
    "<a rel=\"license\" href=\"http://creativecommons.org/licenses/by-nc/4.0/\"><img alt=\"Creative Commons License\" style=\"border-width:0\" src=\"https://i.creativecommons.org/l/by-nc/4.0/88x31.png\" /></a><br />This work is licensed under a <a rel=\"license\" href=\"http://creativecommons.org/licenses/by-nc/4.0/\">Creative Commons Attribution-NonCommercial 4.0 International License</a>."
   ]
  },
  {
   "cell_type": "markdown",
   "metadata": {},
   "source": [
    "----"
   ]
  }
 ],
 "metadata": {
  "anaconda-cloud": {},
  "kernelspec": {
   "display_name": "Python 3",
   "language": "python",
   "name": "python3"
  },
  "language_info": {
   "codemirror_mode": {
    "name": "ipython",
    "version": 3
   },
   "file_extension": ".py",
   "mimetype": "text/x-python",
   "name": "python",
   "nbconvert_exporter": "python",
   "pygments_lexer": "ipython3",
   "version": "3.8.3"
  }
 },
 "nbformat": 4,
 "nbformat_minor": 2
}
