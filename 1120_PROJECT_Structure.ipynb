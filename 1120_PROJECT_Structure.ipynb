{
 "cells": [
  {
   "cell_type": "markdown",
   "metadata": {},
   "source": [
    "In order to successfully complete this assignment you need to commit changes to your shared git repository on or before **11:59pm on Saturday November 20**."
   ]
  },
  {
   "cell_type": "markdown",
   "metadata": {},
   "source": [
    "# Rounding out your project"
   ]
  },
  {
   "cell_type": "markdown",
   "metadata": {},
   "source": [
    "In this last milestone project we will clean finish up our project structure to make it as easy as possible for others to use.  We have been doing pieces of this all semester but here we will add a few finishing touches to make the project complete. Specifically we need to put in enough structure such that anyone taking the course can get it up and running. This includes: \n",
    "\n",
    "1. Installation/testing Instructions\n",
    "3. Jupyter Example\n",
    "\n",
    "If you remember from the first project, the structure of the repository should be something like the following:\n",
    "\n",
    "  ProjectName/\n",
    "        .gitignore\n",
    "        docs/\n",
    "             package_name/\n",
    "                  module1.html\n",
    "                  module2.html\n",
    "             images/\n",
    "                  image1.jpg\n",
    "        environments.yml\n",
    "        Examples/\n",
    "              datafile1.csv\n",
    "              datafile2.tiff\n",
    "              datafile3.xls\n",
    "        LICENSE.txt\n",
    "        makefile\n",
    "        Models/\n",
    "             Otimization_Report.ipynb\n",
    "             Statistical_Methods_Report.ipynb\n",
    "             Graph_Theory_Report.ipynb\n",
    "             ABM_Report.ipynb\n",
    "             ML_Report.ipynb\n",
    "             ODE_Report.ipynb\n",
    "        package_name/\n",
    "              __init__.py\n",
    "              module1.py\n",
    "              module2.py\n",
    "              test/\n",
    "                  __init__.py\n",
    "                  test_module1.py\n",
    "                  test_module2.py\n",
    "        README.md\n",
    "        setup.py\n",
    "        Tutorial.ipynb"
   ]
  },
  {
   "cell_type": "markdown",
   "metadata": {},
   "source": [
    "---\n",
    "\n",
    "# 1. Install instructions\n",
    "\n",
    "Your project needs to include clear installation instructions with all requirements.  These instructions can be included in your README.md file in the top directory.  \n",
    "\n",
    "I highly recommend you include instructions for creating a conda environment so that classmates are easily able to run your code. This means they need to temporarily set up their computer with the same settings as your system.  \n",
    "\n",
    "Ideally you want include a ```environment.yml``` with your project so that other students and instructors can use the following commands to set up the environment:\n",
    "\n",
    "    conda env create --prefix ./envs --file environment.yml\n",
    "    conda activate ./envs\n",
    "    \n",
    "The ```environment.yml``` file can be created to \"copy\" your current enviornment by running the following command:\n",
    "\n",
    "    conda env export --from-history > environment.yml\n",
    "    \n",
    "    \n",
    "Note, try to make your ```environment.yml``` file the minimum packages you will need to run your project.  **_Do not_** create an ```environment.yml``` file on your base anaconda environment as this will just install a lot of stuff that is not needed. A good way to figure out your base install is to create a new environment and add packages until your code works. For example:\n",
    "\n",
    "    conda create --prefix ./envs pip jupyter pytest pylint pdoc3\n",
    "    conda activate ./envs\n",
    "\n",
    "Now just use \"conda install\" and \"pip install\" to add all of your project dependencies until it starts working. For example may of you will want to include one or all of the following:\n",
    "\n",
    "    conda install numpy\n",
    "    conda install matplotlib\n",
    "    conda install scipy\n",
    "    conda install jupyter\n",
    "\n",
    "When you have it working run the ```conda env export --from-history``` command from above. To deactivate and delete your environment just run:\n",
    "\n",
    "    conda deactivate\n",
    "    rm -rf ./envs\n",
    "    \n",
    "That should be it!!!\n",
    "    "
   ]
  },
  {
   "cell_type": "markdown",
   "metadata": {},
   "source": [
    "> **NOTE FOR INTERNATIONAL STUDENTS** with English as a second language.  If you are running on Windows and your computer's default language is not English you may have trouble with UTF8 errors and the ```environment.yml``` file.  The following line may fix the problem.\n",
    "\n",
    "    conda env export --from-history | Set-Content -Encoding utf8 environment.yml"
   ]
  },
  {
   "cell_type": "markdown",
   "metadata": {},
   "source": [
    "---\n",
    "\n",
    "# 2. Jupyter Example\n",
    "\n",
    "Finally, include jupyter notebook(s) with example(s) in an obvious location. Have the example(s) describe and show how to use the software and show some results.  \n",
    "\n",
    "The example should work \"out-of-the-box\" with no special commands once your conda environment has been installed. "
   ]
  },
  {
   "cell_type": "markdown",
   "metadata": {},
   "source": [
    "-----\n",
    "\n",
    "### Congratulations, you are done!\n",
    "\n",
    "Now, you just need to commit and push the project changes to your project git repository. "
   ]
  }
 ],
 "metadata": {
  "anaconda-cloud": {},
  "kernelspec": {
   "display_name": "Python 3",
   "language": "python",
   "name": "python3"
  },
  "language_info": {
   "codemirror_mode": {
    "name": "ipython",
    "version": 3
   },
   "file_extension": ".py",
   "mimetype": "text/x-python",
   "name": "python",
   "nbconvert_exporter": "python",
   "pygments_lexer": "ipython3",
   "version": "3.7.3"
  }
 },
 "nbformat": 4,
 "nbformat_minor": 4
}