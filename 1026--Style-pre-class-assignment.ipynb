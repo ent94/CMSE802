{
 "cells": [
  {
   "cell_type": "markdown",
   "metadata": {},
   "source": [
    "In order to successfully complete this assignment you must do the required reading, watch the provided videos and complete all instructions.  The embedded survey form must be entirely filled out and submitted on or before **11:59pm on Sunday October 25**.  Students must come to class the next day prepared to discuss the material covered in this assignment. "
   ]
  },
  {
   "cell_type": "markdown",
   "metadata": {},
   "source": [
    "# Pre-Class Assignment: Programming Style"
   ]
  },
  {
   "cell_type": "markdown",
   "metadata": {},
   "source": [
    "### Goals for today's pre-class assignment \n",
    "\n",
    "1. [Style Guilds](#Style_guilds)\n",
    "1. [Linting programs](#Linting_programs)\n",
    "1. [Other_Linting_Programs](#Other_Linting_Programs)\n",
    "4. [Assignment wrap-up](#Assignment_wrap-up)"
   ]
  },
  {
   "cell_type": "markdown",
   "metadata": {},
   "source": [
    "---\n",
    "<a name=\"Style_guilds\"></a>\n",
    "# 1. Style Guilds\n",
    "\n",
    "When writing a computer program it is important to keep in mind that the program should not only run correctly, but also be written in a clear way so that other people can understand it. Style Guilds exists to help programmers use standard formatting to make it easier for everyone to read.  Probably the most common style guild for Python was introduced as the eighth ever \"Python Enhancement Proposal\".  This style guild is called pep8: \n",
    "\n",
    "### Python Enhancement Proposal Eight:\n",
    "* [PEP 8 -- Style Guild for Python](https://www.python.org/dev/peps/pep-0008/)\n",
    "* [A little cleaner pep8 guild](https://pep8.org/)\n",
    "\n",
    "&#9989; **<font color=red>DO THIS:</font>**  Skim one of the above pep8 style guilds to help you get an idea about how they are used.  \n",
    "\n",
    "Unfortunately, new programmers have a difficult time learning what to write let alone making it pretty.  Now that you are more experienced programmers, we can talk more ensuring that your code is written well and is using good style."
   ]
  },
  {
   "cell_type": "markdown",
   "metadata": {},
   "source": [
    "&#9989; **<font color=red>DO THIS:</font>** Review the following code and see if you can find at least two things that violate the pep8 coding standard.  See if you can clean up the code to better follow the standard"
   ]
  },
  {
   "cell_type": "code",
   "execution_count": null,
   "metadata": {},
   "outputs": [],
   "source": [
    "import random, sys\n",
    "import os\n",
    "def myfunc():\n",
    "  rando = random.random()\n",
    "  return random.randint(0,100)\n",
    "def multiply  (a,b):\n",
    "    return a *  b\n",
    "\n",
    "print(multiply(myfunc(), myfunc()))"
   ]
  },
  {
   "cell_type": "markdown",
   "metadata": {},
   "source": [
    "&#9989; **<font color=red>QUESTION:</font>** What did you find and fix in the code?"
   ]
  },
  {
   "cell_type": "markdown",
   "metadata": {},
   "source": [
    "Put your answer to the above question here."
   ]
  },
  {
   "cell_type": "markdown",
   "metadata": {},
   "source": [
    "&#9989; **<font color=red>QUESTION:</font>**  What aspect of the PEP8 standard did you find useful interesting or odd?  Come to class prepared to discuss what you found."
   ]
  },
  {
   "cell_type": "markdown",
   "metadata": {},
   "source": [
    "Put your notes on pep8 here."
   ]
  },
  {
   "cell_type": "markdown",
   "metadata": {},
   "source": [
    "---\n",
    "<a name=\"Linting_programs\"></a>\n",
    "# 2. Linting programs\n",
    "\n",
    "\n",
    "<img alt=\"Image of a multi-headed Hydra. Designed to represent parallel codes\" src=\"data:image/jpeg;base64,/9j/4AAQSkZJRgABAQAAAQABAAD/2wCEAAkGBxATEBARExASEg8XEBUYEA8TFhUTEhAWFREWGBcRFRUZHiggGholGxUVIj0hJSkrLi4xGCA2ODUtOCgtLjcBCgoKDQ0NDg0NDisZFRkrKys3NzcrKysrKy0rKysrNys3KysrKystLSsrKysrKysrKy0rLSsrKysrKysrKysrK//AABEIAOEA4AMBIgACEQEDEQH/xAAcAAEAAQUBAQAAAAAAAAAAAAAAAQIDBAUGBwj/xABGEAACAQMBBQUEBQcKBwEAAAABAgADBBEhBRIxQVEGEyIyYUJxgZEHFFKh8CNicoKx0eEzQ0VTVGNzkrLBNGSDlKKzwiT/xAAVAQEBAAAAAAAAAAAAAAAAAAAAAf/EABQRAQAAAAAAAAAAAAAAAAAAAAD/2gAMAwEAAhEDEQA/APcYiICIiAiIgIiICIiAiIgIiICIiAiIgIicttbabXBqUqLslrT3hd3SEqzlM79rbsOB0IaoPLqq+PJQJvttVLipUoWlQJTpsUubwBXK1ANbe3DZU1BkFnYFV4YYk7uJV2BasPytIXGuS1yWuTn/AKpbHuGAOQEp7K2go2NqgRE/IqzogwgeqO8fdHJd9j8JZ7T7bFrbVa5G8VACJw33Zt1VJ6ZOSegJlFu72ds+ghO7TtE5vRqGyxz89Nkx85Yse1RVsW+0ra7H9mr1aZf0VK9LxLrzdahPpPG9oXtWvUNWs5qVT7R4KD7KLwRfQfedYoW2/oRkdDzkH0jsftHRrt3RDULnBP1ergOwHF6bAlai8NVJxkZwdJuZ88bNSoqKiue7BBWkxYopHlZMENSYcQ1MqQec9F7JduCGS2vDhjgUrlseIkgBKrAAHJIAqAKCSAyoSu+HoUREBERAREQEREBERAREQEREBERAREQEROY2jfvdO9Cg7JbKxW6ukJDVGBw1tbsOBByGqDy6qviyUBtG/e6d7eg7JbKxW6ukJDVGBw1tbsOBByGqDy6qvjyUyfqiCl3KKqU+73ERQAqLu7oAA4ACV0KKIioiqlNVCoigBVUDAUAcABK8yjRbGuC1laMRhjbUt9fssKY31PubI+E436VXJtrfGcfXBvf9vW4/H/adXbDu6lzb8AtQ1qPHWlcMztr6Vu+GBwG51E0nbCxNe0rU1BNQAPTA4syHeCjP2gCvxhHkyDWbezWamgwOCNQRkHrNpbPIrd2pmXXRKiFWGR8DjIIyM5HAkYOQQSCCCRNVRqy/9YlHoH0d9qGyLG4feYaW9UkknQkUWJOTlVYqxJJCOpJKbz+hz53W9VaiM5Ip5C1GU4ZFLA96p5NTYJUB4g0xPb+y+1Wr0SKuBc0nNO4AGAzAAiqo+y6Mrga43scQZBuYiICIiAiIgIiICIiAiIgIiICInMbRv3u3ehQdktVYrc3SEq1VgcNbW7Dhg5DVB5dVXxZKA2jfvdO9Cg7JaqxW5ukJDVGBw1tbsOBByGqDy6qviyUzKFFERURVSmqhURQAqqBgKAOAAk0KKIioiqlNVCoigKqqBgKAOAAlUoGUmDIMDT9orV8JcUlL1qO8dxfNWpNjvaI9SFVgObU1GQCZrGqqyrURg1NlDI41DKwyCPunVZnKbWtvqrPU4WTuWqdLSoxy1Q/3Lk5J9hiSfCxKh5t2w2MaFU1kH5Co+fSlUY6oeisdR6kjTwg6mjVnrF3aqytTdQyMCGU6hgeRnnu3ey1WgS9INVt/TLVaQ6MOLL+cNevDeIYiV5U1zNUlfIyDkciNQYNQyC/d1t4FeRGD8Z7J2RvGB2ddHhc2tKlcfpGl3tCoT6N3yeprjpPGLCyqV6qUKQzVc4XmFHtVG/NUan95E9t2rbpRsHIHgt6dOqnUfVGSsv8A6RA72IiAiIgIiICIiAiIgIiICInL7Qvmu2ehRdktFYrc3SEq1ZgcNbW7DUYOQ1QcNVXxZKBO0L57tnoUXZLVWK3N0hKtVYHDW1uw1GDkNUHl1VfFkpm0KKIioiqiKoVEUBVRQMBVA4ACKFFERURVRFUKiKAqooGAqgaAAcpUZQMgwZSYAyDBkGAMoYAgggEEYIOoIPEESTIMI5a62c1r5FapZcqagvVsx0RRrUo/mjLJwG8uAtdEBlV0ZXRhlHUhlYHmrDQidLmaO62Rl2qWzihUJJqeEVLeu3iB36QYeMHi6lWOmSeEDTbQ7K2lclnogVCcmpTJpsx4ZbGjfHM11P6NbYtn6xd4z5c0flnup04vXp6XFu6a/wArRDXNE66HKL3i8vMgAz5jxmZZbTs6mdy5oOQcMFqozKejAHQ+h1gWdgdnba1BFGkFJ89QktUfBzgudcDjjgOgl/tJTDWlajzrAUABxzcMKP3d5n0CnpF92hsqIY1LmkCqFioYPU3VGSwprliB1wcTK7P2tS5qU7yrTalRTJs7dxipllKm6qj2W3WZVTkHYnVsKV1MREgREQEREBERAREQEROW2hfNeM9Ci7JZqxW5ukJVqzA4a2oMNQAchqg4aqviyUCdoXzXbPQouyWisVubpCVaswOGtrdhqADkNUHDVV8WSmdRoqiqiKqIqhURQFVFAwFUDQADlFGkqKqIqoiqFRFAVUUDAVQNAAOUqMoGQYMgwBlJgyDAGUmTKTCBkGDLLMWOBoB5m68DgZGCCMgnlAhzvZUaLwY6gnTVRzHHj+BckKAAABgAYA5ADlBgMzGvUo7rPVFPcVSWeoF3UUDJYltAAOcu1qqqrMzBVUEszEBVAGSxJ4ADnMXZWy2vWSvWUrYqwa3tmBDXTA5W5rKdQgOCtM+jNrugBRsHY/1pkrvS7qxVg1ta7u4bllOVua6YGFBwVpn0ZtcBe2iJFIiICIiAiIgIiICInM7aualxXezpsUt0VTe1kOKjFxlbOmw1QlMMzDUK6hcFt5Qo2hfNeM1Ci7JZqxW5ukJVq7A4a2oMNQAchqg4aqviyUz6NJUVURVRFUKiKAqqoGAqgaAAcpNGkqKqIqoiqFRFAVVUDAVQNAAOUqMogyDBkGAMpMkykwBkGDIMIgyDBllzvZUeXgx1GdNVBBBB4a/gALb2gPh5sDx1IKqQdCCNfxioAAYAAHIDQCTIMAZRVqKqlmIVQCWYkBVAGSSTwAHOKjhQWYhVAJZicBQBkkk8BMfZezTeMtaqpFiCGoUGGDdkHK16qnhSBwVQ8dGPIQI2Vs03rLWrKVsVIahbsCDdEHK16ynhTBwVQ8dGbkB2MRIpERAREQEREBERAREQE5Xs7rRaoTlqtevUY8yHrvuD9WmEX3KJ1U5Ts6SKBQjBp3FxTx6U7moqn4put+tA2hlJgyDKBkGDKTAGQYMgwgZSYMsl97QHw82HPUgqp6gjX8YAzEnA0A8zfI4GRggjIyOErUAAAaADAHQDlCgAYAAHIDQCQYAyh3ABJICgEkk4AAGSSTwEl3ABJIAAJJOgAHEk8hMbZezzelatRSLAEGlSIwbwjUVagP8AM8wp8/E6YBBsvZxvCtaqpFiCDRosMG7IORWqA8KQ4qh82jHTAnYREikREBERAREQEREBERAREQE5h17m/rJ7Fwgr0zr/AClNUpVl6Dwi3YDnlzyM6ec924CLa9+XVKtCoKtuze1UAK9xoCT3iu9PQE/lNBkCBfMgzF2ZtCnXo061M5puuRnQqc4ZGHJlIII5EETJMoGUmDIMIGREssxJwNAPM3yO6MjBBBOoOnvgQ53sqPLwY9dCCoIIIPDX8C5IAAAA0AGAOgEGBBlLMACSQABkk6AAcSTJZgASTgAak6ADqZg7MsTfkVHGNmgg06Z0O0COFRx/Zui/znE+DAcK9mWBvStWoCNngg0qZGDfEaiq4/qOYX2+J8OA3YxEikREBERAREQEREBERAREQESGYAEk4A4k8B6zidv/AEg00Pd2iivUJK/WGz9XQ7pORgg1eHs4U8N4GB0m3tuULSl3lUnJ0p0l1qVm+wi8z6nAA1JAyZ5Ztra1a6qirVwAue6oqcpRBGDj7TkaFyOoGAcTFua9SpUarVqNUqtxduQ5IoGiqPsjA4nUkk2yZUZ+wNtfU6jFz/8AjqHNcce4fAH1gfm4ADD0Dcmz6OGBAIIIIyCNQQeBB6Tx64uZk9mO1xsyKVTL2WdABl7XJ1KD2qfPc4j2c+WFeryDLNrdU6qLUputSmwyjoQysOoIk1QT4eC48TdQQRhSDkHgcwiktvaA+Hmw95G6p65Gv4xWqgAAAADgBoB7hJkGAMpY8+A5nkPWCZhbPsfr5DuMbNByqn+kCPaP/Len85+h5wjZ1gb8h3GNmg5RD/SBHB2H9m6D+c4nwY3+0iJFIiICIiAiIgIiICIiAiIgJjbRv6VCm1Wq4p0l8zH1OAoHEsSQABqSQBqZRtbadK3pNWqtuovxZieCKOJYnQATx/b+2615Vp1quUprVIo24OVpA7yB2xo1Q5Hi5A4X2iwZfa3tRWvBWpgGlaBCBQ9usSuc1iOWCPyY01Od7QDUVz5G5Bx8mBUfeVgaOejAY968fuI/ymWt4KDTPDB3R1Thj4Zx8usqMh2xMG5uZjVbsjwsdeR+0Ovv6zXXN1CrtzdSrs7savf3K29HT2q1UjK0KedXPU8gvM9ACRpXqM7KiKWqM6qiDzOzMFVR6kkD4z6L7Adll2faLTOGuHw91UGu8+PKp+wvAfE8SZFWLXsPRt6SrZVHt6gHiZs1adw2uWr0yQCxJ8yFG0AB3QFlmre1qOlzbPTGcd/RDXFueOpKLv09BqXQKM+Y8Z2UQjkbLaVCsN6lWpVV603Vx/4mVXV5SpjNSrTpjIANR1TJPADJ1J6DUze7Q2JaV/5e1t63+LSSp/qBkbO2HZ0CTQtbegTxNKlTpk/5QIGhttmNeEGojpYDB7uopSpeno9M+JKA+wwDOeICjD9cBEQEREBERAREQEREBERAREQEx7+8p0aT1qrhKSKWdzyA9OJPoNTMieT9tdvm7uGoIT9UonTB0uKuWU1D1RN0heROW18Bga3tDtqreV6dZ8rSDH6tQ/qgabeN8aGowzk8F8o5s2vRAQ6HqdeeGJYMPcSR71kKCaa/bGPdvIcEZ6ZBHuMsXNzkB1441HAkc1PqD94I0yZUV1a2VwdHB1I9lhzHof2HHWa24ut4YPhYH4qeo6g6+/X1Et3VxnxKdcfBh9k/f7vmJqrm5B6hh8x+8fdCrlzdZ0bj9x9QeR+/9s1lxcHrn38fnLdxcngdfdw+Uz+x/ZurtC7S2p5VfNXq64o0gfE3vPADmT0yZFehfQb2XNSo+0qy+BCUtAeBfUVK36o8APUv0E9smLsywpW9GlQpKEo00VKajkqjAyeZ9TqZlQhERAREQEREBERAREQEREBERAREQERKXcAEkgKBkk6AAcSTA5j6QdtNQtxRptu3FfeVCDhqaADvaw1zoCqgjg1RD1nlVLdVaJGibirjoCBu/eAP1psNv7Z+s3Zucnu2QpbqcjdpKQU0PBm8bnTOoB8s0dauBvIfKc7vQg8V+GfkR0Mou3NxusT7J4/mtwz7joPgOpmrurggkjUHzL/9D934NqvdY8LHPQn2h0Pr+3541dxckeo+8fvEC5c3HNTx49D/AB9ZrLi4zx0/29xlFSpk5B9/8Zn9ndg3V7XW3t0D1CMsxO6lJc4NSodcLr6k8gZFWNjbLr3VdLegpqVnOi6YUc3Y+yo5k/wn0z2F7I0dnWwpId+s2GuK5GDVfHLog4BeWvMkmjsP2Mt9nUd1PyldgO/uSMNUI9kD2UHJfnk6zpoQiIgIiICIiAiIgIiICIiAiIgIiICIiAnA/SZt8BRYodXAa6PIUznFH3uRqNfCCCPGDOj7W9oUsrc1CA9ZvDQo5x3j45nkg4k8hwySAfDr29Zmd3YvUdy1RzxdjxPoOAA4AAAaAQLdWt4d3OGXQHpjyt8Rj5kTW3N1vDB0I+anqD+P2iUXlfXIOv3EdD+NPnNTc3IPofv/AIwq5c3XEH58j+6YFRz109f3zbdnezl7f1e7tqJqYPjqnKUaX6b4IB57oyx5Ce3di/oos7Tdq1wt3dDXedR3NI/3dM5yR9psnTI3eEDzLsV9GN3fCnWqYt7MkEVWGatVOtFMcCODNgaggMJ77sHYVtZ0RQtqS0qY448zn7bsdWb1M2UQhERAREQEREBERAREQEREBERAREQEREBERA8I+kLaYfad2BWFUU2RFAORQApJv0ugPeCoTjnoeGBx9zdSnaVq9vVr0axK3dOowq72ne5YnvD6N5g3r6mWLbZN7XaitO0uGNbHck03VKmfaFQjd3dCd7OMAwrEq1izBVBZiQFUAlmJOAoA1JJ5Cendifogepu19o5p0zqLJTio3+LUU+Afmrr6jUTtvo9+juhs9RVqbta/I8VbHhpZGtOiDwHLe4t6Dwjt4GPYWNKjTWlRppSpKMLTRQqr7gJkREIREQEREBERAREQEREBERAREQEREBERAREQEREDxv6dP+L2X/ij/UZ7Bb+RP0R+yIgXIiICIiAiIgIiICIiAiIgIiICIiAiIgIiICIiAiIgIiIH/9k=\">\n",
    "\n",
    "Image From: https://www.needpix.com/"
   ]
  },
  {
   "cell_type": "markdown",
   "metadata": {},
   "source": [
    "Linting programs (Delinting is probably more correct) are used to help you automatically review your python source code and provide helpful hints on where the code does not meet a coding standard and/or how you could make your code look better. The Anaconda installation comes with the most standard linting program [pylint](http://www.pylint.org/).\n",
    "\n",
    "\n",
    "There are a few linting programs made for jupyter notebooks but none of them (that I know of) come with the Anaconda install. Instead most linting is done on python scripts.  Lets look at the following code again and run a linter built into anaconda ```pylint```.  First lets create a program:\n"
   ]
  },
  {
   "cell_type": "code",
   "execution_count": null,
   "metadata": {},
   "outputs": [],
   "source": [
    "%%writefile example.py\n",
    "\"\"\" These are functions. \"\"\"\n",
    "import random\n",
    "def myfunc():\n",
    "    \"\"\" Return a thing. \"\"\"\n",
    "    return random.randint(0, 100)\n",
    "def multiply(value_one, value_two):\n",
    "    \"\"\" Return a thing. \"\"\"\n",
    "    return value_one * value_two\n",
    "\n",
    "print(multiply(myfunc(), myfunc()))"
   ]
  },
  {
   "cell_type": "markdown",
   "metadata": {},
   "source": [
    "Now lets test it to see that it still works"
   ]
  },
  {
   "cell_type": "code",
   "execution_count": null,
   "metadata": {},
   "outputs": [],
   "source": [
    "!python example.py"
   ]
  },
  {
   "cell_type": "markdown",
   "metadata": {},
   "source": [
    "Now we run the linter."
   ]
  },
  {
   "cell_type": "code",
   "execution_count": null,
   "metadata": {
    "scrolled": false
   },
   "outputs": [],
   "source": [
    "!pylint example.py"
   ]
  },
  {
   "cell_type": "markdown",
   "metadata": {},
   "source": [
    "---\n",
    "<a name=\"Other_Linting_Programs\"></a>\n",
    "# 3. Other Linting Programs\n",
    "\n",
    "```pylint``` just happens to be the software that come with Anaconda and only tells you when something is wrong.  There are a ton of other linters out there and many of them will actually try to help you 'fix' your code. The following are just a few programs designed to help you analize your code to make it better:\n",
    "\n",
    "* [coverage.py](https://coverage.readthedocs.io/en/v4.5.x/) -  measuring code coverage of Python programs\n",
    "* [dovpanda](https://github.com/dovpanda-dev/dovpanda) - direcitons over pandas\n",
    "* [removestar](https://www.asmeurer.com/removestar/) - Tool to automatically replace ```import *``` imports with explicit imports\n",
    "* [pyflakes](https://pypi.org/project/pyflakes/) - Python linter (error checker) ignores style\n",
    "* [pychecker](http://pychecker.sourceforge.net/) - Python error checker\n",
    "* [pyreverse](https://www.logilab.org/blogentry/6883) - UML diagrams for python classes\n",
    "* [black](https://github.com/psf/black) - Uncompromising python code formatter\n",
    "* [autopep8](https://pypi.org/project/autopep8/) - Program that tries to automatically convert your python code to the pep8 standard.\n",
    "* [flynt](https://pypi.org/project/flynt/) - CLI tool to convert a python project’s .format(…) and %-formatted strings to f-strings.\n",
    "* [snoop](https://pypi.org/project/snoop/) - Debugger\n",
    "\n",
    "All of these programs are feature rich and have different pros and cons.  \n",
    "\n",
    "&#9989; **<font color=red>DO THIS:</font>** Review the documentation and see if you can install one or more of the software either on your laptop (easy) or on jupyterhub (that is a little tricky). \n",
    "\n",
    "In class we will try to use some of these programs to review your project code."
   ]
  },
  {
   "cell_type": "markdown",
   "metadata": {},
   "source": [
    "&#9989; **<font color=red>QUESTION:</font>** Where you able to get the linters working?  If not, where did you get stuck?"
   ]
  },
  {
   "cell_type": "markdown",
   "metadata": {},
   "source": [
    "Put your answer to the above question here."
   ]
  },
  {
   "cell_type": "markdown",
   "metadata": {},
   "source": [
    "----\n",
    "<a name=\"Assignment_wrap-up\"></a>\n",
    "# 4. Assignment wrap-up\n",
    "\n",
    "Please fill out the form that appears when you run the code below.  **You must completely fill this out in order to receive credit for the assignment!**\n",
    "\n",
    "[Direct Link to Google Form](https://cmse.msu.edu/cmse802-pc-survey)\n",
    "\n",
    "\n",
    "If you have trouble with the embedded form, please make sure you log on with your MSU google account at [googleapps.msu.edu](https://googleapps.msu.edu) and then click on the direct link above."
   ]
  },
  {
   "cell_type": "markdown",
   "metadata": {},
   "source": [
    "&#9989; **<font color=red>Assignment-Specific QUESTION:</font>** Where you able to get the linters working?  If not, where did you get stuck?"
   ]
  },
  {
   "cell_type": "markdown",
   "metadata": {},
   "source": [
    "Put your answer to the above question here"
   ]
  },
  {
   "cell_type": "markdown",
   "metadata": {},
   "source": [
    "&#9989; **<font color=red>QUESTION:</font>**  Summarize what you did in this assignment."
   ]
  },
  {
   "cell_type": "markdown",
   "metadata": {},
   "source": [
    "Put your answer to the above question here"
   ]
  },
  {
   "cell_type": "markdown",
   "metadata": {},
   "source": [
    "&#9989; **<font color=red>QUESTION:</font>**  What questions do you have, if any, about any of the topics discussed in this assignment after working through the jupyter notebook?"
   ]
  },
  {
   "cell_type": "markdown",
   "metadata": {},
   "source": [
    "Put your answer to the above question here"
   ]
  },
  {
   "cell_type": "markdown",
   "metadata": {},
   "source": [
    "&#9989; **<font color=red>QUESTION:</font>**  How well do you feel this assignment helped you to achieve a better understanding of the above mentioned topic(s)?"
   ]
  },
  {
   "cell_type": "markdown",
   "metadata": {},
   "source": [
    "Put your answer to the above question here"
   ]
  },
  {
   "cell_type": "markdown",
   "metadata": {},
   "source": [
    "&#9989; **<font color=red>QUESTION:</font>** What was the **most** challenging part of this assignment for you? "
   ]
  },
  {
   "cell_type": "markdown",
   "metadata": {},
   "source": [
    "Put your answer to the above question here"
   ]
  },
  {
   "cell_type": "markdown",
   "metadata": {},
   "source": [
    "&#9989; **<font color=red>QUESTION:</font>** What was the **least** challenging part of this assignment for you? "
   ]
  },
  {
   "cell_type": "markdown",
   "metadata": {},
   "source": [
    "Put your answer to the above question here"
   ]
  },
  {
   "cell_type": "markdown",
   "metadata": {},
   "source": [
    "&#9989; **<font color=red>QUESTION:</font>**  What kind of additional questions or support, if any, do you feel you need to have a better understanding of the content in this assignment?"
   ]
  },
  {
   "cell_type": "markdown",
   "metadata": {},
   "source": [
    "Put your answer to the above question here"
   ]
  },
  {
   "cell_type": "markdown",
   "metadata": {},
   "source": [
    "&#9989; **<font color=red>QUESTION:</font>**  Do you have any further questions or comments about this material, or anything else that's going on in class?"
   ]
  },
  {
   "cell_type": "markdown",
   "metadata": {},
   "source": [
    "Put your answer to the above question here"
   ]
  },
  {
   "cell_type": "markdown",
   "metadata": {},
   "source": [
    "&#9989; **<font color=red>QUESTION:</font>** Approximately how long did this pre-class assignment take?"
   ]
  },
  {
   "cell_type": "markdown",
   "metadata": {},
   "source": [
    "Put your answer to the above question here"
   ]
  },
  {
   "cell_type": "code",
   "execution_count": null,
   "metadata": {},
   "outputs": [],
   "source": [
    "from IPython.display import HTML\n",
    "HTML(\n",
    "\"\"\"\n",
    "<iframe \n",
    "\tsrc=\"https://cmse.msu.edu/cmse802-pc-survey?embedded=true\" \n",
    "\twidth=\"100%\" \n",
    "\theight=\"1200px\" \n",
    "\tframeborder=\"0\" \n",
    "\tmarginheight=\"0\" \n",
    "\tmarginwidth=\"0\">\n",
    "\tLoading...\n",
    "</iframe>\n",
    "\"\"\"\n",
    ")"
   ]
  },
  {
   "cell_type": "markdown",
   "metadata": {},
   "source": [
    "---------\n",
    "### Congratulations, we're done!\n",
    "\n",
    "To get credit for this assignment you must fill out and submit the above survey from on or before the assignment due date."
   ]
  },
  {
   "cell_type": "markdown",
   "metadata": {},
   "source": [
    "### Course Resources:\n",
    "\n",
    "\n",
    "- [Website](https://msu-cmse-courses.github.io/cmse802-f20-student/)\n",
    "- [ZOOM](https://msu.zoom.us/j/97272546850)\n",
    "- [Syllabus](https://docs.google.com/document/d/e/2PACX-1vT9Wn11y0ECI_NAUl_2NA8V5jcD8dXKJkqUSWXjlawgqr2gU5hII3IsE0S8-CPd3W4xsWIlPAg2YW7D/pub)\n",
    "- [Schedule](https://docs.google.com/spreadsheets/d/e/2PACX-1vQRAm1mqJPQs1YSLPT9_41ABtywSV2f3EWPon9szguL6wvWqWsqaIzqkuHkSk7sea8ZIcIgZmkKJvwu/pubhtml?gid=2142090757&single=true)\n",
    "\n"
   ]
  },
  {
   "cell_type": "markdown",
   "metadata": {},
   "source": [
    "Written by Dirk Colbry, Michigan State University\n",
    "<a rel=\"license\" href=\"http://creativecommons.org/licenses/by-nc/4.0/\"><img alt=\"Creative Commons License\" style=\"border-width:0\" src=\"https://i.creativecommons.org/l/by-nc/4.0/88x31.png\" /></a><br />This work is licensed under a <a rel=\"license\" href=\"http://creativecommons.org/licenses/by-nc/4.0/\">Creative Commons Attribution-NonCommercial 4.0 International License</a>."
   ]
  },
  {
   "cell_type": "markdown",
   "metadata": {},
   "source": [
    "----"
   ]
  }
 ],
 "metadata": {
  "anaconda-cloud": {},
  "kernelspec": {
   "display_name": "Python 3",
   "language": "python",
   "name": "python3"
  },
  "language_info": {
   "codemirror_mode": {
    "name": "ipython",
    "version": 3
   },
   "file_extension": ".py",
   "mimetype": "text/x-python",
   "name": "python",
   "nbconvert_exporter": "python",
   "pygments_lexer": "ipython3",
   "version": "3.8.3"
  }
 },
 "nbformat": 4,
 "nbformat_minor": 2
}
