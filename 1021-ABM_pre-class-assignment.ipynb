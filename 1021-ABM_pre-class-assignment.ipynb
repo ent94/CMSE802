{
 "cells": [
  {
   "cell_type": "markdown",
   "metadata": {},
   "source": [
    "In order to successfully complete this assignment you must do the required reading, watch the provided videos and complete all instructions.  The embedded survey form must be entirely filled out and submitted on or before **11:59pm on Wednesday October 21**.  Students must come to class the next day prepared to discuss the material covered in this assignment. "
   ]
  },
  {
   "cell_type": "markdown",
   "metadata": {},
   "source": [
    "# Pre-class assignment: Forging Simulation"
   ]
  },
  {
   "cell_type": "markdown",
   "metadata": {},
   "source": [
    "### Goals for today's pre-class assignment \n",
    "\n",
    "1. [Ant Forging](#Ant_Forging)\n",
    "1. [Ant forging code review](#Ant_forging_code_review)\n",
    "1. [Assignment wrap-up](#Assignment_wrap-up)"
   ]
  },
  {
   "cell_type": "markdown",
   "metadata": {},
   "source": [
    "----\n",
    "<a name=\"Ant_Forging\"></a>\n",
    "# 1. Ant Forging\n",
    "\n",
    "In class we are going to look into developing an Agent Based Model that simulates Ant Forging. To prepare for this assignment please see the following Wikipedia post:\n",
    "\n",
    "https://en.wikipedia.org/wiki/Ant_colony_optimization_algorithms\n"
   ]
  },
  {
   "cell_type": "markdown",
   "metadata": {},
   "source": [
    "---\n",
    "<a name=\"Ant_forging_code_review\"></a>\n",
    "# 2. Ant forging code review\n",
    "\n",
    "Reading other people's code is a skill that every programmer should try and master.  It is often difficult and annoying because it can be tricky to get into other programmer's head.    \n",
    "\n",
    "&#9989; **<font color=red>QUESTION:</font>**  Study the procedural code for an ant-foraging simulation given below. Understand what each part of the code is doing. This practice will help you in developing your own object oriented ant-foraging model.  Write markdown comments after \"<i># ==></i>\" in the code. The comments should be concise but with enough information for readers.  "
   ]
  },
  {
   "cell_type": "code",
   "execution_count": null,
   "metadata": {},
   "outputs": [],
   "source": [
    "%matplotlib inline\n",
    "\n",
    "import matplotlib.pyplot as plt\n",
    "import random \n",
    "import numpy as np\n",
    "\n",
    "from IPython.display import display, clear_output\n",
    "import time\n",
    "\n",
    "\n",
    "# ==> Set variables number of ants, xdim, and ydim\n",
    "num_ants = 100\n",
    "x_dim = 70\n",
    "y_dim = 30\n",
    "\n",
    "# ==> Initialize smell and food vectors\n",
    "smell = np.zeros((x_dim,y_dim))\n",
    "food = np.zeros((x_dim,y_dim))\n",
    "\n",
    "# ==> Set specific locations in food to 10\n",
    "food[45:50, 25:30] = 10\n",
    "food[60:65, 5:10] = 10\n",
    "\n",
    "# ==> Initialize random ant locations\n",
    "ant_loc = np.zeros((num_ants,2))\n",
    "for a in range(num_ants):\n",
    "    ant_loc[a,0] = np.random.randint(0,x_dim)\n",
    "    ant_loc[a,1] = np.random.randint(0,y_dim)\n",
    "     \n",
    "# ==> Initialize has_food vector\n",
    "has_food = np.zeros(num_ants)\n",
    "\n",
    "directions = ['up', 'left', 'down', 'right']\n",
    "\n",
    "\n",
    "fig, ax = plt.subplots(figsize=(10,5))\n",
    "\n",
    "# Main simulation loop\n",
    "for i in range(500):\n",
    "    \n",
    "    # Loop over ants\n",
    "    for a in range(0,num_ants):\n",
    "        \n",
    "        # ==> Set x and y equal to the position for specific ant in loop\n",
    "        x = int(ant_loc[a,0])\n",
    "        y = int(ant_loc[a,1]) \n",
    "    \n",
    "        # If ant is at home, put food down. The ant has no food carried on it. \n",
    "        if (x == 0 and y == 0):\n",
    "            has_food[a] = 0  \n",
    "            \n",
    "        # ==> If the any has food/is carrying food, do this junk\n",
    "        if (has_food[a] == 1):\n",
    "            \n",
    "            # ==> Move the ant?\n",
    "            pick = np.zeros(x + y)\n",
    "            pick[0:x] = 1          \n",
    "            if ( np.random.choice(pick) == 1 ):\n",
    "                x = x - 1\n",
    "            else:\n",
    "                y = y - 1\n",
    "\n",
    "            # Prevent ants from going out of bound.\n",
    "            if(x < 0):\n",
    "                x = 0\n",
    "            if(y < 0):\n",
    "                y = 0\n",
    "                \n",
    "            # ==> Update the smell variable\n",
    "            smell[x, y] = smell[x, y] + 100    \n",
    "            \n",
    "        else:\n",
    "\n",
    "            # Check to see if there is pheromone around.\n",
    "            g = [] \n",
    "            m  = [] \n",
    "            \n",
    "            # ==> Make the ant go right if the x condition is met\n",
    "            if ( x + 1 < x_dim ):\n",
    "                if ( smell[x+1, y] > 0 ):\n",
    "                    m.append(smell[x+1, y])\n",
    "                    g.append('right')\n",
    "                    \n",
    "            # ==> Make the ant go up if the y condition is met\n",
    "            if ( y + 1 < y_dim ):\n",
    "                if ( smell[x, y+1] > 0 ):\n",
    "                    m.append(smell[x, y+1])\n",
    "                    g.append('up')\n",
    "                    \n",
    "                             \n",
    "            # ==> If we told it where to go, do that. If not, random\n",
    "            if ( g != [] ):\n",
    "                grad = g[m.index(max(m))]\n",
    "            else:\n",
    "                grad = random.choice(directions)\n",
    "                \n",
    "            # Move the ant in one of the four directions.\n",
    "            if ( grad == 'up' ):\n",
    "                y = y + 1\n",
    "            elif ( grad == 'right' ):\n",
    "                x = x + 1\n",
    "            elif ( grad == 'down' ):\n",
    "                y = y - 1\n",
    "            elif ( grad == 'left' ):\n",
    "                x = x - 1\n",
    "            else:\n",
    "                print(grad)\n",
    "                print(\"ERROR!!!!!!!!!!!!\")\n",
    "\n",
    "                \n",
    "            # ==> Reset movement\n",
    "            if ( x < 0 ):\n",
    "                x = 0\n",
    "            if ( y < 0 ):\n",
    "                y = 0\n",
    "            if ( x > x_dim - 1 ):\n",
    "                x = x_dim - 1\n",
    "            if ( y > y_dim - 1 ):\n",
    "                y = y_dim - 1\n",
    "    \n",
    "            # If an ant is on the grid with food, the ant picks food and food level is \n",
    "            # subtracted by 1.\n",
    "            if food[x, y] > 0:\n",
    "                has_food[a] = 1\n",
    "                food[x,y] = food[x,y] - 1\n",
    "                                \n",
    "        \n",
    "        # update ant location\n",
    "        ant_loc[a,0] = x\n",
    "        ant_loc[a,1] = y\n",
    "    \n",
    "    # ==> \n",
    "    smell = smell - 1\n",
    "    smell[smell < 0] = 0\n",
    "    \n",
    "\n",
    "    # plot the universe\n",
    "    plt.imshow(50*food.T+smell.T, origin='lower', aspect='equal')\n",
    "    \n",
    "    for a in range(0,num_ants):\n",
    "        color = 'r'\n",
    "        if (has_food[a] == 1):\n",
    "            color = 'g'\n",
    "        plt.scatter(ant_loc[a,0], ant_loc[a,1], color=color)\n",
    "\n",
    "    # Animaiton part (dosn't change)\n",
    "    clear_output(wait=True) # Clear output for dynamic display\n",
    "    display(fig)            # Reset display\n",
    "    fig.clear()             # Prevent overlapping and layered plots\n",
    "    time.sleep(0.0001)      # Sleep for a fraction of a second to allow animation to catch up\n",
    "    \n",
    "    print(i)\n",
    "    "
   ]
  },
  {
   "cell_type": "markdown",
   "metadata": {
    "collapsed": true
   },
   "source": [
    "&#9989; **<font color=red>DO THIS:</font>**  Answer the following questions:\n",
    "1. Where is the ant home?\n",
    "(0,0)\n",
    "2. What is the pheromones level on the ground right after ants crawl over?\n",
    "\n",
    "3. What is the evaporation rate of pheromone?\n"
   ]
  },
  {
   "cell_type": "markdown",
   "metadata": {},
   "source": [
    "Put your answers here."
   ]
  },
  {
   "cell_type": "markdown",
   "metadata": {},
   "source": [
    "Put your answer to the above quesiton here."
   ]
  },
  {
   "cell_type": "markdown",
   "metadata": {},
   "source": [
    "&#9989; **<font color=red>QUESTION:</font>** What types of research questions could be asked asked of this type of model?"
   ]
  },
  {
   "cell_type": "markdown",
   "metadata": {},
   "source": [
    "A group of sales people and their follow ups. How to best optimize."
   ]
  },
  {
   "cell_type": "markdown",
   "metadata": {},
   "source": [
    "**Think about how you will implement your ant model. Let's meet in the class and make it work.**"
   ]
  },
  {
   "cell_type": "markdown",
   "metadata": {},
   "source": [
    "----\n",
    "<a name=\"Assignment_wrap-up\"></a>\n",
    "# 3. Assignment wrap-up\n",
    "\n",
    "Please fill out the form that appears when you run the code below.  **You must completely fill this out in order to receive credit for the assignment!**\n",
    "\n",
    "[Direct Link to Google Form](https://cmse.msu.edu/cmse802-pc-survey)\n",
    "\n",
    "\n",
    "If you have trouble with the embedded form, please make sure you log on with your MSU google account at [googleapps.msu.edu](https://googleapps.msu.edu) and then click on the direct link above."
   ]
  },
  {
   "cell_type": "markdown",
   "metadata": {},
   "source": [
    "&#9989; **<font color=red>Assignment-Specific QUESTION:</font>** Where you able to figure out the provided code? If not, what parts are still confusing?"
   ]
  },
  {
   "cell_type": "markdown",
   "metadata": {},
   "source": [
    "Put your answer to the above question here"
   ]
  },
  {
   "cell_type": "markdown",
   "metadata": {},
   "source": [
    "&#9989; **<font color=red>QUESTION:</font>**  Summarize what you did in this assignment."
   ]
  },
  {
   "cell_type": "markdown",
   "metadata": {},
   "source": [
    "Put your answer to the above question here"
   ]
  },
  {
   "cell_type": "markdown",
   "metadata": {},
   "source": [
    "&#9989; **<font color=red>QUESTION:</font>**  What questions do you have, if any, about any of the topics discussed in this assignment after working through the jupyter notebook?"
   ]
  },
  {
   "cell_type": "markdown",
   "metadata": {},
   "source": [
    "Put your answer to the above question here"
   ]
  },
  {
   "cell_type": "markdown",
   "metadata": {},
   "source": [
    "&#9989; **<font color=red>QUESTION:</font>**  How well do you feel this assignment helped you to achieve a better understanding of the above mentioned topic(s)?"
   ]
  },
  {
   "cell_type": "markdown",
   "metadata": {},
   "source": [
    "Put your answer to the above question here"
   ]
  },
  {
   "cell_type": "markdown",
   "metadata": {},
   "source": [
    "&#9989; **<font color=red>QUESTION:</font>** What was the **most** challenging part of this assignment for you? "
   ]
  },
  {
   "cell_type": "markdown",
   "metadata": {},
   "source": [
    "Put your answer to the above question here"
   ]
  },
  {
   "cell_type": "markdown",
   "metadata": {},
   "source": [
    "&#9989; **<font color=red>QUESTION:</font>** What was the **least** challenging part of this assignment for you? "
   ]
  },
  {
   "cell_type": "markdown",
   "metadata": {},
   "source": [
    "Put your answer to the above question here"
   ]
  },
  {
   "cell_type": "markdown",
   "metadata": {},
   "source": [
    "&#9989; **<font color=red>QUESTION:</font>**  What kind of additional questions or support, if any, do you feel you need to have a better understanding of the content in this assignment?"
   ]
  },
  {
   "cell_type": "markdown",
   "metadata": {},
   "source": [
    "Put your answer to the above question here"
   ]
  },
  {
   "cell_type": "markdown",
   "metadata": {},
   "source": [
    "&#9989; **<font color=red>QUESTION:</font>**  Do you have any further questions or comments about this material, or anything else that's going on in class?"
   ]
  },
  {
   "cell_type": "markdown",
   "metadata": {},
   "source": [
    "Put your answer to the above question here"
   ]
  },
  {
   "cell_type": "markdown",
   "metadata": {},
   "source": [
    "&#9989; **<font color=red>QUESTION:</font>** Approximately how long did this pre-class assignment take?"
   ]
  },
  {
   "cell_type": "markdown",
   "metadata": {},
   "source": [
    "Put your answer to the above question here"
   ]
  },
  {
   "cell_type": "code",
   "execution_count": null,
   "metadata": {},
   "outputs": [],
   "source": [
    "from IPython.display import HTML\n",
    "HTML(\n",
    "\"\"\"\n",
    "<iframe \n",
    "\tsrc=\"https://cmse.msu.edu/cmse802-pc-survey?embedded=true\" \n",
    "\twidth=\"100%\" \n",
    "\theight=\"1200px\" \n",
    "\tframeborder=\"0\" \n",
    "\tmarginheight=\"0\" \n",
    "\tmarginwidth=\"0\">\n",
    "\tLoading...\n",
    "</iframe>\n",
    "\"\"\"\n",
    ")"
   ]
  },
  {
   "cell_type": "markdown",
   "metadata": {},
   "source": [
    "---------\n",
    "### Congratulations, we're done!\n",
    "\n",
    "To get credit for this assignment you must fill out and submit the above Google From on or before the assignment due date."
   ]
  },
  {
   "cell_type": "markdown",
   "metadata": {},
   "source": [
    "### Course Resources:\n",
    "\n",
    "\n",
    "- [Website](https://msu-cmse-courses.github.io/cmse802-f20-student/)\n",
    "- [ZOOM](https://msu.zoom.us/j/97272546850)\n",
    "- [Syllabus](https://docs.google.com/document/d/e/2PACX-1vT9Wn11y0ECI_NAUl_2NA8V5jcD8dXKJkqUSWXjlawgqr2gU5hII3IsE0S8-CPd3W4xsWIlPAg2YW7D/pub)\n",
    "- [Schedule](https://docs.google.com/spreadsheets/d/e/2PACX-1vQRAm1mqJPQs1YSLPT9_41ABtywSV2f3EWPon9szguL6wvWqWsqaIzqkuHkSk7sea8ZIcIgZmkKJvwu/pubhtml?gid=2142090757&single=true)\n",
    "\n"
   ]
  },
  {
   "cell_type": "markdown",
   "metadata": {},
   "source": [
    "Written by Dirk Colbry, Michigan State University\n",
    "<a rel=\"license\" href=\"http://creativecommons.org/licenses/by-nc/4.0/\"><img alt=\"Creative Commons License\" style=\"border-width:0\" src=\"https://i.creativecommons.org/l/by-nc/4.0/88x31.png\" /></a><br />This work is licensed under a <a rel=\"license\" href=\"http://creativecommons.org/licenses/by-nc/4.0/\">Creative Commons Attribution-NonCommercial 4.0 International License</a>."
   ]
  },
  {
   "cell_type": "markdown",
   "metadata": {},
   "source": [
    "----"
   ]
  }
 ],
 "metadata": {
  "kernelspec": {
   "display_name": "Python 3",
   "language": "python",
   "name": "python3"
  },
  "language_info": {
   "codemirror_mode": {
    "name": "ipython",
    "version": 3
   },
   "file_extension": ".py",
   "mimetype": "text/x-python",
   "name": "python",
   "nbconvert_exporter": "python",
   "pygments_lexer": "ipython3",
   "version": "3.8.3"
  }
 },
 "nbformat": 4,
 "nbformat_minor": 2
}
