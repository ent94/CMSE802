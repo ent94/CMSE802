{
 "cells": [
  {
   "cell_type": "markdown",
   "metadata": {},
   "source": [
    "In order to successfully complete this assignment you need to commit a report in markdown or ipynb format to your ```Reports``` directory in your project git repository on or before **11:59pm on Friday October 30**."
   ]
  },
  {
   "cell_type": "markdown",
   "metadata": {},
   "source": [
    "# <center>Using Agent Based Models in Social Network Analysis in Chemistry</center>\n",
    "\n",
    "<center>by Emily Thomas</center>"
   ]
  },
  {
   "cell_type": "markdown",
   "metadata": {},
   "source": [
    "Agent based models have a clear place in the kind of chemistry education research I had been previously working on before this semester. I was working on networks of students and how they relate to and influence each other. Before I changed programs away from research, I actually was very excited to incorporate agent based models into my work.\n",
    "The research was centered on looking at networks of students and using influence and selection models to determine how students are affecting each other when studying. I collected self reported data from the students on who they studied with and how often as well as grades, student demographic information, etc. Agent based models would fit well into these ideas because they allow for individuals in the network to sort of propagate through the system and see how they affect each other rather than just modeling the system data as a whole.$^1$ In my last influence model, I was looking for a general relation that could describe the whole system on average. This makes sense in some cases and for making certain points, like making claims about our average student or the class as a whole. However, I feel that this model loses the individual in the mix. The model is looking for a description as a whole. I think agent based models fill a different role in determining what can happen in a system like the one described above.  \n",
    "What is missing, in a way, from my previous model was the individual. There was no way to insert an intelligent mover into the model and propagate them and see what happens. Because this study was done on a bridge course, I think it might be useful to see what would happen if you introduced an “expert” into the scenario. Someone who may know more about chemistry than the average bridge chemistry student, maybe a student who had some chemistry taught in a general science class in high school. I think it would be interesting to see a student like this propagate through the network and to see what ties they end up with in the network and how the other students are affected. It would be useful in general for these scenarios where we want to see what happens to the networks of students based on a ripple in the network.$^2$  \n",
    "While I can adjust the attributes of individuals in my model of course, I cannot really see how having different connections might change the decisions or behaviors of that student. I only see how it affects my model as a whole. There is no way to know what would happen to a specific person's ties to others. Agent based models give the individuals in the model more freedom. One of the goals of the project in the end was to be able to advise instructors how they might pair/group students based on the previous models so that they can help make connections between students that would be helpful and positively influential.$^3$ I am not sure that my pure network influence model really reveals a ton of information about this. I think that this outcome would be better served by an agent based model. I would think it would take in the network, individual data, and influence data then would be able to use that information to make the students agents. Then we could run multiple models to see what happens if individuals are placed in different groups from the start or what combinations of traits lead to the most positive influence for the students. What the preliminary data showed was that students are likely to influence each other to increase their study habits. For example, if one student in the study group (a cluster of networked students) studies more hours from the start, then those connected to them are likely to significantly increase their study habits. I think an agent based model based sort of trained on previous semesters’ influence patterns and what attributes create this positive influence, would allow instructors to run multiple simulations on the classroom taking into account the freedom of the individual enough to see what would happen with multiple groupings of students. My current model is not suited for this because it is reading for a class level of influence rather than how that influence can be applied to the individual directly. This is the hole in my work that I believe the agent based models can fill.\n"
   ]
  },
  {
   "cell_type": "markdown",
   "metadata": {},
   "source": [
    "---\n",
    "# References\n",
    "\n",
    "1. \n",
    "https://www.researchgate.net/publication/305903953_The_Role_of_Agent-Based_Simulation_in_Education  \n",
    "2. https://msu.edu/~kenfrank/social%20embeddedness%20of%20natural%20resource%20use%20in%20small%20fishing%20communities.pdf  \n",
    "3. https://scholarworks.lib.csusb.edu/cgi/viewcontent.cgi?article=1409&context=jitim"
   ]
  },
  {
   "cell_type": "markdown",
   "metadata": {},
   "source": [
    "-----\n",
    "### Congratulations, you are done!\n",
    "\n",
    "Now, you just need to commit and push this report to your project git repository. "
   ]
  }
 ],
 "metadata": {
  "anaconda-cloud": {},
  "kernelspec": {
   "display_name": "Python 3",
   "language": "python",
   "name": "python3"
  },
  "language_info": {
   "codemirror_mode": {
    "name": "ipython",
    "version": 3
   },
   "file_extension": ".py",
   "mimetype": "text/x-python",
   "name": "python",
   "nbconvert_exporter": "python",
   "pygments_lexer": "ipython3",
   "version": "3.8.3"
  }
 },
 "nbformat": 4,
 "nbformat_minor": 1
}
