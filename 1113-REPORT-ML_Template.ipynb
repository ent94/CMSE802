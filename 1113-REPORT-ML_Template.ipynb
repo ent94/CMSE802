{
 "cells": [
  {
   "cell_type": "markdown",
   "metadata": {},
   "source": [
    "In order to successfully complete this assignment you need to commit a report in markdown or ipynb format to your ```Reports``` directory in your project git repository on or before **11:59pm on Friday November 13**."
   ]
  },
  {
   "cell_type": "markdown",
   "metadata": {},
   "source": [
    "# <center>Using Machine Learning (ML) in Teaching Chemistry</center>\n",
    "\n",
    "<center>by Emily Thomas</center>"
   ]
  },
  {
   "cell_type": "markdown",
   "metadata": {},
   "source": [
    "Machine learning is such a hot topic right now that it becomes an easy access point for interest in any topic it can be connected to. This is so easy to do with chemistry because machine learning research is at the forefront of cutting edge research, really only second to quantum computing in terms of computation. Discussing machine learning with students can be extremely tricky however because students can often become intimidated with topics they believe are out of their reach. One way to create a connection to tough materials to have students read and discuss an article in that area. This allows the students a chance to interpret how new ideas are applied to chemistry in their own way and when first discussing ideas with peers before sharing them with the class as whole, allows students a platform to vette their ideas and be more confident presenting them.  \n",
    "I found an article online that is a pretty basic description of how machine learning is being used to solve the problem of multisite reactivity on large organic molecules. While this may at first seem like an intimidating topic, the article I found is actually a news article written as a press release from MIT. The author does a wonderful job of walking the reader through the research process and how machine learning is helping to solve their specific problem. It would be the perfect level for someone with a bit more chemistry knowledge to be able to read between the lines as to what the chemistry being described really it and that provides me with the opportunity to allow the students to get creative with how they might apply machine learning to solve problems as well.X  \n",
    "To present this article to general chemistry students, I would position this activity to fall within the kinetics section of the course. The scientists in the article are working on how to model the reactivity of organic molecules. One of the first things you learn in chemical kinetics is that you not only have to have enough energy when molecules collide to form a new product, but you also have to have them collide in the correct orientation. Organic chemistry is known for being especially frustrating because the product often depends on the orientation of the molecules when they collide. I would place this activity after the basic introductory lesson about kinetics so that the students have the proper chemistry background knowledge and can focus on how this problem involves machine learning.  \n",
    "This activity would involve a few different moving parts to achieve. The set up of this idea is based on how to scaffold problem in chemistry. While I am not looking for the students to learn chemistry concepts, I am drawing from the build up structure that scaffolding provides.$^1,2,3$ I would want to give the students the article as homework so that they have the chance to read it before class if they wish. This allows students to spend some time with the material before class and they can decide how much time they need for reading depending on their own needs. Once the students have read the article, I would start the class by giving a little bit of an overview of the article and letting them know that it is important to learn about current research in the field and how those problems are being solved. I would then break the students into small groups of approximately 5 asking the students first to write a short summary of the article to help them look into the meaning of the article. I would ask them to include information like a definition of machine learning to draw their focus there. I would then ask them a few discussion questions like 1. what area of chemistry is being studied by machine learning in this article, 2. how is machine learning being used to solve this specific problem, 3. is there another area of chemistry machine learning can be applied to, and 4. what other problems can you think of that machine learning might solve. I believe these questions get to the heart of the interaction of machine learning and chemistry because if the students can recognize how machine learning is being used and apply it to another problem, they have gotten to the root of what is going on.  \n",
    "Once the students have had an opportunity to discuss these topics in groups, I would ask the class as a whole for answers to questions 1. and 2. as they are a little more straight forward processing of information presented in the article. It is here I would make sure the discussion steers towards the answers from the article and would reiterate my own answers to the questions to reconfirm the student’s ideas. I would ask each group to present their answers to questions 3. and 4. as it would be interesting for them to see how each other chose to apply this new idea. After the students all have a chance to present their ideas, I would wrap things up with a small lecture about ways that machine learning is being applied in chemistry outside and other areas. When designing this lesson, I would be sure to look at my student’s backgrounds so that I could find where machine learning is applied in their fields for a more personal connection. By creating an environment where students can feel confident discussing and dreaming up ways to apply new technology, this gives students a real experience of what it is like to do science as a scientist. The final lesson I would leave them with is that this is often how scientists work and how great ideas are born. Someone reads an article they think is interesting and shares it with a colleague. Great ideas can be born from that discussion and science is never made in a vacuum. An activity like this allows for students to get a hands on feel for how scientists solve problems.\n"
   ]
  },
  {
   "cell_type": "markdown",
   "metadata": {},
   "source": [
    "---\n",
    "# References\n",
    "\n",
    "The article I would have the students read:  \n",
    "https://news.mit.edu/2017/computer-system-predicts-products-chemical-reactions-0627  \n",
    "  \n",
    "1. https://www.researchgate.net/publication/299861404_Scaffolding_guided_inquiry-based_chemistry_education_at_an_inclusive_school\n",
    "2. https://edu.rsc.org/resources/scaffolding-learning-in-chemistry/1137.article  \n",
    "3. https://www.degruyter.com/view/journals/cti/ahead-of-print/article-10.1515-cti-2020-0019/article-10.1515-cti-2020-0019.xml  "
   ]
  },
  {
   "cell_type": "markdown",
   "metadata": {},
   "source": [
    "-----\n",
    "\n",
    "### Congratulations, you are done!\n",
    "\n",
    "Now, you just need to commit and push this report to your project git repository. "
   ]
  }
 ],
 "metadata": {
  "anaconda-cloud": {},
  "kernelspec": {
   "display_name": "Python 3",
   "language": "python",
   "name": "python3"
  },
  "language_info": {
   "codemirror_mode": {
    "name": "ipython",
    "version": 3
   },
   "file_extension": ".py",
   "mimetype": "text/x-python",
   "name": "python",
   "nbconvert_exporter": "python",
   "pygments_lexer": "ipython3",
   "version": "3.8.3"
  }
 },
 "nbformat": 4,
 "nbformat_minor": 1
}
