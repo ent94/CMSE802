{
 "cells": [
  {
   "cell_type": "markdown",
   "metadata": {},
   "source": [
    "In order to successfully complete this assignment you need to participate both individually and in groups during class on **Tuesday November 3**.\n",
    "\n"
   ]
  },
  {
   "cell_type": "markdown",
   "metadata": {},
   "source": [
    "# In-Class Assignment: Training an Artificial Neural Network\n",
    "\n",
    "</p>\n",
    "\n",
    "<img src= \"https://ml4a.github.io/images/temp_fig_mnist.png\">\n",
    "<p style=\"text-align: right;\">From: Machine Learning for Artists - https://ml4a.github.io/</p>\n"
   ]
  },
  {
   "cell_type": "markdown",
   "metadata": {},
   "source": [
    "## Agenda for today's class (80 minutes)\n",
    "\n",
    "\n",
    "1. [(20 minutes) ABM Report review](#ABM_Report_review)\n",
    "1. [(20 minutes) Review pre-class assignment](#Review_pre-class_assignment)\n",
    "1. [(20 minutes) Guessing a Neural Network Model](#Guessing_a_Neural_Network_Model)\n",
    "1. [(20 minutes) Mean Squared Error](#T5)"
   ]
  },
  {
   "cell_type": "markdown",
   "metadata": {},
   "source": [
    "---\n",
    "<a name=\"ABM_Report_review\"></a>\n",
    "# 1. ABM Report review\n",
    "\n",
    "Discuss what you learned about how ABMs relate to your research with your neighbors. Think about commonalities between your projects.  \n"
   ]
  },
  {
   "cell_type": "markdown",
   "metadata": {},
   "source": [
    "---\n",
    "<a name=\"Review_pre-class_assignment\"></a>\n",
    "# 2. Review pre-class assignment:\n",
    "\n",
    "* [1102-NN--pre-class-assignment](1102-NN--pre-class-assignment.ipynb)"
   ]
  },
  {
   "cell_type": "markdown",
   "metadata": {},
   "source": [
    "---\n",
    "<a name=\"Guessing_a_Neural_Network_Model\"></a>\n",
    "# 3. Guessing a Neural Network Model\n",
    "Imagine we want to train a deep neural network with several hidden layers. So, we have a big array of weights $W$ (for all the synapses and all the layers), several biases $b$ and training data $\\big\\{(x_l , y_l) :  l=1,\\ldots, L \\big\\}$. For each choice of weights and biases,  forward propagation produces an estimate $\\hat{y}(x_l)$ of $y_l$ for each training data point $x_l$. (This is what we did in the pre-class assignment)."
   ]
  },
  {
   "cell_type": "markdown",
   "metadata": {},
   "source": [
    "Before we solve the ANN problem lets use a simpler model:\n",
    "\n",
    "Suppose we have the experimental data (```x_data``` and ```y_data```) given below, and that we want to fit a linear model $y = mx + b$ to this data.  How to we find $m$ and $b$? "
   ]
  },
  {
   "cell_type": "markdown",
   "metadata": {},
   "source": [
    "&#9989; **<font color=red>DO THIS:</font>** -  First, lets just try to guess different values for $m$ and $b$ that best fit the data. "
   ]
  },
  {
   "cell_type": "code",
   "execution_count": null,
   "metadata": {},
   "outputs": [],
   "source": [
    "## experimental data\n",
    "%matplotlib inline\n",
    "import matplotlib.pylab as plt\n",
    "import numpy as np\n",
    "x_data = np.array([1, 2, 2.5, 3, 3.5, 4.5, 4.7, 5.2, 6.1, 6.1, 6.8])\n",
    "y_data = np.array([1.5, 1, 2, 2, 3.7, 3, 5, 4, 5.8, 5, 5.7])"
   ]
  },
  {
   "cell_type": "code",
   "execution_count": null,
   "metadata": {},
   "outputs": [],
   "source": [
    "m = 0.85\n",
    "b = 0.2\n",
    "\n",
    "plt.scatter(x_data,y_data)\n",
    "x_range = np.array([i for i in range(0, 8)])\n",
    "y_range = m*x_range + b #Equation of a line\n",
    "plt.plot(x_range,y_range)\n",
    "len(x_range)"
   ]
  },
  {
   "cell_type": "markdown",
   "metadata": {},
   "source": [
    "&#9989; **<font color=red>QUESTION:</font>** What values did you find for $m$ and $b$ and how do you know your selection of $b$ and $m$ are the best?"
   ]
  },
  {
   "cell_type": "markdown",
   "metadata": {},
   "source": [
    "You can see the values of m and b above. I don't know that they are the best. I am just using visual cues to see how it lines up with the data and picked what I liked best. I could run a linear model and let the computer find the m & b with the smallest amount of error and compare, but I think that's later in the assignment."
   ]
  },
  {
   "cell_type": "markdown",
   "metadata": {},
   "source": [
    "---\n",
    "<a name=\"Mean_Squared_Error\"></a>\n",
    "# 4.  Mean Squared Error\n",
    "\n",
    "We can use the Mean Squared Error (MSE) to measure how good our choice is for $b$ and $m$. The general $MSE$ equation is as follows: \n",
    "$$MSE(W,b)  = \\frac{1}{L} \\sum_{i=1}^L (y_i - \\hat{y}(x_l))^2$$\n",
    "\n",
    "If we plug in our liniar funciton $\\hat{y} = m\\cdot x + b$ we get:\n",
    "\n",
    "$$MSE(W,b)  = \\frac{1}{L} \\sum_{i=1}^L ( y_i - (m\\cdot x_i + b))^2$$\n",
    "\n",
    "One strategy is to find values of $w$ and $b$ which minimize this expression. Keep in mind that $MSE$ is a function of more than one variable, with a sum over potentially many training data points. "
   ]
  },
  {
   "cell_type": "markdown",
   "metadata": {},
   "source": [
    "&#9989; **<font color=red>DO THIS:</font>**  Write a function (called MSE) that takes the guesses for $b$, $m$ and the experimental data ```x_data``` and ```y_data``` as inputs and returns the $MSE$ for the function $y = m\\cdot x + b$."
   ]
  },
  {
   "cell_type": "code",
   "execution_count": null,
   "metadata": {},
   "outputs": [],
   "source": [
    "def MSE(b,m,x_data,y_data):\n",
    "    tot=0\n",
    "    for i in range(len(x_data)):\n",
    "        val=(y_data[i]-((m*x_data[i])+b))**2\n",
    "        tot+=val\n",
    "    return 1/len(x_data)*tot"
   ]
  },
  {
   "cell_type": "markdown",
   "metadata": {},
   "source": [
    "Test to make sure your funciton works."
   ]
  },
  {
   "cell_type": "code",
   "execution_count": null,
   "metadata": {},
   "outputs": [],
   "source": [
    "b=0.1\n",
    "m=0.8\n",
    "error = MSE(b, m, x_data, y_data)\n",
    "print(error)"
   ]
  },
  {
   "cell_type": "markdown",
   "metadata": {},
   "source": [
    "-----\n",
    "### Congratulations, we're done!"
   ]
  },
  {
   "cell_type": "markdown",
   "metadata": {},
   "source": [
    "### Course Resources:\n",
    "\n",
    "\n",
    "- [Website](https://msu-cmse-courses.github.io/cmse802-f20-student/)\n",
    "- [ZOOM](https://msu.zoom.us/j/97272546850)\n",
    "- [Syllabus](https://docs.google.com/document/d/e/2PACX-1vT9Wn11y0ECI_NAUl_2NA8V5jcD8dXKJkqUSWXjlawgqr2gU5hII3IsE0S8-CPd3W4xsWIlPAg2YW7D/pub)\n",
    "- [Schedule](https://docs.google.com/spreadsheets/d/e/2PACX-1vQRAm1mqJPQs1YSLPT9_41ABtywSV2f3EWPon9szguL6wvWqWsqaIzqkuHkSk7sea8ZIcIgZmkKJvwu/pubhtml?gid=2142090757&single=true)\n",
    "\n"
   ]
  },
  {
   "cell_type": "markdown",
   "metadata": {},
   "source": [
    "Written by Dirk Colbry, Michigan State University\n",
    "<a rel=\"license\" href=\"http://creativecommons.org/licenses/by-nc/4.0/\"><img alt=\"Creative Commons License\" style=\"border-width:0\" src=\"https://i.creativecommons.org/l/by-nc/4.0/88x31.png\" /></a><br />This work is licensed under a <a rel=\"license\" href=\"http://creativecommons.org/licenses/by-nc/4.0/\">Creative Commons Attribution-NonCommercial 4.0 International License</a>."
   ]
  }
 ],
 "metadata": {
  "kernelspec": {
   "display_name": "Python 3",
   "language": "python",
   "name": "python3"
  },
  "language_info": {
   "codemirror_mode": {
    "name": "ipython",
    "version": 3
   },
   "file_extension": ".py",
   "mimetype": "text/x-python",
   "name": "python",
   "nbconvert_exporter": "python",
   "pygments_lexer": "ipython3",
   "version": "3.8.3"
  }
 },
 "nbformat": 4,
 "nbformat_minor": 2
}
