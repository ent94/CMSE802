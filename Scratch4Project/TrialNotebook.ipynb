{
 "cells": [
  {
   "cell_type": "markdown",
   "metadata": {},
   "source": [
    "# Import python packages (just pandas :) )"
   ]
  },
  {
   "cell_type": "code",
   "execution_count": null,
   "metadata": {},
   "outputs": [],
   "source": [
    "import pandas as pd"
   ]
  },
  {
   "cell_type": "markdown",
   "metadata": {},
   "source": [
    "# Define two useful functions used in both student and assignment classes"
   ]
  },
  {
   "cell_type": "code",
   "execution_count": null,
   "metadata": {},
   "outputs": [],
   "source": [
    "def determine_grade(scores):\n",
    "    if scores >= 93 and scores <= 100:\n",
    "        return 'A'\n",
    "    elif scores >= 90 and scores < 93:\n",
    "        return 'A-'\n",
    "    elif scores >= 87 and scores < 90:\n",
    "        return 'B+'\n",
    "    elif scores >= 83 and scores < 87:\n",
    "        return 'B'\n",
    "    elif scores >= 80 and scores < 83:\n",
    "        return 'B-'\n",
    "    elif scores >= 77 and scores < 80:\n",
    "        return 'C+'\n",
    "    elif scores >= 73 and scores < 77:\n",
    "        return 'C'\n",
    "    elif scores >= 70 and scores < 73:\n",
    "        return 'C-'\n",
    "    elif scores >= 67 and scores < 70:\n",
    "        return 'D+'\n",
    "    elif scores >= 63 and scores < 67:\n",
    "        return 'D'\n",
    "    elif scores >= 60 and scores < 63:\n",
    "        return 'D-'\n",
    "    else:\n",
    "        return 'F'"
   ]
  },
  {
   "cell_type": "code",
   "execution_count": null,
   "metadata": {},
   "outputs": [],
   "source": [
    "def meancalc(lst):\n",
    "    nstu = 0\n",
    "    tot = 0\n",
    "    for i in lst:\n",
    "        if i == 'Needs Grading':\n",
    "            continue\n",
    "        elif i == 'No Submission':\n",
    "            continue\n",
    "        elif i == 0:\n",
    "            continue\n",
    "        else:\n",
    "            nstu+=1\n",
    "            tot+=float(i)\n",
    "    return tot/nstu"
   ]
  },
  {
   "cell_type": "markdown",
   "metadata": {},
   "source": [
    "# Import the data from .csv files"
   ]
  },
  {
   "cell_type": "code",
   "execution_count": null,
   "metadata": {},
   "outputs": [],
   "source": [
    "course = 'CEM153'\n",
    "sectList = ['01H','02','03','04','05']\n",
    "dropColumns = ['Availability','Weighted Total','Total [Total','Safety Contract']\n",
    "\n",
    "dataDict = {}\n",
    "dataNames = []\n",
    "for j in sectList:\n",
    "    exec('data' + j + \"= pd.read_csv('./exampledata/'+course+'_'+j+'_Stripped.csv')\")\n",
    "    exec('data' + j + \"['Section']=j\")\n",
    "    if 'H' in j:\n",
    "        exec('data' + j + \"['Honors']='Y'\")\n",
    "    else:\n",
    "        exec('data' + j + \"['Honors']='N'\")\n",
    "    dataDict['data'+j]=locals()['data'+j]\n",
    "    temp = dataDict['data'+j]\n",
    "    matching = [s for s in temp.columns if any(xs in s for xs in dropColumns)]\n",
    "    temp = temp.drop(columns=matching)\n",
    "    collist = []\n",
    "    for k in temp.columns:\n",
    "        end = k.find(']')\n",
    "        if 'Attendance' in k:\n",
    "            collist.append('Attendance')\n",
    "        elif end != -1:\n",
    "            collist.append(k[0:end+1])\n",
    "        else:\n",
    "            collist.append(k)\n",
    "    temp.columns=collist\n",
    "    temp = temp.set_index(['Username'])\n",
    "    ### ADD THIS IN AS AN OPTION BUT I WANT IT IN FOR NOW ###\n",
    "    deadColumnsBool = temp.isnull().values.all(axis=0)\n",
    "    deadColumns = []\n",
    "    for i in range(len(deadColumnsBool)):\n",
    "        if deadColumnsBool[i] == True:\n",
    "            ind = temp.columns[i]\n",
    "            deadColumns.append(ind)\n",
    "    temp = temp.drop(columns=deadColumns)\n",
    "    temp = temp[:].fillna('No Submission')\n",
    "    dataDict['data'+j]=temp\n",
    "    dataNames.append('data'+j)"
   ]
  },
  {
   "cell_type": "markdown",
   "metadata": {},
   "source": [
    "# Student Class Information and Definition"
   ]
  },
  {
   "cell_type": "markdown",
   "metadata": {},
   "source": [
    "### Raw Ideas"
   ]
  },
  {
   "cell_type": "code",
   "execution_count": null,
   "metadata": {},
   "outputs": [],
   "source": [
    "### STUDENT ###\n",
    "## If you give first/last name it will pull up a list of names to then select from\n",
    "# Student Name (F&L), username, student id, Section Number**********<- need to add this\n",
    "# Attendance: *gives percentage*\n",
    "# Calculated Grade including Missing Assignments as 0's: *gives grade as %, letter*\n",
    "# Calculated Grade excluding Missing Assignments: *gives grades as %, letter*\n",
    "# Section Average: *gives section average grade as %, letter* <- going to have to think about this in terms of data transformation\n",
    "# Course Average: *gives class average grade as %, letter*\n",
    "# Missing Assignments: *gives list like: assignment 1, assignment 2, ...* (each item on separate line)"
   ]
  },
  {
   "cell_type": "markdown",
   "metadata": {},
   "source": [
    "### What's actually there and what I want to do more"
   ]
  },
  {
   "cell_type": "code",
   "execution_count": null,
   "metadata": {},
   "outputs": [],
   "source": [
    "### Included in class student ###\n",
    "# Student Name                  as fname & lname\n",
    "# username                      as uname\n",
    "# student id                    as stuid\n",
    "# section number                as sect\n",
    "# honors status                 as honors\n",
    "# attendance %                  as attendance\n",
    "# allgrades %                   as allgradesp\n",
    "# allgrades letter              as allgradesl\n",
    "# onlygraded %                  as onlygradedp\n",
    "# onlygraded letter             as onlygradedl\n",
    "# list of missing work          as missingwork\n",
    "# list of needs to be graded    as needsgrading\n",
    "\n",
    "### To be included in outside loops ###\n",
    "# List of potentially matching students or list of students & user names\n",
    "# Section Average Grade\n",
    "# Course Average Grade"
   ]
  },
  {
   "cell_type": "markdown",
   "metadata": {},
   "source": [
    "### Define the student class"
   ]
  },
  {
   "cell_type": "code",
   "execution_count": null,
   "metadata": {},
   "outputs": [],
   "source": [
    "class student:\n",
    "    def __init__(self,dataF,username):\n",
    "        self.uname = username\n",
    "        if username in dataF.index.values.tolist():\n",
    "            self.fname = dataF.at[username,'First Name']\n",
    "            self.lname = dataF.at[username,'Last Name']\n",
    "            self.stuid = dataF.at[username,'Student ID']\n",
    "            self.sect = dataF.at[username,'Section']\n",
    "            self.honors = dataF.at[username,'Honors']\n",
    "            self.attendance = dataF.at[username,'Attendance']\n",
    "            self.studata = dataF.loc[[username]]\n",
    "            \n",
    "            dropColumns = []\n",
    "            for j in dataF.columns:\n",
    "                if 'Pts' in j:\n",
    "                    continue\n",
    "                else:\n",
    "                    dropColumns.append(j)\n",
    "            matching = [s for s in dataF.columns if any(xs in s for xs in dropColumns)]\n",
    "            data2 = dataF.drop(columns=dropColumns)\n",
    "            stot = 0\n",
    "            allgrades = 0\n",
    "            onlygraded = 0\n",
    "            mwork = []\n",
    "            ngrade = []\n",
    "            for i in range(len(data2.columns)):\n",
    "                colname = data2.columns[i]\n",
    "                start = colname.find('[')\n",
    "                end = colname.find(']')\n",
    "                allgrades+=float(colname[start+12:end-6])\n",
    "                if data2.at[self.uname,colname] == 'Needs Grading' or data2.at[self.uname,colname] == 'No Submission':\n",
    "                    stot+=0\n",
    "                    onlygraded+=0\n",
    "                    if data2.at[self.uname,colname] == 'Needs Grading':\n",
    "                        colname = colname[0:start]\n",
    "                        ngrade.append(colname)\n",
    "                    elif data2.at[self.uname,colname] == 'No Submission':\n",
    "                        colname = colname[0:start]\n",
    "                        mwork.append(colname)\n",
    "                else:\n",
    "                    onlygraded+=float(colname[start+12:end-6])\n",
    "                    stot+=float(data2.at[self.uname,colname])\n",
    "            self.allgradesp = (stot/allgrades)*100\n",
    "            self.allgradesl = determine_grade(self.allgradesp)\n",
    "            self.onlygradedp = (stot/onlygraded)*100\n",
    "            self.onlygradedl = determine_grade(self.onlygradedp)\n",
    "            if mwork == []:\n",
    "                mwork = ['You have no work that is missing']\n",
    "            if ngrade == []:\n",
    "                ngrade = ['You have no work that needs grading']\n",
    "            self.missingwork = mwork\n",
    "            self.needsgrading = ngrade\n",
    "        else:\n",
    "            self.fname = ['There is no student with that name in the given data list']\n",
    "            self.lname = ['There is no student with that name in the given data list']\n",
    "            self.stuid = ['There is no student with that name in the given data list']\n",
    "            self.sect = ['There is no student with that name in the given data list']\n",
    "            self.honors = ['There is no student with that name in the given data list']\n",
    "            self.attendance = ['There is no student with that name in the given data list']\n",
    "            self.studata = ['There is no student with that name in the given data list']\n",
    "            self.allgradesp = ['There is no student with that name in the given data list']\n",
    "            self.allgradesl = ['There is no student with that name in the given data list']\n",
    "            self.onlygradedp = ['There is no student with that name in the given data list']\n",
    "            self.onlygradedl = ['There is no student with that name in the given data list']\n",
    "            self.missingwork = ['There is no student with that name in the given data list']\n",
    "            self.needsgrading = ['There is no student with that name in the given data list']"
   ]
  },
  {
   "cell_type": "markdown",
   "metadata": {},
   "source": [
    "### Example students to call based on what I am testing"
   ]
  },
  {
   "cell_type": "code",
   "execution_count": null,
   "metadata": {},
   "outputs": [],
   "source": [
    "# jnu      -> Submitted all assignments, All assignments graded\n",
    "# cdooku   -> Missing submissions,       Needs grading\n",
    "# dtyranus -> Submitted all assignments, Needs grading\n",
    "# dbane    -> Missing submissions,       All assignments graded"
   ]
  },
  {
   "cell_type": "markdown",
   "metadata": {},
   "source": [
    "### Test call for all assigned variables in student class"
   ]
  },
  {
   "cell_type": "code",
   "execution_count": null,
   "metadata": {},
   "outputs": [],
   "source": [
    "stu1 = student(dataDict['data03'],'cdooku')\n",
    "print('uname',stu1.uname)\n",
    "print('fname & lname',stu1.fname,stu1.lname)\n",
    "print('stuid',stu1.stuid)\n",
    "print('sect',stu1.sect)\n",
    "print('honors',stu1.honors)\n",
    "print('attendance',stu1.attendance)\n",
    "print('studata',stu1.studata)\n",
    "print('allgradesp',stu1.allgradesp)\n",
    "print('allgradesl',stu1.allgradesl)\n",
    "print('onlygradedp',stu1.onlygradedp)\n",
    "print('onlygradedl',stu1.onlygradedl)\n",
    "print('missing work',stu1.missingwork)\n",
    "print('needs grading',stu1.needsgrading)"
   ]
  },
  {
   "cell_type": "markdown",
   "metadata": {},
   "source": [
    "# Assignment Class Information and Definition"
   ]
  },
  {
   "cell_type": "markdown",
   "metadata": {},
   "source": [
    "### Raw ideas"
   ]
  },
  {
   "cell_type": "code",
   "execution_count": null,
   "metadata": {},
   "outputs": [],
   "source": [
    "### ASSIGNMENT ###\n",
    "## Gives a list of assignments to choose from if necessary \n",
    "# Assignment Name, points possible\n",
    "# Calculated Avg for each section without 0's or missing assignmnets or 'Needs Grading'\n",
    "# Calculated Avg for all sections ''\n",
    "# Breakdown of who hasn't turned this in by section\n",
    "# Breakdown of how many per section need to be graded\n",
    "# Plot of section grades with course average as a line"
   ]
  },
  {
   "cell_type": "markdown",
   "metadata": {},
   "source": [
    "### What's actually there and what I want to do more"
   ]
  },
  {
   "cell_type": "code",
   "execution_count": null,
   "metadata": {},
   "outputs": [],
   "source": [
    "### Included in class assignment ###\n",
    "# Assignment Name as name\n",
    "# Possible points as points\n",
    "# Sections with this assignment as have\n",
    "# Sections without this assignment as nots\n",
    "# Course average grade on this assignment as courseavg\n",
    "# Course letter grade based on the average as courselet\n",
    "# Section average grade on this assignment as sectavg\n",
    "# Section letter grade based on the average as sectlet\n",
    "# Dictionary of usernames of missing assignments labeled by section as sectmissing\n",
    "# Dictionary of counts of missing assignments labeled by section as sectmissingcounts\n",
    "# Dictionary of usernames of assignments that need grading labeled by section as sectgraded\n",
    "# Dictionary of counts of assignments that need grading labeled by section as sectgradedcounts\n",
    "\n",
    "### To be inclued outside this class definition ###\n",
    "# List of potentially matching assignment names\n",
    "# Course missing submission usernames\n",
    "# Course missing submission count\n",
    "# Course needs grading usernames\n",
    "# Course needs grading count\n",
    "# Breakdown of Grades by assignment (section and class averages given) maybe as a plot?"
   ]
  },
  {
   "cell_type": "markdown",
   "metadata": {},
   "source": [
    "### Define the assignment class"
   ]
  },
  {
   "cell_type": "code",
   "execution_count": null,
   "metadata": {},
   "outputs": [],
   "source": [
    "class assignment:\n",
    "    \n",
    "    def __init__(self,dataD,names,assignname):\n",
    "        self.name = assignname\n",
    "        \n",
    "        start = self.name.find('[')\n",
    "        end = self.name.find(']')\n",
    "        self.points = float(self.name[start+12:end-6])\n",
    "        \n",
    "        adata = []\n",
    "        sdata = []\n",
    "        haves = []\n",
    "        nots = []\n",
    "        smisst = {}\n",
    "        amisst = []\n",
    "        sgradet = {}\n",
    "        agradet = []\n",
    "        sgradecounts = {}\n",
    "        smisscounts = {}\n",
    "        agradec = 0\n",
    "        amissc = 0\n",
    "        for n in names:\n",
    "            temp = dataD[n]\n",
    "            if assignname in temp.columns:\n",
    "                sdata.append(temp[assignname].tolist())\n",
    "                adata.extend(temp[assignname].tolist())\n",
    "                haves.append(n)\n",
    "            else:\n",
    "                nots.append(n)\n",
    "            if haves != []:\n",
    "                self.haves = haves\n",
    "                if len(sdata) > 1:\n",
    "                    sdatam = []\n",
    "                    sdatal = []\n",
    "                    for j in range(len(sdata)):\n",
    "                        sdatam.append(meancalc(sdata[j]))\n",
    "                        sdatal.append(determine_grade((sdatam[j]/self.points)*100))\n",
    "                    self.sectavgs = sdatam\n",
    "                    self.sectlets = sdatal\n",
    "                elif len(sdata) == 1:\n",
    "                    self.sectavgs = ['There is only one section with this assignment so sectavgs = courseavg']\n",
    "                    self.sectlets = ['There is only one section with this assignment so sectlets = courselet']\n",
    "                    self.sectgraded = ['There is only one section with this assignment so sectgraded = coursegraded']\n",
    "                    self.sectmissing = ['There is only one section with this assignment so sectmissing = coursemissing']\n",
    "                else:\n",
    "                    self.sectavgs = ['There is only one section with this assignment so sectavgs = courseavg']\n",
    "                    self.sectlets = ['There is only one section with this assignment so sectlets = courselet']\n",
    "                self.courseavg = meancalc(adata)\n",
    "                self.courselet = determine_grade((self.courseavg/self.points)*100)\n",
    "                agrade = []\n",
    "                amiss = []\n",
    "                sgrade = []\n",
    "                smiss = []\n",
    "                sgradec = 0\n",
    "                smissc = 0\n",
    "                for q in range(len(temp[assignname])):\n",
    "                    if temp[assignname][q] == 'Needs Grading':\n",
    "                        sgrade.append(temp.index.values[q])\n",
    "                        sgradec += 1\n",
    "                    elif temp[assignname][q] == 'No Submission':\n",
    "                        smiss.append(temp.index.values[q])\n",
    "                        smissc += 1\n",
    "                    else:\n",
    "                        continue\n",
    "                if smiss != []:\n",
    "                    smisst[n] = smiss\n",
    "                else:\n",
    "                    smisst[n] = ['All assignments have been submitted in this section']\n",
    "                if sgrade != []:\n",
    "                    sgradet[n] = sgrade\n",
    "                else:\n",
    "                    sgradet[n] = ['All assignments have been graded in this section']\n",
    "                smisscounts[n] = smissc\n",
    "                sgradecounts[n] = sgradec\n",
    "                self.sectmissing = smisst\n",
    "                self.sectmissingcounts = smisscounts\n",
    "                self.sectgraded = sgradet\n",
    "                self.sectgradedcounts = sgradecounts\n",
    "            else:\n",
    "                self.haves = ['There are no assignments with this name in any of the sections']\n",
    "                self.sectavgs = ['There are no assignments with this name in any of the sections']\n",
    "                self.sectlets = ['There are no assignments with this name in any of the sections']\n",
    "                self.courseavg = ['There are no assignments with this name in any of the sections']\n",
    "                self.courselet = ['There are no assignments with this name in any of the sections']\n",
    "                self.sectgraded = ['There are no assignments with this name in any of the sections']\n",
    "                self.sectmissing = ['There are no assignments with this name in any of the sections']\n",
    "                self.sectgradedcounts = ['There are no assignments with this name in any of the sections']\n",
    "                self.sectmissingcounts = ['There are no assignments with this name in any of the sections']\n",
    "        if nots == []:\n",
    "            nots.append('All sections have this assignment')\n",
    "        self.coursedata = adata\n",
    "        self.sectdata = sdata\n",
    "        self.nots = nots"
   ]
  },
  {
   "cell_type": "markdown",
   "metadata": {},
   "source": [
    "### Example assignments to call based on what I am testing"
   ]
  },
  {
   "cell_type": "code",
   "execution_count": null,
   "metadata": {},
   "outputs": [],
   "source": [
    "# L2 - Worksheet [Total Pts: 20 Score] -> Missing submissions,       Needs grading\n",
    "# L3 - PreLab [Total Pts: 10 Score]    -> Missing submissions,       All assignments graded\n",
    "# L5 - PostLab [Total Pts: 10 Score]   -> All assignments submitted, Needs grading"
   ]
  },
  {
   "cell_type": "markdown",
   "metadata": {},
   "source": [
    "### Test call for all assigned variables in student class"
   ]
  },
  {
   "cell_type": "code",
   "execution_count": null,
   "metadata": {},
   "outputs": [],
   "source": [
    "lab1 = assignment(dataDict,dataNames,'L2 - Worksheet [Total Pts: 20 Score]') \n",
    "print('name',lab1.name)\n",
    "print('points',lab1.points)\n",
    "print('haves',lab1.haves)\n",
    "print('nots',lab1.nots)\n",
    "print('course avg',lab1.courseavg)\n",
    "print('course let',lab1.courselet)\n",
    "print('sect avgs',lab1.sectavgs)\n",
    "print('sect lets',lab1.sectlets)\n",
    "print('sect missing',lab1.sectmissing)\n",
    "print('sect missing counts',lab1.sectmissingcounts)\n",
    "print('sect graded',lab1.sectgraded)\n",
    "print('sect graded counts',lab1.sectgradedcounts)"
   ]
  },
  {
   "cell_type": "markdown",
   "metadata": {},
   "source": [
    "# Course Class Information"
   ]
  },
  {
   "cell_type": "code",
   "execution_count": null,
   "metadata": {},
   "outputs": [],
   "source": [
    "### COURSE ###\n",
    "# Calculate Attendance Averages\n",
    "# Calculated Section Average\n",
    "# Section Letter from Calculated Average\n",
    "# Calculated Grade for All Sections\n",
    "# Course Letter from Caculated Average\n",
    "\n",
    "### To be inclued outside this class definition ###\n",
    "# Compare sections with anova table\n",
    "# Plots?"
   ]
  },
  {
   "cell_type": "markdown",
   "metadata": {},
   "source": [
    "# I need an outside program to call my classes that can choose to do one student, students by section, or all students and same for assignments and all the combinations of the two. Something with flags/options and argparse"
   ]
  },
  {
   "cell_type": "markdown",
   "metadata": {},
   "source": [
    "# I think I want to make a schedule to mark the dates of the assignments so I can attach due dates to them, but that's wishful thinking"
   ]
  },
  {
   "cell_type": "markdown",
   "metadata": {},
   "source": [
    "# Should the course just be done in the outside code and not be a class because all the information I will need is stored in student and in assignment"
   ]
  }
 ],
 "metadata": {
  "kernelspec": {
   "display_name": "Python 3",
   "language": "python",
   "name": "python3"
  },
  "language_info": {
   "codemirror_mode": {
    "name": "ipython",
    "version": 3
   },
   "file_extension": ".py",
   "mimetype": "text/x-python",
   "name": "python",
   "nbconvert_exporter": "python",
   "pygments_lexer": "ipython3",
   "version": "3.8.5"
  }
 },
 "nbformat": 4,
 "nbformat_minor": 4
}
