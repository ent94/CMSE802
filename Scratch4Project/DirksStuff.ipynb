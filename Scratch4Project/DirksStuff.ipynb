{
 "cells": [
  {
   "cell_type": "code",
   "execution_count": null,
   "metadata": {},
   "outputs": [],
   "source": [
    "import pandas\n",
    "class student():  \n",
    "    \n",
    "    def allgradesp(self,data):\n",
    "        return grades\n",
    "        \n",
    "    def __init__(self,username='colbrydi', dataF = None):\n",
    "        self.uname = username\n",
    "        self.fname = ['There is no student with that name in the given data list']\n",
    "        self.lname = ['There is no student with that name in the given data list']\n",
    "        self.stuid = ['There is no student with that name in the given data list']\n",
    "        self.sect = ['There is no student with that name in the given data list']\n",
    "        self.honors = ['There is no student with that name in the given data list']\n",
    "        self.attendance = ['There is no student with that name in the given data list']\n",
    "        self.studata = ['There is no student with that name in the given data list']\n",
    "        self.allgradesp = ['There is no student with that name in the given data list']\n",
    "        self.allgradesl = ['There is no student with that name in the given data list']\n",
    "        self.onlygradedp = ['There is no student with that name in the given data list']\n",
    "        self.onlygradedl = ['There is no student with that name in the given data list']\n",
    "        self.missingwork = ['There is no student with that name in the given data list']\n",
    "        self.needsgrading = ['There is no student with that name in the given data list']\n",
    "        \n",
    "        if isinstance(dataF, pandas.DataFrame):\n",
    "            return\n",
    "\n",
    "        if username in dataF.index.values.tolist():\n",
    "            self.fname = dataF.at[username,'First Name']\n",
    "            self.lname = dataF.at[username,'Last Name']\n",
    "            self.stuid = dataF.at[username,'Student ID']\n",
    "            self.sect = dataF.at[username,'Section']\n",
    "            self.honors = dataF.at[username,'Honors']\n",
    "            self.attendance = dataF.at[username,'Attendance']\n",
    "\n",
    "    def __str__(self):\n",
    "        outstring = f\"test \\n {self.uname}\"\n",
    "        return outstring\n",
    "\n",
    "\n",
    "class section():\n",
    "    def __init__(self, filename):\n",
    "        #data = pandas.read_csv(filename)\n",
    "        self.data = pandas.DataFrame()\n",
    "        self.assignments = dict() #key assignment name value is total value\n",
    "        #do other stuff.\n",
    "        \n",
    "    def getstudent(self,username):\n",
    "        thistudent = student(username,self.data)\n",
    "        thistudent.totals = self.assignments\n",
    "        if thistudent == None:\n",
    "            print(\"STUDENT NOT FOUND\")\n",
    "        return thistudent\n",
    "\n",
    "    def __str__(self):\n",
    "        return \"big string\"\n",
    "\n",
    "            \n",
    "class course():\n",
    "    \n",
    "    def readfile(self, section, filename):\n",
    "        sections[section] = section(filename)\n",
    "        pass\n",
    "    \n",
    "    def readfolder(self, folder):\n",
    "        pass\n",
    "    \n",
    "    def __init__(self, folder = './'):\n",
    "        self.sections = dict()\n",
    "        pass\n",
    "        #loop over files in folder\n",
    "            #\n",
    "    def student(self,username):\n",
    "        for section in self.sections:\n",
    "            section.getstudent(username)\n",
    "            \n",
    "    def __str__(self):\n",
    "        return \"Formmated string with\""
   ]
  },
  {
   "cell_type": "code",
   "execution_count": null,
   "metadata": {},
   "outputs": [],
   "source": [
    "sec = section('mysection.csv')"
   ]
  },
  {
   "cell_type": "code",
   "execution_count": null,
   "metadata": {},
   "outputs": [],
   "source": [
    "mydata = sec.getstudent('colbrydi')"
   ]
  },
  {
   "cell_type": "code",
   "execution_count": null,
   "metadata": {},
   "outputs": [],
   "source": [
    "print(mydata)"
   ]
  },
  {
   "cell_type": "code",
   "execution_count": null,
   "metadata": {},
   "outputs": [],
   "source": []
  }
 ],
 "metadata": {
  "kernelspec": {
   "display_name": "Python 3",
   "language": "python",
   "name": "python3"
  },
  "language_info": {
   "codemirror_mode": {
    "name": "ipython",
    "version": 3
   },
   "file_extension": ".py",
   "mimetype": "text/x-python",
   "name": "python",
   "nbconvert_exporter": "python",
   "pygments_lexer": "ipython3",
   "version": "3.8.5"
  }
 },
 "nbformat": 4,
 "nbformat_minor": 4
}
