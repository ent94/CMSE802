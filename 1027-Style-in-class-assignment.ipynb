{
 "cells": [
  {
   "cell_type": "markdown",
   "metadata": {},
   "source": [
    "In order to successfully complete this assignment you need to participate both individually and in groups during class on **Monday October 26**.\n",
    "\n"
   ]
  },
  {
   "cell_type": "markdown",
   "metadata": {},
   "source": [
    "# In-class assignment: Agent-Based Modeling and Object Oriented Programming \n",
    "\n",
    "<img src='https://media.giphy.com/media/v0oAfoeYyvbnq/giphy.gif' alt=\"drawing\" width=600 align=\"center\">\n",
    "\n",
    "Image obtained from https://giphy.com/"
   ]
  },
  {
   "cell_type": "markdown",
   "metadata": {},
   "source": [
    "### Agenda for today's class (80 minutes)\n",
    "\n",
    "1. [(20 minutes) Project Code Review](#Project_Code_Review)\n",
    "1. [(20 minutes) Pre-class Review](#Pre-class_Review)\n",
    "1. [(20 minutes) Linting Practice](#Linting_Practice)\n",
    "1. [(20 minutes) Linting the Ant Model](#Linting_the_Ant_Model)"
   ]
  },
  {
   "cell_type": "markdown",
   "metadata": {},
   "source": [
    "----\n",
    "\n",
    "<a name=\"Project_Code_Review\"></a>\n",
    "\n",
    "# 1. Project Code Review\n",
    "\n",
    "Let's practice some git cloning again.  Break up into groups.  Create a directory called ```Testing``` and clone each of your groups git repository into your directory and run your each project's unit testing framework.  \n",
    "\n",
    "Discuss your project documentation, organization, unit testing and any troubles you have sharing your repositories.  Review the tests and make suggestions.  Make sure you help each other out. \n",
    "\n",
    "Be prepared to discuss what you learned with the entire class."
   ]
  },
  {
   "cell_type": "markdown",
   "metadata": {},
   "source": [
    "---\n",
    "<a name=\"Pre-class_Review\"></a>\n",
    "\n",
    "# 2. Pre-class Review\n",
    "\n",
    "[1025--Style-pre-class-assignment](1025--Style-pre-class-assignment.ipynb)"
   ]
  },
  {
   "cell_type": "markdown",
   "metadata": {},
   "source": [
    "---\n",
    "\n",
    "<a name=\"Linting_Practice\"></a>\n",
    "\n",
    "# 3. Linting Practice\n",
    "\n",
    "Lets review the noaa_scraper code again..."
   ]
  },
  {
   "cell_type": "markdown",
   "metadata": {},
   "source": [
    "&#9989; **<font color=red>DO THIS:</font>** Let's look more closely at the code.  Run the folloing ```pylint``` command and figure out what the output is telling you (Hint: use the Internet)"
   ]
  },
  {
   "cell_type": "code",
   "execution_count": null,
   "metadata": {
    "scrolled": false
   },
   "outputs": [],
   "source": [
    "!pylint noaa_scraper"
   ]
  },
  {
   "cell_type": "markdown",
   "metadata": {},
   "source": [
    "&#9989; **<font color=red>DO THIS:</font>** Install and run ```autopep8``` library. There are two options depending on your setup:"
   ]
  },
  {
   "cell_type": "markdown",
   "metadata": {},
   "source": [
    "**_Option 1:_** Install ```autopep8```globally, locally or in an environment:"
   ]
  },
  {
   "cell_type": "code",
   "execution_count": null,
   "metadata": {},
   "outputs": [],
   "source": [
    "pip install autopep8"
   ]
  },
  {
   "cell_type": "code",
   "execution_count": null,
   "metadata": {},
   "outputs": [],
   "source": [
    "!autopep8 noaa_scraper-Copy1.py > noaa_scraper2.py"
   ]
  },
  {
   "cell_type": "markdown",
   "metadata": {},
   "source": [
    "**_Option 2:_** Install ```autopep8``` in a local packages folder (ex: on jupyterhub):"
   ]
  },
  {
   "cell_type": "code",
   "execution_count": null,
   "metadata": {},
   "outputs": [],
   "source": [
    "# !mkdir -p packages\n",
    "# !pip install -t packages autopep8"
   ]
  },
  {
   "cell_type": "code",
   "execution_count": null,
   "metadata": {
    "scrolled": true
   },
   "outputs": [],
   "source": [
    "#Use this if autopep8 was installed locally\n",
    "# !python ./packages/autopep8.py noaa_scraper.py  > noaa_scraper2.py"
   ]
  },
  {
   "cell_type": "markdown",
   "metadata": {},
   "source": [
    "Now run pylint again and compare the"
   ]
  },
  {
   "cell_type": "code",
   "execution_count": null,
   "metadata": {},
   "outputs": [],
   "source": [
    "!pylint noaa_scraper2.py"
   ]
  },
  {
   "cell_type": "markdown",
   "metadata": {},
   "source": [
    "&#9989; **<font color=red>DO THIS:</font>** In your group discuss the ```pylint``` and ```autopep8``` commands.  We will be using these commands in an upcoming Project assignment. What do they do? Is this useful or does it just add more work?  Be prepared to discuss your answers with the rest of class. "
   ]
  },
  {
   "cell_type": "markdown",
   "metadata": {},
   "source": [
    "Put your discussion notes here. "
   ]
  },
  {
   "cell_type": "markdown",
   "metadata": {},
   "source": [
    "---\n",
    "<a name = \"Linting_the_Ant_Model\"></a>\n",
    "# 4. Linting the Ant Model\n",
    "\n",
    "&#9989; **<font color=red>DO THIS:</font>**  Download the following ant model that you developed in class. \n",
    "\n",
    "&#9989; **<font color=red>DO THIS:</font>**  Review the code and make sure it is well documented and linted. "
   ]
  },
  {
   "cell_type": "markdown",
   "metadata": {},
   "source": [
    "-----\n",
    "### Congratulations, we're done!"
   ]
  },
  {
   "cell_type": "markdown",
   "metadata": {},
   "source": [
    "### Course Resources:\n",
    "\n",
    "\n",
    "- [Website](https://msu-cmse-courses.github.io/cmse802-f20-student/)\n",
    "- [ZOOM](https://msu.zoom.us/j/97272546850)\n",
    "- [Syllabus](https://docs.google.com/document/d/e/2PACX-1vT9Wn11y0ECI_NAUl_2NA8V5jcD8dXKJkqUSWXjlawgqr2gU5hII3IsE0S8-CPd3W4xsWIlPAg2YW7D/pub)\n",
    "- [Schedule](https://docs.google.com/spreadsheets/d/e/2PACX-1vQRAm1mqJPQs1YSLPT9_41ABtywSV2f3EWPon9szguL6wvWqWsqaIzqkuHkSk7sea8ZIcIgZmkKJvwu/pubhtml?gid=2142090757&single=true)\n",
    "\n"
   ]
  },
  {
   "cell_type": "markdown",
   "metadata": {},
   "source": [
    "Written by Dirk Colbry, Michigan State University\n",
    "<a rel=\"license\" href=\"http://creativecommons.org/licenses/by-nc/4.0/\"><img alt=\"Creative Commons License\" style=\"border-width:0\" src=\"https://i.creativecommons.org/l/by-nc/4.0/88x31.png\" /></a><br />This work is licensed under a <a rel=\"license\" href=\"http://creativecommons.org/licenses/by-nc/4.0/\">Creative Commons Attribution-NonCommercial 4.0 International License</a>."
   ]
  },
  {
   "cell_type": "markdown",
   "metadata": {},
   "source": [
    "----"
   ]
  }
 ],
 "metadata": {
  "kernelspec": {
   "display_name": "Python 3",
   "language": "python",
   "name": "python3"
  },
  "language_info": {
   "codemirror_mode": {
    "name": "ipython",
    "version": 3
   },
   "file_extension": ".py",
   "mimetype": "text/x-python",
   "name": "python",
   "nbconvert_exporter": "python",
   "pygments_lexer": "ipython3",
   "version": "3.8.3"
  }
 },
 "nbformat": 4,
 "nbformat_minor": 2
}
