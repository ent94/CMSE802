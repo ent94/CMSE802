{
 "cells": [
  {
   "cell_type": "markdown",
   "metadata": {},
   "source": [
    "In order to successfully complete this assignment you must do the required reading, watch the provided videos and complete all instructions.  The embedded survey form must be entirely filled out and submitted on or before **11:59pm on Wednesday November 18**.  Students must come to class the next day prepared to discuss the material covered in this assignment. "
   ]
  },
  {
   "cell_type": "markdown",
   "metadata": {},
   "source": [
    "# Pre-Class Assignment: Python Input Arguments\n",
    "\n",
    "This should be a quick one. We just want to learn about the input arguments option which we will cover more in class. "
   ]
  },
  {
   "cell_type": "markdown",
   "metadata": {},
   "source": [
    "### Goals for today's pre-class assignment \n",
    "\n",
    "1. [Python Input Arguments](#Python_Input_Arguments)\n",
    "2. [ArgParse Library](#Default_Arguments)\n",
    "3. [Input standards](#Input_standards)\n",
    "4. [Practice](#Practice)\n",
    "4. [Assignment wrap-up](#Assignment_wrap-up)\n"
   ]
  },
  {
   "cell_type": "markdown",
   "metadata": {},
   "source": [
    "---\n",
    "<a name=\"Python_Input_Arguments\"></a>\n",
    "\n",
    "# 1. Python Input Arguments\n",
    "\n",
    "All programs can have \"input arguments\". These arguments allow users to type in extra string information at the command line. In python they are typically of the following form:\n",
    "\n",
    "    python myscript.py inputarg1 inputarg2 inputarg3 etc...\n",
    "    \n",
    "In python we can access the input arguments though the ```argv``` variable that is a member of the ```sys``` library.\n",
    "\n",
    "Watch the following video to get a basic ideal on how to use ```argv```:"
   ]
  },
  {
   "cell_type": "code",
   "execution_count": null,
   "metadata": {},
   "outputs": [],
   "source": [
    "from IPython.display import YouTubeVideo\n",
    "YouTubeVideo(\"jhki0o54_xY\",width=640,height=360, cc_load_policy=True)"
   ]
  },
  {
   "cell_type": "markdown",
   "metadata": {},
   "source": [
    "&#9989; **<font color=red>DO THIS:</font>** Follow along in the video and write your own ```tutorial.py``` and get it working."
   ]
  },
  {
   "cell_type": "markdown",
   "metadata": {},
   "source": [
    "&#9989; **<font color=red>QUESTION:</font>** Think about where you may want to use input arguments in your program?  Think about the pros and cons of input arguments and discuss how you may want to use this in class."
   ]
  },
  {
   "cell_type": "markdown",
   "metadata": {},
   "source": [
    "I've used argv before to set inputs to code in the commandline. It made it easy for the set up of the code to be run batch style on the HPC. You just ran some code that told it what inputs you wanted then it put those in as the arguments to the code to then be sent to the hpc."
   ]
  },
  {
   "cell_type": "markdown",
   "metadata": {},
   "source": [
    "----\n",
    "<a name=\"Default_Arguments\"></a>\n",
    "# 2. ArgParse Library\n",
    "\n",
    "&#9989; **<font color=red>DO THIS:</font>**  Review the following tutorial and be prepared to discuss it in class:\n",
    "\n",
    "https://docs.python.org/3/library/argparse.html\n"
   ]
  },
  {
   "cell_type": "markdown",
   "metadata": {},
   "source": [
    "&#9989; **<font color=red>QUESTION:</font>** What does the ```argparse``` library do?"
   ]
  },
  {
   "cell_type": "markdown",
   "metadata": {},
   "source": [
    "I used to use arg parse all the time because it made it easy to plug in what molecules I wanted to run calculations on because sometimes it was useful to batch but other times it was necessary to restart one molucule multiple times for fine tuning so that was helpful for felxibilty.  \n",
    "It allows you basically to add flags and a help menu so the user can see what the inputs are and which are required and then if you assign them flags you can call the input by whichever flag you assigned it to so that is helpful."
   ]
  },
  {
   "cell_type": "markdown",
   "metadata": {},
   "source": [
    "----\n",
    "<a name=\"Input_standards\"></a>\n",
    "\n",
    "# 3. Input Standards\n",
    "\n",
    "Input arguments are very flexible.  However, with flexibility comes problems. There are a few common standards that are often used when organizing your input arguments. Please review the following standards description about POSIX:\n",
    "\n",
    "https://pubs.opengroup.org/onlinepubs/9699919799/basedefs/V1_chap12.html\n",
    "\n",
    "&#9989; **<font color=red>QUESTION:</font>** List three things in the POSIX standard that may make working with input arguments easier. "
   ]
  },
  {
   "cell_type": "markdown",
   "metadata": {},
   "source": [
    "1. I now know flags are now options.  \n",
    "2. You should do it in alphabetical order so now I always know what order to put flags in.  \n",
    "3. You can use ellipses to have more than one value for the same \"flag\" (option)."
   ]
  },
  {
   "cell_type": "markdown",
   "metadata": {},
   "source": [
    "----\n",
    "<a name=\"Practice\"></a>\n",
    "# 4. Practice \n",
    "\n",
    "Consider the following python code we originally used to help test in the [0000--Jupyter-Getting-Started-Guild](0000--Jupyter-Getting-Started-Guild.ipynb):"
   ]
  },
  {
   "cell_type": "code",
   "execution_count": null,
   "metadata": {},
   "outputs": [],
   "source": [
    "#Search string\n",
    "search_string = \"conda env\"\n",
    "\n",
    "#Search current directory\n",
    "directory ='.'\n",
    "\n",
    "import os  \n",
    "import os.path\n",
    "from IPython.core.display import display, HTML\n",
    "\n",
    "search_string = search_string.lower()\n",
    "links=[]\n",
    "\n",
    "files = os.listdir(directory)\n",
    "files.sort()\n",
    "for fn in files:\n",
    "    if 'ipynb' in fn:\n",
    "        filename = f\"{directory}/{fn}\"\n",
    "        if os.path.isfile(filename):\n",
    "            found = False\n",
    "            with open(filename,'r') as fp:\n",
    "                for line in fp:\n",
    "                    line = line.lower()\n",
    "                    if search_string in line:\n",
    "                        links.append(\"<a href=\"+fn+\" target=\\\"_blank\\\" >\"+fn+\"</a></br>\")\n",
    "                        break\n",
    "if links:\n",
    "    display(HTML(' '.join(links)))\n",
    "else:\n",
    "    print('string ('+search_string+') not found.')\n",
    "            "
   ]
  },
  {
   "cell_type": "markdown",
   "metadata": {},
   "source": [
    "&#9989; **<font color=red>DO THIS:</font>** Using the above code, make a python script called ```searchnb.py``` that takes searches for the ```search_string``` inside of the ```directory``` inside all ipython notebooks.  Write your code in the CMSE802 directory and test it using the following command line examples. (note for this to work on the command line you may want to change ```display HTML``` to regular print statement."
   ]
  },
  {
   "cell_type": "code",
   "execution_count": null,
   "metadata": {},
   "outputs": [],
   "source": [
    "!python searchnb.py -s \"conda env\""
   ]
  },
  {
   "cell_type": "code",
   "execution_count": null,
   "metadata": {},
   "outputs": [],
   "source": [
    "!python searchnb.py -s \"beautiful\" --directory \"~/\""
   ]
  },
  {
   "cell_type": "markdown",
   "metadata": {},
   "source": [
    "&#9989; **<font color=red>DO THIS:</font>** Assuming you get the basic code working see if you can add a ```-r --recursive``` option which will search though file paths as well. "
   ]
  },
  {
   "cell_type": "code",
   "execution_count": null,
   "metadata": {},
   "outputs": [],
   "source": [
    "!python searchnb.py -r -s \"antibiotics\""
   ]
  },
  {
   "cell_type": "markdown",
   "metadata": {},
   "source": [
    "----\n",
    "<a name=\"Assignment_wrap-up\"></a>\n",
    "# 5. Assignment wrap-up\n",
    "\n",
    "Please fill out the form that appears when you run the code below.  **You must completely fill this out in order to receive credit for the assignment!**\n",
    "\n",
    "[Direct Link to Google Form](https://cmse.msu.edu/cmse802-pc-survey)\n",
    "\n",
    "\n",
    "If you have trouble with the embedded form, please make sure you log on with your MSU google account at [googleapps.msu.edu](https://googleapps.msu.edu) and then click on the direct link above."
   ]
  },
  {
   "cell_type": "markdown",
   "metadata": {},
   "source": [
    "&#9989; **<font color=red>Assignment-Specific QUESTION:</font>** Where you able to follow along in the video?  If not, where did you get stuck?"
   ]
  },
  {
   "cell_type": "markdown",
   "metadata": {},
   "source": [
    "Put your answer to the above question here"
   ]
  },
  {
   "cell_type": "markdown",
   "metadata": {},
   "source": [
    "&#9989; **<font color=red>QUESTION:</font>**  Summarize what you did in this assignment."
   ]
  },
  {
   "cell_type": "markdown",
   "metadata": {},
   "source": [
    "Put your answer to the above question here"
   ]
  },
  {
   "cell_type": "markdown",
   "metadata": {},
   "source": [
    "&#9989; **<font color=red>QUESTION:</font>**  What questions do you have, if any, about any of the topics discussed in this assignment after working through the jupyter notebook?"
   ]
  },
  {
   "cell_type": "markdown",
   "metadata": {},
   "source": [
    "Put your answer to the above question here"
   ]
  },
  {
   "cell_type": "markdown",
   "metadata": {},
   "source": [
    "&#9989; **<font color=red>QUESTION:</font>**  How well do you feel this assignment helped you to achieve a better understanding of the above mentioned topic(s)?"
   ]
  },
  {
   "cell_type": "markdown",
   "metadata": {},
   "source": [
    "Put your answer to the above question here"
   ]
  },
  {
   "cell_type": "markdown",
   "metadata": {},
   "source": [
    "&#9989; **<font color=red>QUESTION:</font>** What was the **most** challenging part of this assignment for you? "
   ]
  },
  {
   "cell_type": "markdown",
   "metadata": {},
   "source": [
    "Put your answer to the above question here"
   ]
  },
  {
   "cell_type": "markdown",
   "metadata": {},
   "source": [
    "&#9989; **<font color=red>QUESTION:</font>** What was the **least** challenging part of this assignment for you? "
   ]
  },
  {
   "cell_type": "markdown",
   "metadata": {},
   "source": [
    "Put your answer to the above question here"
   ]
  },
  {
   "cell_type": "markdown",
   "metadata": {},
   "source": [
    "&#9989; **<font color=red>QUESTION:</font>**  What kind of additional questions or support, if any, do you feel you need to have a better understanding of the content in this assignment?"
   ]
  },
  {
   "cell_type": "markdown",
   "metadata": {},
   "source": [
    "Put your answer to the above question here"
   ]
  },
  {
   "cell_type": "markdown",
   "metadata": {},
   "source": [
    "&#9989; **<font color=red>QUESTION:</font>**  Do you have any further questions or comments about this material, or anything else that's going on in class?"
   ]
  },
  {
   "cell_type": "markdown",
   "metadata": {},
   "source": [
    "Put your answer to the above question here"
   ]
  },
  {
   "cell_type": "markdown",
   "metadata": {},
   "source": [
    "&#9989; **<font color=red>QUESTION:</font>** Approximately how long did this pre-class assignment take?"
   ]
  },
  {
   "cell_type": "markdown",
   "metadata": {},
   "source": [
    "Put your answer to the above question here"
   ]
  },
  {
   "cell_type": "code",
   "execution_count": null,
   "metadata": {},
   "outputs": [],
   "source": [
    "from IPython.display import HTML\n",
    "HTML(\n",
    "\"\"\"\n",
    "<iframe \n",
    "\tsrc=\"https://cmse.msu.edu/cmse802-pc-survey?embedded=true\" \n",
    "\twidth=\"100%\" \n",
    "\theight=\"1200px\" \n",
    "\tframeborder=\"0\" \n",
    "\tmarginheight=\"0\" \n",
    "\tmarginwidth=\"0\">\n",
    "\tLoading...\n",
    "</iframe>\n",
    "\"\"\"\n",
    ")"
   ]
  },
  {
   "cell_type": "markdown",
   "metadata": {},
   "source": [
    "---------\n",
    "### Congratulations, we're done!\n",
    "\n",
    "To get credit for this assignment you must fill out and submit the above survey form on or before the assignment due date."
   ]
  },
  {
   "cell_type": "markdown",
   "metadata": {},
   "source": [
    "### Course Resources:\n",
    "\n",
    "##LINKS###"
   ]
  },
  {
   "cell_type": "markdown",
   "metadata": {},
   "source": [
    "Written by Dirk Colbry, Michigan State University\n",
    "<a rel=\"license\" href=\"http://creativecommons.org/licenses/by-nc/4.0/\"><img alt=\"Creative Commons License\" style=\"border-width:0\" src=\"https://i.creativecommons.org/l/by-nc/4.0/88x31.png\" /></a><br />This work is licensed under a <a rel=\"license\" href=\"http://creativecommons.org/licenses/by-nc/4.0/\">Creative Commons Attribution-NonCommercial 4.0 International License</a>."
   ]
  },
  {
   "cell_type": "markdown",
   "metadata": {},
   "source": [
    "----"
   ]
  }
 ],
 "metadata": {
  "anaconda-cloud": {},
  "kernelspec": {
   "display_name": "Python 3",
   "language": "python",
   "name": "python3"
  },
  "language_info": {
   "codemirror_mode": {
    "name": "ipython",
    "version": 3
   },
   "file_extension": ".py",
   "mimetype": "text/x-python",
   "name": "python",
   "nbconvert_exporter": "python",
   "pygments_lexer": "ipython3",
   "version": "3.8.3"
  }
 },
 "nbformat": 4,
 "nbformat_minor": 2
}
