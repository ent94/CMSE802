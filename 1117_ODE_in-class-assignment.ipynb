{
 "cells": [
  {
   "cell_type": "markdown",
   "metadata": {},
   "source": [
    "In order to successfully complete this assignment you need to participate both individually and in groups during class on **Tuesday November 17**.\n",
    "\n"
   ]
  },
  {
   "cell_type": "markdown",
   "metadata": {},
   "source": [
    "# I completed the first example and have some ideas about the second. I don't really know if I care to figure out the animation in a jupyter notebook because I am not sure that this is going to be useful knowledge to me when we have other code that replots graphs to animate which is more something I would use."
   ]
  },
  {
   "cell_type": "markdown",
   "metadata": {},
   "source": [
    "# In-Class Assignment: Ordinary Differential Equations (ODEs)\n",
    "\n",
    "<img src=\"https://img.zeit.de/news/2020-01/16/chinesisches-coronavirus-auch-in-japan-nachgewiesen-image.jpeg/wide__1300x731\" alt=\"microscopic image of the cronovirus\" width=50%>\n",
    "\n",
    "Image from: [Teller Report](https://www.tellerreport.com/news/2020-01-16---tested-positive--chinese-corona-virus-also-detected-in-japan-.rJGhWTrTe8.html)\n",
    "\n",
    "\n"
   ]
  },
  {
   "cell_type": "markdown",
   "metadata": {},
   "source": [
    "### Agenda for today's class (80 minutes)\n",
    "\n",
    "1. [(20 minutes) Pre-class questions](#Pre-class_Questions)\n",
    "2. [(20 minutes) SRI Examples](#SRI_Examples)\n",
    "4. [(20 minutes) Forest Fires Examples](#Forest_Fires_Examples)"
   ]
  },
  {
   "cell_type": "markdown",
   "metadata": {},
   "source": [
    "---\n",
    "<a name=\"Pre-class_Questions\"></a>\n",
    "\n",
    "# 1. Pre-class Questions\n",
    "\n",
    "[1116--ODE-pre-class-assignment](1116--ODE-pre-class-assignment.ipynb)\n"
   ]
  },
  {
   "cell_type": "markdown",
   "metadata": {},
   "source": [
    "----\n",
    "<a name=\"SRI_Examples\"></a>\n",
    "# 2. Modeling how thing change (More ODE Examples)\n",
    "\n",
    "In this activity I want you to copy some ODE examples from the Internet.  \n",
    "\n",
    "## SRI model for infection propagation:\n",
    "\n",
    "* [SIR Model from Learning Scientific Programming with Python](https://scipython.com/book/chapter-8-scipy/additional-examples/the-sir-epidemic-model/)"
   ]
  },
  {
   "cell_type": "code",
   "execution_count": null,
   "metadata": {},
   "outputs": [],
   "source": [
    "import numpy as np\n",
    "from scipy.integrate import odeint\n",
    "import matplotlib.pyplot as plt\n",
    "\n",
    "# Total population, N.\n",
    "N = 1000\n",
    "# Initial number of infected and recovered individuals, I0 and R0.\n",
    "I0, R0 = 1, 0\n",
    "# Everyone else, S0, is susceptible to infection initially.\n",
    "S0 = N - I0 - R0\n",
    "# Contact rate, beta, and mean recovery rate, gamma, (in 1/days).\n",
    "beta, gamma = 0.2, 1./10 \n",
    "# A grid of time points (in days)\n",
    "t = np.linspace(0, 160, 160)\n",
    "\n",
    "# The SIR model differential equations.\n",
    "def deriv(y, t, N, beta, gamma):\n",
    "    S, I, R = y\n",
    "    dSdt = -beta * S * I / N\n",
    "    dIdt = beta * S * I / N - gamma * I\n",
    "    dRdt = gamma * I\n",
    "    return dSdt, dIdt, dRdt\n",
    "\n",
    "# Initial conditions vector\n",
    "y0 = S0, I0, R0\n",
    "# Integrate the SIR equations over the time grid, t.\n",
    "ret = odeint(deriv, y0, t, args=(N, beta, gamma))\n",
    "S, I, R = ret.T\n",
    "\n",
    "# Plot the data on three separate curves for S(t), I(t) and R(t)\n",
    "fig = plt.figure(facecolor='w')\n",
    "ax = fig.add_subplot(111, facecolor='#dddddd', axisbelow=True)\n",
    "ax.plot(t, S/1000, 'b', alpha=0.5, lw=2, label='Susceptible')\n",
    "ax.plot(t, I/1000, 'r', alpha=0.5, lw=2, label='Infected')\n",
    "ax.plot(t, R/1000, 'g', alpha=0.5, lw=2, label='Recovered with immunity')\n",
    "ax.set_xlabel('Time /days')\n",
    "ax.set_ylabel('Number (1000s)')\n",
    "ax.set_ylim(0,1.2)\n",
    "ax.yaxis.set_tick_params(length=0)\n",
    "ax.xaxis.set_tick_params(length=0)\n",
    "ax.grid(b=True, which='major', c='w', lw=2, ls='-')\n",
    "legend = ax.legend()\n",
    "legend.get_frame().set_alpha(0.5)\n",
    "for spine in ('top', 'right', 'bottom', 'left'):\n",
    "    ax.spines[spine].set_visible(False)\n",
    "plt.show()"
   ]
  },
  {
   "cell_type": "markdown",
   "metadata": {},
   "source": [
    "&#9989; **<font color=red>QUESTIONS:</font>**  Did you have any problems or errors getting the code to work? How did you overcome these problems?"
   ]
  },
  {
   "cell_type": "markdown",
   "metadata": {},
   "source": [
    "No errors."
   ]
  },
  {
   "cell_type": "markdown",
   "metadata": {},
   "source": [
    "&#9989; **<font color=red>DO THIS:</font>**  Talk though this code with your neighbor.  Does the model make sense to you? What happens when you change the Contact rate and mean recovery rate?"
   ]
  },
  {
   "cell_type": "markdown",
   "metadata": {},
   "source": [
    "I've done model like this in math classes before so I was pretty familiar with what's going on."
   ]
  },
  {
   "cell_type": "markdown",
   "metadata": {},
   "source": [
    "---\n",
    "<a name=\"Forest_Fires_Examples\"></a>\n",
    "\n",
    "# 3. Forest Fires Examples\n",
    "\n",
    "* [Forest Fire model from Learning Scientific Programming with Python](https://scipython.com/blog/the-forest-fire-model)\n",
    "\n",
    "**HINT:** Google how to get ```matplotlib.animations``` working in jupyter notebooks. Also, this simulation takes a long time to get started. "
   ]
  },
  {
   "cell_type": "code",
   "execution_count": null,
   "metadata": {},
   "outputs": [],
   "source": [
    "%matplotlib inline\n",
    "import numpy as np\n",
    "import matplotlib.pyplot as plt\n",
    "from matplotlib import animation\n",
    "from matplotlib import colors\n",
    "from IPython.display import HTML\n",
    "\n",
    "# Displacements from a cell to its eight nearest neighbours\n",
    "neighbourhood = ((-1,-1), (-1,0), (-1,1), (0,-1), (0, 1), (1,-1), (1,0), (1,1))\n",
    "EMPTY, TREE, FIRE = 0, 1, 2\n",
    "# Colours for visualization: brown for EMPTY, dark green for TREE and orange\n",
    "# for FIRE. Note that for the colormap to work, this list and the bounds list\n",
    "# must be one larger than the number of different values in the array.\n",
    "colors_list = [(0.2,0,0), (0,0.5,0), (1,0,0), 'orange']\n",
    "cmap = colors.ListedColormap(colors_list)\n",
    "bounds = [0,1,2,3]\n",
    "norm = colors.BoundaryNorm(bounds, cmap.N)\n",
    "\n",
    "def iterate(X):\n",
    "    \"\"\"Iterate the forest according to the forest-fire rules.\"\"\"\n",
    "\n",
    "    # The boundary of the forest is always empty, so only consider cells\n",
    "    # indexed from 1 to nx-2, 1 to ny-2\n",
    "    X1 = np.zeros((ny, nx))\n",
    "    for ix in range(1,nx-1):\n",
    "        for iy in range(1,ny-1):\n",
    "            if X[iy,ix] == EMPTY and np.random.random() <= p:\n",
    "                X1[iy,ix] = TREE\n",
    "            if X[iy,ix] == TREE:\n",
    "                X1[iy,ix] = TREE\n",
    "                for dx,dy in neighbourhood:\n",
    "                    if X[iy+dy,ix+dx] == FIRE:\n",
    "                        X1[iy,ix] = FIRE\n",
    "                        break\n",
    "                else:\n",
    "                    if np.random.random() <= f:\n",
    "                        X1[iy,ix] = FIRE\n",
    "    return X1\n",
    "\n",
    "# The initial fraction of the forest occupied by trees.\n",
    "forest_fraction = 0.2\n",
    "# Probability of new tree growth per empty cell, and of lightning strike.\n",
    "p, f = 0.05, 0.001\n",
    "# Forest size (number of cells in x and y directions).\n",
    "nx, ny = 100, 100\n",
    "# Initialize the forest grid.\n",
    "X  = np.zeros((ny, nx))\n",
    "X[1:ny-1, 1:nx-1] = np.random.randint(0, 2, size=(ny-2, nx-2))\n",
    "X[1:ny-1, 1:nx-1] = np.random.random(size=(ny-2, nx-2)) < forest_fraction\n",
    "\n",
    "fig = plt.figure(figsize=(25/3, 6.25))\n",
    "ax = fig.add_subplot(111)\n",
    "ax.set_axis_off()\n",
    "im = ax.imshow(X, cmap=cmap, norm=norm)#, interpolation='nearest')\n",
    "\n",
    "# The animation function: called to produce a frame for each generation.\n",
    "def animate(i):\n",
    "    im.set_data(animate.X)\n",
    "    animate.X = iterate(animate.X)\n",
    "# Bind our grid to the identifier X in the animate function's namespace.\n",
    "animate.X = X\n",
    "\n",
    "# Interval between frames (ms).\n",
    "interval = 100\n",
    "anim = animation.FuncAnimation(fig, animate, interval=interval)\n",
    "HTML(anim.to_html5_video())"
   ]
  },
  {
   "cell_type": "markdown",
   "metadata": {},
   "source": [
    "&#9989; **<font color=red>QUESTIONS:</font>**  Did you have any problems or errors getting the code to work? How did you overcome these problems?"
   ]
  },
  {
   "cell_type": "markdown",
   "metadata": {},
   "source": [
    "No problems."
   ]
  },
  {
   "cell_type": "markdown",
   "metadata": {},
   "source": [
    "&#9989; **<font color=red>DO THIS:</font>**  Talk though this code with your neighbor.  Does the model make sense to you? What happens when you change the probabilities?"
   ]
  },
  {
   "cell_type": "markdown",
   "metadata": {},
   "source": [
    "Put your notes from your discussion here."
   ]
  },
  {
   "cell_type": "markdown",
   "metadata": {},
   "source": [
    "-----\n",
    "### Congratulations, we're done!"
   ]
  },
  {
   "cell_type": "markdown",
   "metadata": {},
   "source": [
    "### Course Resources:\n",
    "\n",
    "\n",
    "- [Website](https://msu-cmse-courses.github.io/cmse802-f20-student/)\n",
    "- [ZOOM](https://msu.zoom.us/j/97272546850)\n",
    "- [Syllabus](https://docs.google.com/document/d/e/2PACX-1vT9Wn11y0ECI_NAUl_2NA8V5jcD8dXKJkqUSWXjlawgqr2gU5hII3IsE0S8-CPd3W4xsWIlPAg2YW7D/pub)\n",
    "- [Schedule](https://docs.google.com/spreadsheets/d/e/2PACX-1vQRAm1mqJPQs1YSLPT9_41ABtywSV2f3EWPon9szguL6wvWqWsqaIzqkuHkSk7sea8ZIcIgZmkKJvwu/pubhtml?gid=2142090757&single=true)\n",
    "\n"
   ]
  },
  {
   "cell_type": "markdown",
   "metadata": {},
   "source": [
    "Written by Dirk Colbry, Michigan State University\n",
    "<a rel=\"license\" href=\"http://creativecommons.org/licenses/by-nc/4.0/\"><img alt=\"Creative Commons License\" style=\"border-width:0\" src=\"https://i.creativecommons.org/l/by-nc/4.0/88x31.png\" /></a><br />This work is licensed under a <a rel=\"license\" href=\"http://creativecommons.org/licenses/by-nc/4.0/\">Creative Commons Attribution-NonCommercial 4.0 International License</a>."
   ]
  },
  {
   "cell_type": "markdown",
   "metadata": {},
   "source": [
    "----"
   ]
  }
 ],
 "metadata": {
  "kernelspec": {
   "display_name": "Python 3",
   "language": "python",
   "name": "python3"
  },
  "language_info": {
   "codemirror_mode": {
    "name": "ipython",
    "version": 3
   },
   "file_extension": ".py",
   "mimetype": "text/x-python",
   "name": "python",
   "nbconvert_exporter": "python",
   "pygments_lexer": "ipython3",
   "version": "3.8.3"
  }
 },
 "nbformat": 4,
 "nbformat_minor": 2
}
