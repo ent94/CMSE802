{
 "cells": [
  {
   "cell_type": "markdown",
   "metadata": {},
   "source": [
    "[Link to this document's Jupyter Notebook](https://gitlab.msu.edu/cmse802-f20/cmse802-f20/-/raw/master/1208-Course_Review_in-class-assignment.ipynb)"
   ]
  },
  {
   "cell_type": "markdown",
   "metadata": {},
   "source": [
    "In order to successfully complete this assignment you need to participate both individually and in groups during class.   If you attend class in-person then have one of the instructors check your notebook and sign you out before leaving class on **Wednesday December 8**. If you are attending asyncronously, turn in your assignment using D2L no later than **_11:59pm on Wednesday December 8**. See links at the end of this document for access to the class timeline for your section."
   ]
  },
  {
   "cell_type": "markdown",
   "metadata": {},
   "source": [
    "---\n",
    "\n"
   ]
  },
  {
   "cell_type": "markdown",
   "metadata": {},
   "source": [
    "# In-Class Assignment: Course Review and Planning\n",
    "\n",
    "<img src=\"https://lh5.googleusercontent.com/Lzz5YzGD1TwL1-39lEeyN54hhV5RLM1fvJb_U2_FCXo1WOriJPLZ3VVzyuo3YICWLR5qyOCKBDAF2IzthnwG92RhEP6wu3nR0ICQCc8dsHWqPXoN_ge4vGf_iT0P=w740\">"
   ]
  },
  {
   "cell_type": "markdown",
   "metadata": {},
   "source": [
    "### Agenda for today's class (80 minutes)\n",
    "\n",
    "</p>\n",
    "\n",
    "\n",
    "\n",
    "1. [(20 minutes) Pre-class questions](#pre-class_questions)\n",
    "1. [(20 minutes) A Semester in Review](#A_Semester_in_Review)\n",
    "3. [(20 minutes) Fall Planning and Brainstorming](#Fall_Planning)"
   ]
  },
  {
   "cell_type": "markdown",
   "metadata": {},
   "source": [
    "----\n",
    "\n",
    "<a name=\"pre-class_questions\"></a>\n",
    "\n",
    "# 1. Pre-class questions\n",
    "\n",
    "* [1207--Installers-pre-class-assignment](1207--Installers-pre-class-assignment.ipynb)"
   ]
  },
  {
   "cell_type": "markdown",
   "metadata": {},
   "source": [
    "----\n",
    "<a name=\"A_Semester_in_Review\"></a>\n",
    "\n",
    "# 2. A Semester in Review\n",
    "\n",
    "Today we will review topics covered this semester.  Reflect on the following question and be prepaired ot share your thoughts with your group and the entire class. \n",
    "\n",
    "* What did we cover this semester?\n",
    "* What do you remember most?\n",
    "* What was the most impactful to your research?\n",
    "* What stories do we have?\n",
    "\n"
   ]
  },
  {
   "cell_type": "markdown",
   "metadata": {},
   "source": [
    "----\n",
    "<a name=\"Fall_Planning\"></a>\n",
    "\n",
    "# 3. Planning and Brainstorming\n",
    "\n",
    "Each semester I try to review the course with the students and see if there is anything we can do to make it better.  "
   ]
  },
  {
   "cell_type": "markdown",
   "metadata": {},
   "source": [
    "What do you want us to stop doing? Start Doing and Continue Doing?  Feel free to repeat or emphasise my ideas and/or generate your own.  Again we will start in your groups and then share our thoughts with the rest of the class. \n",
    "\n"
   ]
  },
  {
   "cell_type": "markdown",
   "metadata": {},
   "source": [
    "\n",
    "\n",
    "-----\n",
    "### Congratulations, we're done!\n",
    "\n",
    "If you attend class in-person then have one of the instructors check your notebook and sign you out before leaving class. If you are attending remote, turn in your assignment using D2L."
   ]
  },
  {
   "cell_type": "markdown",
   "metadata": {},
   "source": [
    "### Course Resources:\n",
    "\n",
    "\n",
    " - [Website](https://msu-cmse-courses.github.io/cmse802-f20-student/)\n",
    " - [ZOOM](https://msu.zoom.us/j/97272546850)\n",
    " - [Syllabus](https://docs.google.com/document/d/e/2PACX-1vT9Wn11y0ECI_NAUl_2NA8V5jcD8dXKJkqUSWXjlawgqr2gU5hII3IsE0S8-CPd3W4xsWIlPAg2YW7D/pub)\n",
    " - [Schedule](https://docs.google.com/spreadsheets/d/e/2PACX-1vQRAm1mqJPQs1YSLPT9_41ABtywSV2f3EWPon9szguL6wvWqWsqaIzqkuHkSk7sea8ZIcIgZmkKJvwu/pubhtml?gid=2142090757&single=true)\n",
    "\n"
   ]
  },
  {
   "cell_type": "markdown",
   "metadata": {},
   "source": [
    "Written by Dr. Dirk Colbry, Michigan State University\n",
    "<a rel=\"license\" href=\"http://creativecommons.org/licenses/by-nc/4.0/\"><img alt=\"Creative Commons License\" style=\"border-width:0\" src=\"https://i.creativecommons.org/l/by-nc/4.0/88x31.png\" /></a><br />This work is licensed under a <a rel=\"license\" href=\"http://creativecommons.org/licenses/by-nc/4.0/\">Creative Commons Attribution-NonCommercial 4.0 International License</a>."
   ]
  },
  {
   "cell_type": "markdown",
   "metadata": {},
   "source": [
    "----"
   ]
  }
 ],
 "metadata": {
  "kernelspec": {
   "display_name": "Python 3",
   "language": "python",
   "name": "python3"
  },
  "language_info": {
   "codemirror_mode": {
    "name": "ipython",
    "version": 3
   },
   "file_extension": ".py",
   "mimetype": "text/x-python",
   "name": "python",
   "nbconvert_exporter": "python",
   "pygments_lexer": "ipython3",
   "version": "3.7.6"
  }
 },
 "nbformat": 4,
 "nbformat_minor": 2
}
