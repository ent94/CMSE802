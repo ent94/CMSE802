{
 "cells": [
  {
   "cell_type": "markdown",
   "metadata": {},
   "source": [
    "[Link to this document's Jupyter Notebook](https://gitlab.msu.edu/cmse802-f20/cmse802-f20/-/raw/master/0903-CMSE802_introduction-in-class-assignment.ipynb)"
   ]
  },
  {
   "cell_type": "markdown",
   "metadata": {},
   "source": [
    "In order to successfully complete this assignment you need to participate both individually and in groups during class on **Thursday September 3**.\n",
    "\n"
   ]
  },
  {
   "cell_type": "markdown",
   "metadata": {},
   "source": [
    "# Welcome to CMSE802  - Methods in Computational Modeling\n",
    "\n",
    "\n",
    "<img src=\"https://lh4.googleusercontent.com/1ZhZ1mZrqvQb_FP6Kbqp1RxAZX8DVcqFU3p3Tm0vt4h_pQH8fuP5BXcPWwNKuZexMpFfv9juX4Mw2ajKE6rR9MGGeZBg0yPdpylbGdHIktsAGsK4juIIjsf3PeJx=w740\" alt=\"Comparison of the Taj Mahal and a broken down shack.  This image is designed to provide an analogy between good and bad code\">\n",
    "\n",
    "It is common for the scientist-programmers to believe they have built the “Taj Mahal” of software models: the very best approach and tool for doing science in their field. Yet, when the methods are examined from a software development point of view its structure looks more like a shack (See comparison in the above Figure)\n",
    "\n",
    "In this course we hope to teach you the modeling methods and software development techniques to move your research projects from the shack on the right to the look more like the Taj Mahal on the left. \n",
    "\n",
    "If we had to break it down, this class is equal parts software development, modeling theory and example applications in science/engineering."
   ]
  },
  {
   "cell_type": "markdown",
   "metadata": {},
   "source": [
    "### Agenda for today's class (80 minutes)\n",
    "</p>\n",
    "\n",
    "\n",
    "1. [(10 minutes) Getting Started](#Getting_Started)\n",
    "2. [(10 minutes) Background Survey](#Background_Survey)\n",
    "3. [(15 minutes) Introductions](#Introductions)\n",
    "4. [(10 minutes) The House of Science](#Storytime)\n",
    "5. [(25 minutes) Syllabus and Schedule](#Syllabus_and_Schedule)\n",
    "6. [(10 minutes) Download and review next pre-class assignment](#Download_and_review_next_pre-class_assignment)"
   ]
  },
  {
   "cell_type": "markdown",
   "metadata": {},
   "source": [
    "---\n",
    "<a name=\"Getting_Started\"></a>\n",
    "\n",
    "# 1. Getting Started\n",
    "\n",
    "\n",
    "All in-class assignments are designed such that you can get started as soon as you show up in class. This is highly recommended.  See how far you can get on your own and then you will be ready when it is time for questions.   Here are the basic instructions."
   ]
  },
  {
   "cell_type": "markdown",
   "metadata": {},
   "source": [
    "### &#9989; Step 1 - Get out your laptop\n",
    "> Feel free to grab one of the laptops in the classroom if you do not have your own. "
   ]
  },
  {
   "cell_type": "markdown",
   "metadata": {},
   "source": [
    "### &#9989; Step 2 - Activate your engineering account \n",
    "\n",
    "> When you enrolled in class you should have received an engineering login.  Go to the following URL to activate the account and set your password.\n",
    ">    * https://www.egr.msu.edu/decs/myaccount/?page=activate\n",
    ">    \n",
    "> **_NOTE:_** The Default DECS password is APID then the @ symb. \n",
    "> **_ALSO NOTE:_** Anyone not enrolled in the course will likely not have an account. "
   ]
  },
  {
   "cell_type": "markdown",
   "metadata": {},
   "source": [
    "### &#9989; Step 3 - Download this jupyter notebook\n",
    "> Go to the class <a href=\"https://d2l.msu.edu/d2l/home/1067350\">D2L</a> page and download a copy of this notebook"
   ]
  },
  {
   "cell_type": "markdown",
   "metadata": {},
   "source": [
    "### &#9989; Step 4 - Log onto the Engineering JupyterHub Website\n",
    "\n",
    "> http://jupyterhub.egr.msu.edu\n"
   ]
  },
  {
   "cell_type": "markdown",
   "metadata": {},
   "source": [
    "### &#9989; Step 5 - Upload this notebook to newly created folder on Jupyterhub\n",
    "\n",
    "> Create a folder called CMSE802 and upload the file there."
   ]
  },
  {
   "cell_type": "markdown",
   "metadata": {},
   "source": [
    "### &#9989; Step 6 - Sign in to the course slack channel.\n",
    "\n",
    "> We will be using a slack channel for all asynchronous in-class discussions.  My hope is to use this as the primary way to communicate with students outside of class. Therefore I hope everyone will get a slack account. If for some reason you decline to get a slack account, please let me know and I will find a way to accommodate an alternative. \n",
    ">\n",
    "> To join the course slack channel please use the following link:\n",
    "> \n",
    "> - [Link to join slack](https://join.slack.com/t/cmse-courses/shared_invite/zt-gkqypjox-GUmdSBix~TR961dfxzYO0w)\n",
    "\n",
    "\n"
   ]
  },
  {
   "cell_type": "markdown",
   "metadata": {},
   "source": [
    "---\n",
    "<a name=\"Background_Survey\"></a>\n",
    "\n",
    "# 2. Background Survey\n",
    "\n",
    "Run the following cell to embed the pre-class survey into this notebook:\n",
    "[Direct Link](https://docs.google.com/forms/d/e/1FAIpQLSf10Dq0VvP8KorMO6JSG-PMUx0HwJiGmmit46yvum1_UbCShg/viewform)"
   ]
  },
  {
   "cell_type": "code",
   "execution_count": null,
   "metadata": {},
   "outputs": [],
   "source": [
    "from IPython.display import HTML\n",
    "HTML(\n",
    "\"\"\"\n",
    "<iframe \n",
    "\tsrc=\"https://docs.google.com/forms/d/e/1FAIpQLSf10Dq0VvP8KorMO6JSG-PMUx0HwJiGmmit46yvum1_UbCShg/viewform?embedded=true\" \n",
    "\twidth=\"100%\" \n",
    "\theight=\"1000px\" \n",
    "\tframeborder=\"0\" \n",
    "\tmarginheight=\"0\" \n",
    "\tmarginwidth=\"0\">\n",
    "\tLoading...\n",
    "</iframe>\n",
    "\"\"\"\n",
    ")"
   ]
  },
  {
   "cell_type": "markdown",
   "metadata": {},
   "source": [
    "---\n",
    "<a name=\"Introductions\"></a>\n",
    "\n",
    "# 3. Introductions\n",
    "\n",
    "\n",
    "A big part of this course is to learn from each other by learning about the wide range of problems we are all trying to solve.  In this activity we are going to go around the room and introduce each other (including people on-line). \n",
    "The instructor will break up the live students into groups of 2 or 3 people.  We will spend about 10 minutes getting to know each other then we will come back to the entire room. Each of you will then take no more than 30 seconds to introduce one of the other students.  At a minimum try to answer the following:\n",
    "\n",
    "- How long have you been at MSU?\n",
    "- What is your major and area of research?\n",
    "- Why did you take this course.\n",
    "\n",
    "\n",
    "Anyone who chooses to opt-out of this activity or is watching this asynchronously then write a short introduction about yourself and include it on the course slack channel.  \n",
    "\n",
    "- [Slack Channel](https://join.slack.com/t/cmse-courses/shared_invite/zt-gkqypjox-GUmdSBix~TR961dfxzYO0w)"
   ]
  },
  {
   "cell_type": "markdown",
   "metadata": {},
   "source": [
    "----\n",
    "<a name=\"storytime\"></a>\n",
    "# 4. Storytime\n",
    "\n",
    "This course is more about practice than lecture. However, most days I will often have short \"mini-lectures\" or stories to tell that relates to what we are learning in class. \n",
    "\n",
    "- The House of Science\n"
   ]
  },
  {
   "cell_type": "markdown",
   "metadata": {},
   "source": [
    "----\n",
    "<a name=\"Syllabus_and_Schedule\"></a>\n",
    "# 5. Syllabus and Schedule\n",
    "\n",
    "Note links to the following resources will be made avaliable at the end of every class notebook file.\n",
    "\n",
    "\n",
    "\n",
    "- [Website](https://msu-cmse-courses.github.io/cmse802-f20-student/)\n",
    "- [ZOOM](https://msu.zoom.us/j/97272546850)\n",
    "- [Syllabus](https://docs.google.com/document/d/e/2PACX-1vT9Wn11y0ECI_NAUl_2NA8V5jcD8dXKJkqUSWXjlawgqr2gU5hII3IsE0S8-CPd3W4xsWIlPAg2YW7D/pub)\n",
    "- [Schedule](https://docs.google.com/spreadsheets/d/e/2PACX-1vQRAm1mqJPQs1YSLPT9_41ABtywSV2f3EWPon9szguL6wvWqWsqaIzqkuHkSk7sea8ZIcIgZmkKJvwu/pubhtml?gid=2142090757&single=true)\n",
    "\n",
    "\n"
   ]
  },
  {
   "cell_type": "markdown",
   "metadata": {},
   "source": [
    "----\n",
    "<a name=\"Download_and_review_next_pre-class_assignment\"></a>\n",
    "#  6. Download and review next pre-class assignment\n",
    "I will try my best to post each weeks pre-class assignments before the weekend (hopefully on Thursday before class).  Note pre-class assignments are generally due at midnight the day before class.  To get credit for the pre-class assignment you will need to do the readings, answer the questions and submit your answers to the embeded google form.\n",
    "\n",
    "Here are next weeks Pre-class assignments. \n",
    "\n",
    "* [0907--AvsN-pre-class-assignment](0907--AvsN-pre-class-assignment.ipynb) \n",
    "* [0909-Optimization-pre-class-assignment](0909-Optimization-pre-class-assignment.ipynb)\n",
    "* [0911-PROJECT_GIT-init](0911-PROJECT_GIT-init.ipynb)\n",
    "\n",
    "**_Please note_** The filename an all assignments is the two digit month followed by the two digit day when a particular assignment is due.  "
   ]
  },
  {
   "cell_type": "markdown",
   "metadata": {},
   "source": [
    "-----\n",
    "### Congratulations, we're done!"
   ]
  },
  {
   "cell_type": "markdown",
   "metadata": {},
   "source": [
    "### Course Resources:\n",
    "\n",
    "\n",
    "- [Website](https://msu-cmse-courses.github.io/cmse802-f20-student/)\n",
    "- [ZOOM](https://msu.zoom.us/j/97272546850)\n",
    "- [Syllabus](https://docs.google.com/document/d/e/2PACX-1vT9Wn11y0ECI_NAUl_2NA8V5jcD8dXKJkqUSWXjlawgqr2gU5hII3IsE0S8-CPd3W4xsWIlPAg2YW7D/pub)\n",
    "- [Schedule](https://docs.google.com/spreadsheets/d/e/2PACX-1vQRAm1mqJPQs1YSLPT9_41ABtywSV2f3EWPon9szguL6wvWqWsqaIzqkuHkSk7sea8ZIcIgZmkKJvwu/pubhtml?gid=2142090757&single=true)\n",
    "\n",
    "\n"
   ]
  },
  {
   "cell_type": "markdown",
   "metadata": {},
   "source": [
    "Writen by Dirk Colbry, Michigan State University\n",
    "<a rel=\"license\" href=\"http://creativecommons.org/licenses/by-nc/4.0/\"><img alt=\"Creative Commons License\" style=\"border-width:0\" src=\"https://i.creativecommons.org/l/by-nc/4.0/88x31.png\" /></a><br />This work is licensed under a <a rel=\"license\" href=\"http://creativecommons.org/licenses/by-nc/4.0/\">Creative Commons Attribution-NonCommercial 4.0 International License</a>."
   ]
  }
 ],
 "metadata": {
  "kernelspec": {
   "display_name": "Python 3",
   "language": "python",
   "name": "python3"
  },
  "language_info": {
   "codemirror_mode": {
    "name": "ipython",
    "version": 3
   },
   "file_extension": ".py",
   "mimetype": "text/x-python",
   "name": "python",
   "nbconvert_exporter": "python",
   "pygments_lexer": "ipython3",
   "version": "3.8.3"
  }
 },
 "nbformat": 4,
 "nbformat_minor": 2
}
