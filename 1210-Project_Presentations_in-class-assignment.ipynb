{
 "cells": [
  {
   "cell_type": "markdown",
   "metadata": {},
   "source": [
    "[Link to this document's Jupyter Notebook](https://gitlab.msu.edu/cmse802-f20/cmse802-f20/-/raw/master/1210-Project_Presentations_in-class-assignment.ipynb)"
   ]
  },
  {
   "cell_type": "markdown",
   "metadata": {},
   "source": [
    "In order to successfully complete this assignment you need to participate both individually and in groups during class.   If you attend class in-person then have one of the instructors check your notebook and sign you out before leaving class on **Friday December 10**. If you are attending asyncronously, turn in your assignment using D2L no later than **_11:59pm on Friday December 10**. See links at the end of this document for access to the class timeline for your section."
   ]
  },
  {
   "cell_type": "markdown",
   "metadata": {},
   "source": [
    "---\n",
    "\n"
   ]
  },
  {
   "cell_type": "markdown",
   "metadata": {},
   "source": [
    "# In-Class Assignment: Project Presentations\n",
    "\n",
    "<img alt=\"Image of video presentations\" src=\"https://cdn.pixabay.com/photo/2018/05/18/03/28/video-3410270_960_720.jpg\" width=\"65%\">\n",
    "\n",
    "Image From: https://pixabay.com/"
   ]
  },
  {
   "cell_type": "markdown",
   "metadata": {},
   "source": [
    "### Agenda for today's class (80 minutes)\n",
    "\n",
    "\n",
    "1. [Video Round Robin](#Video_Round_Robin)\n",
    "1. [Peer Evaluations](#Peer_Evaluations)\n",
    "1. [Classroom Discussions](#Classroom_Discussions)"
   ]
  },
  {
   "cell_type": "markdown",
   "metadata": {},
   "source": [
    "### Quick Links to all videos from\n",
    "\n",
    "Additional Links may appear sometime before class.  Do a \"git pull\" to check for updates.\n",
    "\n",
    "* [Aliyah](https://www.youtube.com/watch?v=4lTnXqehWOg&feature=youtu.be)\n",
    "* [Asif](https://youtu.be/XGgWVhUTtKo)\n",
    "* [Jiaoping](https://mediaspace.msu.edu/media/t/1_qusitpvx)\n",
    "* [Kelly](https://mediaspace.msu.edu/media/Machine+Learning+in+Accelerator+Physics/1_tnubgo8q)\n",
    "* [Peng](https://mediaspace.msu.edu/media/Pavement+response+project+introduction+video/1_2ivx13io)\n",
    "* [Roy](https://youtu.be/3AMZJQKd63M)\n",
    "* [Zac](https://mediaspace.msu.edu/media/ProgrammingObserver/1_3jaaszlm)"
   ]
  },
  {
   "cell_type": "markdown",
   "metadata": {},
   "source": [
    "----\n",
    "<a name=\"Video_Round_Robin\"></a>\n",
    "# 1. Video Round Robin\n",
    "\n",
    "In class today we will be taking time to review videos for all of the students. If you are not able to attend class today please review your videos on your own.  I will split you up into breakout rooms.  In each room you will review 4 videos and provide feedback for the video. Here are the steps:\n",
    "\n",
    "## Step 1: Split up into breakout rooms\n",
    "\n",
    "Please rename your zoom name with your group number.  "
   ]
  },
  {
   "cell_type": "markdown",
   "metadata": {},
   "source": [
    "## Step 2: Review List\n",
    "\n",
    "The following is a link to indivudal presentations.  In your breakout rooms, watch either together or seperatly and discuss what you thought.  Each person will fill out an evaluation for everyone in their breakout room."
   ]
  },
  {
   "cell_type": "markdown",
   "metadata": {},
   "source": [
    "----\n",
    "<a name=\"Peer_Evaluations\"></a>\n",
    "# 2. Peer Evaluations\n",
    "\n",
    "[Direct Link](https://docs.google.com/forms/d/e/1FAIpQLSeV5dLgTHQB1Nw2cPYkjL0j9rnXV7Uc-jxdUBVLxHFuTUgglg/viewform)"
   ]
  },
  {
   "cell_type": "code",
   "execution_count": null,
   "metadata": {},
   "outputs": [],
   "source": [
    "from IPython.display import HTML\n",
    "HTML(\n",
    "\"\"\"\n",
    "<iframe \n",
    "\tsrc=\"https://docs.google.com/forms/d/e/1FAIpQLSdN9guYDCcNMMIgUumMl6uI0N1hbZ_7BcabZFvWimpJ-TRL-g/viewform?embedded=true\" \n",
    "\twidth=\"100%\" \n",
    "\theight=\"1200px\" \n",
    "\tframeborder=\"0\" \n",
    "\tmarginheight=\"0\" \n",
    "\tmarginwidth=\"0\">\n",
    "\tLoading...\n",
    "</iframe>\n",
    "\"\"\"\n",
    ")"
   ]
  },
  {
   "cell_type": "markdown",
   "metadata": {},
   "source": [
    "----\n",
    "<a name=\"Classroom_Discussions\"></a>\n",
    "# 3. Classroom Discussions\n",
    "\n",
    "Periodically I will bring everyone back into the main classroom to check on progress, debug technical issues and discuss the videos as a class. "
   ]
  },
  {
   "cell_type": "markdown",
   "metadata": {},
   "source": [
    "\n",
    "\n",
    "-----\n",
    "### Congratulations, we're done!\n",
    "\n",
    "If you attend class in-person then have one of the instructors check your notebook and sign you out before leaving class. If you are attending remote, turn in your assignment using D2L."
   ]
  },
  {
   "cell_type": "markdown",
   "metadata": {},
   "source": [
    "### Course Resources:\n",
    "\n",
    "\n",
    " - [Website](https://msu-cmse-courses.github.io/cmse802-f20-student/)\n",
    " - [ZOOM](https://msu.zoom.us/j/97272546850)\n",
    " - [Syllabus](https://docs.google.com/document/d/e/2PACX-1vT9Wn11y0ECI_NAUl_2NA8V5jcD8dXKJkqUSWXjlawgqr2gU5hII3IsE0S8-CPd3W4xsWIlPAg2YW7D/pub)\n",
    " - [Schedule](https://docs.google.com/spreadsheets/d/e/2PACX-1vQRAm1mqJPQs1YSLPT9_41ABtywSV2f3EWPon9szguL6wvWqWsqaIzqkuHkSk7sea8ZIcIgZmkKJvwu/pubhtml?gid=2142090757&single=true)\n",
    "\n"
   ]
  },
  {
   "cell_type": "markdown",
   "metadata": {},
   "source": [
    "Written by Dr. Dirk Colbry, Michigan State University\n",
    "<a rel=\"license\" href=\"http://creativecommons.org/licenses/by-nc/4.0/\"><img alt=\"Creative Commons License\" style=\"border-width:0\" src=\"https://i.creativecommons.org/l/by-nc/4.0/88x31.png\" /></a><br />This work is licensed under a <a rel=\"license\" href=\"http://creativecommons.org/licenses/by-nc/4.0/\">Creative Commons Attribution-NonCommercial 4.0 International License</a>."
   ]
  },
  {
   "cell_type": "markdown",
   "metadata": {},
   "source": [
    "----"
   ]
  }
 ],
 "metadata": {
  "kernelspec": {
   "display_name": "Python 3",
   "language": "python",
   "name": "python3"
  },
  "language_info": {
   "codemirror_mode": {
    "name": "ipython",
    "version": 3
   },
   "file_extension": ".py",
   "mimetype": "text/x-python",
   "name": "python",
   "nbconvert_exporter": "python",
   "pygments_lexer": "ipython3",
   "version": "3.8.3"
  }
 },
 "nbformat": 4,
 "nbformat_minor": 2
}
